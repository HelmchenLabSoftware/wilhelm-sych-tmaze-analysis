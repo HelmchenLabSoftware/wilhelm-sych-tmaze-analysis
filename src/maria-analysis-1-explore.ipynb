{
 "cells": [
  {
   "cell_type": "code",
   "execution_count": null,
   "metadata": {},
   "outputs": [],
   "source": [
    "# Standard libraries\n",
    "import pandas as pd\n",
    "import numpy as np\n",
    "import matplotlib.pyplot as plt\n",
    "import seaborn as sns\n",
    "from ipywidgets import interactive, IntProgress\n",
    "from IPython.display import display\n",
    "\n",
    "# Append base directory\n",
    "import os,sys,inspect\n",
    "rootname = \"chernysheva-tmaze-analysis-2020\"\n",
    "thispath = os.path.dirname(os.path.abspath(inspect.getfile(inspect.currentframe())))\n",
    "rootpath = os.path.join(thispath[:thispath.index(rootname)], rootname)\n",
    "sys.path.append(rootpath)\n",
    "print(\"Appended root directory\", rootpath)\n",
    "\n",
    "# Mesostat libraries\n",
    "import mesostat.utils.pandas_helper as pandas_helper\n",
    "from mesostat.utils.qt_helper import gui_fnames, gui_fpath\n",
    "from mesostat.visualization.mpl_barplot import barplot_stacked\n",
    "from mesostat.metric.metric import MetricCalculator\n",
    "from mesostat.metric.metric_non_uniform import MetricCalculatorNonUniform\n",
    "\n",
    "# Local libraries\n",
    "from src.lib.data_db import BehaviouralNeuronalDatabase\n",
    "\n",
    "%load_ext autoreload\n",
    "%autoreload 2"
   ]
  },
  {
   "cell_type": "code",
   "execution_count": null,
   "metadata": {
    "collapsed": true
   },
   "outputs": [],
   "source": [
    "# tmp_path = root_path_data if 'root_path_data' in locals() else \"./\"\n",
    "params = {}\n",
    "#params['root_path_data']  = gui_fpath(\"Path to data files\", \"./\")\n",
    "# params['root_path_dff'] = '/media/alyosha/Data/TE_data/mariadata/dff/'\n",
    "# params['root_path_deconv'] = '/media/alyosha/Data/TE_data/mariadata/deconv/'\n",
    "# params['root_path_dff'] = '/home/alyosha/Desktop/maria/dff/'\n",
    "# params['root_path_deconv'] = '/home/alyosha/Desktop/maria/deconv/'\n",
    "\n",
    "params['root_path_dff'] = '/media/aleksejs/DataHDD/work/data/maria/dff/'\n",
    "params['root_path_deconv'] = '/media/aleksejs/DataHDD/work/data/maria/deconv/'"
   ]
  },
  {
   "cell_type": "code",
   "execution_count": null,
   "metadata": {
    "collapsed": true
   },
   "outputs": [],
   "source": [
    "dataDB = BehaviouralNeuronalDatabase(params)"
   ]
  },
  {
   "cell_type": "code",
   "execution_count": null,
   "metadata": {},
   "outputs": [],
   "source": [
    "dataDB.read_neuro_files()"
   ]
  },
  {
   "cell_type": "code",
   "execution_count": null,
   "metadata": {
    "scrolled": false
   },
   "outputs": [],
   "source": [
    "dataDB.read_behavior_files()"
   ]
  },
  {
   "cell_type": "markdown",
   "metadata": {},
   "source": [
    "# 1. Initial Exploration\n",
    "\n",
    "## 1.1 Number of trials per mouse -> barplot"
   ]
  },
  {
   "cell_type": "code",
   "execution_count": null,
   "metadata": {},
   "outputs": [],
   "source": [
    "df = pd.DataFrame([], columns=[\"mousename\", \"performance\", \"direction\", \"nTrials\"])\n",
    "\n",
    "for mousename in dataDB.mice:\n",
    "    for performance in ['Correct', 'Mistake']:\n",
    "        for direction in ['L', 'R']:\n",
    "            queryDict = {'mousename' : mousename, 'performance' : performance, 'direction' : direction}\n",
    "            dataThis = dataDB.get_data_from_phase(\"Maintenance\", queryDict)\n",
    "            df = pandas_helper.pd_append_row(df, [mousename, performance, direction, len(dataThis)])\n",
    "            \n",
    "df[\"nTrials\"] = pd.to_numeric(df[\"nTrials\"])\n",
    "\n",
    "fig, ax = plt.subplots()\n",
    "barplot_stacked(ax, df, 'mousename', 'nTrials')\n",
    "plt.savefig('trial_distribution_by_mouse.pdf')\n",
    "plt.show()"
   ]
  },
  {
   "cell_type": "markdown",
   "metadata": {},
   "source": [
    "## 1.2 Number of timesteps per phase -> violinplot"
   ]
  },
  {
   "cell_type": "code",
   "execution_count": null,
   "metadata": {
    "collapsed": true,
    "scrolled": false
   },
   "outputs": [],
   "source": [
    "fig, ax = plt.subplots(nrows=2, ncols=len(dataDB.mice), figsize=(4*len(dataDB.mice), 4*2), tight_layout=True)\n",
    "for iMouse, mousename in enumerate(dataDB.mice):\n",
    "    iRow = 0\n",
    "    for performance in ['Correct', 'Mistake']:\n",
    "        nStepLstLst = []\n",
    "\n",
    "        df = pd.DataFrame([], columns=[\"phase\", \"nTimesteps\"])\n",
    "\n",
    "        for phase in dataDB.get_phasetype_keys('phase', performance):\n",
    "            queryDict = {'mousename' : mousename, 'performance' : performance}\n",
    "            dataThis = dataDB.get_data_from_phase(phase, queryDict)\n",
    "            for d in dataThis:\n",
    "                df = pandas_helper.pd_append_row(df, [phase, d.shape[1]], skip_repeat=False)\n",
    "\n",
    "        df[\"nTimesteps\"] = pd.to_numeric(df[\"nTimesteps\"])\n",
    "\n",
    "        plot1 = sns.violinplot(ax=ax[iRow, iMouse], x='phase', y='nTimesteps', data=df, inner=\"points\")\n",
    "        plot1.set_xticklabels(plot1.get_xticklabels(), rotation=45)\n",
    "        ax[iRow, iMouse].set_ylim([0, 800])\n",
    "        ax[iRow, 0].set_ylabel(performance)\n",
    "        iRow += 1\n",
    "            \n",
    "    ax[0, iMouse].set_title(mousename)\n",
    "                \n",
    "plt.show()"
   ]
  },
  {
   "cell_type": "markdown",
   "metadata": {},
   "source": [
    "## 1.3 Number of timesteps per interval -> violinplot  (Focus on Maintenance)"
   ]
  },
  {
   "cell_type": "code",
   "execution_count": null,
   "metadata": {
    "collapsed": true
   },
   "outputs": [],
   "source": [
    "def plot_phasetype_duration_distribution(dataDB, phaseType):\n",
    "    fig, ax = plt.subplots(nrows=2, ncols=len(dataDB.mice), figsize=(7*len(dataDB.mice), 4*2), tight_layout=True)\n",
    "    for iMouse, mousename in enumerate(sorted(dataDB.mice)):\n",
    "        print('doing mouse', mousename)\n",
    "        iRow = 0\n",
    "        for performance in dataDB.get_performances():\n",
    "            boundingLines = dataDB.get_phase_bounding_lines(phaseType, performance)\n",
    "\n",
    "            df = pd.DataFrame([], columns=[phaseType, \"nTimesteps\"])\n",
    "\n",
    "            phasetypeKeys = dataDB.get_phasetype_keys(phaseType, performance)\n",
    "\n",
    "            for key in phasetypeKeys:\n",
    "                queryDict = {'mousename' : mousename, 'performance' : performance}\n",
    "                dataThis = dataDB.get_data_from_selector({phaseType : key}, queryDict)\n",
    "                for d in dataThis:\n",
    "                    df = pandas_helper.pd_append_row(df, [key, d.shape[1]], skip_repeat=False)\n",
    "\n",
    "            df[\"nTimesteps\"] = pd.to_numeric(df[\"nTimesteps\"])\n",
    "\n",
    "            plot1 = sns.violinplot(ax=ax[iRow, iMouse], x=phaseType, y='nTimesteps', data=df, cut=0, scale=\"width\", inner='points')\n",
    "            ax[iRow, iMouse].set_ylim([1, 1000])\n",
    "            ax[iRow, iMouse].set_yscale(\"log\")\n",
    "            ax[iRow, iMouse].axhline(y=10, linestyle='--', color='r')\n",
    "            for bline in boundingLines:\n",
    "                # Note: sns.violinplot starts category numbering at zero\n",
    "                ax[iRow, iMouse].axvline(x=bline-1, linestyle='--', color='r')\n",
    "\n",
    "            ax[iRow, 0].set_ylabel(performance)\n",
    "            iRow += 1\n",
    "\n",
    "        ax[0, iMouse].set_title(mousename)\n",
    "\n",
    "    plt.savefig(phaseType + '_duration_distribution.pdf')\n",
    "    plt.show()"
   ]
  },
  {
   "cell_type": "code",
   "execution_count": null,
   "metadata": {
    "collapsed": true
   },
   "outputs": [],
   "source": [
    "plot_phasetype_duration_distribution(dataDB, 'interval')"
   ]
  },
  {
   "cell_type": "code",
   "execution_count": null,
   "metadata": {
    "collapsed": true
   },
   "outputs": [],
   "source": [
    "plot_phasetype_duration_distribution(dataDB, 'semiphase')"
   ]
  },
  {
   "cell_type": "markdown",
   "metadata": {},
   "source": [
    "# 2. SNR\n",
    "\n",
    "**Goal**: Test temporal dynamics of CA kernel, see if there is clear noise in the data"
   ]
  },
  {
   "cell_type": "code",
   "execution_count": null,
   "metadata": {
    "collapsed": true
   },
   "outputs": [],
   "source": [
    "mc = MetricCalculator(serial=True, verbose=False)\n",
    "\n",
    "fig, ax = plt.subplots(ncols=len(dataDB.mice), figsize=(5 * len(dataDB.mice),5))\n",
    "for iMouse, mousename in enumerate(sorted(dataDB.mice)):\n",
    "    print('doing mouse', mousename)\n",
    "    rows = dataDB.get_rows('dff', {'mousename' : mousename})\n",
    "\n",
    "    rez = []\n",
    "    for idx, row in rows.iterrows():\n",
    "        mc.set_data(dataDB.dataNeuronal['raw'][idx], 'sp')\n",
    "        rez += [mc.metric3D('autocorr_d1', 'p', metricSettings=None, sweepSettings=None)]\n",
    "        \n",
    "    ax[iMouse].set_title(mousename)\n",
    "    ax[iMouse].imshow(np.array(rez).T, cmap='jet', vmin=0, vmax=1)\n",
    "plt.show()"
   ]
  },
  {
   "cell_type": "code",
   "execution_count": null,
   "metadata": {
    "collapsed": true
   },
   "outputs": [],
   "source": []
  }
 ],
 "metadata": {
  "kernelspec": {
   "display_name": "Py3QT5",
   "language": "python",
   "name": "py3qt5"
  },
  "language_info": {
   "codemirror_mode": {
    "name": "ipython",
    "version": 3
   },
   "file_extension": ".py",
   "mimetype": "text/x-python",
   "name": "python",
   "nbconvert_exporter": "python",
   "pygments_lexer": "ipython3",
   "version": "3.8.5"
  }
 },
 "nbformat": 4,
 "nbformat_minor": 2
}

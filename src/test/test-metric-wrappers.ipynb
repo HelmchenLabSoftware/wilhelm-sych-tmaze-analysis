{
 "cells": [
  {
   "cell_type": "code",
   "execution_count": 12,
   "metadata": {},
   "outputs": [
    {
     "name": "stdout",
     "output_type": "stream",
     "text": [
      "Appended root directory /home/alyosha/work/git/neuronal-sequence-test\n",
      "The autoreload extension is already loaded. To reload it, use:\n",
      "  %reload_ext autoreload\n"
     ]
    }
   ],
   "source": [
    "# Standard libraries\n",
    "import numpy as np\n",
    "\n",
    "# Append base directory\n",
    "import os,sys,inspect\n",
    "rootname = \"neuronal-sequence-test\"\n",
    "thispath = os.path.dirname(os.path.abspath(inspect.getfile(inspect.currentframe())))\n",
    "rootpath = os.path.join(thispath[:thispath.index(rootname)], rootname)\n",
    "sys.path.append(rootpath)\n",
    "print(\"Appended root directory\", rootpath)\n",
    "\n",
    "# User libraries\n",
    "from mesostat.utils.qt_helper import gui_fnames, gui_fpath\n",
    "\n",
    "from src.lib.data_db import BehaviouralNeuronalDatabase\n",
    "from src.lib.metric_wrapper import metric_by_interval, metric_by_phase\n",
    "from src.lib.extra_metrics import num_non_zero_std, num_sample\n",
    "\n",
    "%load_ext autoreload\n",
    "%autoreload 2"
   ]
  },
  {
   "cell_type": "code",
   "execution_count": 13,
   "metadata": {},
   "outputs": [],
   "source": [
    "# tmp_path = root_path_data if 'root_path_data' in locals() else \"./\"\n",
    "params = {}\n",
    "#params['root_path_data']  = gui_fpath(\"Path to data files\", \"./\")\n",
    "params['root_path_dff'] = '/media/alyosha/Data/TE_data/mariadata/dff/'\n",
    "params['root_path_deconv'] = '/media/alyosha/Data/TE_data/mariadata/deconv/'"
   ]
  },
  {
   "cell_type": "code",
   "execution_count": 14,
   "metadata": {},
   "outputs": [
    {
     "data": {
      "application/vnd.jupyter.widget-view+json": {
       "model_id": "37abb73e6f754133bda488fdcb02e8e5",
       "version_major": 2,
       "version_minor": 0
      },
      "text/plain": [
       "IntProgress(value=0, description='Read DFF Data:', max=27)"
      ]
     },
     "metadata": {},
     "output_type": "display_data"
    },
    {
     "data": {
      "application/vnd.jupyter.widget-view+json": {
       "model_id": "572614963abb4ecca0026fe43c6950bd",
       "version_major": 2,
       "version_minor": 0
      },
      "text/plain": [
       "IntProgress(value=0, description='Read DECONV Data:', max=27)"
      ]
     },
     "metadata": {},
     "output_type": "display_data"
    },
    {
     "data": {
      "application/vnd.jupyter.widget-view+json": {
       "model_id": "9939b4fcc7604886ac0f9d374757d88f",
       "version_major": 2,
       "version_minor": 0
      },
      "text/plain": [
       "IntProgress(value=0, description='Read Neuro Data:', max=27)"
      ]
     },
     "metadata": {},
     "output_type": "display_data"
    },
    {
     "name": "stdout",
     "output_type": "stream",
     "text": [
      "No trials found for Trial_LWhole_Mistake skipping\n",
      "No trials found for Trial_RWhole_Mistake skipping\n",
      "No trials found for Trial_LWhole_Mistake skipping\n"
     ]
    }
   ],
   "source": [
    "dataDB = BehaviouralNeuronalDatabase(params)\n",
    "dataDB.read_neuro_files()\n",
    "dataDB.read_behavior_files()"
   ]
  },
  {
   "cell_type": "markdown",
   "metadata": {},
   "source": [
    "# TESTS\n",
    "\n",
    "Sweeps:\n",
    "* Mice: All, exact\n",
    "* Performance: Correct, Mistake, All\n",
    "* Direction: L, R, All\n",
    "* Projectors: Intervals, Phases\n",
    "* TrgDimensions: \"\", \"p\", \"pr\"\n",
    "* multiplexKey: None, mousename, session"
   ]
  },
  {
   "cell_type": "code",
   "execution_count": 61,
   "metadata": {},
   "outputs": [],
   "source": [
    "miceSweep = [None] + list(dataDB.mice)\n",
    "perfSweep = [\"Correct\", \"Mistake\"]\n",
    "dirSweep = [\"L\", \"R\", None]\n",
    "trgDimSweep = [\"\", \"p\"]  # TODO: \"pr\"\n",
    "multiplexKeySweep = [None, \"mousename\", \"session\"]\n",
    "dataTypeSweep = [\"raw\", \"deconv\"]"
   ]
  },
  {
   "cell_type": "code",
   "execution_count": 62,
   "metadata": {
    "scrolled": true
   },
   "outputs": [
    {
     "data": {
      "text/plain": [
       "'Testing'"
      ]
     },
     "metadata": {},
     "output_type": "display_data"
    },
    {
     "data": {
      "text/plain": [
       "{'datatype': 'raw',\n",
       " 'performance': 'Correct',\n",
       " 'direction': 'L',\n",
       " 'zscoreChannel': False,\n",
       " 'serial': True,\n",
       " 'metricSettings': None,\n",
       " 'dimOrdTrg': '',\n",
       " 'multiplexKey': None}"
      ]
     },
     "metadata": {},
     "output_type": "display_data"
    },
    {
     "name": "stdout",
     "output_type": "stream",
     "text": [
      "Warning:  m066_20191206 has zero interval 8 9\n",
      "For Interval test passed\n",
      "For Phase test passed\n"
     ]
    },
    {
     "data": {
      "text/plain": [
       "'Testing'"
      ]
     },
     "metadata": {},
     "output_type": "display_data"
    },
    {
     "data": {
      "text/plain": [
       "{'datatype': 'raw',\n",
       " 'performance': 'Correct',\n",
       " 'direction': 'L',\n",
       " 'zscoreChannel': False,\n",
       " 'serial': True,\n",
       " 'metricSettings': None,\n",
       " 'dimOrdTrg': '',\n",
       " 'multiplexKey': 'mousename'}"
      ]
     },
     "metadata": {},
     "output_type": "display_data"
    },
    {
     "name": "stdout",
     "output_type": "stream",
     "text": [
      "Warning:  m066_20191206 has zero interval 8 9\n",
      "For Interval test passed\n",
      "For Phase test passed\n"
     ]
    },
    {
     "data": {
      "text/plain": [
       "'Testing'"
      ]
     },
     "metadata": {},
     "output_type": "display_data"
    },
    {
     "data": {
      "text/plain": [
       "{'datatype': 'raw',\n",
       " 'performance': 'Correct',\n",
       " 'direction': 'L',\n",
       " 'zscoreChannel': False,\n",
       " 'serial': True,\n",
       " 'metricSettings': None,\n",
       " 'dimOrdTrg': '',\n",
       " 'multiplexKey': 'session'}"
      ]
     },
     "metadata": {},
     "output_type": "display_data"
    },
    {
     "name": "stdout",
     "output_type": "stream",
     "text": [
      "Warning:  m066_20191206 has zero interval 8 9\n",
      "For Interval test passed\n",
      "For Phase test passed\n"
     ]
    },
    {
     "data": {
      "text/plain": [
       "'Testing'"
      ]
     },
     "metadata": {},
     "output_type": "display_data"
    },
    {
     "data": {
      "text/plain": [
       "{'datatype': 'raw',\n",
       " 'performance': 'Correct',\n",
       " 'direction': 'R',\n",
       " 'zscoreChannel': False,\n",
       " 'serial': True,\n",
       " 'metricSettings': None,\n",
       " 'dimOrdTrg': '',\n",
       " 'multiplexKey': None}"
      ]
     },
     "metadata": {},
     "output_type": "display_data"
    },
    {
     "name": "stdout",
     "output_type": "stream",
     "text": [
      "Warning:  m066_20191206 has zero interval 0 1\n",
      "Warning:  m066_20191206 has zero interval 8 9\n",
      "Warning:  m066_20191206 has zero interval 13 14\n",
      "For Interval test passed\n",
      "For Phase test passed\n"
     ]
    },
    {
     "data": {
      "text/plain": [
       "'Testing'"
      ]
     },
     "metadata": {},
     "output_type": "display_data"
    },
    {
     "data": {
      "text/plain": [
       "{'datatype': 'raw',\n",
       " 'performance': 'Correct',\n",
       " 'direction': 'R',\n",
       " 'zscoreChannel': False,\n",
       " 'serial': True,\n",
       " 'metricSettings': None,\n",
       " 'dimOrdTrg': '',\n",
       " 'multiplexKey': 'mousename'}"
      ]
     },
     "metadata": {},
     "output_type": "display_data"
    },
    {
     "name": "stdout",
     "output_type": "stream",
     "text": [
      "Warning:  m066_20191206 has zero interval 0 1\n",
      "Warning:  m066_20191206 has zero interval 8 9\n",
      "Warning:  m066_20191206 has zero interval 13 14\n",
      "For Interval test passed\n",
      "For Phase test passed\n"
     ]
    },
    {
     "data": {
      "text/plain": [
       "'Testing'"
      ]
     },
     "metadata": {},
     "output_type": "display_data"
    },
    {
     "data": {
      "text/plain": [
       "{'datatype': 'raw',\n",
       " 'performance': 'Correct',\n",
       " 'direction': 'R',\n",
       " 'zscoreChannel': False,\n",
       " 'serial': True,\n",
       " 'metricSettings': None,\n",
       " 'dimOrdTrg': '',\n",
       " 'multiplexKey': 'session'}"
      ]
     },
     "metadata": {},
     "output_type": "display_data"
    },
    {
     "name": "stdout",
     "output_type": "stream",
     "text": [
      "Warning:  m066_20191206 has zero interval 0 1\n",
      "Warning:  m066_20191206 has zero interval 8 9\n",
      "Warning:  m066_20191206 has zero interval 13 14\n",
      "For Interval test passed\n",
      "For Phase test passed\n"
     ]
    },
    {
     "data": {
      "text/plain": [
       "'Testing'"
      ]
     },
     "metadata": {},
     "output_type": "display_data"
    },
    {
     "data": {
      "text/plain": [
       "{'datatype': 'raw',\n",
       " 'performance': 'Correct',\n",
       " 'zscoreChannel': False,\n",
       " 'serial': True,\n",
       " 'metricSettings': None,\n",
       " 'dimOrdTrg': '',\n",
       " 'multiplexKey': None}"
      ]
     },
     "metadata": {},
     "output_type": "display_data"
    },
    {
     "name": "stdout",
     "output_type": "stream",
     "text": [
      "Warning:  m066_20191206 has zero interval 0 1\n",
      "Warning:  m066_20191206 has zero interval 8 9\n",
      "Warning:  m066_20191206 has zero interval 8 9\n",
      "Warning:  m066_20191206 has zero interval 13 14\n",
      "For Interval test passed\n",
      "For Phase test passed\n"
     ]
    },
    {
     "data": {
      "text/plain": [
       "'Testing'"
      ]
     },
     "metadata": {},
     "output_type": "display_data"
    },
    {
     "data": {
      "text/plain": [
       "{'datatype': 'raw',\n",
       " 'performance': 'Correct',\n",
       " 'zscoreChannel': False,\n",
       " 'serial': True,\n",
       " 'metricSettings': None,\n",
       " 'dimOrdTrg': '',\n",
       " 'multiplexKey': 'mousename'}"
      ]
     },
     "metadata": {},
     "output_type": "display_data"
    },
    {
     "name": "stdout",
     "output_type": "stream",
     "text": [
      "Warning:  m066_20191206 has zero interval 0 1\n",
      "Warning:  m066_20191206 has zero interval 8 9\n",
      "Warning:  m066_20191206 has zero interval 8 9\n",
      "Warning:  m066_20191206 has zero interval 13 14\n",
      "For Interval test passed\n",
      "For Phase test passed\n"
     ]
    },
    {
     "data": {
      "text/plain": [
       "'Testing'"
      ]
     },
     "metadata": {},
     "output_type": "display_data"
    },
    {
     "data": {
      "text/plain": [
       "{'datatype': 'raw',\n",
       " 'performance': 'Correct',\n",
       " 'zscoreChannel': False,\n",
       " 'serial': True,\n",
       " 'metricSettings': None,\n",
       " 'dimOrdTrg': '',\n",
       " 'multiplexKey': 'session'}"
      ]
     },
     "metadata": {},
     "output_type": "display_data"
    },
    {
     "name": "stdout",
     "output_type": "stream",
     "text": [
      "Warning:  m066_20191206 has zero interval 0 1\n",
      "Warning:  m066_20191206 has zero interval 8 9\n",
      "Warning:  m066_20191206 has zero interval 8 9\n",
      "Warning:  m066_20191206 has zero interval 13 14\n",
      "For Interval test passed\n",
      "For Phase test passed\n"
     ]
    },
    {
     "data": {
      "text/plain": [
       "'Testing'"
      ]
     },
     "metadata": {},
     "output_type": "display_data"
    },
    {
     "data": {
      "text/plain": [
       "{'datatype': 'raw',\n",
       " 'performance': 'Mistake',\n",
       " 'direction': 'L',\n",
       " 'zscoreChannel': False,\n",
       " 'serial': True,\n",
       " 'metricSettings': None,\n",
       " 'dimOrdTrg': '',\n",
       " 'multiplexKey': None}"
      ]
     },
     "metadata": {},
     "output_type": "display_data"
    },
    {
     "name": "stdout",
     "output_type": "stream",
     "text": [
      "No behaviour found for {'performance': 'Mistake', 'direction': 'L', 'session': 'm060_20190606'} ; skipping\n",
      "No behaviour found for {'performance': 'Mistake', 'direction': 'L', 'session': 'm067_20200203'} ; skipping\n",
      "No behaviour found for {'performance': 'Mistake', 'direction': 'L', 'session': 'm060_20190606'} ; skipping\n",
      "No behaviour found for {'performance': 'Mistake', 'direction': 'L', 'session': 'm067_20200203'} ; skipping\n",
      "Warning:  m067_20200218 has zero interval 1 2\n",
      "No behaviour found for {'performance': 'Mistake', 'direction': 'L', 'session': 'm060_20190606'} ; skipping\n",
      "No behaviour found for {'performance': 'Mistake', 'direction': 'L', 'session': 'm067_20200203'} ; skipping\n",
      "No behaviour found for {'performance': 'Mistake', 'direction': 'L', 'session': 'm060_20190606'} ; skipping\n",
      "No behaviour found for {'performance': 'Mistake', 'direction': 'L', 'session': 'm067_20200203'} ; skipping\n",
      "No behaviour found for {'performance': 'Mistake', 'direction': 'L', 'session': 'm060_20190606'} ; skipping\n",
      "No behaviour found for {'performance': 'Mistake', 'direction': 'L', 'session': 'm067_20200203'} ; skipping\n",
      "No behaviour found for {'performance': 'Mistake', 'direction': 'L', 'session': 'm060_20190606'} ; skipping\n",
      "No behaviour found for {'performance': 'Mistake', 'direction': 'L', 'session': 'm067_20200203'} ; skipping\n",
      "No behaviour found for {'performance': 'Mistake', 'direction': 'L', 'session': 'm060_20190606'} ; skipping\n",
      "No behaviour found for {'performance': 'Mistake', 'direction': 'L', 'session': 'm067_20200203'} ; skipping\n",
      "No behaviour found for {'performance': 'Mistake', 'direction': 'L', 'session': 'm060_20190606'} ; skipping\n",
      "No behaviour found for {'performance': 'Mistake', 'direction': 'L', 'session': 'm067_20200203'} ; skipping\n",
      "No behaviour found for {'performance': 'Mistake', 'direction': 'L', 'session': 'm060_20190606'} ; skipping\n",
      "No behaviour found for {'performance': 'Mistake', 'direction': 'L', 'session': 'm067_20200203'} ; skipping\n",
      "No behaviour found for {'performance': 'Mistake', 'direction': 'L', 'session': 'm060_20190606'} ; skipping\n",
      "No behaviour found for {'performance': 'Mistake', 'direction': 'L', 'session': 'm067_20200203'} ; skipping\n",
      "No behaviour found for {'performance': 'Mistake', 'direction': 'L', 'session': 'm060_20190606'} ; skipping\n",
      "No behaviour found for {'performance': 'Mistake', 'direction': 'L', 'session': 'm067_20200203'} ; skipping\n",
      "No behaviour found for {'performance': 'Mistake', 'direction': 'L', 'session': 'm060_20190606'} ; skipping\n",
      "No behaviour found for {'performance': 'Mistake', 'direction': 'L', 'session': 'm067_20200203'} ; skipping\n",
      "No behaviour found for {'performance': 'Mistake', 'direction': 'L', 'session': 'm060_20190606'} ; skipping\n",
      "No behaviour found for {'performance': 'Mistake', 'direction': 'L', 'session': 'm067_20200203'} ; skipping\n",
      "No behaviour found for {'performance': 'Mistake', 'direction': 'L', 'session': 'm060_20190606'} ; skipping\n",
      "No behaviour found for {'performance': 'Mistake', 'direction': 'L', 'session': 'm067_20200203'} ; skipping\n",
      "No behaviour found for {'performance': 'Mistake', 'direction': 'L', 'session': 'm060_20190606'} ; skipping\n",
      "No behaviour found for {'performance': 'Mistake', 'direction': 'L', 'session': 'm067_20200203'} ; skipping\n",
      "No behaviour found for {'performance': 'Mistake', 'direction': 'L', 'session': 'm060_20190606'} ; skipping\n",
      "No behaviour found for {'performance': 'Mistake', 'direction': 'L', 'session': 'm067_20200203'} ; skipping\n",
      "No behaviour found for {'performance': 'Mistake', 'direction': 'L', 'session': 'm060_20190606'} ; skipping\n",
      "No behaviour found for {'performance': 'Mistake', 'direction': 'L', 'session': 'm067_20200203'} ; skipping\n",
      "No behaviour found for {'performance': 'Mistake', 'direction': 'L', 'session': 'm060_20190606'} ; skipping\n",
      "No behaviour found for {'performance': 'Mistake', 'direction': 'L', 'session': 'm067_20200203'} ; skipping\n",
      "For Interval test passed\n",
      "For Phase test passed\n"
     ]
    },
    {
     "data": {
      "text/plain": [
       "'Testing'"
      ]
     },
     "metadata": {},
     "output_type": "display_data"
    },
    {
     "data": {
      "text/plain": [
       "{'datatype': 'raw',\n",
       " 'performance': 'Mistake',\n",
       " 'direction': 'L',\n",
       " 'zscoreChannel': False,\n",
       " 'serial': True,\n",
       " 'metricSettings': None,\n",
       " 'dimOrdTrg': '',\n",
       " 'multiplexKey': 'mousename'}"
      ]
     },
     "metadata": {},
     "output_type": "display_data"
    },
    {
     "name": "stdout",
     "output_type": "stream",
     "text": [
      "No behaviour found for {'performance': 'Mistake', 'direction': 'L', 'session': 'm060_20190606'} ; skipping\n",
      "No behaviour found for {'performance': 'Mistake', 'direction': 'L', 'session': 'm067_20200203'} ; skipping\n",
      "No behaviour found for {'performance': 'Mistake', 'direction': 'L', 'session': 'm060_20190606'} ; skipping\n",
      "No behaviour found for {'performance': 'Mistake', 'direction': 'L', 'session': 'm067_20200203'} ; skipping\n",
      "Warning:  m067_20200218 has zero interval 1 2\n",
      "No behaviour found for {'performance': 'Mistake', 'direction': 'L', 'session': 'm060_20190606'} ; skipping\n",
      "No behaviour found for {'performance': 'Mistake', 'direction': 'L', 'session': 'm067_20200203'} ; skipping\n",
      "No behaviour found for {'performance': 'Mistake', 'direction': 'L', 'session': 'm060_20190606'} ; skipping\n",
      "No behaviour found for {'performance': 'Mistake', 'direction': 'L', 'session': 'm067_20200203'} ; skipping\n",
      "No behaviour found for {'performance': 'Mistake', 'direction': 'L', 'session': 'm060_20190606'} ; skipping\n",
      "No behaviour found for {'performance': 'Mistake', 'direction': 'L', 'session': 'm067_20200203'} ; skipping\n",
      "No behaviour found for {'performance': 'Mistake', 'direction': 'L', 'session': 'm060_20190606'} ; skipping\n",
      "No behaviour found for {'performance': 'Mistake', 'direction': 'L', 'session': 'm067_20200203'} ; skipping\n",
      "No behaviour found for {'performance': 'Mistake', 'direction': 'L', 'session': 'm060_20190606'} ; skipping\n",
      "No behaviour found for {'performance': 'Mistake', 'direction': 'L', 'session': 'm067_20200203'} ; skipping\n",
      "No behaviour found for {'performance': 'Mistake', 'direction': 'L', 'session': 'm060_20190606'} ; skipping\n",
      "No behaviour found for {'performance': 'Mistake', 'direction': 'L', 'session': 'm067_20200203'} ; skipping\n",
      "No behaviour found for {'performance': 'Mistake', 'direction': 'L', 'session': 'm060_20190606'} ; skipping\n",
      "No behaviour found for {'performance': 'Mistake', 'direction': 'L', 'session': 'm067_20200203'} ; skipping\n",
      "No behaviour found for {'performance': 'Mistake', 'direction': 'L', 'session': 'm060_20190606'} ; skipping\n",
      "No behaviour found for {'performance': 'Mistake', 'direction': 'L', 'session': 'm067_20200203'} ; skipping\n",
      "No behaviour found for {'performance': 'Mistake', 'direction': 'L', 'session': 'm060_20190606'} ; skipping\n",
      "No behaviour found for {'performance': 'Mistake', 'direction': 'L', 'session': 'm067_20200203'} ; skipping\n",
      "No behaviour found for {'performance': 'Mistake', 'direction': 'L', 'session': 'm060_20190606'} ; skipping\n",
      "No behaviour found for {'performance': 'Mistake', 'direction': 'L', 'session': 'm067_20200203'} ; skipping\n",
      "No behaviour found for {'performance': 'Mistake', 'direction': 'L', 'session': 'm060_20190606'} ; skipping\n",
      "No behaviour found for {'performance': 'Mistake', 'direction': 'L', 'session': 'm067_20200203'} ; skipping\n",
      "No behaviour found for {'performance': 'Mistake', 'direction': 'L', 'session': 'm060_20190606'} ; skipping\n",
      "No behaviour found for {'performance': 'Mistake', 'direction': 'L', 'session': 'm067_20200203'} ; skipping\n",
      "No behaviour found for {'performance': 'Mistake', 'direction': 'L', 'session': 'm060_20190606'} ; skipping\n",
      "No behaviour found for {'performance': 'Mistake', 'direction': 'L', 'session': 'm067_20200203'} ; skipping\n",
      "No behaviour found for {'performance': 'Mistake', 'direction': 'L', 'session': 'm060_20190606'} ; skipping\n",
      "No behaviour found for {'performance': 'Mistake', 'direction': 'L', 'session': 'm067_20200203'} ; skipping\n",
      "No behaviour found for {'performance': 'Mistake', 'direction': 'L', 'session': 'm060_20190606'} ; skipping\n",
      "No behaviour found for {'performance': 'Mistake', 'direction': 'L', 'session': 'm067_20200203'} ; skipping\n",
      "No behaviour found for {'performance': 'Mistake', 'direction': 'L', 'session': 'm060_20190606'} ; skipping\n",
      "No behaviour found for {'performance': 'Mistake', 'direction': 'L', 'session': 'm067_20200203'} ; skipping\n",
      "For Interval test passed\n",
      "For Phase test passed\n"
     ]
    },
    {
     "data": {
      "text/plain": [
       "'Testing'"
      ]
     },
     "metadata": {},
     "output_type": "display_data"
    },
    {
     "data": {
      "text/plain": [
       "{'datatype': 'raw',\n",
       " 'performance': 'Mistake',\n",
       " 'direction': 'L',\n",
       " 'zscoreChannel': False,\n",
       " 'serial': True,\n",
       " 'metricSettings': None,\n",
       " 'dimOrdTrg': '',\n",
       " 'multiplexKey': 'session'}"
      ]
     },
     "metadata": {},
     "output_type": "display_data"
    },
    {
     "name": "stdout",
     "output_type": "stream",
     "text": [
      "No behaviour found for {'performance': 'Mistake', 'direction': 'L', 'session': 'm067_20200203'} ; skipping\n",
      "No behaviour found for {'performance': 'Mistake', 'direction': 'L', 'session': 'm060_20190606'} ; skipping\n",
      "No behaviour found for {'performance': 'Mistake', 'direction': 'L', 'session': 'm067_20200203'} ; skipping\n",
      "No behaviour found for {'performance': 'Mistake', 'direction': 'L', 'session': 'm060_20190606'} ; skipping\n",
      "Warning:  m067_20200218 has zero interval 1 2\n",
      "No behaviour found for {'performance': 'Mistake', 'direction': 'L', 'session': 'm067_20200203'} ; skipping\n",
      "No behaviour found for {'performance': 'Mistake', 'direction': 'L', 'session': 'm060_20190606'} ; skipping\n",
      "No behaviour found for {'performance': 'Mistake', 'direction': 'L', 'session': 'm067_20200203'} ; skipping\n",
      "No behaviour found for {'performance': 'Mistake', 'direction': 'L', 'session': 'm060_20190606'} ; skipping\n",
      "No behaviour found for {'performance': 'Mistake', 'direction': 'L', 'session': 'm067_20200203'} ; skipping\n",
      "No behaviour found for {'performance': 'Mistake', 'direction': 'L', 'session': 'm060_20190606'} ; skipping\n",
      "No behaviour found for {'performance': 'Mistake', 'direction': 'L', 'session': 'm067_20200203'} ; skipping\n",
      "No behaviour found for {'performance': 'Mistake', 'direction': 'L', 'session': 'm060_20190606'} ; skipping\n",
      "No behaviour found for {'performance': 'Mistake', 'direction': 'L', 'session': 'm067_20200203'} ; skipping\n",
      "No behaviour found for {'performance': 'Mistake', 'direction': 'L', 'session': 'm060_20190606'} ; skipping\n",
      "No behaviour found for {'performance': 'Mistake', 'direction': 'L', 'session': 'm067_20200203'} ; skipping\n",
      "No behaviour found for {'performance': 'Mistake', 'direction': 'L', 'session': 'm060_20190606'} ; skipping\n",
      "No behaviour found for {'performance': 'Mistake', 'direction': 'L', 'session': 'm067_20200203'} ; skipping\n",
      "No behaviour found for {'performance': 'Mistake', 'direction': 'L', 'session': 'm060_20190606'} ; skipping\n",
      "No behaviour found for {'performance': 'Mistake', 'direction': 'L', 'session': 'm067_20200203'} ; skipping\n",
      "No behaviour found for {'performance': 'Mistake', 'direction': 'L', 'session': 'm060_20190606'} ; skipping\n",
      "No behaviour found for {'performance': 'Mistake', 'direction': 'L', 'session': 'm067_20200203'} ; skipping\n",
      "No behaviour found for {'performance': 'Mistake', 'direction': 'L', 'session': 'm060_20190606'} ; skipping\n",
      "No behaviour found for {'performance': 'Mistake', 'direction': 'L', 'session': 'm067_20200203'} ; skipping\n",
      "No behaviour found for {'performance': 'Mistake', 'direction': 'L', 'session': 'm060_20190606'} ; skipping\n",
      "No behaviour found for {'performance': 'Mistake', 'direction': 'L', 'session': 'm067_20200203'} ; skipping\n",
      "No behaviour found for {'performance': 'Mistake', 'direction': 'L', 'session': 'm060_20190606'} ; skipping\n",
      "No behaviour found for {'performance': 'Mistake', 'direction': 'L', 'session': 'm067_20200203'} ; skipping\n",
      "No behaviour found for {'performance': 'Mistake', 'direction': 'L', 'session': 'm060_20190606'} ; skipping\n",
      "No behaviour found for {'performance': 'Mistake', 'direction': 'L', 'session': 'm067_20200203'} ; skipping\n",
      "No behaviour found for {'performance': 'Mistake', 'direction': 'L', 'session': 'm060_20190606'} ; skipping\n",
      "No behaviour found for {'performance': 'Mistake', 'direction': 'L', 'session': 'm067_20200203'} ; skipping\n",
      "No behaviour found for {'performance': 'Mistake', 'direction': 'L', 'session': 'm060_20190606'} ; skipping\n",
      "No behaviour found for {'performance': 'Mistake', 'direction': 'L', 'session': 'm067_20200203'} ; skipping\n",
      "No behaviour found for {'performance': 'Mistake', 'direction': 'L', 'session': 'm060_20190606'} ; skipping\n",
      "No behaviour found for {'performance': 'Mistake', 'direction': 'L', 'session': 'm067_20200203'} ; skipping\n",
      "No behaviour found for {'performance': 'Mistake', 'direction': 'L', 'session': 'm060_20190606'} ; skipping\n",
      "For Interval test passed\n",
      "For Phase test passed\n"
     ]
    },
    {
     "data": {
      "text/plain": [
       "'Testing'"
      ]
     },
     "metadata": {},
     "output_type": "display_data"
    },
    {
     "data": {
      "text/plain": [
       "{'datatype': 'raw',\n",
       " 'performance': 'Mistake',\n",
       " 'direction': 'R',\n",
       " 'zscoreChannel': False,\n",
       " 'serial': True,\n",
       " 'metricSettings': None,\n",
       " 'dimOrdTrg': '',\n",
       " 'multiplexKey': None}"
      ]
     },
     "metadata": {},
     "output_type": "display_data"
    },
    {
     "name": "stdout",
     "output_type": "stream",
     "text": [
      "No behaviour found for {'performance': 'Mistake', 'direction': 'R', 'session': 'm061_20190517'} ; skipping\n",
      "No behaviour found for {'performance': 'Mistake', 'direction': 'R', 'session': 'm061_20190517'} ; skipping\n",
      "No behaviour found for {'performance': 'Mistake', 'direction': 'R', 'session': 'm061_20190517'} ; skipping\n",
      "No behaviour found for {'performance': 'Mistake', 'direction': 'R', 'session': 'm061_20190517'} ; skipping\n",
      "No behaviour found for {'performance': 'Mistake', 'direction': 'R', 'session': 'm061_20190517'} ; skipping\n",
      "No behaviour found for {'performance': 'Mistake', 'direction': 'R', 'session': 'm061_20190517'} ; skipping\n",
      "No behaviour found for {'performance': 'Mistake', 'direction': 'R', 'session': 'm061_20190517'} ; skipping\n",
      "No behaviour found for {'performance': 'Mistake', 'direction': 'R', 'session': 'm061_20190517'} ; skipping\n",
      "No behaviour found for {'performance': 'Mistake', 'direction': 'R', 'session': 'm061_20190517'} ; skipping\n",
      "No behaviour found for {'performance': 'Mistake', 'direction': 'R', 'session': 'm061_20190517'} ; skipping\n",
      "No behaviour found for {'performance': 'Mistake', 'direction': 'R', 'session': 'm061_20190517'} ; skipping\n",
      "No behaviour found for {'performance': 'Mistake', 'direction': 'R', 'session': 'm061_20190517'} ; skipping\n",
      "No behaviour found for {'performance': 'Mistake', 'direction': 'R', 'session': 'm061_20190517'} ; skipping\n",
      "No behaviour found for {'performance': 'Mistake', 'direction': 'R', 'session': 'm061_20190517'} ; skipping\n",
      "No behaviour found for {'performance': 'Mistake', 'direction': 'R', 'session': 'm061_20190517'} ; skipping\n",
      "No behaviour found for {'performance': 'Mistake', 'direction': 'R', 'session': 'm061_20190517'} ; skipping\n",
      "No behaviour found for {'performance': 'Mistake', 'direction': 'R', 'session': 'm061_20190517'} ; skipping\n",
      "No behaviour found for {'performance': 'Mistake', 'direction': 'R', 'session': 'm061_20190517'} ; skipping\n",
      "For Interval test passed\n",
      "For Phase test passed\n"
     ]
    },
    {
     "data": {
      "text/plain": [
       "'Testing'"
      ]
     },
     "metadata": {},
     "output_type": "display_data"
    },
    {
     "data": {
      "text/plain": [
       "{'datatype': 'raw',\n",
       " 'performance': 'Mistake',\n",
       " 'direction': 'R',\n",
       " 'zscoreChannel': False,\n",
       " 'serial': True,\n",
       " 'metricSettings': None,\n",
       " 'dimOrdTrg': '',\n",
       " 'multiplexKey': 'mousename'}"
      ]
     },
     "metadata": {},
     "output_type": "display_data"
    },
    {
     "name": "stdout",
     "output_type": "stream",
     "text": [
      "No behaviour found for {'performance': 'Mistake', 'direction': 'R', 'session': 'm061_20190517'} ; skipping\n",
      "No behaviour found for {'performance': 'Mistake', 'direction': 'R', 'session': 'm061_20190517'} ; skipping\n",
      "No behaviour found for {'performance': 'Mistake', 'direction': 'R', 'session': 'm061_20190517'} ; skipping\n",
      "No behaviour found for {'performance': 'Mistake', 'direction': 'R', 'session': 'm061_20190517'} ; skipping\n",
      "No behaviour found for {'performance': 'Mistake', 'direction': 'R', 'session': 'm061_20190517'} ; skipping\n",
      "No behaviour found for {'performance': 'Mistake', 'direction': 'R', 'session': 'm061_20190517'} ; skipping\n",
      "No behaviour found for {'performance': 'Mistake', 'direction': 'R', 'session': 'm061_20190517'} ; skipping\n",
      "No behaviour found for {'performance': 'Mistake', 'direction': 'R', 'session': 'm061_20190517'} ; skipping\n",
      "No behaviour found for {'performance': 'Mistake', 'direction': 'R', 'session': 'm061_20190517'} ; skipping\n",
      "No behaviour found for {'performance': 'Mistake', 'direction': 'R', 'session': 'm061_20190517'} ; skipping\n",
      "No behaviour found for {'performance': 'Mistake', 'direction': 'R', 'session': 'm061_20190517'} ; skipping\n",
      "No behaviour found for {'performance': 'Mistake', 'direction': 'R', 'session': 'm061_20190517'} ; skipping\n",
      "No behaviour found for {'performance': 'Mistake', 'direction': 'R', 'session': 'm061_20190517'} ; skipping\n",
      "No behaviour found for {'performance': 'Mistake', 'direction': 'R', 'session': 'm061_20190517'} ; skipping\n",
      "No behaviour found for {'performance': 'Mistake', 'direction': 'R', 'session': 'm061_20190517'} ; skipping\n",
      "No behaviour found for {'performance': 'Mistake', 'direction': 'R', 'session': 'm061_20190517'} ; skipping\n",
      "No behaviour found for {'performance': 'Mistake', 'direction': 'R', 'session': 'm061_20190517'} ; skipping\n",
      "No behaviour found for {'performance': 'Mistake', 'direction': 'R', 'session': 'm061_20190517'} ; skipping\n",
      "For Interval test passed\n",
      "For Phase test passed\n"
     ]
    },
    {
     "data": {
      "text/plain": [
       "'Testing'"
      ]
     },
     "metadata": {},
     "output_type": "display_data"
    },
    {
     "data": {
      "text/plain": [
       "{'datatype': 'raw',\n",
       " 'performance': 'Mistake',\n",
       " 'direction': 'R',\n",
       " 'zscoreChannel': False,\n",
       " 'serial': True,\n",
       " 'metricSettings': None,\n",
       " 'dimOrdTrg': '',\n",
       " 'multiplexKey': 'session'}"
      ]
     },
     "metadata": {},
     "output_type": "display_data"
    },
    {
     "name": "stdout",
     "output_type": "stream",
     "text": [
      "No behaviour found for {'performance': 'Mistake', 'direction': 'R', 'session': 'm061_20190517'} ; skipping\n",
      "No behaviour found for {'performance': 'Mistake', 'direction': 'R', 'session': 'm061_20190517'} ; skipping\n",
      "No behaviour found for {'performance': 'Mistake', 'direction': 'R', 'session': 'm061_20190517'} ; skipping\n",
      "No behaviour found for {'performance': 'Mistake', 'direction': 'R', 'session': 'm061_20190517'} ; skipping\n",
      "No behaviour found for {'performance': 'Mistake', 'direction': 'R', 'session': 'm061_20190517'} ; skipping\n",
      "No behaviour found for {'performance': 'Mistake', 'direction': 'R', 'session': 'm061_20190517'} ; skipping\n",
      "No behaviour found for {'performance': 'Mistake', 'direction': 'R', 'session': 'm061_20190517'} ; skipping\n",
      "No behaviour found for {'performance': 'Mistake', 'direction': 'R', 'session': 'm061_20190517'} ; skipping\n",
      "No behaviour found for {'performance': 'Mistake', 'direction': 'R', 'session': 'm061_20190517'} ; skipping\n",
      "No behaviour found for {'performance': 'Mistake', 'direction': 'R', 'session': 'm061_20190517'} ; skipping\n",
      "No behaviour found for {'performance': 'Mistake', 'direction': 'R', 'session': 'm061_20190517'} ; skipping\n",
      "No behaviour found for {'performance': 'Mistake', 'direction': 'R', 'session': 'm061_20190517'} ; skipping\n",
      "No behaviour found for {'performance': 'Mistake', 'direction': 'R', 'session': 'm061_20190517'} ; skipping\n",
      "No behaviour found for {'performance': 'Mistake', 'direction': 'R', 'session': 'm061_20190517'} ; skipping\n",
      "No behaviour found for {'performance': 'Mistake', 'direction': 'R', 'session': 'm061_20190517'} ; skipping\n",
      "No behaviour found for {'performance': 'Mistake', 'direction': 'R', 'session': 'm061_20190517'} ; skipping\n",
      "No behaviour found for {'performance': 'Mistake', 'direction': 'R', 'session': 'm061_20190517'} ; skipping\n",
      "No behaviour found for {'performance': 'Mistake', 'direction': 'R', 'session': 'm061_20190517'} ; skipping\n",
      "For Interval test passed\n",
      "For Phase test passed\n"
     ]
    },
    {
     "data": {
      "text/plain": [
       "'Testing'"
      ]
     },
     "metadata": {},
     "output_type": "display_data"
    },
    {
     "data": {
      "text/plain": [
       "{'datatype': 'raw',\n",
       " 'performance': 'Mistake',\n",
       " 'zscoreChannel': False,\n",
       " 'serial': True,\n",
       " 'metricSettings': None,\n",
       " 'dimOrdTrg': '',\n",
       " 'multiplexKey': None}"
      ]
     },
     "metadata": {},
     "output_type": "display_data"
    },
    {
     "name": "stdout",
     "output_type": "stream",
     "text": [
      "Warning:  m067_20200218 has zero interval 1 2\n",
      "For Interval test passed\n",
      "For Phase test passed\n"
     ]
    },
    {
     "data": {
      "text/plain": [
       "'Testing'"
      ]
     },
     "metadata": {},
     "output_type": "display_data"
    },
    {
     "data": {
      "text/plain": [
       "{'datatype': 'raw',\n",
       " 'performance': 'Mistake',\n",
       " 'zscoreChannel': False,\n",
       " 'serial': True,\n",
       " 'metricSettings': None,\n",
       " 'dimOrdTrg': '',\n",
       " 'multiplexKey': 'mousename'}"
      ]
     },
     "metadata": {},
     "output_type": "display_data"
    },
    {
     "name": "stdout",
     "output_type": "stream",
     "text": [
      "Warning:  m067_20200218 has zero interval 1 2\n",
      "For Interval test passed\n",
      "For Phase test passed\n"
     ]
    },
    {
     "data": {
      "text/plain": [
       "'Testing'"
      ]
     },
     "metadata": {},
     "output_type": "display_data"
    },
    {
     "data": {
      "text/plain": [
       "{'datatype': 'raw',\n",
       " 'performance': 'Mistake',\n",
       " 'zscoreChannel': False,\n",
       " 'serial': True,\n",
       " 'metricSettings': None,\n",
       " 'dimOrdTrg': '',\n",
       " 'multiplexKey': 'session'}"
      ]
     },
     "metadata": {},
     "output_type": "display_data"
    },
    {
     "name": "stdout",
     "output_type": "stream",
     "text": [
      "Warning:  m067_20200218 has zero interval 1 2\n",
      "For Interval test passed\n",
      "For Phase test passed\n"
     ]
    },
    {
     "data": {
      "text/plain": [
       "'Testing'"
      ]
     },
     "metadata": {},
     "output_type": "display_data"
    },
    {
     "data": {
      "text/plain": [
       "{'datatype': 'deconv',\n",
       " 'performance': 'Correct',\n",
       " 'direction': 'L',\n",
       " 'zscoreChannel': False,\n",
       " 'serial': True,\n",
       " 'metricSettings': None,\n",
       " 'dimOrdTrg': '',\n",
       " 'multiplexKey': None}"
      ]
     },
     "metadata": {},
     "output_type": "display_data"
    },
    {
     "name": "stdout",
     "output_type": "stream",
     "text": [
      "Warning:  m066_20191206 has zero interval 8 9\n",
      "For Interval test passed\n",
      "For Phase test passed\n"
     ]
    },
    {
     "data": {
      "text/plain": [
       "'Testing'"
      ]
     },
     "metadata": {},
     "output_type": "display_data"
    },
    {
     "data": {
      "text/plain": [
       "{'datatype': 'deconv',\n",
       " 'performance': 'Correct',\n",
       " 'direction': 'L',\n",
       " 'zscoreChannel': False,\n",
       " 'serial': True,\n",
       " 'metricSettings': None,\n",
       " 'dimOrdTrg': '',\n",
       " 'multiplexKey': 'mousename'}"
      ]
     },
     "metadata": {},
     "output_type": "display_data"
    },
    {
     "name": "stdout",
     "output_type": "stream",
     "text": [
      "Warning:  m066_20191206 has zero interval 8 9\n",
      "For Interval test passed\n",
      "For Phase test passed\n"
     ]
    },
    {
     "data": {
      "text/plain": [
       "'Testing'"
      ]
     },
     "metadata": {},
     "output_type": "display_data"
    },
    {
     "data": {
      "text/plain": [
       "{'datatype': 'deconv',\n",
       " 'performance': 'Correct',\n",
       " 'direction': 'L',\n",
       " 'zscoreChannel': False,\n",
       " 'serial': True,\n",
       " 'metricSettings': None,\n",
       " 'dimOrdTrg': '',\n",
       " 'multiplexKey': 'session'}"
      ]
     },
     "metadata": {},
     "output_type": "display_data"
    },
    {
     "name": "stdout",
     "output_type": "stream",
     "text": [
      "Warning:  m066_20191206 has zero interval 8 9\n",
      "For Interval test passed\n",
      "For Phase test passed\n"
     ]
    },
    {
     "data": {
      "text/plain": [
       "'Testing'"
      ]
     },
     "metadata": {},
     "output_type": "display_data"
    },
    {
     "data": {
      "text/plain": [
       "{'datatype': 'deconv',\n",
       " 'performance': 'Correct',\n",
       " 'direction': 'R',\n",
       " 'zscoreChannel': False,\n",
       " 'serial': True,\n",
       " 'metricSettings': None,\n",
       " 'dimOrdTrg': '',\n",
       " 'multiplexKey': None}"
      ]
     },
     "metadata": {},
     "output_type": "display_data"
    },
    {
     "name": "stdout",
     "output_type": "stream",
     "text": [
      "Warning:  m066_20191206 has zero interval 0 1\n",
      "Warning:  m066_20191206 has zero interval 8 9\n",
      "Warning:  m066_20191206 has zero interval 13 14\n",
      "For Interval test passed\n",
      "For Phase test passed\n"
     ]
    },
    {
     "data": {
      "text/plain": [
       "'Testing'"
      ]
     },
     "metadata": {},
     "output_type": "display_data"
    },
    {
     "data": {
      "text/plain": [
       "{'datatype': 'deconv',\n",
       " 'performance': 'Correct',\n",
       " 'direction': 'R',\n",
       " 'zscoreChannel': False,\n",
       " 'serial': True,\n",
       " 'metricSettings': None,\n",
       " 'dimOrdTrg': '',\n",
       " 'multiplexKey': 'mousename'}"
      ]
     },
     "metadata": {},
     "output_type": "display_data"
    },
    {
     "name": "stdout",
     "output_type": "stream",
     "text": [
      "Warning:  m066_20191206 has zero interval 0 1\n",
      "Warning:  m066_20191206 has zero interval 8 9\n",
      "Warning:  m066_20191206 has zero interval 13 14\n",
      "For Interval test passed\n",
      "For Phase test passed\n"
     ]
    },
    {
     "data": {
      "text/plain": [
       "'Testing'"
      ]
     },
     "metadata": {},
     "output_type": "display_data"
    },
    {
     "data": {
      "text/plain": [
       "{'datatype': 'deconv',\n",
       " 'performance': 'Correct',\n",
       " 'direction': 'R',\n",
       " 'zscoreChannel': False,\n",
       " 'serial': True,\n",
       " 'metricSettings': None,\n",
       " 'dimOrdTrg': '',\n",
       " 'multiplexKey': 'session'}"
      ]
     },
     "metadata": {},
     "output_type": "display_data"
    },
    {
     "name": "stdout",
     "output_type": "stream",
     "text": [
      "Warning:  m066_20191206 has zero interval 0 1\n",
      "Warning:  m066_20191206 has zero interval 8 9\n",
      "Warning:  m066_20191206 has zero interval 13 14\n",
      "For Interval test passed\n",
      "For Phase test passed\n"
     ]
    },
    {
     "data": {
      "text/plain": [
       "'Testing'"
      ]
     },
     "metadata": {},
     "output_type": "display_data"
    },
    {
     "data": {
      "text/plain": [
       "{'datatype': 'deconv',\n",
       " 'performance': 'Correct',\n",
       " 'zscoreChannel': False,\n",
       " 'serial': True,\n",
       " 'metricSettings': None,\n",
       " 'dimOrdTrg': '',\n",
       " 'multiplexKey': None}"
      ]
     },
     "metadata": {},
     "output_type": "display_data"
    },
    {
     "name": "stdout",
     "output_type": "stream",
     "text": [
      "Warning:  m066_20191206 has zero interval 0 1\n",
      "Warning:  m066_20191206 has zero interval 8 9\n",
      "Warning:  m066_20191206 has zero interval 8 9\n",
      "Warning:  m066_20191206 has zero interval 13 14\n",
      "For Interval test passed\n",
      "For Phase test passed\n"
     ]
    },
    {
     "data": {
      "text/plain": [
       "'Testing'"
      ]
     },
     "metadata": {},
     "output_type": "display_data"
    },
    {
     "data": {
      "text/plain": [
       "{'datatype': 'deconv',\n",
       " 'performance': 'Correct',\n",
       " 'zscoreChannel': False,\n",
       " 'serial': True,\n",
       " 'metricSettings': None,\n",
       " 'dimOrdTrg': '',\n",
       " 'multiplexKey': 'mousename'}"
      ]
     },
     "metadata": {},
     "output_type": "display_data"
    },
    {
     "name": "stdout",
     "output_type": "stream",
     "text": [
      "Warning:  m066_20191206 has zero interval 0 1\n",
      "Warning:  m066_20191206 has zero interval 8 9\n",
      "Warning:  m066_20191206 has zero interval 8 9\n",
      "Warning:  m066_20191206 has zero interval 13 14\n",
      "For Interval test passed\n",
      "For Phase test passed\n"
     ]
    },
    {
     "data": {
      "text/plain": [
       "'Testing'"
      ]
     },
     "metadata": {},
     "output_type": "display_data"
    },
    {
     "data": {
      "text/plain": [
       "{'datatype': 'deconv',\n",
       " 'performance': 'Correct',\n",
       " 'zscoreChannel': False,\n",
       " 'serial': True,\n",
       " 'metricSettings': None,\n",
       " 'dimOrdTrg': '',\n",
       " 'multiplexKey': 'session'}"
      ]
     },
     "metadata": {},
     "output_type": "display_data"
    },
    {
     "name": "stdout",
     "output_type": "stream",
     "text": [
      "Warning:  m066_20191206 has zero interval 0 1\n",
      "Warning:  m066_20191206 has zero interval 8 9\n",
      "Warning:  m066_20191206 has zero interval 8 9\n",
      "Warning:  m066_20191206 has zero interval 13 14\n",
      "For Interval test passed\n",
      "For Phase test passed\n"
     ]
    },
    {
     "data": {
      "text/plain": [
       "'Testing'"
      ]
     },
     "metadata": {},
     "output_type": "display_data"
    },
    {
     "data": {
      "text/plain": [
       "{'datatype': 'deconv',\n",
       " 'performance': 'Mistake',\n",
       " 'direction': 'L',\n",
       " 'zscoreChannel': False,\n",
       " 'serial': True,\n",
       " 'metricSettings': None,\n",
       " 'dimOrdTrg': '',\n",
       " 'multiplexKey': None}"
      ]
     },
     "metadata": {},
     "output_type": "display_data"
    },
    {
     "name": "stdout",
     "output_type": "stream",
     "text": [
      "No behaviour found for {'performance': 'Mistake', 'direction': 'L', 'session': 'm060_20190606'} ; skipping\n",
      "No behaviour found for {'performance': 'Mistake', 'direction': 'L', 'session': 'm067_20200203'} ; skipping\n",
      "No behaviour found for {'performance': 'Mistake', 'direction': 'L', 'session': 'm060_20190606'} ; skipping\n",
      "No behaviour found for {'performance': 'Mistake', 'direction': 'L', 'session': 'm067_20200203'} ; skipping\n",
      "Warning:  m067_20200218 has zero interval 1 2\n",
      "No behaviour found for {'performance': 'Mistake', 'direction': 'L', 'session': 'm060_20190606'} ; skipping\n",
      "No behaviour found for {'performance': 'Mistake', 'direction': 'L', 'session': 'm067_20200203'} ; skipping\n",
      "No behaviour found for {'performance': 'Mistake', 'direction': 'L', 'session': 'm060_20190606'} ; skipping\n",
      "No behaviour found for {'performance': 'Mistake', 'direction': 'L', 'session': 'm067_20200203'} ; skipping\n",
      "No behaviour found for {'performance': 'Mistake', 'direction': 'L', 'session': 'm060_20190606'} ; skipping\n",
      "No behaviour found for {'performance': 'Mistake', 'direction': 'L', 'session': 'm067_20200203'} ; skipping\n",
      "No behaviour found for {'performance': 'Mistake', 'direction': 'L', 'session': 'm060_20190606'} ; skipping\n",
      "No behaviour found for {'performance': 'Mistake', 'direction': 'L', 'session': 'm067_20200203'} ; skipping\n",
      "No behaviour found for {'performance': 'Mistake', 'direction': 'L', 'session': 'm060_20190606'} ; skipping\n",
      "No behaviour found for {'performance': 'Mistake', 'direction': 'L', 'session': 'm067_20200203'} ; skipping\n",
      "No behaviour found for {'performance': 'Mistake', 'direction': 'L', 'session': 'm060_20190606'} ; skipping\n",
      "No behaviour found for {'performance': 'Mistake', 'direction': 'L', 'session': 'm067_20200203'} ; skipping\n",
      "No behaviour found for {'performance': 'Mistake', 'direction': 'L', 'session': 'm060_20190606'} ; skipping\n",
      "No behaviour found for {'performance': 'Mistake', 'direction': 'L', 'session': 'm067_20200203'} ; skipping\n",
      "No behaviour found for {'performance': 'Mistake', 'direction': 'L', 'session': 'm060_20190606'} ; skipping\n",
      "No behaviour found for {'performance': 'Mistake', 'direction': 'L', 'session': 'm067_20200203'} ; skipping\n",
      "No behaviour found for {'performance': 'Mistake', 'direction': 'L', 'session': 'm060_20190606'} ; skipping\n",
      "No behaviour found for {'performance': 'Mistake', 'direction': 'L', 'session': 'm067_20200203'} ; skipping\n",
      "No behaviour found for {'performance': 'Mistake', 'direction': 'L', 'session': 'm060_20190606'} ; skipping\n",
      "No behaviour found for {'performance': 'Mistake', 'direction': 'L', 'session': 'm067_20200203'} ; skipping\n",
      "No behaviour found for {'performance': 'Mistake', 'direction': 'L', 'session': 'm060_20190606'} ; skipping\n",
      "No behaviour found for {'performance': 'Mistake', 'direction': 'L', 'session': 'm067_20200203'} ; skipping\n",
      "No behaviour found for {'performance': 'Mistake', 'direction': 'L', 'session': 'm060_20190606'} ; skipping\n",
      "No behaviour found for {'performance': 'Mistake', 'direction': 'L', 'session': 'm067_20200203'} ; skipping\n",
      "No behaviour found for {'performance': 'Mistake', 'direction': 'L', 'session': 'm060_20190606'} ; skipping\n",
      "No behaviour found for {'performance': 'Mistake', 'direction': 'L', 'session': 'm067_20200203'} ; skipping\n",
      "No behaviour found for {'performance': 'Mistake', 'direction': 'L', 'session': 'm060_20190606'} ; skipping\n",
      "No behaviour found for {'performance': 'Mistake', 'direction': 'L', 'session': 'm067_20200203'} ; skipping\n",
      "No behaviour found for {'performance': 'Mistake', 'direction': 'L', 'session': 'm060_20190606'} ; skipping\n",
      "No behaviour found for {'performance': 'Mistake', 'direction': 'L', 'session': 'm067_20200203'} ; skipping\n",
      "No behaviour found for {'performance': 'Mistake', 'direction': 'L', 'session': 'm060_20190606'} ; skipping\n",
      "No behaviour found for {'performance': 'Mistake', 'direction': 'L', 'session': 'm067_20200203'} ; skipping\n",
      "For Interval test passed\n",
      "For Phase test passed\n"
     ]
    },
    {
     "data": {
      "text/plain": [
       "'Testing'"
      ]
     },
     "metadata": {},
     "output_type": "display_data"
    },
    {
     "data": {
      "text/plain": [
       "{'datatype': 'deconv',\n",
       " 'performance': 'Mistake',\n",
       " 'direction': 'L',\n",
       " 'zscoreChannel': False,\n",
       " 'serial': True,\n",
       " 'metricSettings': None,\n",
       " 'dimOrdTrg': '',\n",
       " 'multiplexKey': 'mousename'}"
      ]
     },
     "metadata": {},
     "output_type": "display_data"
    },
    {
     "name": "stdout",
     "output_type": "stream",
     "text": [
      "No behaviour found for {'performance': 'Mistake', 'direction': 'L', 'session': 'm060_20190606'} ; skipping\n",
      "No behaviour found for {'performance': 'Mistake', 'direction': 'L', 'session': 'm067_20200203'} ; skipping\n",
      "No behaviour found for {'performance': 'Mistake', 'direction': 'L', 'session': 'm060_20190606'} ; skipping\n",
      "No behaviour found for {'performance': 'Mistake', 'direction': 'L', 'session': 'm067_20200203'} ; skipping\n",
      "Warning:  m067_20200218 has zero interval 1 2\n",
      "No behaviour found for {'performance': 'Mistake', 'direction': 'L', 'session': 'm060_20190606'} ; skipping\n",
      "No behaviour found for {'performance': 'Mistake', 'direction': 'L', 'session': 'm067_20200203'} ; skipping\n",
      "No behaviour found for {'performance': 'Mistake', 'direction': 'L', 'session': 'm060_20190606'} ; skipping\n",
      "No behaviour found for {'performance': 'Mistake', 'direction': 'L', 'session': 'm067_20200203'} ; skipping\n",
      "No behaviour found for {'performance': 'Mistake', 'direction': 'L', 'session': 'm060_20190606'} ; skipping\n",
      "No behaviour found for {'performance': 'Mistake', 'direction': 'L', 'session': 'm067_20200203'} ; skipping\n",
      "No behaviour found for {'performance': 'Mistake', 'direction': 'L', 'session': 'm060_20190606'} ; skipping\n",
      "No behaviour found for {'performance': 'Mistake', 'direction': 'L', 'session': 'm067_20200203'} ; skipping\n",
      "No behaviour found for {'performance': 'Mistake', 'direction': 'L', 'session': 'm060_20190606'} ; skipping\n",
      "No behaviour found for {'performance': 'Mistake', 'direction': 'L', 'session': 'm067_20200203'} ; skipping\n",
      "No behaviour found for {'performance': 'Mistake', 'direction': 'L', 'session': 'm060_20190606'} ; skipping\n",
      "No behaviour found for {'performance': 'Mistake', 'direction': 'L', 'session': 'm067_20200203'} ; skipping\n",
      "No behaviour found for {'performance': 'Mistake', 'direction': 'L', 'session': 'm060_20190606'} ; skipping\n",
      "No behaviour found for {'performance': 'Mistake', 'direction': 'L', 'session': 'm067_20200203'} ; skipping\n",
      "No behaviour found for {'performance': 'Mistake', 'direction': 'L', 'session': 'm060_20190606'} ; skipping\n",
      "No behaviour found for {'performance': 'Mistake', 'direction': 'L', 'session': 'm067_20200203'} ; skipping\n",
      "No behaviour found for {'performance': 'Mistake', 'direction': 'L', 'session': 'm060_20190606'} ; skipping\n",
      "No behaviour found for {'performance': 'Mistake', 'direction': 'L', 'session': 'm067_20200203'} ; skipping\n",
      "No behaviour found for {'performance': 'Mistake', 'direction': 'L', 'session': 'm060_20190606'} ; skipping\n",
      "No behaviour found for {'performance': 'Mistake', 'direction': 'L', 'session': 'm067_20200203'} ; skipping\n",
      "No behaviour found for {'performance': 'Mistake', 'direction': 'L', 'session': 'm060_20190606'} ; skipping\n",
      "No behaviour found for {'performance': 'Mistake', 'direction': 'L', 'session': 'm067_20200203'} ; skipping\n",
      "No behaviour found for {'performance': 'Mistake', 'direction': 'L', 'session': 'm060_20190606'} ; skipping\n",
      "No behaviour found for {'performance': 'Mistake', 'direction': 'L', 'session': 'm067_20200203'} ; skipping\n",
      "No behaviour found for {'performance': 'Mistake', 'direction': 'L', 'session': 'm060_20190606'} ; skipping\n",
      "No behaviour found for {'performance': 'Mistake', 'direction': 'L', 'session': 'm067_20200203'} ; skipping\n",
      "No behaviour found for {'performance': 'Mistake', 'direction': 'L', 'session': 'm060_20190606'} ; skipping\n",
      "No behaviour found for {'performance': 'Mistake', 'direction': 'L', 'session': 'm067_20200203'} ; skipping\n",
      "No behaviour found for {'performance': 'Mistake', 'direction': 'L', 'session': 'm060_20190606'} ; skipping\n",
      "No behaviour found for {'performance': 'Mistake', 'direction': 'L', 'session': 'm067_20200203'} ; skipping\n",
      "No behaviour found for {'performance': 'Mistake', 'direction': 'L', 'session': 'm060_20190606'} ; skipping\n",
      "No behaviour found for {'performance': 'Mistake', 'direction': 'L', 'session': 'm067_20200203'} ; skipping\n",
      "For Interval test passed\n",
      "For Phase test passed\n"
     ]
    },
    {
     "data": {
      "text/plain": [
       "'Testing'"
      ]
     },
     "metadata": {},
     "output_type": "display_data"
    },
    {
     "data": {
      "text/plain": [
       "{'datatype': 'deconv',\n",
       " 'performance': 'Mistake',\n",
       " 'direction': 'L',\n",
       " 'zscoreChannel': False,\n",
       " 'serial': True,\n",
       " 'metricSettings': None,\n",
       " 'dimOrdTrg': '',\n",
       " 'multiplexKey': 'session'}"
      ]
     },
     "metadata": {},
     "output_type": "display_data"
    },
    {
     "name": "stdout",
     "output_type": "stream",
     "text": [
      "No behaviour found for {'performance': 'Mistake', 'direction': 'L', 'session': 'm067_20200203'} ; skipping\n",
      "No behaviour found for {'performance': 'Mistake', 'direction': 'L', 'session': 'm060_20190606'} ; skipping\n",
      "No behaviour found for {'performance': 'Mistake', 'direction': 'L', 'session': 'm067_20200203'} ; skipping\n",
      "No behaviour found for {'performance': 'Mistake', 'direction': 'L', 'session': 'm060_20190606'} ; skipping\n",
      "Warning:  m067_20200218 has zero interval 1 2\n",
      "No behaviour found for {'performance': 'Mistake', 'direction': 'L', 'session': 'm067_20200203'} ; skipping\n",
      "No behaviour found for {'performance': 'Mistake', 'direction': 'L', 'session': 'm060_20190606'} ; skipping\n",
      "No behaviour found for {'performance': 'Mistake', 'direction': 'L', 'session': 'm067_20200203'} ; skipping\n",
      "No behaviour found for {'performance': 'Mistake', 'direction': 'L', 'session': 'm060_20190606'} ; skipping\n",
      "No behaviour found for {'performance': 'Mistake', 'direction': 'L', 'session': 'm067_20200203'} ; skipping\n",
      "No behaviour found for {'performance': 'Mistake', 'direction': 'L', 'session': 'm060_20190606'} ; skipping\n",
      "No behaviour found for {'performance': 'Mistake', 'direction': 'L', 'session': 'm067_20200203'} ; skipping\n",
      "No behaviour found for {'performance': 'Mistake', 'direction': 'L', 'session': 'm060_20190606'} ; skipping\n",
      "No behaviour found for {'performance': 'Mistake', 'direction': 'L', 'session': 'm067_20200203'} ; skipping\n",
      "No behaviour found for {'performance': 'Mistake', 'direction': 'L', 'session': 'm060_20190606'} ; skipping\n",
      "No behaviour found for {'performance': 'Mistake', 'direction': 'L', 'session': 'm067_20200203'} ; skipping\n",
      "No behaviour found for {'performance': 'Mistake', 'direction': 'L', 'session': 'm060_20190606'} ; skipping\n",
      "No behaviour found for {'performance': 'Mistake', 'direction': 'L', 'session': 'm067_20200203'} ; skipping\n",
      "No behaviour found for {'performance': 'Mistake', 'direction': 'L', 'session': 'm060_20190606'} ; skipping\n",
      "No behaviour found for {'performance': 'Mistake', 'direction': 'L', 'session': 'm067_20200203'} ; skipping\n",
      "No behaviour found for {'performance': 'Mistake', 'direction': 'L', 'session': 'm060_20190606'} ; skipping\n",
      "No behaviour found for {'performance': 'Mistake', 'direction': 'L', 'session': 'm067_20200203'} ; skipping\n",
      "No behaviour found for {'performance': 'Mistake', 'direction': 'L', 'session': 'm060_20190606'} ; skipping\n",
      "No behaviour found for {'performance': 'Mistake', 'direction': 'L', 'session': 'm067_20200203'} ; skipping\n",
      "No behaviour found for {'performance': 'Mistake', 'direction': 'L', 'session': 'm060_20190606'} ; skipping\n",
      "No behaviour found for {'performance': 'Mistake', 'direction': 'L', 'session': 'm067_20200203'} ; skipping\n",
      "No behaviour found for {'performance': 'Mistake', 'direction': 'L', 'session': 'm060_20190606'} ; skipping\n",
      "No behaviour found for {'performance': 'Mistake', 'direction': 'L', 'session': 'm067_20200203'} ; skipping\n",
      "No behaviour found for {'performance': 'Mistake', 'direction': 'L', 'session': 'm060_20190606'} ; skipping\n",
      "No behaviour found for {'performance': 'Mistake', 'direction': 'L', 'session': 'm067_20200203'} ; skipping\n",
      "No behaviour found for {'performance': 'Mistake', 'direction': 'L', 'session': 'm060_20190606'} ; skipping\n",
      "No behaviour found for {'performance': 'Mistake', 'direction': 'L', 'session': 'm067_20200203'} ; skipping\n",
      "No behaviour found for {'performance': 'Mistake', 'direction': 'L', 'session': 'm060_20190606'} ; skipping\n",
      "No behaviour found for {'performance': 'Mistake', 'direction': 'L', 'session': 'm067_20200203'} ; skipping\n",
      "No behaviour found for {'performance': 'Mistake', 'direction': 'L', 'session': 'm060_20190606'} ; skipping\n",
      "No behaviour found for {'performance': 'Mistake', 'direction': 'L', 'session': 'm067_20200203'} ; skipping\n",
      "No behaviour found for {'performance': 'Mistake', 'direction': 'L', 'session': 'm060_20190606'} ; skipping\n",
      "For Interval test passed\n",
      "For Phase test passed\n"
     ]
    },
    {
     "data": {
      "text/plain": [
       "'Testing'"
      ]
     },
     "metadata": {},
     "output_type": "display_data"
    },
    {
     "data": {
      "text/plain": [
       "{'datatype': 'deconv',\n",
       " 'performance': 'Mistake',\n",
       " 'direction': 'R',\n",
       " 'zscoreChannel': False,\n",
       " 'serial': True,\n",
       " 'metricSettings': None,\n",
       " 'dimOrdTrg': '',\n",
       " 'multiplexKey': None}"
      ]
     },
     "metadata": {},
     "output_type": "display_data"
    },
    {
     "name": "stdout",
     "output_type": "stream",
     "text": [
      "No behaviour found for {'performance': 'Mistake', 'direction': 'R', 'session': 'm061_20190517'} ; skipping\n",
      "No behaviour found for {'performance': 'Mistake', 'direction': 'R', 'session': 'm061_20190517'} ; skipping\n",
      "No behaviour found for {'performance': 'Mistake', 'direction': 'R', 'session': 'm061_20190517'} ; skipping\n",
      "No behaviour found for {'performance': 'Mistake', 'direction': 'R', 'session': 'm061_20190517'} ; skipping\n",
      "No behaviour found for {'performance': 'Mistake', 'direction': 'R', 'session': 'm061_20190517'} ; skipping\n",
      "No behaviour found for {'performance': 'Mistake', 'direction': 'R', 'session': 'm061_20190517'} ; skipping\n",
      "No behaviour found for {'performance': 'Mistake', 'direction': 'R', 'session': 'm061_20190517'} ; skipping\n",
      "No behaviour found for {'performance': 'Mistake', 'direction': 'R', 'session': 'm061_20190517'} ; skipping\n",
      "No behaviour found for {'performance': 'Mistake', 'direction': 'R', 'session': 'm061_20190517'} ; skipping\n",
      "No behaviour found for {'performance': 'Mistake', 'direction': 'R', 'session': 'm061_20190517'} ; skipping\n",
      "No behaviour found for {'performance': 'Mistake', 'direction': 'R', 'session': 'm061_20190517'} ; skipping\n",
      "No behaviour found for {'performance': 'Mistake', 'direction': 'R', 'session': 'm061_20190517'} ; skipping\n",
      "No behaviour found for {'performance': 'Mistake', 'direction': 'R', 'session': 'm061_20190517'} ; skipping\n",
      "No behaviour found for {'performance': 'Mistake', 'direction': 'R', 'session': 'm061_20190517'} ; skipping\n",
      "No behaviour found for {'performance': 'Mistake', 'direction': 'R', 'session': 'm061_20190517'} ; skipping\n",
      "No behaviour found for {'performance': 'Mistake', 'direction': 'R', 'session': 'm061_20190517'} ; skipping\n",
      "No behaviour found for {'performance': 'Mistake', 'direction': 'R', 'session': 'm061_20190517'} ; skipping\n",
      "No behaviour found for {'performance': 'Mistake', 'direction': 'R', 'session': 'm061_20190517'} ; skipping\n",
      "For Interval test passed\n",
      "For Phase test passed\n"
     ]
    },
    {
     "data": {
      "text/plain": [
       "'Testing'"
      ]
     },
     "metadata": {},
     "output_type": "display_data"
    },
    {
     "data": {
      "text/plain": [
       "{'datatype': 'deconv',\n",
       " 'performance': 'Mistake',\n",
       " 'direction': 'R',\n",
       " 'zscoreChannel': False,\n",
       " 'serial': True,\n",
       " 'metricSettings': None,\n",
       " 'dimOrdTrg': '',\n",
       " 'multiplexKey': 'mousename'}"
      ]
     },
     "metadata": {},
     "output_type": "display_data"
    },
    {
     "name": "stdout",
     "output_type": "stream",
     "text": [
      "No behaviour found for {'performance': 'Mistake', 'direction': 'R', 'session': 'm061_20190517'} ; skipping\n",
      "No behaviour found for {'performance': 'Mistake', 'direction': 'R', 'session': 'm061_20190517'} ; skipping\n",
      "No behaviour found for {'performance': 'Mistake', 'direction': 'R', 'session': 'm061_20190517'} ; skipping\n",
      "No behaviour found for {'performance': 'Mistake', 'direction': 'R', 'session': 'm061_20190517'} ; skipping\n",
      "No behaviour found for {'performance': 'Mistake', 'direction': 'R', 'session': 'm061_20190517'} ; skipping\n",
      "No behaviour found for {'performance': 'Mistake', 'direction': 'R', 'session': 'm061_20190517'} ; skipping\n",
      "No behaviour found for {'performance': 'Mistake', 'direction': 'R', 'session': 'm061_20190517'} ; skipping\n",
      "No behaviour found for {'performance': 'Mistake', 'direction': 'R', 'session': 'm061_20190517'} ; skipping\n",
      "No behaviour found for {'performance': 'Mistake', 'direction': 'R', 'session': 'm061_20190517'} ; skipping\n",
      "No behaviour found for {'performance': 'Mistake', 'direction': 'R', 'session': 'm061_20190517'} ; skipping\n",
      "No behaviour found for {'performance': 'Mistake', 'direction': 'R', 'session': 'm061_20190517'} ; skipping\n",
      "No behaviour found for {'performance': 'Mistake', 'direction': 'R', 'session': 'm061_20190517'} ; skipping\n",
      "No behaviour found for {'performance': 'Mistake', 'direction': 'R', 'session': 'm061_20190517'} ; skipping\n",
      "No behaviour found for {'performance': 'Mistake', 'direction': 'R', 'session': 'm061_20190517'} ; skipping\n",
      "No behaviour found for {'performance': 'Mistake', 'direction': 'R', 'session': 'm061_20190517'} ; skipping\n",
      "No behaviour found for {'performance': 'Mistake', 'direction': 'R', 'session': 'm061_20190517'} ; skipping\n",
      "No behaviour found for {'performance': 'Mistake', 'direction': 'R', 'session': 'm061_20190517'} ; skipping\n",
      "No behaviour found for {'performance': 'Mistake', 'direction': 'R', 'session': 'm061_20190517'} ; skipping\n",
      "For Interval test passed\n",
      "For Phase test passed\n"
     ]
    },
    {
     "data": {
      "text/plain": [
       "'Testing'"
      ]
     },
     "metadata": {},
     "output_type": "display_data"
    },
    {
     "data": {
      "text/plain": [
       "{'datatype': 'deconv',\n",
       " 'performance': 'Mistake',\n",
       " 'direction': 'R',\n",
       " 'zscoreChannel': False,\n",
       " 'serial': True,\n",
       " 'metricSettings': None,\n",
       " 'dimOrdTrg': '',\n",
       " 'multiplexKey': 'session'}"
      ]
     },
     "metadata": {},
     "output_type": "display_data"
    },
    {
     "name": "stdout",
     "output_type": "stream",
     "text": [
      "No behaviour found for {'performance': 'Mistake', 'direction': 'R', 'session': 'm061_20190517'} ; skipping\n",
      "No behaviour found for {'performance': 'Mistake', 'direction': 'R', 'session': 'm061_20190517'} ; skipping\n",
      "No behaviour found for {'performance': 'Mistake', 'direction': 'R', 'session': 'm061_20190517'} ; skipping\n",
      "No behaviour found for {'performance': 'Mistake', 'direction': 'R', 'session': 'm061_20190517'} ; skipping\n",
      "No behaviour found for {'performance': 'Mistake', 'direction': 'R', 'session': 'm061_20190517'} ; skipping\n",
      "No behaviour found for {'performance': 'Mistake', 'direction': 'R', 'session': 'm061_20190517'} ; skipping\n",
      "No behaviour found for {'performance': 'Mistake', 'direction': 'R', 'session': 'm061_20190517'} ; skipping\n",
      "No behaviour found for {'performance': 'Mistake', 'direction': 'R', 'session': 'm061_20190517'} ; skipping\n",
      "No behaviour found for {'performance': 'Mistake', 'direction': 'R', 'session': 'm061_20190517'} ; skipping\n",
      "No behaviour found for {'performance': 'Mistake', 'direction': 'R', 'session': 'm061_20190517'} ; skipping\n",
      "No behaviour found for {'performance': 'Mistake', 'direction': 'R', 'session': 'm061_20190517'} ; skipping\n",
      "No behaviour found for {'performance': 'Mistake', 'direction': 'R', 'session': 'm061_20190517'} ; skipping\n",
      "No behaviour found for {'performance': 'Mistake', 'direction': 'R', 'session': 'm061_20190517'} ; skipping\n",
      "No behaviour found for {'performance': 'Mistake', 'direction': 'R', 'session': 'm061_20190517'} ; skipping\n",
      "No behaviour found for {'performance': 'Mistake', 'direction': 'R', 'session': 'm061_20190517'} ; skipping\n",
      "No behaviour found for {'performance': 'Mistake', 'direction': 'R', 'session': 'm061_20190517'} ; skipping\n",
      "No behaviour found for {'performance': 'Mistake', 'direction': 'R', 'session': 'm061_20190517'} ; skipping\n",
      "No behaviour found for {'performance': 'Mistake', 'direction': 'R', 'session': 'm061_20190517'} ; skipping\n",
      "For Interval test passed\n",
      "For Phase test passed\n"
     ]
    },
    {
     "data": {
      "text/plain": [
       "'Testing'"
      ]
     },
     "metadata": {},
     "output_type": "display_data"
    },
    {
     "data": {
      "text/plain": [
       "{'datatype': 'deconv',\n",
       " 'performance': 'Mistake',\n",
       " 'zscoreChannel': False,\n",
       " 'serial': True,\n",
       " 'metricSettings': None,\n",
       " 'dimOrdTrg': '',\n",
       " 'multiplexKey': None}"
      ]
     },
     "metadata": {},
     "output_type": "display_data"
    },
    {
     "name": "stdout",
     "output_type": "stream",
     "text": [
      "Warning:  m067_20200218 has zero interval 1 2\n",
      "For Interval test passed\n",
      "For Phase test passed\n"
     ]
    },
    {
     "data": {
      "text/plain": [
       "'Testing'"
      ]
     },
     "metadata": {},
     "output_type": "display_data"
    },
    {
     "data": {
      "text/plain": [
       "{'datatype': 'deconv',\n",
       " 'performance': 'Mistake',\n",
       " 'zscoreChannel': False,\n",
       " 'serial': True,\n",
       " 'metricSettings': None,\n",
       " 'dimOrdTrg': '',\n",
       " 'multiplexKey': 'mousename'}"
      ]
     },
     "metadata": {},
     "output_type": "display_data"
    },
    {
     "name": "stdout",
     "output_type": "stream",
     "text": [
      "Warning:  m067_20200218 has zero interval 1 2\n",
      "For Interval test passed\n",
      "For Phase test passed\n"
     ]
    },
    {
     "data": {
      "text/plain": [
       "'Testing'"
      ]
     },
     "metadata": {},
     "output_type": "display_data"
    },
    {
     "data": {
      "text/plain": [
       "{'datatype': 'deconv',\n",
       " 'performance': 'Mistake',\n",
       " 'zscoreChannel': False,\n",
       " 'serial': True,\n",
       " 'metricSettings': None,\n",
       " 'dimOrdTrg': '',\n",
       " 'multiplexKey': 'session'}"
      ]
     },
     "metadata": {},
     "output_type": "display_data"
    },
    {
     "name": "stdout",
     "output_type": "stream",
     "text": [
      "Warning:  m067_20200218 has zero interval 1 2\n",
      "For Interval test passed\n",
      "For Phase test passed\n"
     ]
    },
    {
     "data": {
      "text/plain": [
       "'Testing'"
      ]
     },
     "metadata": {},
     "output_type": "display_data"
    },
    {
     "data": {
      "text/plain": [
       "{'datatype': 'raw',\n",
       " 'mousename': 'm060',\n",
       " 'performance': 'Correct',\n",
       " 'direction': 'L',\n",
       " 'zscoreChannel': False,\n",
       " 'serial': True,\n",
       " 'metricSettings': None,\n",
       " 'dimOrdTrg': '',\n",
       " 'multiplexKey': None}"
      ]
     },
     "metadata": {},
     "output_type": "display_data"
    },
    {
     "name": "stdout",
     "output_type": "stream",
     "text": [
      "For Interval test passed\n",
      "For Phase test passed\n"
     ]
    },
    {
     "data": {
      "text/plain": [
       "'Testing'"
      ]
     },
     "metadata": {},
     "output_type": "display_data"
    },
    {
     "data": {
      "text/plain": [
       "{'datatype': 'raw',\n",
       " 'mousename': 'm060',\n",
       " 'performance': 'Correct',\n",
       " 'direction': 'L',\n",
       " 'zscoreChannel': False,\n",
       " 'serial': True,\n",
       " 'metricSettings': None,\n",
       " 'dimOrdTrg': 'p',\n",
       " 'multiplexKey': None}"
      ]
     },
     "metadata": {},
     "output_type": "display_data"
    },
    {
     "name": "stdout",
     "output_type": "stream",
     "text": [
      "For Interval test passed\n",
      "For Phase test passed\n"
     ]
    },
    {
     "data": {
      "text/plain": [
       "'Testing'"
      ]
     },
     "metadata": {},
     "output_type": "display_data"
    },
    {
     "data": {
      "text/plain": [
       "{'datatype': 'raw',\n",
       " 'mousename': 'm060',\n",
       " 'performance': 'Correct',\n",
       " 'direction': 'R',\n",
       " 'zscoreChannel': False,\n",
       " 'serial': True,\n",
       " 'metricSettings': None,\n",
       " 'dimOrdTrg': '',\n",
       " 'multiplexKey': None}"
      ]
     },
     "metadata": {},
     "output_type": "display_data"
    },
    {
     "name": "stdout",
     "output_type": "stream",
     "text": [
      "For Interval test passed\n",
      "For Phase test passed\n"
     ]
    },
    {
     "data": {
      "text/plain": [
       "'Testing'"
      ]
     },
     "metadata": {},
     "output_type": "display_data"
    },
    {
     "data": {
      "text/plain": [
       "{'datatype': 'raw',\n",
       " 'mousename': 'm060',\n",
       " 'performance': 'Correct',\n",
       " 'direction': 'R',\n",
       " 'zscoreChannel': False,\n",
       " 'serial': True,\n",
       " 'metricSettings': None,\n",
       " 'dimOrdTrg': 'p',\n",
       " 'multiplexKey': None}"
      ]
     },
     "metadata": {},
     "output_type": "display_data"
    },
    {
     "name": "stdout",
     "output_type": "stream",
     "text": [
      "For Interval test passed\n",
      "For Phase test passed\n"
     ]
    },
    {
     "data": {
      "text/plain": [
       "'Testing'"
      ]
     },
     "metadata": {},
     "output_type": "display_data"
    },
    {
     "data": {
      "text/plain": [
       "{'datatype': 'raw',\n",
       " 'mousename': 'm060',\n",
       " 'performance': 'Correct',\n",
       " 'zscoreChannel': False,\n",
       " 'serial': True,\n",
       " 'metricSettings': None,\n",
       " 'dimOrdTrg': '',\n",
       " 'multiplexKey': None}"
      ]
     },
     "metadata": {},
     "output_type": "display_data"
    },
    {
     "name": "stdout",
     "output_type": "stream",
     "text": [
      "For Interval test passed\n",
      "For Phase test passed\n"
     ]
    },
    {
     "data": {
      "text/plain": [
       "'Testing'"
      ]
     },
     "metadata": {},
     "output_type": "display_data"
    },
    {
     "data": {
      "text/plain": [
       "{'datatype': 'raw',\n",
       " 'mousename': 'm060',\n",
       " 'performance': 'Correct',\n",
       " 'zscoreChannel': False,\n",
       " 'serial': True,\n",
       " 'metricSettings': None,\n",
       " 'dimOrdTrg': 'p',\n",
       " 'multiplexKey': None}"
      ]
     },
     "metadata": {},
     "output_type": "display_data"
    },
    {
     "name": "stdout",
     "output_type": "stream",
     "text": [
      "For Interval test passed\n",
      "For Phase test passed\n"
     ]
    },
    {
     "data": {
      "text/plain": [
       "'Testing'"
      ]
     },
     "metadata": {},
     "output_type": "display_data"
    },
    {
     "data": {
      "text/plain": [
       "{'datatype': 'raw',\n",
       " 'mousename': 'm060',\n",
       " 'performance': 'Mistake',\n",
       " 'direction': 'L',\n",
       " 'zscoreChannel': False,\n",
       " 'serial': True,\n",
       " 'metricSettings': None,\n",
       " 'dimOrdTrg': '',\n",
       " 'multiplexKey': None}"
      ]
     },
     "metadata": {},
     "output_type": "display_data"
    },
    {
     "name": "stdout",
     "output_type": "stream",
     "text": [
      "No behaviour found for {'performance': 'Mistake', 'direction': 'L', 'session': 'm060_20190606'} ; skipping\n",
      "No behaviour found for {'performance': 'Mistake', 'direction': 'L', 'session': 'm060_20190606'} ; skipping\n",
      "No behaviour found for {'performance': 'Mistake', 'direction': 'L', 'session': 'm060_20190606'} ; skipping\n",
      "No behaviour found for {'performance': 'Mistake', 'direction': 'L', 'session': 'm060_20190606'} ; skipping\n",
      "No behaviour found for {'performance': 'Mistake', 'direction': 'L', 'session': 'm060_20190606'} ; skipping\n",
      "No behaviour found for {'performance': 'Mistake', 'direction': 'L', 'session': 'm060_20190606'} ; skipping\n",
      "No behaviour found for {'performance': 'Mistake', 'direction': 'L', 'session': 'm060_20190606'} ; skipping\n",
      "No behaviour found for {'performance': 'Mistake', 'direction': 'L', 'session': 'm060_20190606'} ; skipping\n",
      "No behaviour found for {'performance': 'Mistake', 'direction': 'L', 'session': 'm060_20190606'} ; skipping\n",
      "No behaviour found for {'performance': 'Mistake', 'direction': 'L', 'session': 'm060_20190606'} ; skipping\n",
      "No behaviour found for {'performance': 'Mistake', 'direction': 'L', 'session': 'm060_20190606'} ; skipping\n",
      "No behaviour found for {'performance': 'Mistake', 'direction': 'L', 'session': 'm060_20190606'} ; skipping\n",
      "No behaviour found for {'performance': 'Mistake', 'direction': 'L', 'session': 'm060_20190606'} ; skipping\n",
      "No behaviour found for {'performance': 'Mistake', 'direction': 'L', 'session': 'm060_20190606'} ; skipping\n",
      "No behaviour found for {'performance': 'Mistake', 'direction': 'L', 'session': 'm060_20190606'} ; skipping\n",
      "No behaviour found for {'performance': 'Mistake', 'direction': 'L', 'session': 'm060_20190606'} ; skipping\n",
      "No behaviour found for {'performance': 'Mistake', 'direction': 'L', 'session': 'm060_20190606'} ; skipping\n",
      "No behaviour found for {'performance': 'Mistake', 'direction': 'L', 'session': 'm060_20190606'} ; skipping\n",
      "For Interval test passed\n",
      "For Phase test passed\n"
     ]
    },
    {
     "data": {
      "text/plain": [
       "'Testing'"
      ]
     },
     "metadata": {},
     "output_type": "display_data"
    },
    {
     "data": {
      "text/plain": [
       "{'datatype': 'raw',\n",
       " 'mousename': 'm060',\n",
       " 'performance': 'Mistake',\n",
       " 'direction': 'L',\n",
       " 'zscoreChannel': False,\n",
       " 'serial': True,\n",
       " 'metricSettings': None,\n",
       " 'dimOrdTrg': 'p',\n",
       " 'multiplexKey': None}"
      ]
     },
     "metadata": {},
     "output_type": "display_data"
    },
    {
     "name": "stdout",
     "output_type": "stream",
     "text": [
      "No behaviour found for {'performance': 'Mistake', 'direction': 'L', 'session': 'm060_20190606'} ; skipping\n",
      "No behaviour found for {'performance': 'Mistake', 'direction': 'L', 'session': 'm060_20190606'} ; skipping\n",
      "No behaviour found for {'performance': 'Mistake', 'direction': 'L', 'session': 'm060_20190606'} ; skipping\n",
      "No behaviour found for {'performance': 'Mistake', 'direction': 'L', 'session': 'm060_20190606'} ; skipping\n",
      "No behaviour found for {'performance': 'Mistake', 'direction': 'L', 'session': 'm060_20190606'} ; skipping\n",
      "No behaviour found for {'performance': 'Mistake', 'direction': 'L', 'session': 'm060_20190606'} ; skipping\n",
      "No behaviour found for {'performance': 'Mistake', 'direction': 'L', 'session': 'm060_20190606'} ; skipping\n",
      "No behaviour found for {'performance': 'Mistake', 'direction': 'L', 'session': 'm060_20190606'} ; skipping\n",
      "No behaviour found for {'performance': 'Mistake', 'direction': 'L', 'session': 'm060_20190606'} ; skipping\n",
      "No behaviour found for {'performance': 'Mistake', 'direction': 'L', 'session': 'm060_20190606'} ; skipping\n",
      "No behaviour found for {'performance': 'Mistake', 'direction': 'L', 'session': 'm060_20190606'} ; skipping\n",
      "No behaviour found for {'performance': 'Mistake', 'direction': 'L', 'session': 'm060_20190606'} ; skipping\n",
      "No behaviour found for {'performance': 'Mistake', 'direction': 'L', 'session': 'm060_20190606'} ; skipping\n",
      "No behaviour found for {'performance': 'Mistake', 'direction': 'L', 'session': 'm060_20190606'} ; skipping\n",
      "No behaviour found for {'performance': 'Mistake', 'direction': 'L', 'session': 'm060_20190606'} ; skipping\n",
      "No behaviour found for {'performance': 'Mistake', 'direction': 'L', 'session': 'm060_20190606'} ; skipping\n",
      "No behaviour found for {'performance': 'Mistake', 'direction': 'L', 'session': 'm060_20190606'} ; skipping\n",
      "No behaviour found for {'performance': 'Mistake', 'direction': 'L', 'session': 'm060_20190606'} ; skipping\n",
      "For Interval test passed\n",
      "For Phase test passed\n"
     ]
    },
    {
     "data": {
      "text/plain": [
       "'Testing'"
      ]
     },
     "metadata": {},
     "output_type": "display_data"
    },
    {
     "data": {
      "text/plain": [
       "{'datatype': 'raw',\n",
       " 'mousename': 'm060',\n",
       " 'performance': 'Mistake',\n",
       " 'direction': 'R',\n",
       " 'zscoreChannel': False,\n",
       " 'serial': True,\n",
       " 'metricSettings': None,\n",
       " 'dimOrdTrg': '',\n",
       " 'multiplexKey': None}"
      ]
     },
     "metadata": {},
     "output_type": "display_data"
    },
    {
     "name": "stdout",
     "output_type": "stream",
     "text": [
      "For Interval test passed\n",
      "For Phase test passed\n"
     ]
    },
    {
     "data": {
      "text/plain": [
       "'Testing'"
      ]
     },
     "metadata": {},
     "output_type": "display_data"
    },
    {
     "data": {
      "text/plain": [
       "{'datatype': 'raw',\n",
       " 'mousename': 'm060',\n",
       " 'performance': 'Mistake',\n",
       " 'direction': 'R',\n",
       " 'zscoreChannel': False,\n",
       " 'serial': True,\n",
       " 'metricSettings': None,\n",
       " 'dimOrdTrg': 'p',\n",
       " 'multiplexKey': None}"
      ]
     },
     "metadata": {},
     "output_type": "display_data"
    },
    {
     "name": "stdout",
     "output_type": "stream",
     "text": [
      "For Interval test passed\n",
      "For Phase test passed\n"
     ]
    },
    {
     "data": {
      "text/plain": [
       "'Testing'"
      ]
     },
     "metadata": {},
     "output_type": "display_data"
    },
    {
     "data": {
      "text/plain": [
       "{'datatype': 'raw',\n",
       " 'mousename': 'm060',\n",
       " 'performance': 'Mistake',\n",
       " 'zscoreChannel': False,\n",
       " 'serial': True,\n",
       " 'metricSettings': None,\n",
       " 'dimOrdTrg': '',\n",
       " 'multiplexKey': None}"
      ]
     },
     "metadata": {},
     "output_type": "display_data"
    },
    {
     "name": "stdout",
     "output_type": "stream",
     "text": [
      "For Interval test passed\n",
      "For Phase test passed\n"
     ]
    },
    {
     "data": {
      "text/plain": [
       "'Testing'"
      ]
     },
     "metadata": {},
     "output_type": "display_data"
    },
    {
     "data": {
      "text/plain": [
       "{'datatype': 'raw',\n",
       " 'mousename': 'm060',\n",
       " 'performance': 'Mistake',\n",
       " 'zscoreChannel': False,\n",
       " 'serial': True,\n",
       " 'metricSettings': None,\n",
       " 'dimOrdTrg': 'p',\n",
       " 'multiplexKey': None}"
      ]
     },
     "metadata": {},
     "output_type": "display_data"
    },
    {
     "name": "stdout",
     "output_type": "stream",
     "text": [
      "For Interval test passed\n",
      "For Phase test passed\n"
     ]
    },
    {
     "data": {
      "text/plain": [
       "'Testing'"
      ]
     },
     "metadata": {},
     "output_type": "display_data"
    },
    {
     "data": {
      "text/plain": [
       "{'datatype': 'deconv',\n",
       " 'mousename': 'm060',\n",
       " 'performance': 'Correct',\n",
       " 'direction': 'L',\n",
       " 'zscoreChannel': False,\n",
       " 'serial': True,\n",
       " 'metricSettings': None,\n",
       " 'dimOrdTrg': '',\n",
       " 'multiplexKey': None}"
      ]
     },
     "metadata": {},
     "output_type": "display_data"
    },
    {
     "name": "stdout",
     "output_type": "stream",
     "text": [
      "For Interval test passed\n",
      "For Phase test passed\n"
     ]
    },
    {
     "data": {
      "text/plain": [
       "'Testing'"
      ]
     },
     "metadata": {},
     "output_type": "display_data"
    },
    {
     "data": {
      "text/plain": [
       "{'datatype': 'deconv',\n",
       " 'mousename': 'm060',\n",
       " 'performance': 'Correct',\n",
       " 'direction': 'L',\n",
       " 'zscoreChannel': False,\n",
       " 'serial': True,\n",
       " 'metricSettings': None,\n",
       " 'dimOrdTrg': 'p',\n",
       " 'multiplexKey': None}"
      ]
     },
     "metadata": {},
     "output_type": "display_data"
    },
    {
     "name": "stdout",
     "output_type": "stream",
     "text": [
      "For Interval test passed\n",
      "For Phase test passed\n"
     ]
    },
    {
     "data": {
      "text/plain": [
       "'Testing'"
      ]
     },
     "metadata": {},
     "output_type": "display_data"
    },
    {
     "data": {
      "text/plain": [
       "{'datatype': 'deconv',\n",
       " 'mousename': 'm060',\n",
       " 'performance': 'Correct',\n",
       " 'direction': 'R',\n",
       " 'zscoreChannel': False,\n",
       " 'serial': True,\n",
       " 'metricSettings': None,\n",
       " 'dimOrdTrg': '',\n",
       " 'multiplexKey': None}"
      ]
     },
     "metadata": {},
     "output_type": "display_data"
    },
    {
     "name": "stdout",
     "output_type": "stream",
     "text": [
      "For Interval test passed\n",
      "For Phase test passed\n"
     ]
    },
    {
     "data": {
      "text/plain": [
       "'Testing'"
      ]
     },
     "metadata": {},
     "output_type": "display_data"
    },
    {
     "data": {
      "text/plain": [
       "{'datatype': 'deconv',\n",
       " 'mousename': 'm060',\n",
       " 'performance': 'Correct',\n",
       " 'direction': 'R',\n",
       " 'zscoreChannel': False,\n",
       " 'serial': True,\n",
       " 'metricSettings': None,\n",
       " 'dimOrdTrg': 'p',\n",
       " 'multiplexKey': None}"
      ]
     },
     "metadata": {},
     "output_type": "display_data"
    },
    {
     "name": "stdout",
     "output_type": "stream",
     "text": [
      "For Interval test passed\n",
      "For Phase test passed\n"
     ]
    },
    {
     "data": {
      "text/plain": [
       "'Testing'"
      ]
     },
     "metadata": {},
     "output_type": "display_data"
    },
    {
     "data": {
      "text/plain": [
       "{'datatype': 'deconv',\n",
       " 'mousename': 'm060',\n",
       " 'performance': 'Correct',\n",
       " 'zscoreChannel': False,\n",
       " 'serial': True,\n",
       " 'metricSettings': None,\n",
       " 'dimOrdTrg': '',\n",
       " 'multiplexKey': None}"
      ]
     },
     "metadata": {},
     "output_type": "display_data"
    },
    {
     "name": "stdout",
     "output_type": "stream",
     "text": [
      "For Interval test passed\n",
      "For Phase test passed\n"
     ]
    },
    {
     "data": {
      "text/plain": [
       "'Testing'"
      ]
     },
     "metadata": {},
     "output_type": "display_data"
    },
    {
     "data": {
      "text/plain": [
       "{'datatype': 'deconv',\n",
       " 'mousename': 'm060',\n",
       " 'performance': 'Correct',\n",
       " 'zscoreChannel': False,\n",
       " 'serial': True,\n",
       " 'metricSettings': None,\n",
       " 'dimOrdTrg': 'p',\n",
       " 'multiplexKey': None}"
      ]
     },
     "metadata": {},
     "output_type": "display_data"
    },
    {
     "name": "stdout",
     "output_type": "stream",
     "text": [
      "For Interval test passed\n",
      "For Phase test passed\n"
     ]
    },
    {
     "data": {
      "text/plain": [
       "'Testing'"
      ]
     },
     "metadata": {},
     "output_type": "display_data"
    },
    {
     "data": {
      "text/plain": [
       "{'datatype': 'deconv',\n",
       " 'mousename': 'm060',\n",
       " 'performance': 'Mistake',\n",
       " 'direction': 'L',\n",
       " 'zscoreChannel': False,\n",
       " 'serial': True,\n",
       " 'metricSettings': None,\n",
       " 'dimOrdTrg': '',\n",
       " 'multiplexKey': None}"
      ]
     },
     "metadata": {},
     "output_type": "display_data"
    },
    {
     "name": "stdout",
     "output_type": "stream",
     "text": [
      "No behaviour found for {'performance': 'Mistake', 'direction': 'L', 'session': 'm060_20190606'} ; skipping\n",
      "No behaviour found for {'performance': 'Mistake', 'direction': 'L', 'session': 'm060_20190606'} ; skipping\n",
      "No behaviour found for {'performance': 'Mistake', 'direction': 'L', 'session': 'm060_20190606'} ; skipping\n",
      "No behaviour found for {'performance': 'Mistake', 'direction': 'L', 'session': 'm060_20190606'} ; skipping\n",
      "No behaviour found for {'performance': 'Mistake', 'direction': 'L', 'session': 'm060_20190606'} ; skipping\n",
      "No behaviour found for {'performance': 'Mistake', 'direction': 'L', 'session': 'm060_20190606'} ; skipping\n",
      "No behaviour found for {'performance': 'Mistake', 'direction': 'L', 'session': 'm060_20190606'} ; skipping\n",
      "No behaviour found for {'performance': 'Mistake', 'direction': 'L', 'session': 'm060_20190606'} ; skipping\n",
      "No behaviour found for {'performance': 'Mistake', 'direction': 'L', 'session': 'm060_20190606'} ; skipping\n",
      "No behaviour found for {'performance': 'Mistake', 'direction': 'L', 'session': 'm060_20190606'} ; skipping\n",
      "No behaviour found for {'performance': 'Mistake', 'direction': 'L', 'session': 'm060_20190606'} ; skipping\n",
      "No behaviour found for {'performance': 'Mistake', 'direction': 'L', 'session': 'm060_20190606'} ; skipping\n",
      "No behaviour found for {'performance': 'Mistake', 'direction': 'L', 'session': 'm060_20190606'} ; skipping\n",
      "No behaviour found for {'performance': 'Mistake', 'direction': 'L', 'session': 'm060_20190606'} ; skipping\n",
      "No behaviour found for {'performance': 'Mistake', 'direction': 'L', 'session': 'm060_20190606'} ; skipping\n",
      "No behaviour found for {'performance': 'Mistake', 'direction': 'L', 'session': 'm060_20190606'} ; skipping\n",
      "No behaviour found for {'performance': 'Mistake', 'direction': 'L', 'session': 'm060_20190606'} ; skipping\n",
      "No behaviour found for {'performance': 'Mistake', 'direction': 'L', 'session': 'm060_20190606'} ; skipping\n",
      "For Interval test passed\n",
      "For Phase test passed\n"
     ]
    },
    {
     "data": {
      "text/plain": [
       "'Testing'"
      ]
     },
     "metadata": {},
     "output_type": "display_data"
    },
    {
     "data": {
      "text/plain": [
       "{'datatype': 'deconv',\n",
       " 'mousename': 'm060',\n",
       " 'performance': 'Mistake',\n",
       " 'direction': 'L',\n",
       " 'zscoreChannel': False,\n",
       " 'serial': True,\n",
       " 'metricSettings': None,\n",
       " 'dimOrdTrg': 'p',\n",
       " 'multiplexKey': None}"
      ]
     },
     "metadata": {},
     "output_type": "display_data"
    },
    {
     "name": "stdout",
     "output_type": "stream",
     "text": [
      "No behaviour found for {'performance': 'Mistake', 'direction': 'L', 'session': 'm060_20190606'} ; skipping\n",
      "No behaviour found for {'performance': 'Mistake', 'direction': 'L', 'session': 'm060_20190606'} ; skipping\n",
      "No behaviour found for {'performance': 'Mistake', 'direction': 'L', 'session': 'm060_20190606'} ; skipping\n",
      "No behaviour found for {'performance': 'Mistake', 'direction': 'L', 'session': 'm060_20190606'} ; skipping\n",
      "No behaviour found for {'performance': 'Mistake', 'direction': 'L', 'session': 'm060_20190606'} ; skipping\n",
      "No behaviour found for {'performance': 'Mistake', 'direction': 'L', 'session': 'm060_20190606'} ; skipping\n",
      "No behaviour found for {'performance': 'Mistake', 'direction': 'L', 'session': 'm060_20190606'} ; skipping\n",
      "No behaviour found for {'performance': 'Mistake', 'direction': 'L', 'session': 'm060_20190606'} ; skipping\n",
      "No behaviour found for {'performance': 'Mistake', 'direction': 'L', 'session': 'm060_20190606'} ; skipping\n",
      "No behaviour found for {'performance': 'Mistake', 'direction': 'L', 'session': 'm060_20190606'} ; skipping\n",
      "No behaviour found for {'performance': 'Mistake', 'direction': 'L', 'session': 'm060_20190606'} ; skipping\n",
      "No behaviour found for {'performance': 'Mistake', 'direction': 'L', 'session': 'm060_20190606'} ; skipping\n",
      "No behaviour found for {'performance': 'Mistake', 'direction': 'L', 'session': 'm060_20190606'} ; skipping\n",
      "No behaviour found for {'performance': 'Mistake', 'direction': 'L', 'session': 'm060_20190606'} ; skipping\n",
      "No behaviour found for {'performance': 'Mistake', 'direction': 'L', 'session': 'm060_20190606'} ; skipping\n",
      "No behaviour found for {'performance': 'Mistake', 'direction': 'L', 'session': 'm060_20190606'} ; skipping\n",
      "No behaviour found for {'performance': 'Mistake', 'direction': 'L', 'session': 'm060_20190606'} ; skipping\n",
      "No behaviour found for {'performance': 'Mistake', 'direction': 'L', 'session': 'm060_20190606'} ; skipping\n",
      "For Interval test passed\n",
      "For Phase test passed\n"
     ]
    },
    {
     "data": {
      "text/plain": [
       "'Testing'"
      ]
     },
     "metadata": {},
     "output_type": "display_data"
    },
    {
     "data": {
      "text/plain": [
       "{'datatype': 'deconv',\n",
       " 'mousename': 'm060',\n",
       " 'performance': 'Mistake',\n",
       " 'direction': 'R',\n",
       " 'zscoreChannel': False,\n",
       " 'serial': True,\n",
       " 'metricSettings': None,\n",
       " 'dimOrdTrg': '',\n",
       " 'multiplexKey': None}"
      ]
     },
     "metadata": {},
     "output_type": "display_data"
    },
    {
     "name": "stdout",
     "output_type": "stream",
     "text": [
      "For Interval test passed\n",
      "For Phase test passed\n"
     ]
    },
    {
     "data": {
      "text/plain": [
       "'Testing'"
      ]
     },
     "metadata": {},
     "output_type": "display_data"
    },
    {
     "data": {
      "text/plain": [
       "{'datatype': 'deconv',\n",
       " 'mousename': 'm060',\n",
       " 'performance': 'Mistake',\n",
       " 'direction': 'R',\n",
       " 'zscoreChannel': False,\n",
       " 'serial': True,\n",
       " 'metricSettings': None,\n",
       " 'dimOrdTrg': 'p',\n",
       " 'multiplexKey': None}"
      ]
     },
     "metadata": {},
     "output_type": "display_data"
    },
    {
     "name": "stdout",
     "output_type": "stream",
     "text": [
      "For Interval test passed\n",
      "For Phase test passed\n"
     ]
    },
    {
     "data": {
      "text/plain": [
       "'Testing'"
      ]
     },
     "metadata": {},
     "output_type": "display_data"
    },
    {
     "data": {
      "text/plain": [
       "{'datatype': 'deconv',\n",
       " 'mousename': 'm060',\n",
       " 'performance': 'Mistake',\n",
       " 'zscoreChannel': False,\n",
       " 'serial': True,\n",
       " 'metricSettings': None,\n",
       " 'dimOrdTrg': '',\n",
       " 'multiplexKey': None}"
      ]
     },
     "metadata": {},
     "output_type": "display_data"
    },
    {
     "name": "stdout",
     "output_type": "stream",
     "text": [
      "For Interval test passed\n",
      "For Phase test passed\n"
     ]
    },
    {
     "data": {
      "text/plain": [
       "'Testing'"
      ]
     },
     "metadata": {},
     "output_type": "display_data"
    },
    {
     "data": {
      "text/plain": [
       "{'datatype': 'deconv',\n",
       " 'mousename': 'm060',\n",
       " 'performance': 'Mistake',\n",
       " 'zscoreChannel': False,\n",
       " 'serial': True,\n",
       " 'metricSettings': None,\n",
       " 'dimOrdTrg': 'p',\n",
       " 'multiplexKey': None}"
      ]
     },
     "metadata": {},
     "output_type": "display_data"
    },
    {
     "name": "stdout",
     "output_type": "stream",
     "text": [
      "For Interval test passed\n",
      "For Phase test passed\n"
     ]
    },
    {
     "data": {
      "text/plain": [
       "'Testing'"
      ]
     },
     "metadata": {},
     "output_type": "display_data"
    },
    {
     "data": {
      "text/plain": [
       "{'datatype': 'raw',\n",
       " 'mousename': 'm067',\n",
       " 'performance': 'Correct',\n",
       " 'direction': 'L',\n",
       " 'zscoreChannel': False,\n",
       " 'serial': True,\n",
       " 'metricSettings': None,\n",
       " 'dimOrdTrg': '',\n",
       " 'multiplexKey': None}"
      ]
     },
     "metadata": {},
     "output_type": "display_data"
    },
    {
     "name": "stdout",
     "output_type": "stream",
     "text": [
      "For Interval test passed\n",
      "For Phase test passed\n"
     ]
    },
    {
     "data": {
      "text/plain": [
       "'Testing'"
      ]
     },
     "metadata": {},
     "output_type": "display_data"
    },
    {
     "data": {
      "text/plain": [
       "{'datatype': 'raw',\n",
       " 'mousename': 'm067',\n",
       " 'performance': 'Correct',\n",
       " 'direction': 'L',\n",
       " 'zscoreChannel': False,\n",
       " 'serial': True,\n",
       " 'metricSettings': None,\n",
       " 'dimOrdTrg': 'p',\n",
       " 'multiplexKey': None}"
      ]
     },
     "metadata": {},
     "output_type": "display_data"
    },
    {
     "name": "stdout",
     "output_type": "stream",
     "text": [
      "For Interval test passed\n",
      "For Phase test passed\n"
     ]
    },
    {
     "data": {
      "text/plain": [
       "'Testing'"
      ]
     },
     "metadata": {},
     "output_type": "display_data"
    },
    {
     "data": {
      "text/plain": [
       "{'datatype': 'raw',\n",
       " 'mousename': 'm067',\n",
       " 'performance': 'Correct',\n",
       " 'direction': 'R',\n",
       " 'zscoreChannel': False,\n",
       " 'serial': True,\n",
       " 'metricSettings': None,\n",
       " 'dimOrdTrg': '',\n",
       " 'multiplexKey': None}"
      ]
     },
     "metadata": {},
     "output_type": "display_data"
    },
    {
     "name": "stdout",
     "output_type": "stream",
     "text": [
      "For Interval test passed\n",
      "For Phase test passed\n"
     ]
    },
    {
     "data": {
      "text/plain": [
       "'Testing'"
      ]
     },
     "metadata": {},
     "output_type": "display_data"
    },
    {
     "data": {
      "text/plain": [
       "{'datatype': 'raw',\n",
       " 'mousename': 'm067',\n",
       " 'performance': 'Correct',\n",
       " 'direction': 'R',\n",
       " 'zscoreChannel': False,\n",
       " 'serial': True,\n",
       " 'metricSettings': None,\n",
       " 'dimOrdTrg': 'p',\n",
       " 'multiplexKey': None}"
      ]
     },
     "metadata": {},
     "output_type": "display_data"
    },
    {
     "name": "stdout",
     "output_type": "stream",
     "text": [
      "For Interval test passed\n",
      "For Phase test passed\n"
     ]
    },
    {
     "data": {
      "text/plain": [
       "'Testing'"
      ]
     },
     "metadata": {},
     "output_type": "display_data"
    },
    {
     "data": {
      "text/plain": [
       "{'datatype': 'raw',\n",
       " 'mousename': 'm067',\n",
       " 'performance': 'Correct',\n",
       " 'zscoreChannel': False,\n",
       " 'serial': True,\n",
       " 'metricSettings': None,\n",
       " 'dimOrdTrg': '',\n",
       " 'multiplexKey': None}"
      ]
     },
     "metadata": {},
     "output_type": "display_data"
    },
    {
     "name": "stdout",
     "output_type": "stream",
     "text": [
      "For Interval test passed\n",
      "For Phase test passed\n"
     ]
    },
    {
     "data": {
      "text/plain": [
       "'Testing'"
      ]
     },
     "metadata": {},
     "output_type": "display_data"
    },
    {
     "data": {
      "text/plain": [
       "{'datatype': 'raw',\n",
       " 'mousename': 'm067',\n",
       " 'performance': 'Correct',\n",
       " 'zscoreChannel': False,\n",
       " 'serial': True,\n",
       " 'metricSettings': None,\n",
       " 'dimOrdTrg': 'p',\n",
       " 'multiplexKey': None}"
      ]
     },
     "metadata": {},
     "output_type": "display_data"
    },
    {
     "name": "stdout",
     "output_type": "stream",
     "text": [
      "For Interval test passed\n",
      "For Phase test passed\n"
     ]
    },
    {
     "data": {
      "text/plain": [
       "'Testing'"
      ]
     },
     "metadata": {},
     "output_type": "display_data"
    },
    {
     "data": {
      "text/plain": [
       "{'datatype': 'raw',\n",
       " 'mousename': 'm067',\n",
       " 'performance': 'Mistake',\n",
       " 'direction': 'L',\n",
       " 'zscoreChannel': False,\n",
       " 'serial': True,\n",
       " 'metricSettings': None,\n",
       " 'dimOrdTrg': '',\n",
       " 'multiplexKey': None}"
      ]
     },
     "metadata": {},
     "output_type": "display_data"
    },
    {
     "name": "stdout",
     "output_type": "stream",
     "text": [
      "No behaviour found for {'performance': 'Mistake', 'direction': 'L', 'session': 'm067_20200203'} ; skipping\n",
      "No behaviour found for {'performance': 'Mistake', 'direction': 'L', 'session': 'm067_20200203'} ; skipping\n",
      "Warning:  m067_20200218 has zero interval 1 2\n",
      "No behaviour found for {'performance': 'Mistake', 'direction': 'L', 'session': 'm067_20200203'} ; skipping\n",
      "No behaviour found for {'performance': 'Mistake', 'direction': 'L', 'session': 'm067_20200203'} ; skipping\n",
      "No behaviour found for {'performance': 'Mistake', 'direction': 'L', 'session': 'm067_20200203'} ; skipping\n",
      "No behaviour found for {'performance': 'Mistake', 'direction': 'L', 'session': 'm067_20200203'} ; skipping\n",
      "No behaviour found for {'performance': 'Mistake', 'direction': 'L', 'session': 'm067_20200203'} ; skipping\n",
      "No behaviour found for {'performance': 'Mistake', 'direction': 'L', 'session': 'm067_20200203'} ; skipping\n",
      "No behaviour found for {'performance': 'Mistake', 'direction': 'L', 'session': 'm067_20200203'} ; skipping\n",
      "No behaviour found for {'performance': 'Mistake', 'direction': 'L', 'session': 'm067_20200203'} ; skipping\n",
      "No behaviour found for {'performance': 'Mistake', 'direction': 'L', 'session': 'm067_20200203'} ; skipping\n",
      "No behaviour found for {'performance': 'Mistake', 'direction': 'L', 'session': 'm067_20200203'} ; skipping\n",
      "No behaviour found for {'performance': 'Mistake', 'direction': 'L', 'session': 'm067_20200203'} ; skipping\n",
      "No behaviour found for {'performance': 'Mistake', 'direction': 'L', 'session': 'm067_20200203'} ; skipping\n",
      "No behaviour found for {'performance': 'Mistake', 'direction': 'L', 'session': 'm067_20200203'} ; skipping\n",
      "No behaviour found for {'performance': 'Mistake', 'direction': 'L', 'session': 'm067_20200203'} ; skipping\n",
      "No behaviour found for {'performance': 'Mistake', 'direction': 'L', 'session': 'm067_20200203'} ; skipping\n",
      "No behaviour found for {'performance': 'Mistake', 'direction': 'L', 'session': 'm067_20200203'} ; skipping\n",
      "For Interval test passed\n",
      "For Phase test passed\n"
     ]
    },
    {
     "data": {
      "text/plain": [
       "'Testing'"
      ]
     },
     "metadata": {},
     "output_type": "display_data"
    },
    {
     "data": {
      "text/plain": [
       "{'datatype': 'raw',\n",
       " 'mousename': 'm067',\n",
       " 'performance': 'Mistake',\n",
       " 'direction': 'L',\n",
       " 'zscoreChannel': False,\n",
       " 'serial': True,\n",
       " 'metricSettings': None,\n",
       " 'dimOrdTrg': 'p',\n",
       " 'multiplexKey': None}"
      ]
     },
     "metadata": {},
     "output_type": "display_data"
    },
    {
     "name": "stdout",
     "output_type": "stream",
     "text": [
      "No behaviour found for {'performance': 'Mistake', 'direction': 'L', 'session': 'm067_20200203'} ; skipping\n",
      "No behaviour found for {'performance': 'Mistake', 'direction': 'L', 'session': 'm067_20200203'} ; skipping\n",
      "Warning:  m067_20200218 has zero interval 1 2\n",
      "No behaviour found for {'performance': 'Mistake', 'direction': 'L', 'session': 'm067_20200203'} ; skipping\n",
      "No behaviour found for {'performance': 'Mistake', 'direction': 'L', 'session': 'm067_20200203'} ; skipping\n",
      "No behaviour found for {'performance': 'Mistake', 'direction': 'L', 'session': 'm067_20200203'} ; skipping\n",
      "No behaviour found for {'performance': 'Mistake', 'direction': 'L', 'session': 'm067_20200203'} ; skipping\n",
      "No behaviour found for {'performance': 'Mistake', 'direction': 'L', 'session': 'm067_20200203'} ; skipping\n",
      "No behaviour found for {'performance': 'Mistake', 'direction': 'L', 'session': 'm067_20200203'} ; skipping\n",
      "No behaviour found for {'performance': 'Mistake', 'direction': 'L', 'session': 'm067_20200203'} ; skipping\n",
      "No behaviour found for {'performance': 'Mistake', 'direction': 'L', 'session': 'm067_20200203'} ; skipping\n",
      "No behaviour found for {'performance': 'Mistake', 'direction': 'L', 'session': 'm067_20200203'} ; skipping\n",
      "No behaviour found for {'performance': 'Mistake', 'direction': 'L', 'session': 'm067_20200203'} ; skipping\n",
      "No behaviour found for {'performance': 'Mistake', 'direction': 'L', 'session': 'm067_20200203'} ; skipping\n",
      "No behaviour found for {'performance': 'Mistake', 'direction': 'L', 'session': 'm067_20200203'} ; skipping\n",
      "No behaviour found for {'performance': 'Mistake', 'direction': 'L', 'session': 'm067_20200203'} ; skipping\n",
      "No behaviour found for {'performance': 'Mistake', 'direction': 'L', 'session': 'm067_20200203'} ; skipping\n",
      "No behaviour found for {'performance': 'Mistake', 'direction': 'L', 'session': 'm067_20200203'} ; skipping\n",
      "No behaviour found for {'performance': 'Mistake', 'direction': 'L', 'session': 'm067_20200203'} ; skipping\n",
      "For Interval test passed\n",
      "For Phase test passed\n"
     ]
    },
    {
     "data": {
      "text/plain": [
       "'Testing'"
      ]
     },
     "metadata": {},
     "output_type": "display_data"
    },
    {
     "data": {
      "text/plain": [
       "{'datatype': 'raw',\n",
       " 'mousename': 'm067',\n",
       " 'performance': 'Mistake',\n",
       " 'direction': 'R',\n",
       " 'zscoreChannel': False,\n",
       " 'serial': True,\n",
       " 'metricSettings': None,\n",
       " 'dimOrdTrg': '',\n",
       " 'multiplexKey': None}"
      ]
     },
     "metadata": {},
     "output_type": "display_data"
    },
    {
     "name": "stdout",
     "output_type": "stream",
     "text": [
      "For Interval test passed\n",
      "For Phase test passed\n"
     ]
    },
    {
     "data": {
      "text/plain": [
       "'Testing'"
      ]
     },
     "metadata": {},
     "output_type": "display_data"
    },
    {
     "data": {
      "text/plain": [
       "{'datatype': 'raw',\n",
       " 'mousename': 'm067',\n",
       " 'performance': 'Mistake',\n",
       " 'direction': 'R',\n",
       " 'zscoreChannel': False,\n",
       " 'serial': True,\n",
       " 'metricSettings': None,\n",
       " 'dimOrdTrg': 'p',\n",
       " 'multiplexKey': None}"
      ]
     },
     "metadata": {},
     "output_type": "display_data"
    },
    {
     "name": "stdout",
     "output_type": "stream",
     "text": [
      "For Interval test passed\n",
      "For Phase test passed\n"
     ]
    },
    {
     "data": {
      "text/plain": [
       "'Testing'"
      ]
     },
     "metadata": {},
     "output_type": "display_data"
    },
    {
     "data": {
      "text/plain": [
       "{'datatype': 'raw',\n",
       " 'mousename': 'm067',\n",
       " 'performance': 'Mistake',\n",
       " 'zscoreChannel': False,\n",
       " 'serial': True,\n",
       " 'metricSettings': None,\n",
       " 'dimOrdTrg': '',\n",
       " 'multiplexKey': None}"
      ]
     },
     "metadata": {},
     "output_type": "display_data"
    },
    {
     "name": "stdout",
     "output_type": "stream",
     "text": [
      "Warning:  m067_20200218 has zero interval 1 2\n",
      "For Interval test passed\n",
      "For Phase test passed\n"
     ]
    },
    {
     "data": {
      "text/plain": [
       "'Testing'"
      ]
     },
     "metadata": {},
     "output_type": "display_data"
    },
    {
     "data": {
      "text/plain": [
       "{'datatype': 'raw',\n",
       " 'mousename': 'm067',\n",
       " 'performance': 'Mistake',\n",
       " 'zscoreChannel': False,\n",
       " 'serial': True,\n",
       " 'metricSettings': None,\n",
       " 'dimOrdTrg': 'p',\n",
       " 'multiplexKey': None}"
      ]
     },
     "metadata": {},
     "output_type": "display_data"
    },
    {
     "name": "stdout",
     "output_type": "stream",
     "text": [
      "Warning:  m067_20200218 has zero interval 1 2\n",
      "For Interval test passed\n",
      "For Phase test passed\n"
     ]
    },
    {
     "data": {
      "text/plain": [
       "'Testing'"
      ]
     },
     "metadata": {},
     "output_type": "display_data"
    },
    {
     "data": {
      "text/plain": [
       "{'datatype': 'deconv',\n",
       " 'mousename': 'm067',\n",
       " 'performance': 'Correct',\n",
       " 'direction': 'L',\n",
       " 'zscoreChannel': False,\n",
       " 'serial': True,\n",
       " 'metricSettings': None,\n",
       " 'dimOrdTrg': '',\n",
       " 'multiplexKey': None}"
      ]
     },
     "metadata": {},
     "output_type": "display_data"
    },
    {
     "name": "stdout",
     "output_type": "stream",
     "text": [
      "For Interval test passed\n",
      "For Phase test passed\n"
     ]
    },
    {
     "data": {
      "text/plain": [
       "'Testing'"
      ]
     },
     "metadata": {},
     "output_type": "display_data"
    },
    {
     "data": {
      "text/plain": [
       "{'datatype': 'deconv',\n",
       " 'mousename': 'm067',\n",
       " 'performance': 'Correct',\n",
       " 'direction': 'L',\n",
       " 'zscoreChannel': False,\n",
       " 'serial': True,\n",
       " 'metricSettings': None,\n",
       " 'dimOrdTrg': 'p',\n",
       " 'multiplexKey': None}"
      ]
     },
     "metadata": {},
     "output_type": "display_data"
    },
    {
     "name": "stdout",
     "output_type": "stream",
     "text": [
      "For Interval test passed\n",
      "For Phase test passed\n"
     ]
    },
    {
     "data": {
      "text/plain": [
       "'Testing'"
      ]
     },
     "metadata": {},
     "output_type": "display_data"
    },
    {
     "data": {
      "text/plain": [
       "{'datatype': 'deconv',\n",
       " 'mousename': 'm067',\n",
       " 'performance': 'Correct',\n",
       " 'direction': 'R',\n",
       " 'zscoreChannel': False,\n",
       " 'serial': True,\n",
       " 'metricSettings': None,\n",
       " 'dimOrdTrg': '',\n",
       " 'multiplexKey': None}"
      ]
     },
     "metadata": {},
     "output_type": "display_data"
    },
    {
     "name": "stdout",
     "output_type": "stream",
     "text": [
      "For Interval test passed\n",
      "For Phase test passed\n"
     ]
    },
    {
     "data": {
      "text/plain": [
       "'Testing'"
      ]
     },
     "metadata": {},
     "output_type": "display_data"
    },
    {
     "data": {
      "text/plain": [
       "{'datatype': 'deconv',\n",
       " 'mousename': 'm067',\n",
       " 'performance': 'Correct',\n",
       " 'direction': 'R',\n",
       " 'zscoreChannel': False,\n",
       " 'serial': True,\n",
       " 'metricSettings': None,\n",
       " 'dimOrdTrg': 'p',\n",
       " 'multiplexKey': None}"
      ]
     },
     "metadata": {},
     "output_type": "display_data"
    },
    {
     "name": "stdout",
     "output_type": "stream",
     "text": [
      "For Interval test passed\n",
      "For Phase test passed\n"
     ]
    },
    {
     "data": {
      "text/plain": [
       "'Testing'"
      ]
     },
     "metadata": {},
     "output_type": "display_data"
    },
    {
     "data": {
      "text/plain": [
       "{'datatype': 'deconv',\n",
       " 'mousename': 'm067',\n",
       " 'performance': 'Correct',\n",
       " 'zscoreChannel': False,\n",
       " 'serial': True,\n",
       " 'metricSettings': None,\n",
       " 'dimOrdTrg': '',\n",
       " 'multiplexKey': None}"
      ]
     },
     "metadata": {},
     "output_type": "display_data"
    },
    {
     "name": "stdout",
     "output_type": "stream",
     "text": [
      "For Interval test passed\n",
      "For Phase test passed\n"
     ]
    },
    {
     "data": {
      "text/plain": [
       "'Testing'"
      ]
     },
     "metadata": {},
     "output_type": "display_data"
    },
    {
     "data": {
      "text/plain": [
       "{'datatype': 'deconv',\n",
       " 'mousename': 'm067',\n",
       " 'performance': 'Correct',\n",
       " 'zscoreChannel': False,\n",
       " 'serial': True,\n",
       " 'metricSettings': None,\n",
       " 'dimOrdTrg': 'p',\n",
       " 'multiplexKey': None}"
      ]
     },
     "metadata": {},
     "output_type": "display_data"
    },
    {
     "name": "stdout",
     "output_type": "stream",
     "text": [
      "For Interval test passed\n",
      "For Phase test passed\n"
     ]
    },
    {
     "data": {
      "text/plain": [
       "'Testing'"
      ]
     },
     "metadata": {},
     "output_type": "display_data"
    },
    {
     "data": {
      "text/plain": [
       "{'datatype': 'deconv',\n",
       " 'mousename': 'm067',\n",
       " 'performance': 'Mistake',\n",
       " 'direction': 'L',\n",
       " 'zscoreChannel': False,\n",
       " 'serial': True,\n",
       " 'metricSettings': None,\n",
       " 'dimOrdTrg': '',\n",
       " 'multiplexKey': None}"
      ]
     },
     "metadata": {},
     "output_type": "display_data"
    },
    {
     "name": "stdout",
     "output_type": "stream",
     "text": [
      "No behaviour found for {'performance': 'Mistake', 'direction': 'L', 'session': 'm067_20200203'} ; skipping\n",
      "No behaviour found for {'performance': 'Mistake', 'direction': 'L', 'session': 'm067_20200203'} ; skipping\n",
      "Warning:  m067_20200218 has zero interval 1 2\n",
      "No behaviour found for {'performance': 'Mistake', 'direction': 'L', 'session': 'm067_20200203'} ; skipping\n",
      "No behaviour found for {'performance': 'Mistake', 'direction': 'L', 'session': 'm067_20200203'} ; skipping\n",
      "No behaviour found for {'performance': 'Mistake', 'direction': 'L', 'session': 'm067_20200203'} ; skipping\n",
      "No behaviour found for {'performance': 'Mistake', 'direction': 'L', 'session': 'm067_20200203'} ; skipping\n",
      "No behaviour found for {'performance': 'Mistake', 'direction': 'L', 'session': 'm067_20200203'} ; skipping\n",
      "No behaviour found for {'performance': 'Mistake', 'direction': 'L', 'session': 'm067_20200203'} ; skipping\n",
      "No behaviour found for {'performance': 'Mistake', 'direction': 'L', 'session': 'm067_20200203'} ; skipping\n",
      "No behaviour found for {'performance': 'Mistake', 'direction': 'L', 'session': 'm067_20200203'} ; skipping\n",
      "No behaviour found for {'performance': 'Mistake', 'direction': 'L', 'session': 'm067_20200203'} ; skipping\n",
      "No behaviour found for {'performance': 'Mistake', 'direction': 'L', 'session': 'm067_20200203'} ; skipping\n",
      "No behaviour found for {'performance': 'Mistake', 'direction': 'L', 'session': 'm067_20200203'} ; skipping\n",
      "No behaviour found for {'performance': 'Mistake', 'direction': 'L', 'session': 'm067_20200203'} ; skipping\n",
      "No behaviour found for {'performance': 'Mistake', 'direction': 'L', 'session': 'm067_20200203'} ; skipping\n",
      "No behaviour found for {'performance': 'Mistake', 'direction': 'L', 'session': 'm067_20200203'} ; skipping\n",
      "No behaviour found for {'performance': 'Mistake', 'direction': 'L', 'session': 'm067_20200203'} ; skipping\n",
      "No behaviour found for {'performance': 'Mistake', 'direction': 'L', 'session': 'm067_20200203'} ; skipping\n",
      "For Interval test passed\n",
      "For Phase test passed\n"
     ]
    },
    {
     "data": {
      "text/plain": [
       "'Testing'"
      ]
     },
     "metadata": {},
     "output_type": "display_data"
    },
    {
     "data": {
      "text/plain": [
       "{'datatype': 'deconv',\n",
       " 'mousename': 'm067',\n",
       " 'performance': 'Mistake',\n",
       " 'direction': 'L',\n",
       " 'zscoreChannel': False,\n",
       " 'serial': True,\n",
       " 'metricSettings': None,\n",
       " 'dimOrdTrg': 'p',\n",
       " 'multiplexKey': None}"
      ]
     },
     "metadata": {},
     "output_type": "display_data"
    },
    {
     "name": "stdout",
     "output_type": "stream",
     "text": [
      "No behaviour found for {'performance': 'Mistake', 'direction': 'L', 'session': 'm067_20200203'} ; skipping\n",
      "No behaviour found for {'performance': 'Mistake', 'direction': 'L', 'session': 'm067_20200203'} ; skipping\n",
      "Warning:  m067_20200218 has zero interval 1 2\n",
      "No behaviour found for {'performance': 'Mistake', 'direction': 'L', 'session': 'm067_20200203'} ; skipping\n",
      "No behaviour found for {'performance': 'Mistake', 'direction': 'L', 'session': 'm067_20200203'} ; skipping\n",
      "No behaviour found for {'performance': 'Mistake', 'direction': 'L', 'session': 'm067_20200203'} ; skipping\n",
      "No behaviour found for {'performance': 'Mistake', 'direction': 'L', 'session': 'm067_20200203'} ; skipping\n",
      "No behaviour found for {'performance': 'Mistake', 'direction': 'L', 'session': 'm067_20200203'} ; skipping\n",
      "No behaviour found for {'performance': 'Mistake', 'direction': 'L', 'session': 'm067_20200203'} ; skipping\n",
      "No behaviour found for {'performance': 'Mistake', 'direction': 'L', 'session': 'm067_20200203'} ; skipping\n",
      "No behaviour found for {'performance': 'Mistake', 'direction': 'L', 'session': 'm067_20200203'} ; skipping\n",
      "No behaviour found for {'performance': 'Mistake', 'direction': 'L', 'session': 'm067_20200203'} ; skipping\n",
      "No behaviour found for {'performance': 'Mistake', 'direction': 'L', 'session': 'm067_20200203'} ; skipping\n",
      "No behaviour found for {'performance': 'Mistake', 'direction': 'L', 'session': 'm067_20200203'} ; skipping\n",
      "No behaviour found for {'performance': 'Mistake', 'direction': 'L', 'session': 'm067_20200203'} ; skipping\n",
      "No behaviour found for {'performance': 'Mistake', 'direction': 'L', 'session': 'm067_20200203'} ; skipping\n",
      "No behaviour found for {'performance': 'Mistake', 'direction': 'L', 'session': 'm067_20200203'} ; skipping\n",
      "No behaviour found for {'performance': 'Mistake', 'direction': 'L', 'session': 'm067_20200203'} ; skipping\n",
      "No behaviour found for {'performance': 'Mistake', 'direction': 'L', 'session': 'm067_20200203'} ; skipping\n",
      "For Interval test passed\n",
      "For Phase test passed\n"
     ]
    },
    {
     "data": {
      "text/plain": [
       "'Testing'"
      ]
     },
     "metadata": {},
     "output_type": "display_data"
    },
    {
     "data": {
      "text/plain": [
       "{'datatype': 'deconv',\n",
       " 'mousename': 'm067',\n",
       " 'performance': 'Mistake',\n",
       " 'direction': 'R',\n",
       " 'zscoreChannel': False,\n",
       " 'serial': True,\n",
       " 'metricSettings': None,\n",
       " 'dimOrdTrg': '',\n",
       " 'multiplexKey': None}"
      ]
     },
     "metadata": {},
     "output_type": "display_data"
    },
    {
     "name": "stdout",
     "output_type": "stream",
     "text": [
      "For Interval test passed\n",
      "For Phase test passed\n"
     ]
    },
    {
     "data": {
      "text/plain": [
       "'Testing'"
      ]
     },
     "metadata": {},
     "output_type": "display_data"
    },
    {
     "data": {
      "text/plain": [
       "{'datatype': 'deconv',\n",
       " 'mousename': 'm067',\n",
       " 'performance': 'Mistake',\n",
       " 'direction': 'R',\n",
       " 'zscoreChannel': False,\n",
       " 'serial': True,\n",
       " 'metricSettings': None,\n",
       " 'dimOrdTrg': 'p',\n",
       " 'multiplexKey': None}"
      ]
     },
     "metadata": {},
     "output_type": "display_data"
    },
    {
     "name": "stdout",
     "output_type": "stream",
     "text": [
      "For Interval test passed\n",
      "For Phase test passed\n"
     ]
    },
    {
     "data": {
      "text/plain": [
       "'Testing'"
      ]
     },
     "metadata": {},
     "output_type": "display_data"
    },
    {
     "data": {
      "text/plain": [
       "{'datatype': 'deconv',\n",
       " 'mousename': 'm067',\n",
       " 'performance': 'Mistake',\n",
       " 'zscoreChannel': False,\n",
       " 'serial': True,\n",
       " 'metricSettings': None,\n",
       " 'dimOrdTrg': '',\n",
       " 'multiplexKey': None}"
      ]
     },
     "metadata": {},
     "output_type": "display_data"
    },
    {
     "name": "stdout",
     "output_type": "stream",
     "text": [
      "Warning:  m067_20200218 has zero interval 1 2\n",
      "For Interval test passed\n",
      "For Phase test passed\n"
     ]
    },
    {
     "data": {
      "text/plain": [
       "'Testing'"
      ]
     },
     "metadata": {},
     "output_type": "display_data"
    },
    {
     "data": {
      "text/plain": [
       "{'datatype': 'deconv',\n",
       " 'mousename': 'm067',\n",
       " 'performance': 'Mistake',\n",
       " 'zscoreChannel': False,\n",
       " 'serial': True,\n",
       " 'metricSettings': None,\n",
       " 'dimOrdTrg': 'p',\n",
       " 'multiplexKey': None}"
      ]
     },
     "metadata": {},
     "output_type": "display_data"
    },
    {
     "name": "stdout",
     "output_type": "stream",
     "text": [
      "Warning:  m067_20200218 has zero interval 1 2\n",
      "For Interval test passed\n",
      "For Phase test passed\n"
     ]
    },
    {
     "data": {
      "text/plain": [
       "'Testing'"
      ]
     },
     "metadata": {},
     "output_type": "display_data"
    },
    {
     "data": {
      "text/plain": [
       "{'datatype': 'raw',\n",
       " 'mousename': 'm068',\n",
       " 'performance': 'Correct',\n",
       " 'direction': 'L',\n",
       " 'zscoreChannel': False,\n",
       " 'serial': True,\n",
       " 'metricSettings': None,\n",
       " 'dimOrdTrg': '',\n",
       " 'multiplexKey': None}"
      ]
     },
     "metadata": {},
     "output_type": "display_data"
    },
    {
     "name": "stdout",
     "output_type": "stream",
     "text": [
      "For Interval test passed\n",
      "For Phase test passed\n"
     ]
    },
    {
     "data": {
      "text/plain": [
       "'Testing'"
      ]
     },
     "metadata": {},
     "output_type": "display_data"
    },
    {
     "data": {
      "text/plain": [
       "{'datatype': 'raw',\n",
       " 'mousename': 'm068',\n",
       " 'performance': 'Correct',\n",
       " 'direction': 'L',\n",
       " 'zscoreChannel': False,\n",
       " 'serial': True,\n",
       " 'metricSettings': None,\n",
       " 'dimOrdTrg': 'p',\n",
       " 'multiplexKey': None}"
      ]
     },
     "metadata": {},
     "output_type": "display_data"
    },
    {
     "name": "stdout",
     "output_type": "stream",
     "text": [
      "For Interval test passed\n",
      "For Phase test passed\n"
     ]
    },
    {
     "data": {
      "text/plain": [
       "'Testing'"
      ]
     },
     "metadata": {},
     "output_type": "display_data"
    },
    {
     "data": {
      "text/plain": [
       "{'datatype': 'raw',\n",
       " 'mousename': 'm068',\n",
       " 'performance': 'Correct',\n",
       " 'direction': 'R',\n",
       " 'zscoreChannel': False,\n",
       " 'serial': True,\n",
       " 'metricSettings': None,\n",
       " 'dimOrdTrg': '',\n",
       " 'multiplexKey': None}"
      ]
     },
     "metadata": {},
     "output_type": "display_data"
    },
    {
     "name": "stdout",
     "output_type": "stream",
     "text": [
      "For Interval test passed\n",
      "For Phase test passed\n"
     ]
    },
    {
     "data": {
      "text/plain": [
       "'Testing'"
      ]
     },
     "metadata": {},
     "output_type": "display_data"
    },
    {
     "data": {
      "text/plain": [
       "{'datatype': 'raw',\n",
       " 'mousename': 'm068',\n",
       " 'performance': 'Correct',\n",
       " 'direction': 'R',\n",
       " 'zscoreChannel': False,\n",
       " 'serial': True,\n",
       " 'metricSettings': None,\n",
       " 'dimOrdTrg': 'p',\n",
       " 'multiplexKey': None}"
      ]
     },
     "metadata": {},
     "output_type": "display_data"
    },
    {
     "name": "stdout",
     "output_type": "stream",
     "text": [
      "For Interval test passed\n",
      "For Phase test passed\n"
     ]
    },
    {
     "data": {
      "text/plain": [
       "'Testing'"
      ]
     },
     "metadata": {},
     "output_type": "display_data"
    },
    {
     "data": {
      "text/plain": [
       "{'datatype': 'raw',\n",
       " 'mousename': 'm068',\n",
       " 'performance': 'Correct',\n",
       " 'zscoreChannel': False,\n",
       " 'serial': True,\n",
       " 'metricSettings': None,\n",
       " 'dimOrdTrg': '',\n",
       " 'multiplexKey': None}"
      ]
     },
     "metadata": {},
     "output_type": "display_data"
    },
    {
     "name": "stdout",
     "output_type": "stream",
     "text": [
      "For Interval test passed\n",
      "For Phase test passed\n"
     ]
    },
    {
     "data": {
      "text/plain": [
       "'Testing'"
      ]
     },
     "metadata": {},
     "output_type": "display_data"
    },
    {
     "data": {
      "text/plain": [
       "{'datatype': 'raw',\n",
       " 'mousename': 'm068',\n",
       " 'performance': 'Correct',\n",
       " 'zscoreChannel': False,\n",
       " 'serial': True,\n",
       " 'metricSettings': None,\n",
       " 'dimOrdTrg': 'p',\n",
       " 'multiplexKey': None}"
      ]
     },
     "metadata": {},
     "output_type": "display_data"
    },
    {
     "name": "stdout",
     "output_type": "stream",
     "text": [
      "For Interval test passed\n",
      "For Phase test passed\n"
     ]
    },
    {
     "data": {
      "text/plain": [
       "'Testing'"
      ]
     },
     "metadata": {},
     "output_type": "display_data"
    },
    {
     "data": {
      "text/plain": [
       "{'datatype': 'raw',\n",
       " 'mousename': 'm068',\n",
       " 'performance': 'Mistake',\n",
       " 'direction': 'L',\n",
       " 'zscoreChannel': False,\n",
       " 'serial': True,\n",
       " 'metricSettings': None,\n",
       " 'dimOrdTrg': '',\n",
       " 'multiplexKey': None}"
      ]
     },
     "metadata": {},
     "output_type": "display_data"
    },
    {
     "name": "stdout",
     "output_type": "stream",
     "text": [
      "For Interval test passed\n",
      "For Phase test passed\n"
     ]
    },
    {
     "data": {
      "text/plain": [
       "'Testing'"
      ]
     },
     "metadata": {},
     "output_type": "display_data"
    },
    {
     "data": {
      "text/plain": [
       "{'datatype': 'raw',\n",
       " 'mousename': 'm068',\n",
       " 'performance': 'Mistake',\n",
       " 'direction': 'L',\n",
       " 'zscoreChannel': False,\n",
       " 'serial': True,\n",
       " 'metricSettings': None,\n",
       " 'dimOrdTrg': 'p',\n",
       " 'multiplexKey': None}"
      ]
     },
     "metadata": {},
     "output_type": "display_data"
    },
    {
     "name": "stdout",
     "output_type": "stream",
     "text": [
      "For Interval test passed\n",
      "For Phase test passed\n"
     ]
    },
    {
     "data": {
      "text/plain": [
       "'Testing'"
      ]
     },
     "metadata": {},
     "output_type": "display_data"
    },
    {
     "data": {
      "text/plain": [
       "{'datatype': 'raw',\n",
       " 'mousename': 'm068',\n",
       " 'performance': 'Mistake',\n",
       " 'direction': 'R',\n",
       " 'zscoreChannel': False,\n",
       " 'serial': True,\n",
       " 'metricSettings': None,\n",
       " 'dimOrdTrg': '',\n",
       " 'multiplexKey': None}"
      ]
     },
     "metadata": {},
     "output_type": "display_data"
    },
    {
     "name": "stdout",
     "output_type": "stream",
     "text": [
      "For Interval test passed\n",
      "For Phase test passed\n"
     ]
    },
    {
     "data": {
      "text/plain": [
       "'Testing'"
      ]
     },
     "metadata": {},
     "output_type": "display_data"
    },
    {
     "data": {
      "text/plain": [
       "{'datatype': 'raw',\n",
       " 'mousename': 'm068',\n",
       " 'performance': 'Mistake',\n",
       " 'direction': 'R',\n",
       " 'zscoreChannel': False,\n",
       " 'serial': True,\n",
       " 'metricSettings': None,\n",
       " 'dimOrdTrg': 'p',\n",
       " 'multiplexKey': None}"
      ]
     },
     "metadata": {},
     "output_type": "display_data"
    },
    {
     "name": "stdout",
     "output_type": "stream",
     "text": [
      "For Interval test passed\n",
      "For Phase test passed\n"
     ]
    },
    {
     "data": {
      "text/plain": [
       "'Testing'"
      ]
     },
     "metadata": {},
     "output_type": "display_data"
    },
    {
     "data": {
      "text/plain": [
       "{'datatype': 'raw',\n",
       " 'mousename': 'm068',\n",
       " 'performance': 'Mistake',\n",
       " 'zscoreChannel': False,\n",
       " 'serial': True,\n",
       " 'metricSettings': None,\n",
       " 'dimOrdTrg': '',\n",
       " 'multiplexKey': None}"
      ]
     },
     "metadata": {},
     "output_type": "display_data"
    },
    {
     "name": "stdout",
     "output_type": "stream",
     "text": [
      "For Interval test passed\n",
      "For Phase test passed\n"
     ]
    },
    {
     "data": {
      "text/plain": [
       "'Testing'"
      ]
     },
     "metadata": {},
     "output_type": "display_data"
    },
    {
     "data": {
      "text/plain": [
       "{'datatype': 'raw',\n",
       " 'mousename': 'm068',\n",
       " 'performance': 'Mistake',\n",
       " 'zscoreChannel': False,\n",
       " 'serial': True,\n",
       " 'metricSettings': None,\n",
       " 'dimOrdTrg': 'p',\n",
       " 'multiplexKey': None}"
      ]
     },
     "metadata": {},
     "output_type": "display_data"
    },
    {
     "name": "stdout",
     "output_type": "stream",
     "text": [
      "For Interval test passed\n",
      "For Phase test passed\n"
     ]
    },
    {
     "data": {
      "text/plain": [
       "'Testing'"
      ]
     },
     "metadata": {},
     "output_type": "display_data"
    },
    {
     "data": {
      "text/plain": [
       "{'datatype': 'deconv',\n",
       " 'mousename': 'm068',\n",
       " 'performance': 'Correct',\n",
       " 'direction': 'L',\n",
       " 'zscoreChannel': False,\n",
       " 'serial': True,\n",
       " 'metricSettings': None,\n",
       " 'dimOrdTrg': '',\n",
       " 'multiplexKey': None}"
      ]
     },
     "metadata": {},
     "output_type": "display_data"
    },
    {
     "name": "stdout",
     "output_type": "stream",
     "text": [
      "For Interval test passed\n",
      "For Phase test passed\n"
     ]
    },
    {
     "data": {
      "text/plain": [
       "'Testing'"
      ]
     },
     "metadata": {},
     "output_type": "display_data"
    },
    {
     "data": {
      "text/plain": [
       "{'datatype': 'deconv',\n",
       " 'mousename': 'm068',\n",
       " 'performance': 'Correct',\n",
       " 'direction': 'L',\n",
       " 'zscoreChannel': False,\n",
       " 'serial': True,\n",
       " 'metricSettings': None,\n",
       " 'dimOrdTrg': 'p',\n",
       " 'multiplexKey': None}"
      ]
     },
     "metadata": {},
     "output_type": "display_data"
    },
    {
     "name": "stdout",
     "output_type": "stream",
     "text": [
      "For Interval test passed\n",
      "For Phase test passed\n"
     ]
    },
    {
     "data": {
      "text/plain": [
       "'Testing'"
      ]
     },
     "metadata": {},
     "output_type": "display_data"
    },
    {
     "data": {
      "text/plain": [
       "{'datatype': 'deconv',\n",
       " 'mousename': 'm068',\n",
       " 'performance': 'Correct',\n",
       " 'direction': 'R',\n",
       " 'zscoreChannel': False,\n",
       " 'serial': True,\n",
       " 'metricSettings': None,\n",
       " 'dimOrdTrg': '',\n",
       " 'multiplexKey': None}"
      ]
     },
     "metadata": {},
     "output_type": "display_data"
    },
    {
     "name": "stdout",
     "output_type": "stream",
     "text": [
      "For Interval test passed\n",
      "For Phase test passed\n"
     ]
    },
    {
     "data": {
      "text/plain": [
       "'Testing'"
      ]
     },
     "metadata": {},
     "output_type": "display_data"
    },
    {
     "data": {
      "text/plain": [
       "{'datatype': 'deconv',\n",
       " 'mousename': 'm068',\n",
       " 'performance': 'Correct',\n",
       " 'direction': 'R',\n",
       " 'zscoreChannel': False,\n",
       " 'serial': True,\n",
       " 'metricSettings': None,\n",
       " 'dimOrdTrg': 'p',\n",
       " 'multiplexKey': None}"
      ]
     },
     "metadata": {},
     "output_type": "display_data"
    },
    {
     "name": "stdout",
     "output_type": "stream",
     "text": [
      "For Interval test passed\n",
      "For Phase test passed\n"
     ]
    },
    {
     "data": {
      "text/plain": [
       "'Testing'"
      ]
     },
     "metadata": {},
     "output_type": "display_data"
    },
    {
     "data": {
      "text/plain": [
       "{'datatype': 'deconv',\n",
       " 'mousename': 'm068',\n",
       " 'performance': 'Correct',\n",
       " 'zscoreChannel': False,\n",
       " 'serial': True,\n",
       " 'metricSettings': None,\n",
       " 'dimOrdTrg': '',\n",
       " 'multiplexKey': None}"
      ]
     },
     "metadata": {},
     "output_type": "display_data"
    },
    {
     "name": "stdout",
     "output_type": "stream",
     "text": [
      "For Interval test passed\n",
      "For Phase test passed\n"
     ]
    },
    {
     "data": {
      "text/plain": [
       "'Testing'"
      ]
     },
     "metadata": {},
     "output_type": "display_data"
    },
    {
     "data": {
      "text/plain": [
       "{'datatype': 'deconv',\n",
       " 'mousename': 'm068',\n",
       " 'performance': 'Correct',\n",
       " 'zscoreChannel': False,\n",
       " 'serial': True,\n",
       " 'metricSettings': None,\n",
       " 'dimOrdTrg': 'p',\n",
       " 'multiplexKey': None}"
      ]
     },
     "metadata": {},
     "output_type": "display_data"
    },
    {
     "name": "stdout",
     "output_type": "stream",
     "text": [
      "For Interval test passed\n",
      "For Phase test passed\n"
     ]
    },
    {
     "data": {
      "text/plain": [
       "'Testing'"
      ]
     },
     "metadata": {},
     "output_type": "display_data"
    },
    {
     "data": {
      "text/plain": [
       "{'datatype': 'deconv',\n",
       " 'mousename': 'm068',\n",
       " 'performance': 'Mistake',\n",
       " 'direction': 'L',\n",
       " 'zscoreChannel': False,\n",
       " 'serial': True,\n",
       " 'metricSettings': None,\n",
       " 'dimOrdTrg': '',\n",
       " 'multiplexKey': None}"
      ]
     },
     "metadata": {},
     "output_type": "display_data"
    },
    {
     "name": "stdout",
     "output_type": "stream",
     "text": [
      "For Interval test passed\n",
      "For Phase test passed\n"
     ]
    },
    {
     "data": {
      "text/plain": [
       "'Testing'"
      ]
     },
     "metadata": {},
     "output_type": "display_data"
    },
    {
     "data": {
      "text/plain": [
       "{'datatype': 'deconv',\n",
       " 'mousename': 'm068',\n",
       " 'performance': 'Mistake',\n",
       " 'direction': 'L',\n",
       " 'zscoreChannel': False,\n",
       " 'serial': True,\n",
       " 'metricSettings': None,\n",
       " 'dimOrdTrg': 'p',\n",
       " 'multiplexKey': None}"
      ]
     },
     "metadata": {},
     "output_type": "display_data"
    },
    {
     "name": "stdout",
     "output_type": "stream",
     "text": [
      "For Interval test passed\n",
      "For Phase test passed\n"
     ]
    },
    {
     "data": {
      "text/plain": [
       "'Testing'"
      ]
     },
     "metadata": {},
     "output_type": "display_data"
    },
    {
     "data": {
      "text/plain": [
       "{'datatype': 'deconv',\n",
       " 'mousename': 'm068',\n",
       " 'performance': 'Mistake',\n",
       " 'direction': 'R',\n",
       " 'zscoreChannel': False,\n",
       " 'serial': True,\n",
       " 'metricSettings': None,\n",
       " 'dimOrdTrg': '',\n",
       " 'multiplexKey': None}"
      ]
     },
     "metadata": {},
     "output_type": "display_data"
    },
    {
     "name": "stdout",
     "output_type": "stream",
     "text": [
      "For Interval test passed\n",
      "For Phase test passed\n"
     ]
    },
    {
     "data": {
      "text/plain": [
       "'Testing'"
      ]
     },
     "metadata": {},
     "output_type": "display_data"
    },
    {
     "data": {
      "text/plain": [
       "{'datatype': 'deconv',\n",
       " 'mousename': 'm068',\n",
       " 'performance': 'Mistake',\n",
       " 'direction': 'R',\n",
       " 'zscoreChannel': False,\n",
       " 'serial': True,\n",
       " 'metricSettings': None,\n",
       " 'dimOrdTrg': 'p',\n",
       " 'multiplexKey': None}"
      ]
     },
     "metadata": {},
     "output_type": "display_data"
    },
    {
     "name": "stdout",
     "output_type": "stream",
     "text": [
      "For Interval test passed\n",
      "For Phase test passed\n"
     ]
    },
    {
     "data": {
      "text/plain": [
       "'Testing'"
      ]
     },
     "metadata": {},
     "output_type": "display_data"
    },
    {
     "data": {
      "text/plain": [
       "{'datatype': 'deconv',\n",
       " 'mousename': 'm068',\n",
       " 'performance': 'Mistake',\n",
       " 'zscoreChannel': False,\n",
       " 'serial': True,\n",
       " 'metricSettings': None,\n",
       " 'dimOrdTrg': '',\n",
       " 'multiplexKey': None}"
      ]
     },
     "metadata": {},
     "output_type": "display_data"
    },
    {
     "name": "stdout",
     "output_type": "stream",
     "text": [
      "For Interval test passed\n",
      "For Phase test passed\n"
     ]
    },
    {
     "data": {
      "text/plain": [
       "'Testing'"
      ]
     },
     "metadata": {},
     "output_type": "display_data"
    },
    {
     "data": {
      "text/plain": [
       "{'datatype': 'deconv',\n",
       " 'mousename': 'm068',\n",
       " 'performance': 'Mistake',\n",
       " 'zscoreChannel': False,\n",
       " 'serial': True,\n",
       " 'metricSettings': None,\n",
       " 'dimOrdTrg': 'p',\n",
       " 'multiplexKey': None}"
      ]
     },
     "metadata": {},
     "output_type": "display_data"
    },
    {
     "name": "stdout",
     "output_type": "stream",
     "text": [
      "For Interval test passed\n",
      "For Phase test passed\n"
     ]
    },
    {
     "data": {
      "text/plain": [
       "'Testing'"
      ]
     },
     "metadata": {},
     "output_type": "display_data"
    },
    {
     "data": {
      "text/plain": [
       "{'datatype': 'raw',\n",
       " 'mousename': 'm066',\n",
       " 'performance': 'Correct',\n",
       " 'direction': 'L',\n",
       " 'zscoreChannel': False,\n",
       " 'serial': True,\n",
       " 'metricSettings': None,\n",
       " 'dimOrdTrg': '',\n",
       " 'multiplexKey': None}"
      ]
     },
     "metadata": {},
     "output_type": "display_data"
    },
    {
     "name": "stdout",
     "output_type": "stream",
     "text": [
      "Warning:  m066_20191206 has zero interval 8 9\n",
      "For Interval test passed\n",
      "For Phase test passed\n"
     ]
    },
    {
     "data": {
      "text/plain": [
       "'Testing'"
      ]
     },
     "metadata": {},
     "output_type": "display_data"
    },
    {
     "data": {
      "text/plain": [
       "{'datatype': 'raw',\n",
       " 'mousename': 'm066',\n",
       " 'performance': 'Correct',\n",
       " 'direction': 'L',\n",
       " 'zscoreChannel': False,\n",
       " 'serial': True,\n",
       " 'metricSettings': None,\n",
       " 'dimOrdTrg': 'p',\n",
       " 'multiplexKey': None}"
      ]
     },
     "metadata": {},
     "output_type": "display_data"
    },
    {
     "name": "stdout",
     "output_type": "stream",
     "text": [
      "Warning:  m066_20191206 has zero interval 8 9\n",
      "For Interval test passed\n",
      "For Phase test passed\n"
     ]
    },
    {
     "data": {
      "text/plain": [
       "'Testing'"
      ]
     },
     "metadata": {},
     "output_type": "display_data"
    },
    {
     "data": {
      "text/plain": [
       "{'datatype': 'raw',\n",
       " 'mousename': 'm066',\n",
       " 'performance': 'Correct',\n",
       " 'direction': 'R',\n",
       " 'zscoreChannel': False,\n",
       " 'serial': True,\n",
       " 'metricSettings': None,\n",
       " 'dimOrdTrg': '',\n",
       " 'multiplexKey': None}"
      ]
     },
     "metadata": {},
     "output_type": "display_data"
    },
    {
     "name": "stdout",
     "output_type": "stream",
     "text": [
      "Warning:  m066_20191206 has zero interval 0 1\n",
      "Warning:  m066_20191206 has zero interval 8 9\n",
      "Warning:  m066_20191206 has zero interval 13 14\n",
      "For Interval test passed\n",
      "For Phase test passed\n"
     ]
    },
    {
     "data": {
      "text/plain": [
       "'Testing'"
      ]
     },
     "metadata": {},
     "output_type": "display_data"
    },
    {
     "data": {
      "text/plain": [
       "{'datatype': 'raw',\n",
       " 'mousename': 'm066',\n",
       " 'performance': 'Correct',\n",
       " 'direction': 'R',\n",
       " 'zscoreChannel': False,\n",
       " 'serial': True,\n",
       " 'metricSettings': None,\n",
       " 'dimOrdTrg': 'p',\n",
       " 'multiplexKey': None}"
      ]
     },
     "metadata": {},
     "output_type": "display_data"
    },
    {
     "name": "stdout",
     "output_type": "stream",
     "text": [
      "Warning:  m066_20191206 has zero interval 0 1\n",
      "Warning:  m066_20191206 has zero interval 8 9\n",
      "Warning:  m066_20191206 has zero interval 13 14\n",
      "For Interval test passed\n",
      "For Phase test passed\n"
     ]
    },
    {
     "data": {
      "text/plain": [
       "'Testing'"
      ]
     },
     "metadata": {},
     "output_type": "display_data"
    },
    {
     "data": {
      "text/plain": [
       "{'datatype': 'raw',\n",
       " 'mousename': 'm066',\n",
       " 'performance': 'Correct',\n",
       " 'zscoreChannel': False,\n",
       " 'serial': True,\n",
       " 'metricSettings': None,\n",
       " 'dimOrdTrg': '',\n",
       " 'multiplexKey': None}"
      ]
     },
     "metadata": {},
     "output_type": "display_data"
    },
    {
     "name": "stdout",
     "output_type": "stream",
     "text": [
      "Warning:  m066_20191206 has zero interval 0 1\n",
      "Warning:  m066_20191206 has zero interval 8 9\n",
      "Warning:  m066_20191206 has zero interval 8 9\n",
      "Warning:  m066_20191206 has zero interval 13 14\n",
      "For Interval test passed\n",
      "For Phase test passed\n"
     ]
    },
    {
     "data": {
      "text/plain": [
       "'Testing'"
      ]
     },
     "metadata": {},
     "output_type": "display_data"
    },
    {
     "data": {
      "text/plain": [
       "{'datatype': 'raw',\n",
       " 'mousename': 'm066',\n",
       " 'performance': 'Correct',\n",
       " 'zscoreChannel': False,\n",
       " 'serial': True,\n",
       " 'metricSettings': None,\n",
       " 'dimOrdTrg': 'p',\n",
       " 'multiplexKey': None}"
      ]
     },
     "metadata": {},
     "output_type": "display_data"
    },
    {
     "name": "stdout",
     "output_type": "stream",
     "text": [
      "Warning:  m066_20191206 has zero interval 0 1\n",
      "Warning:  m066_20191206 has zero interval 8 9\n",
      "Warning:  m066_20191206 has zero interval 8 9\n",
      "Warning:  m066_20191206 has zero interval 13 14\n",
      "For Interval test passed\n",
      "For Phase test passed\n"
     ]
    },
    {
     "data": {
      "text/plain": [
       "'Testing'"
      ]
     },
     "metadata": {},
     "output_type": "display_data"
    },
    {
     "data": {
      "text/plain": [
       "{'datatype': 'raw',\n",
       " 'mousename': 'm066',\n",
       " 'performance': 'Mistake',\n",
       " 'direction': 'L',\n",
       " 'zscoreChannel': False,\n",
       " 'serial': True,\n",
       " 'metricSettings': None,\n",
       " 'dimOrdTrg': '',\n",
       " 'multiplexKey': None}"
      ]
     },
     "metadata": {},
     "output_type": "display_data"
    },
    {
     "name": "stdout",
     "output_type": "stream",
     "text": [
      "For Interval test passed\n",
      "For Phase test passed\n"
     ]
    },
    {
     "data": {
      "text/plain": [
       "'Testing'"
      ]
     },
     "metadata": {},
     "output_type": "display_data"
    },
    {
     "data": {
      "text/plain": [
       "{'datatype': 'raw',\n",
       " 'mousename': 'm066',\n",
       " 'performance': 'Mistake',\n",
       " 'direction': 'L',\n",
       " 'zscoreChannel': False,\n",
       " 'serial': True,\n",
       " 'metricSettings': None,\n",
       " 'dimOrdTrg': 'p',\n",
       " 'multiplexKey': None}"
      ]
     },
     "metadata": {},
     "output_type": "display_data"
    },
    {
     "name": "stdout",
     "output_type": "stream",
     "text": [
      "For Interval test passed\n",
      "For Phase test passed\n"
     ]
    },
    {
     "data": {
      "text/plain": [
       "'Testing'"
      ]
     },
     "metadata": {},
     "output_type": "display_data"
    },
    {
     "data": {
      "text/plain": [
       "{'datatype': 'raw',\n",
       " 'mousename': 'm066',\n",
       " 'performance': 'Mistake',\n",
       " 'direction': 'R',\n",
       " 'zscoreChannel': False,\n",
       " 'serial': True,\n",
       " 'metricSettings': None,\n",
       " 'dimOrdTrg': '',\n",
       " 'multiplexKey': None}"
      ]
     },
     "metadata": {},
     "output_type": "display_data"
    },
    {
     "name": "stdout",
     "output_type": "stream",
     "text": [
      "For Interval test passed\n",
      "For Phase test passed\n"
     ]
    },
    {
     "data": {
      "text/plain": [
       "'Testing'"
      ]
     },
     "metadata": {},
     "output_type": "display_data"
    },
    {
     "data": {
      "text/plain": [
       "{'datatype': 'raw',\n",
       " 'mousename': 'm066',\n",
       " 'performance': 'Mistake',\n",
       " 'direction': 'R',\n",
       " 'zscoreChannel': False,\n",
       " 'serial': True,\n",
       " 'metricSettings': None,\n",
       " 'dimOrdTrg': 'p',\n",
       " 'multiplexKey': None}"
      ]
     },
     "metadata": {},
     "output_type": "display_data"
    },
    {
     "name": "stdout",
     "output_type": "stream",
     "text": [
      "For Interval test passed\n",
      "For Phase test passed\n"
     ]
    },
    {
     "data": {
      "text/plain": [
       "'Testing'"
      ]
     },
     "metadata": {},
     "output_type": "display_data"
    },
    {
     "data": {
      "text/plain": [
       "{'datatype': 'raw',\n",
       " 'mousename': 'm066',\n",
       " 'performance': 'Mistake',\n",
       " 'zscoreChannel': False,\n",
       " 'serial': True,\n",
       " 'metricSettings': None,\n",
       " 'dimOrdTrg': '',\n",
       " 'multiplexKey': None}"
      ]
     },
     "metadata": {},
     "output_type": "display_data"
    },
    {
     "name": "stdout",
     "output_type": "stream",
     "text": [
      "For Interval test passed\n",
      "For Phase test passed\n"
     ]
    },
    {
     "data": {
      "text/plain": [
       "'Testing'"
      ]
     },
     "metadata": {},
     "output_type": "display_data"
    },
    {
     "data": {
      "text/plain": [
       "{'datatype': 'raw',\n",
       " 'mousename': 'm066',\n",
       " 'performance': 'Mistake',\n",
       " 'zscoreChannel': False,\n",
       " 'serial': True,\n",
       " 'metricSettings': None,\n",
       " 'dimOrdTrg': 'p',\n",
       " 'multiplexKey': None}"
      ]
     },
     "metadata": {},
     "output_type": "display_data"
    },
    {
     "name": "stdout",
     "output_type": "stream",
     "text": [
      "For Interval test passed\n",
      "For Phase test passed\n"
     ]
    },
    {
     "data": {
      "text/plain": [
       "'Testing'"
      ]
     },
     "metadata": {},
     "output_type": "display_data"
    },
    {
     "data": {
      "text/plain": [
       "{'datatype': 'deconv',\n",
       " 'mousename': 'm066',\n",
       " 'performance': 'Correct',\n",
       " 'direction': 'L',\n",
       " 'zscoreChannel': False,\n",
       " 'serial': True,\n",
       " 'metricSettings': None,\n",
       " 'dimOrdTrg': '',\n",
       " 'multiplexKey': None}"
      ]
     },
     "metadata": {},
     "output_type": "display_data"
    },
    {
     "name": "stdout",
     "output_type": "stream",
     "text": [
      "Warning:  m066_20191206 has zero interval 8 9\n",
      "For Interval test passed\n",
      "For Phase test passed\n"
     ]
    },
    {
     "data": {
      "text/plain": [
       "'Testing'"
      ]
     },
     "metadata": {},
     "output_type": "display_data"
    },
    {
     "data": {
      "text/plain": [
       "{'datatype': 'deconv',\n",
       " 'mousename': 'm066',\n",
       " 'performance': 'Correct',\n",
       " 'direction': 'L',\n",
       " 'zscoreChannel': False,\n",
       " 'serial': True,\n",
       " 'metricSettings': None,\n",
       " 'dimOrdTrg': 'p',\n",
       " 'multiplexKey': None}"
      ]
     },
     "metadata": {},
     "output_type": "display_data"
    },
    {
     "name": "stdout",
     "output_type": "stream",
     "text": [
      "Warning:  m066_20191206 has zero interval 8 9\n",
      "For Interval test passed\n",
      "For Phase test passed\n"
     ]
    },
    {
     "data": {
      "text/plain": [
       "'Testing'"
      ]
     },
     "metadata": {},
     "output_type": "display_data"
    },
    {
     "data": {
      "text/plain": [
       "{'datatype': 'deconv',\n",
       " 'mousename': 'm066',\n",
       " 'performance': 'Correct',\n",
       " 'direction': 'R',\n",
       " 'zscoreChannel': False,\n",
       " 'serial': True,\n",
       " 'metricSettings': None,\n",
       " 'dimOrdTrg': '',\n",
       " 'multiplexKey': None}"
      ]
     },
     "metadata": {},
     "output_type": "display_data"
    },
    {
     "name": "stdout",
     "output_type": "stream",
     "text": [
      "Warning:  m066_20191206 has zero interval 0 1\n",
      "Warning:  m066_20191206 has zero interval 8 9\n",
      "Warning:  m066_20191206 has zero interval 13 14\n",
      "For Interval test passed\n",
      "For Phase test passed\n"
     ]
    },
    {
     "data": {
      "text/plain": [
       "'Testing'"
      ]
     },
     "metadata": {},
     "output_type": "display_data"
    },
    {
     "data": {
      "text/plain": [
       "{'datatype': 'deconv',\n",
       " 'mousename': 'm066',\n",
       " 'performance': 'Correct',\n",
       " 'direction': 'R',\n",
       " 'zscoreChannel': False,\n",
       " 'serial': True,\n",
       " 'metricSettings': None,\n",
       " 'dimOrdTrg': 'p',\n",
       " 'multiplexKey': None}"
      ]
     },
     "metadata": {},
     "output_type": "display_data"
    },
    {
     "name": "stdout",
     "output_type": "stream",
     "text": [
      "Warning:  m066_20191206 has zero interval 0 1\n",
      "Warning:  m066_20191206 has zero interval 8 9\n",
      "Warning:  m066_20191206 has zero interval 13 14\n",
      "For Interval test passed\n",
      "For Phase test passed\n"
     ]
    },
    {
     "data": {
      "text/plain": [
       "'Testing'"
      ]
     },
     "metadata": {},
     "output_type": "display_data"
    },
    {
     "data": {
      "text/plain": [
       "{'datatype': 'deconv',\n",
       " 'mousename': 'm066',\n",
       " 'performance': 'Correct',\n",
       " 'zscoreChannel': False,\n",
       " 'serial': True,\n",
       " 'metricSettings': None,\n",
       " 'dimOrdTrg': '',\n",
       " 'multiplexKey': None}"
      ]
     },
     "metadata": {},
     "output_type": "display_data"
    },
    {
     "name": "stdout",
     "output_type": "stream",
     "text": [
      "Warning:  m066_20191206 has zero interval 0 1\n",
      "Warning:  m066_20191206 has zero interval 8 9\n",
      "Warning:  m066_20191206 has zero interval 8 9\n",
      "Warning:  m066_20191206 has zero interval 13 14\n",
      "For Interval test passed\n",
      "For Phase test passed\n"
     ]
    },
    {
     "data": {
      "text/plain": [
       "'Testing'"
      ]
     },
     "metadata": {},
     "output_type": "display_data"
    },
    {
     "data": {
      "text/plain": [
       "{'datatype': 'deconv',\n",
       " 'mousename': 'm066',\n",
       " 'performance': 'Correct',\n",
       " 'zscoreChannel': False,\n",
       " 'serial': True,\n",
       " 'metricSettings': None,\n",
       " 'dimOrdTrg': 'p',\n",
       " 'multiplexKey': None}"
      ]
     },
     "metadata": {},
     "output_type": "display_data"
    },
    {
     "name": "stdout",
     "output_type": "stream",
     "text": [
      "Warning:  m066_20191206 has zero interval 0 1\n",
      "Warning:  m066_20191206 has zero interval 8 9\n",
      "Warning:  m066_20191206 has zero interval 8 9\n",
      "Warning:  m066_20191206 has zero interval 13 14\n",
      "For Interval test passed\n",
      "For Phase test passed\n"
     ]
    },
    {
     "data": {
      "text/plain": [
       "'Testing'"
      ]
     },
     "metadata": {},
     "output_type": "display_data"
    },
    {
     "data": {
      "text/plain": [
       "{'datatype': 'deconv',\n",
       " 'mousename': 'm066',\n",
       " 'performance': 'Mistake',\n",
       " 'direction': 'L',\n",
       " 'zscoreChannel': False,\n",
       " 'serial': True,\n",
       " 'metricSettings': None,\n",
       " 'dimOrdTrg': '',\n",
       " 'multiplexKey': None}"
      ]
     },
     "metadata": {},
     "output_type": "display_data"
    },
    {
     "name": "stdout",
     "output_type": "stream",
     "text": [
      "For Interval test passed\n",
      "For Phase test passed\n"
     ]
    },
    {
     "data": {
      "text/plain": [
       "'Testing'"
      ]
     },
     "metadata": {},
     "output_type": "display_data"
    },
    {
     "data": {
      "text/plain": [
       "{'datatype': 'deconv',\n",
       " 'mousename': 'm066',\n",
       " 'performance': 'Mistake',\n",
       " 'direction': 'L',\n",
       " 'zscoreChannel': False,\n",
       " 'serial': True,\n",
       " 'metricSettings': None,\n",
       " 'dimOrdTrg': 'p',\n",
       " 'multiplexKey': None}"
      ]
     },
     "metadata": {},
     "output_type": "display_data"
    },
    {
     "name": "stdout",
     "output_type": "stream",
     "text": [
      "For Interval test passed\n",
      "For Phase test passed\n"
     ]
    },
    {
     "data": {
      "text/plain": [
       "'Testing'"
      ]
     },
     "metadata": {},
     "output_type": "display_data"
    },
    {
     "data": {
      "text/plain": [
       "{'datatype': 'deconv',\n",
       " 'mousename': 'm066',\n",
       " 'performance': 'Mistake',\n",
       " 'direction': 'R',\n",
       " 'zscoreChannel': False,\n",
       " 'serial': True,\n",
       " 'metricSettings': None,\n",
       " 'dimOrdTrg': '',\n",
       " 'multiplexKey': None}"
      ]
     },
     "metadata": {},
     "output_type": "display_data"
    },
    {
     "name": "stdout",
     "output_type": "stream",
     "text": [
      "For Interval test passed\n",
      "For Phase test passed\n"
     ]
    },
    {
     "data": {
      "text/plain": [
       "'Testing'"
      ]
     },
     "metadata": {},
     "output_type": "display_data"
    },
    {
     "data": {
      "text/plain": [
       "{'datatype': 'deconv',\n",
       " 'mousename': 'm066',\n",
       " 'performance': 'Mistake',\n",
       " 'direction': 'R',\n",
       " 'zscoreChannel': False,\n",
       " 'serial': True,\n",
       " 'metricSettings': None,\n",
       " 'dimOrdTrg': 'p',\n",
       " 'multiplexKey': None}"
      ]
     },
     "metadata": {},
     "output_type": "display_data"
    },
    {
     "name": "stdout",
     "output_type": "stream",
     "text": [
      "For Interval test passed\n",
      "For Phase test passed\n"
     ]
    },
    {
     "data": {
      "text/plain": [
       "'Testing'"
      ]
     },
     "metadata": {},
     "output_type": "display_data"
    },
    {
     "data": {
      "text/plain": [
       "{'datatype': 'deconv',\n",
       " 'mousename': 'm066',\n",
       " 'performance': 'Mistake',\n",
       " 'zscoreChannel': False,\n",
       " 'serial': True,\n",
       " 'metricSettings': None,\n",
       " 'dimOrdTrg': '',\n",
       " 'multiplexKey': None}"
      ]
     },
     "metadata": {},
     "output_type": "display_data"
    },
    {
     "name": "stdout",
     "output_type": "stream",
     "text": [
      "For Interval test passed\n",
      "For Phase test passed\n"
     ]
    },
    {
     "data": {
      "text/plain": [
       "'Testing'"
      ]
     },
     "metadata": {},
     "output_type": "display_data"
    },
    {
     "data": {
      "text/plain": [
       "{'datatype': 'deconv',\n",
       " 'mousename': 'm066',\n",
       " 'performance': 'Mistake',\n",
       " 'zscoreChannel': False,\n",
       " 'serial': True,\n",
       " 'metricSettings': None,\n",
       " 'dimOrdTrg': 'p',\n",
       " 'multiplexKey': None}"
      ]
     },
     "metadata": {},
     "output_type": "display_data"
    },
    {
     "name": "stdout",
     "output_type": "stream",
     "text": [
      "For Interval test passed\n",
      "For Phase test passed\n"
     ]
    },
    {
     "data": {
      "text/plain": [
       "'Testing'"
      ]
     },
     "metadata": {},
     "output_type": "display_data"
    },
    {
     "data": {
      "text/plain": [
       "{'datatype': 'raw',\n",
       " 'mousename': 'm065',\n",
       " 'performance': 'Correct',\n",
       " 'direction': 'L',\n",
       " 'zscoreChannel': False,\n",
       " 'serial': True,\n",
       " 'metricSettings': None,\n",
       " 'dimOrdTrg': '',\n",
       " 'multiplexKey': None}"
      ]
     },
     "metadata": {},
     "output_type": "display_data"
    },
    {
     "name": "stdout",
     "output_type": "stream",
     "text": [
      "For Interval test passed\n",
      "For Phase test passed\n"
     ]
    },
    {
     "data": {
      "text/plain": [
       "'Testing'"
      ]
     },
     "metadata": {},
     "output_type": "display_data"
    },
    {
     "data": {
      "text/plain": [
       "{'datatype': 'raw',\n",
       " 'mousename': 'm065',\n",
       " 'performance': 'Correct',\n",
       " 'direction': 'L',\n",
       " 'zscoreChannel': False,\n",
       " 'serial': True,\n",
       " 'metricSettings': None,\n",
       " 'dimOrdTrg': 'p',\n",
       " 'multiplexKey': None}"
      ]
     },
     "metadata": {},
     "output_type": "display_data"
    },
    {
     "name": "stdout",
     "output_type": "stream",
     "text": [
      "For Interval test passed\n",
      "For Phase test passed\n"
     ]
    },
    {
     "data": {
      "text/plain": [
       "'Testing'"
      ]
     },
     "metadata": {},
     "output_type": "display_data"
    },
    {
     "data": {
      "text/plain": [
       "{'datatype': 'raw',\n",
       " 'mousename': 'm065',\n",
       " 'performance': 'Correct',\n",
       " 'direction': 'R',\n",
       " 'zscoreChannel': False,\n",
       " 'serial': True,\n",
       " 'metricSettings': None,\n",
       " 'dimOrdTrg': '',\n",
       " 'multiplexKey': None}"
      ]
     },
     "metadata": {},
     "output_type": "display_data"
    },
    {
     "name": "stdout",
     "output_type": "stream",
     "text": [
      "For Interval test passed\n",
      "For Phase test passed\n"
     ]
    },
    {
     "data": {
      "text/plain": [
       "'Testing'"
      ]
     },
     "metadata": {},
     "output_type": "display_data"
    },
    {
     "data": {
      "text/plain": [
       "{'datatype': 'raw',\n",
       " 'mousename': 'm065',\n",
       " 'performance': 'Correct',\n",
       " 'direction': 'R',\n",
       " 'zscoreChannel': False,\n",
       " 'serial': True,\n",
       " 'metricSettings': None,\n",
       " 'dimOrdTrg': 'p',\n",
       " 'multiplexKey': None}"
      ]
     },
     "metadata": {},
     "output_type": "display_data"
    },
    {
     "name": "stdout",
     "output_type": "stream",
     "text": [
      "For Interval test passed\n",
      "For Phase test passed\n"
     ]
    },
    {
     "data": {
      "text/plain": [
       "'Testing'"
      ]
     },
     "metadata": {},
     "output_type": "display_data"
    },
    {
     "data": {
      "text/plain": [
       "{'datatype': 'raw',\n",
       " 'mousename': 'm065',\n",
       " 'performance': 'Correct',\n",
       " 'zscoreChannel': False,\n",
       " 'serial': True,\n",
       " 'metricSettings': None,\n",
       " 'dimOrdTrg': '',\n",
       " 'multiplexKey': None}"
      ]
     },
     "metadata": {},
     "output_type": "display_data"
    },
    {
     "name": "stdout",
     "output_type": "stream",
     "text": [
      "For Interval test passed\n",
      "For Phase test passed\n"
     ]
    },
    {
     "data": {
      "text/plain": [
       "'Testing'"
      ]
     },
     "metadata": {},
     "output_type": "display_data"
    },
    {
     "data": {
      "text/plain": [
       "{'datatype': 'raw',\n",
       " 'mousename': 'm065',\n",
       " 'performance': 'Correct',\n",
       " 'zscoreChannel': False,\n",
       " 'serial': True,\n",
       " 'metricSettings': None,\n",
       " 'dimOrdTrg': 'p',\n",
       " 'multiplexKey': None}"
      ]
     },
     "metadata": {},
     "output_type": "display_data"
    },
    {
     "name": "stdout",
     "output_type": "stream",
     "text": [
      "For Interval test passed\n",
      "For Phase test passed\n"
     ]
    },
    {
     "data": {
      "text/plain": [
       "'Testing'"
      ]
     },
     "metadata": {},
     "output_type": "display_data"
    },
    {
     "data": {
      "text/plain": [
       "{'datatype': 'raw',\n",
       " 'mousename': 'm065',\n",
       " 'performance': 'Mistake',\n",
       " 'direction': 'L',\n",
       " 'zscoreChannel': False,\n",
       " 'serial': True,\n",
       " 'metricSettings': None,\n",
       " 'dimOrdTrg': '',\n",
       " 'multiplexKey': None}"
      ]
     },
     "metadata": {},
     "output_type": "display_data"
    },
    {
     "name": "stdout",
     "output_type": "stream",
     "text": [
      "For Interval test passed\n",
      "For Phase test passed\n"
     ]
    },
    {
     "data": {
      "text/plain": [
       "'Testing'"
      ]
     },
     "metadata": {},
     "output_type": "display_data"
    },
    {
     "data": {
      "text/plain": [
       "{'datatype': 'raw',\n",
       " 'mousename': 'm065',\n",
       " 'performance': 'Mistake',\n",
       " 'direction': 'L',\n",
       " 'zscoreChannel': False,\n",
       " 'serial': True,\n",
       " 'metricSettings': None,\n",
       " 'dimOrdTrg': 'p',\n",
       " 'multiplexKey': None}"
      ]
     },
     "metadata": {},
     "output_type": "display_data"
    },
    {
     "name": "stdout",
     "output_type": "stream",
     "text": [
      "For Interval test passed\n",
      "For Phase test passed\n"
     ]
    },
    {
     "data": {
      "text/plain": [
       "'Testing'"
      ]
     },
     "metadata": {},
     "output_type": "display_data"
    },
    {
     "data": {
      "text/plain": [
       "{'datatype': 'raw',\n",
       " 'mousename': 'm065',\n",
       " 'performance': 'Mistake',\n",
       " 'direction': 'R',\n",
       " 'zscoreChannel': False,\n",
       " 'serial': True,\n",
       " 'metricSettings': None,\n",
       " 'dimOrdTrg': '',\n",
       " 'multiplexKey': None}"
      ]
     },
     "metadata": {},
     "output_type": "display_data"
    },
    {
     "name": "stdout",
     "output_type": "stream",
     "text": [
      "For Interval test passed\n",
      "For Phase test passed\n"
     ]
    },
    {
     "data": {
      "text/plain": [
       "'Testing'"
      ]
     },
     "metadata": {},
     "output_type": "display_data"
    },
    {
     "data": {
      "text/plain": [
       "{'datatype': 'raw',\n",
       " 'mousename': 'm065',\n",
       " 'performance': 'Mistake',\n",
       " 'direction': 'R',\n",
       " 'zscoreChannel': False,\n",
       " 'serial': True,\n",
       " 'metricSettings': None,\n",
       " 'dimOrdTrg': 'p',\n",
       " 'multiplexKey': None}"
      ]
     },
     "metadata": {},
     "output_type": "display_data"
    },
    {
     "name": "stdout",
     "output_type": "stream",
     "text": [
      "For Interval test passed\n",
      "For Phase test passed\n"
     ]
    },
    {
     "data": {
      "text/plain": [
       "'Testing'"
      ]
     },
     "metadata": {},
     "output_type": "display_data"
    },
    {
     "data": {
      "text/plain": [
       "{'datatype': 'raw',\n",
       " 'mousename': 'm065',\n",
       " 'performance': 'Mistake',\n",
       " 'zscoreChannel': False,\n",
       " 'serial': True,\n",
       " 'metricSettings': None,\n",
       " 'dimOrdTrg': '',\n",
       " 'multiplexKey': None}"
      ]
     },
     "metadata": {},
     "output_type": "display_data"
    },
    {
     "name": "stdout",
     "output_type": "stream",
     "text": [
      "For Interval test passed\n",
      "For Phase test passed\n"
     ]
    },
    {
     "data": {
      "text/plain": [
       "'Testing'"
      ]
     },
     "metadata": {},
     "output_type": "display_data"
    },
    {
     "data": {
      "text/plain": [
       "{'datatype': 'raw',\n",
       " 'mousename': 'm065',\n",
       " 'performance': 'Mistake',\n",
       " 'zscoreChannel': False,\n",
       " 'serial': True,\n",
       " 'metricSettings': None,\n",
       " 'dimOrdTrg': 'p',\n",
       " 'multiplexKey': None}"
      ]
     },
     "metadata": {},
     "output_type": "display_data"
    },
    {
     "name": "stdout",
     "output_type": "stream",
     "text": [
      "For Interval test passed\n",
      "For Phase test passed\n"
     ]
    },
    {
     "data": {
      "text/plain": [
       "'Testing'"
      ]
     },
     "metadata": {},
     "output_type": "display_data"
    },
    {
     "data": {
      "text/plain": [
       "{'datatype': 'deconv',\n",
       " 'mousename': 'm065',\n",
       " 'performance': 'Correct',\n",
       " 'direction': 'L',\n",
       " 'zscoreChannel': False,\n",
       " 'serial': True,\n",
       " 'metricSettings': None,\n",
       " 'dimOrdTrg': '',\n",
       " 'multiplexKey': None}"
      ]
     },
     "metadata": {},
     "output_type": "display_data"
    },
    {
     "name": "stdout",
     "output_type": "stream",
     "text": [
      "For Interval test passed\n",
      "For Phase test passed\n"
     ]
    },
    {
     "data": {
      "text/plain": [
       "'Testing'"
      ]
     },
     "metadata": {},
     "output_type": "display_data"
    },
    {
     "data": {
      "text/plain": [
       "{'datatype': 'deconv',\n",
       " 'mousename': 'm065',\n",
       " 'performance': 'Correct',\n",
       " 'direction': 'L',\n",
       " 'zscoreChannel': False,\n",
       " 'serial': True,\n",
       " 'metricSettings': None,\n",
       " 'dimOrdTrg': 'p',\n",
       " 'multiplexKey': None}"
      ]
     },
     "metadata": {},
     "output_type": "display_data"
    },
    {
     "name": "stdout",
     "output_type": "stream",
     "text": [
      "For Interval test passed\n",
      "For Phase test passed\n"
     ]
    },
    {
     "data": {
      "text/plain": [
       "'Testing'"
      ]
     },
     "metadata": {},
     "output_type": "display_data"
    },
    {
     "data": {
      "text/plain": [
       "{'datatype': 'deconv',\n",
       " 'mousename': 'm065',\n",
       " 'performance': 'Correct',\n",
       " 'direction': 'R',\n",
       " 'zscoreChannel': False,\n",
       " 'serial': True,\n",
       " 'metricSettings': None,\n",
       " 'dimOrdTrg': '',\n",
       " 'multiplexKey': None}"
      ]
     },
     "metadata": {},
     "output_type": "display_data"
    },
    {
     "name": "stdout",
     "output_type": "stream",
     "text": [
      "For Interval test passed\n",
      "For Phase test passed\n"
     ]
    },
    {
     "data": {
      "text/plain": [
       "'Testing'"
      ]
     },
     "metadata": {},
     "output_type": "display_data"
    },
    {
     "data": {
      "text/plain": [
       "{'datatype': 'deconv',\n",
       " 'mousename': 'm065',\n",
       " 'performance': 'Correct',\n",
       " 'direction': 'R',\n",
       " 'zscoreChannel': False,\n",
       " 'serial': True,\n",
       " 'metricSettings': None,\n",
       " 'dimOrdTrg': 'p',\n",
       " 'multiplexKey': None}"
      ]
     },
     "metadata": {},
     "output_type": "display_data"
    },
    {
     "name": "stdout",
     "output_type": "stream",
     "text": [
      "For Interval test passed\n",
      "For Phase test passed\n"
     ]
    },
    {
     "data": {
      "text/plain": [
       "'Testing'"
      ]
     },
     "metadata": {},
     "output_type": "display_data"
    },
    {
     "data": {
      "text/plain": [
       "{'datatype': 'deconv',\n",
       " 'mousename': 'm065',\n",
       " 'performance': 'Correct',\n",
       " 'zscoreChannel': False,\n",
       " 'serial': True,\n",
       " 'metricSettings': None,\n",
       " 'dimOrdTrg': '',\n",
       " 'multiplexKey': None}"
      ]
     },
     "metadata": {},
     "output_type": "display_data"
    },
    {
     "name": "stdout",
     "output_type": "stream",
     "text": [
      "For Interval test passed\n",
      "For Phase test passed\n"
     ]
    },
    {
     "data": {
      "text/plain": [
       "'Testing'"
      ]
     },
     "metadata": {},
     "output_type": "display_data"
    },
    {
     "data": {
      "text/plain": [
       "{'datatype': 'deconv',\n",
       " 'mousename': 'm065',\n",
       " 'performance': 'Correct',\n",
       " 'zscoreChannel': False,\n",
       " 'serial': True,\n",
       " 'metricSettings': None,\n",
       " 'dimOrdTrg': 'p',\n",
       " 'multiplexKey': None}"
      ]
     },
     "metadata": {},
     "output_type": "display_data"
    },
    {
     "name": "stdout",
     "output_type": "stream",
     "text": [
      "For Interval test passed\n",
      "For Phase test passed\n"
     ]
    },
    {
     "data": {
      "text/plain": [
       "'Testing'"
      ]
     },
     "metadata": {},
     "output_type": "display_data"
    },
    {
     "data": {
      "text/plain": [
       "{'datatype': 'deconv',\n",
       " 'mousename': 'm065',\n",
       " 'performance': 'Mistake',\n",
       " 'direction': 'L',\n",
       " 'zscoreChannel': False,\n",
       " 'serial': True,\n",
       " 'metricSettings': None,\n",
       " 'dimOrdTrg': '',\n",
       " 'multiplexKey': None}"
      ]
     },
     "metadata": {},
     "output_type": "display_data"
    },
    {
     "name": "stdout",
     "output_type": "stream",
     "text": [
      "For Interval test passed\n",
      "For Phase test passed\n"
     ]
    },
    {
     "data": {
      "text/plain": [
       "'Testing'"
      ]
     },
     "metadata": {},
     "output_type": "display_data"
    },
    {
     "data": {
      "text/plain": [
       "{'datatype': 'deconv',\n",
       " 'mousename': 'm065',\n",
       " 'performance': 'Mistake',\n",
       " 'direction': 'L',\n",
       " 'zscoreChannel': False,\n",
       " 'serial': True,\n",
       " 'metricSettings': None,\n",
       " 'dimOrdTrg': 'p',\n",
       " 'multiplexKey': None}"
      ]
     },
     "metadata": {},
     "output_type": "display_data"
    },
    {
     "name": "stdout",
     "output_type": "stream",
     "text": [
      "For Interval test passed\n",
      "For Phase test passed\n"
     ]
    },
    {
     "data": {
      "text/plain": [
       "'Testing'"
      ]
     },
     "metadata": {},
     "output_type": "display_data"
    },
    {
     "data": {
      "text/plain": [
       "{'datatype': 'deconv',\n",
       " 'mousename': 'm065',\n",
       " 'performance': 'Mistake',\n",
       " 'direction': 'R',\n",
       " 'zscoreChannel': False,\n",
       " 'serial': True,\n",
       " 'metricSettings': None,\n",
       " 'dimOrdTrg': '',\n",
       " 'multiplexKey': None}"
      ]
     },
     "metadata": {},
     "output_type": "display_data"
    },
    {
     "name": "stdout",
     "output_type": "stream",
     "text": [
      "For Interval test passed\n",
      "For Phase test passed\n"
     ]
    },
    {
     "data": {
      "text/plain": [
       "'Testing'"
      ]
     },
     "metadata": {},
     "output_type": "display_data"
    },
    {
     "data": {
      "text/plain": [
       "{'datatype': 'deconv',\n",
       " 'mousename': 'm065',\n",
       " 'performance': 'Mistake',\n",
       " 'direction': 'R',\n",
       " 'zscoreChannel': False,\n",
       " 'serial': True,\n",
       " 'metricSettings': None,\n",
       " 'dimOrdTrg': 'p',\n",
       " 'multiplexKey': None}"
      ]
     },
     "metadata": {},
     "output_type": "display_data"
    },
    {
     "name": "stdout",
     "output_type": "stream",
     "text": [
      "For Interval test passed\n",
      "For Phase test passed\n"
     ]
    },
    {
     "data": {
      "text/plain": [
       "'Testing'"
      ]
     },
     "metadata": {},
     "output_type": "display_data"
    },
    {
     "data": {
      "text/plain": [
       "{'datatype': 'deconv',\n",
       " 'mousename': 'm065',\n",
       " 'performance': 'Mistake',\n",
       " 'zscoreChannel': False,\n",
       " 'serial': True,\n",
       " 'metricSettings': None,\n",
       " 'dimOrdTrg': '',\n",
       " 'multiplexKey': None}"
      ]
     },
     "metadata": {},
     "output_type": "display_data"
    },
    {
     "name": "stdout",
     "output_type": "stream",
     "text": [
      "For Interval test passed\n",
      "For Phase test passed\n"
     ]
    },
    {
     "data": {
      "text/plain": [
       "'Testing'"
      ]
     },
     "metadata": {},
     "output_type": "display_data"
    },
    {
     "data": {
      "text/plain": [
       "{'datatype': 'deconv',\n",
       " 'mousename': 'm065',\n",
       " 'performance': 'Mistake',\n",
       " 'zscoreChannel': False,\n",
       " 'serial': True,\n",
       " 'metricSettings': None,\n",
       " 'dimOrdTrg': 'p',\n",
       " 'multiplexKey': None}"
      ]
     },
     "metadata": {},
     "output_type": "display_data"
    },
    {
     "name": "stdout",
     "output_type": "stream",
     "text": [
      "For Interval test passed\n",
      "For Phase test passed\n"
     ]
    },
    {
     "data": {
      "text/plain": [
       "'Testing'"
      ]
     },
     "metadata": {},
     "output_type": "display_data"
    },
    {
     "data": {
      "text/plain": [
       "{'datatype': 'raw',\n",
       " 'mousename': 'm061',\n",
       " 'performance': 'Correct',\n",
       " 'direction': 'L',\n",
       " 'zscoreChannel': False,\n",
       " 'serial': True,\n",
       " 'metricSettings': None,\n",
       " 'dimOrdTrg': '',\n",
       " 'multiplexKey': None}"
      ]
     },
     "metadata": {},
     "output_type": "display_data"
    },
    {
     "name": "stdout",
     "output_type": "stream",
     "text": [
      "For Interval test passed\n",
      "For Phase test passed\n"
     ]
    },
    {
     "data": {
      "text/plain": [
       "'Testing'"
      ]
     },
     "metadata": {},
     "output_type": "display_data"
    },
    {
     "data": {
      "text/plain": [
       "{'datatype': 'raw',\n",
       " 'mousename': 'm061',\n",
       " 'performance': 'Correct',\n",
       " 'direction': 'L',\n",
       " 'zscoreChannel': False,\n",
       " 'serial': True,\n",
       " 'metricSettings': None,\n",
       " 'dimOrdTrg': 'p',\n",
       " 'multiplexKey': None}"
      ]
     },
     "metadata": {},
     "output_type": "display_data"
    },
    {
     "name": "stdout",
     "output_type": "stream",
     "text": [
      "For Interval test passed\n",
      "For Phase test passed\n"
     ]
    },
    {
     "data": {
      "text/plain": [
       "'Testing'"
      ]
     },
     "metadata": {},
     "output_type": "display_data"
    },
    {
     "data": {
      "text/plain": [
       "{'datatype': 'raw',\n",
       " 'mousename': 'm061',\n",
       " 'performance': 'Correct',\n",
       " 'direction': 'R',\n",
       " 'zscoreChannel': False,\n",
       " 'serial': True,\n",
       " 'metricSettings': None,\n",
       " 'dimOrdTrg': '',\n",
       " 'multiplexKey': None}"
      ]
     },
     "metadata": {},
     "output_type": "display_data"
    },
    {
     "name": "stdout",
     "output_type": "stream",
     "text": [
      "For Interval test passed\n",
      "For Phase test passed\n"
     ]
    },
    {
     "data": {
      "text/plain": [
       "'Testing'"
      ]
     },
     "metadata": {},
     "output_type": "display_data"
    },
    {
     "data": {
      "text/plain": [
       "{'datatype': 'raw',\n",
       " 'mousename': 'm061',\n",
       " 'performance': 'Correct',\n",
       " 'direction': 'R',\n",
       " 'zscoreChannel': False,\n",
       " 'serial': True,\n",
       " 'metricSettings': None,\n",
       " 'dimOrdTrg': 'p',\n",
       " 'multiplexKey': None}"
      ]
     },
     "metadata": {},
     "output_type": "display_data"
    },
    {
     "name": "stdout",
     "output_type": "stream",
     "text": [
      "For Interval test passed\n",
      "For Phase test passed\n"
     ]
    },
    {
     "data": {
      "text/plain": [
       "'Testing'"
      ]
     },
     "metadata": {},
     "output_type": "display_data"
    },
    {
     "data": {
      "text/plain": [
       "{'datatype': 'raw',\n",
       " 'mousename': 'm061',\n",
       " 'performance': 'Correct',\n",
       " 'zscoreChannel': False,\n",
       " 'serial': True,\n",
       " 'metricSettings': None,\n",
       " 'dimOrdTrg': '',\n",
       " 'multiplexKey': None}"
      ]
     },
     "metadata": {},
     "output_type": "display_data"
    },
    {
     "name": "stdout",
     "output_type": "stream",
     "text": [
      "For Interval test passed\n",
      "For Phase test passed\n"
     ]
    },
    {
     "data": {
      "text/plain": [
       "'Testing'"
      ]
     },
     "metadata": {},
     "output_type": "display_data"
    },
    {
     "data": {
      "text/plain": [
       "{'datatype': 'raw',\n",
       " 'mousename': 'm061',\n",
       " 'performance': 'Correct',\n",
       " 'zscoreChannel': False,\n",
       " 'serial': True,\n",
       " 'metricSettings': None,\n",
       " 'dimOrdTrg': 'p',\n",
       " 'multiplexKey': None}"
      ]
     },
     "metadata": {},
     "output_type": "display_data"
    },
    {
     "name": "stdout",
     "output_type": "stream",
     "text": [
      "For Interval test passed\n",
      "For Phase test passed\n"
     ]
    },
    {
     "data": {
      "text/plain": [
       "'Testing'"
      ]
     },
     "metadata": {},
     "output_type": "display_data"
    },
    {
     "data": {
      "text/plain": [
       "{'datatype': 'raw',\n",
       " 'mousename': 'm061',\n",
       " 'performance': 'Mistake',\n",
       " 'direction': 'L',\n",
       " 'zscoreChannel': False,\n",
       " 'serial': True,\n",
       " 'metricSettings': None,\n",
       " 'dimOrdTrg': '',\n",
       " 'multiplexKey': None}"
      ]
     },
     "metadata": {},
     "output_type": "display_data"
    },
    {
     "name": "stdout",
     "output_type": "stream",
     "text": [
      "For Interval test passed\n",
      "For Phase test passed\n"
     ]
    },
    {
     "data": {
      "text/plain": [
       "'Testing'"
      ]
     },
     "metadata": {},
     "output_type": "display_data"
    },
    {
     "data": {
      "text/plain": [
       "{'datatype': 'raw',\n",
       " 'mousename': 'm061',\n",
       " 'performance': 'Mistake',\n",
       " 'direction': 'L',\n",
       " 'zscoreChannel': False,\n",
       " 'serial': True,\n",
       " 'metricSettings': None,\n",
       " 'dimOrdTrg': 'p',\n",
       " 'multiplexKey': None}"
      ]
     },
     "metadata": {},
     "output_type": "display_data"
    },
    {
     "name": "stdout",
     "output_type": "stream",
     "text": [
      "For Interval test passed\n",
      "For Phase test passed\n"
     ]
    },
    {
     "data": {
      "text/plain": [
       "'Testing'"
      ]
     },
     "metadata": {},
     "output_type": "display_data"
    },
    {
     "data": {
      "text/plain": [
       "{'datatype': 'raw',\n",
       " 'mousename': 'm061',\n",
       " 'performance': 'Mistake',\n",
       " 'direction': 'R',\n",
       " 'zscoreChannel': False,\n",
       " 'serial': True,\n",
       " 'metricSettings': None,\n",
       " 'dimOrdTrg': '',\n",
       " 'multiplexKey': None}"
      ]
     },
     "metadata": {},
     "output_type": "display_data"
    },
    {
     "name": "stdout",
     "output_type": "stream",
     "text": [
      "No behaviour found for {'performance': 'Mistake', 'direction': 'R', 'session': 'm061_20190517'} ; skipping\n",
      "No behaviour found for {'performance': 'Mistake', 'direction': 'R', 'session': 'm061_20190517'} ; skipping\n",
      "No behaviour found for {'performance': 'Mistake', 'direction': 'R', 'session': 'm061_20190517'} ; skipping\n",
      "No behaviour found for {'performance': 'Mistake', 'direction': 'R', 'session': 'm061_20190517'} ; skipping\n",
      "No behaviour found for {'performance': 'Mistake', 'direction': 'R', 'session': 'm061_20190517'} ; skipping\n",
      "No behaviour found for {'performance': 'Mistake', 'direction': 'R', 'session': 'm061_20190517'} ; skipping\n",
      "No behaviour found for {'performance': 'Mistake', 'direction': 'R', 'session': 'm061_20190517'} ; skipping\n",
      "No behaviour found for {'performance': 'Mistake', 'direction': 'R', 'session': 'm061_20190517'} ; skipping\n",
      "No behaviour found for {'performance': 'Mistake', 'direction': 'R', 'session': 'm061_20190517'} ; skipping\n",
      "No behaviour found for {'performance': 'Mistake', 'direction': 'R', 'session': 'm061_20190517'} ; skipping\n",
      "No behaviour found for {'performance': 'Mistake', 'direction': 'R', 'session': 'm061_20190517'} ; skipping\n",
      "No behaviour found for {'performance': 'Mistake', 'direction': 'R', 'session': 'm061_20190517'} ; skipping\n",
      "No behaviour found for {'performance': 'Mistake', 'direction': 'R', 'session': 'm061_20190517'} ; skipping\n",
      "No behaviour found for {'performance': 'Mistake', 'direction': 'R', 'session': 'm061_20190517'} ; skipping\n",
      "No behaviour found for {'performance': 'Mistake', 'direction': 'R', 'session': 'm061_20190517'} ; skipping\n",
      "No behaviour found for {'performance': 'Mistake', 'direction': 'R', 'session': 'm061_20190517'} ; skipping\n",
      "No behaviour found for {'performance': 'Mistake', 'direction': 'R', 'session': 'm061_20190517'} ; skipping\n",
      "No behaviour found for {'performance': 'Mistake', 'direction': 'R', 'session': 'm061_20190517'} ; skipping\n",
      "For Interval test passed\n",
      "For Phase test passed\n"
     ]
    },
    {
     "data": {
      "text/plain": [
       "'Testing'"
      ]
     },
     "metadata": {},
     "output_type": "display_data"
    },
    {
     "data": {
      "text/plain": [
       "{'datatype': 'raw',\n",
       " 'mousename': 'm061',\n",
       " 'performance': 'Mistake',\n",
       " 'direction': 'R',\n",
       " 'zscoreChannel': False,\n",
       " 'serial': True,\n",
       " 'metricSettings': None,\n",
       " 'dimOrdTrg': 'p',\n",
       " 'multiplexKey': None}"
      ]
     },
     "metadata": {},
     "output_type": "display_data"
    },
    {
     "name": "stdout",
     "output_type": "stream",
     "text": [
      "No behaviour found for {'performance': 'Mistake', 'direction': 'R', 'session': 'm061_20190517'} ; skipping\n",
      "No behaviour found for {'performance': 'Mistake', 'direction': 'R', 'session': 'm061_20190517'} ; skipping\n",
      "No behaviour found for {'performance': 'Mistake', 'direction': 'R', 'session': 'm061_20190517'} ; skipping\n",
      "No behaviour found for {'performance': 'Mistake', 'direction': 'R', 'session': 'm061_20190517'} ; skipping\n",
      "No behaviour found for {'performance': 'Mistake', 'direction': 'R', 'session': 'm061_20190517'} ; skipping\n",
      "No behaviour found for {'performance': 'Mistake', 'direction': 'R', 'session': 'm061_20190517'} ; skipping\n",
      "No behaviour found for {'performance': 'Mistake', 'direction': 'R', 'session': 'm061_20190517'} ; skipping\n",
      "No behaviour found for {'performance': 'Mistake', 'direction': 'R', 'session': 'm061_20190517'} ; skipping\n",
      "No behaviour found for {'performance': 'Mistake', 'direction': 'R', 'session': 'm061_20190517'} ; skipping\n",
      "No behaviour found for {'performance': 'Mistake', 'direction': 'R', 'session': 'm061_20190517'} ; skipping\n",
      "No behaviour found for {'performance': 'Mistake', 'direction': 'R', 'session': 'm061_20190517'} ; skipping\n",
      "No behaviour found for {'performance': 'Mistake', 'direction': 'R', 'session': 'm061_20190517'} ; skipping\n",
      "No behaviour found for {'performance': 'Mistake', 'direction': 'R', 'session': 'm061_20190517'} ; skipping\n",
      "No behaviour found for {'performance': 'Mistake', 'direction': 'R', 'session': 'm061_20190517'} ; skipping\n",
      "No behaviour found for {'performance': 'Mistake', 'direction': 'R', 'session': 'm061_20190517'} ; skipping\n",
      "No behaviour found for {'performance': 'Mistake', 'direction': 'R', 'session': 'm061_20190517'} ; skipping\n",
      "No behaviour found for {'performance': 'Mistake', 'direction': 'R', 'session': 'm061_20190517'} ; skipping\n",
      "No behaviour found for {'performance': 'Mistake', 'direction': 'R', 'session': 'm061_20190517'} ; skipping\n",
      "For Interval test passed\n",
      "For Phase test passed\n"
     ]
    },
    {
     "data": {
      "text/plain": [
       "'Testing'"
      ]
     },
     "metadata": {},
     "output_type": "display_data"
    },
    {
     "data": {
      "text/plain": [
       "{'datatype': 'raw',\n",
       " 'mousename': 'm061',\n",
       " 'performance': 'Mistake',\n",
       " 'zscoreChannel': False,\n",
       " 'serial': True,\n",
       " 'metricSettings': None,\n",
       " 'dimOrdTrg': '',\n",
       " 'multiplexKey': None}"
      ]
     },
     "metadata": {},
     "output_type": "display_data"
    },
    {
     "name": "stdout",
     "output_type": "stream",
     "text": [
      "For Interval test passed\n",
      "For Phase test passed\n"
     ]
    },
    {
     "data": {
      "text/plain": [
       "'Testing'"
      ]
     },
     "metadata": {},
     "output_type": "display_data"
    },
    {
     "data": {
      "text/plain": [
       "{'datatype': 'raw',\n",
       " 'mousename': 'm061',\n",
       " 'performance': 'Mistake',\n",
       " 'zscoreChannel': False,\n",
       " 'serial': True,\n",
       " 'metricSettings': None,\n",
       " 'dimOrdTrg': 'p',\n",
       " 'multiplexKey': None}"
      ]
     },
     "metadata": {},
     "output_type": "display_data"
    },
    {
     "name": "stdout",
     "output_type": "stream",
     "text": [
      "For Interval test passed\n",
      "For Phase test passed\n"
     ]
    },
    {
     "data": {
      "text/plain": [
       "'Testing'"
      ]
     },
     "metadata": {},
     "output_type": "display_data"
    },
    {
     "data": {
      "text/plain": [
       "{'datatype': 'deconv',\n",
       " 'mousename': 'm061',\n",
       " 'performance': 'Correct',\n",
       " 'direction': 'L',\n",
       " 'zscoreChannel': False,\n",
       " 'serial': True,\n",
       " 'metricSettings': None,\n",
       " 'dimOrdTrg': '',\n",
       " 'multiplexKey': None}"
      ]
     },
     "metadata": {},
     "output_type": "display_data"
    },
    {
     "name": "stdout",
     "output_type": "stream",
     "text": [
      "For Interval test passed\n",
      "For Phase test passed\n"
     ]
    },
    {
     "data": {
      "text/plain": [
       "'Testing'"
      ]
     },
     "metadata": {},
     "output_type": "display_data"
    },
    {
     "data": {
      "text/plain": [
       "{'datatype': 'deconv',\n",
       " 'mousename': 'm061',\n",
       " 'performance': 'Correct',\n",
       " 'direction': 'L',\n",
       " 'zscoreChannel': False,\n",
       " 'serial': True,\n",
       " 'metricSettings': None,\n",
       " 'dimOrdTrg': 'p',\n",
       " 'multiplexKey': None}"
      ]
     },
     "metadata": {},
     "output_type": "display_data"
    },
    {
     "name": "stdout",
     "output_type": "stream",
     "text": [
      "For Interval test passed\n",
      "For Phase test passed\n"
     ]
    },
    {
     "data": {
      "text/plain": [
       "'Testing'"
      ]
     },
     "metadata": {},
     "output_type": "display_data"
    },
    {
     "data": {
      "text/plain": [
       "{'datatype': 'deconv',\n",
       " 'mousename': 'm061',\n",
       " 'performance': 'Correct',\n",
       " 'direction': 'R',\n",
       " 'zscoreChannel': False,\n",
       " 'serial': True,\n",
       " 'metricSettings': None,\n",
       " 'dimOrdTrg': '',\n",
       " 'multiplexKey': None}"
      ]
     },
     "metadata": {},
     "output_type": "display_data"
    },
    {
     "name": "stdout",
     "output_type": "stream",
     "text": [
      "For Interval test passed\n",
      "For Phase test passed\n"
     ]
    },
    {
     "data": {
      "text/plain": [
       "'Testing'"
      ]
     },
     "metadata": {},
     "output_type": "display_data"
    },
    {
     "data": {
      "text/plain": [
       "{'datatype': 'deconv',\n",
       " 'mousename': 'm061',\n",
       " 'performance': 'Correct',\n",
       " 'direction': 'R',\n",
       " 'zscoreChannel': False,\n",
       " 'serial': True,\n",
       " 'metricSettings': None,\n",
       " 'dimOrdTrg': 'p',\n",
       " 'multiplexKey': None}"
      ]
     },
     "metadata": {},
     "output_type": "display_data"
    },
    {
     "name": "stdout",
     "output_type": "stream",
     "text": [
      "For Interval test passed\n",
      "For Phase test passed\n"
     ]
    },
    {
     "data": {
      "text/plain": [
       "'Testing'"
      ]
     },
     "metadata": {},
     "output_type": "display_data"
    },
    {
     "data": {
      "text/plain": [
       "{'datatype': 'deconv',\n",
       " 'mousename': 'm061',\n",
       " 'performance': 'Correct',\n",
       " 'zscoreChannel': False,\n",
       " 'serial': True,\n",
       " 'metricSettings': None,\n",
       " 'dimOrdTrg': '',\n",
       " 'multiplexKey': None}"
      ]
     },
     "metadata": {},
     "output_type": "display_data"
    },
    {
     "name": "stdout",
     "output_type": "stream",
     "text": [
      "For Interval test passed\n",
      "For Phase test passed\n"
     ]
    },
    {
     "data": {
      "text/plain": [
       "'Testing'"
      ]
     },
     "metadata": {},
     "output_type": "display_data"
    },
    {
     "data": {
      "text/plain": [
       "{'datatype': 'deconv',\n",
       " 'mousename': 'm061',\n",
       " 'performance': 'Correct',\n",
       " 'zscoreChannel': False,\n",
       " 'serial': True,\n",
       " 'metricSettings': None,\n",
       " 'dimOrdTrg': 'p',\n",
       " 'multiplexKey': None}"
      ]
     },
     "metadata": {},
     "output_type": "display_data"
    },
    {
     "name": "stdout",
     "output_type": "stream",
     "text": [
      "For Interval test passed\n",
      "For Phase test passed\n"
     ]
    },
    {
     "data": {
      "text/plain": [
       "'Testing'"
      ]
     },
     "metadata": {},
     "output_type": "display_data"
    },
    {
     "data": {
      "text/plain": [
       "{'datatype': 'deconv',\n",
       " 'mousename': 'm061',\n",
       " 'performance': 'Mistake',\n",
       " 'direction': 'L',\n",
       " 'zscoreChannel': False,\n",
       " 'serial': True,\n",
       " 'metricSettings': None,\n",
       " 'dimOrdTrg': '',\n",
       " 'multiplexKey': None}"
      ]
     },
     "metadata": {},
     "output_type": "display_data"
    },
    {
     "name": "stdout",
     "output_type": "stream",
     "text": [
      "For Interval test passed\n",
      "For Phase test passed\n"
     ]
    },
    {
     "data": {
      "text/plain": [
       "'Testing'"
      ]
     },
     "metadata": {},
     "output_type": "display_data"
    },
    {
     "data": {
      "text/plain": [
       "{'datatype': 'deconv',\n",
       " 'mousename': 'm061',\n",
       " 'performance': 'Mistake',\n",
       " 'direction': 'L',\n",
       " 'zscoreChannel': False,\n",
       " 'serial': True,\n",
       " 'metricSettings': None,\n",
       " 'dimOrdTrg': 'p',\n",
       " 'multiplexKey': None}"
      ]
     },
     "metadata": {},
     "output_type": "display_data"
    },
    {
     "name": "stdout",
     "output_type": "stream",
     "text": [
      "For Interval test passed\n",
      "For Phase test passed\n"
     ]
    },
    {
     "data": {
      "text/plain": [
       "'Testing'"
      ]
     },
     "metadata": {},
     "output_type": "display_data"
    },
    {
     "data": {
      "text/plain": [
       "{'datatype': 'deconv',\n",
       " 'mousename': 'm061',\n",
       " 'performance': 'Mistake',\n",
       " 'direction': 'R',\n",
       " 'zscoreChannel': False,\n",
       " 'serial': True,\n",
       " 'metricSettings': None,\n",
       " 'dimOrdTrg': '',\n",
       " 'multiplexKey': None}"
      ]
     },
     "metadata": {},
     "output_type": "display_data"
    },
    {
     "name": "stdout",
     "output_type": "stream",
     "text": [
      "No behaviour found for {'performance': 'Mistake', 'direction': 'R', 'session': 'm061_20190517'} ; skipping\n",
      "No behaviour found for {'performance': 'Mistake', 'direction': 'R', 'session': 'm061_20190517'} ; skipping\n",
      "No behaviour found for {'performance': 'Mistake', 'direction': 'R', 'session': 'm061_20190517'} ; skipping\n",
      "No behaviour found for {'performance': 'Mistake', 'direction': 'R', 'session': 'm061_20190517'} ; skipping\n",
      "No behaviour found for {'performance': 'Mistake', 'direction': 'R', 'session': 'm061_20190517'} ; skipping\n",
      "No behaviour found for {'performance': 'Mistake', 'direction': 'R', 'session': 'm061_20190517'} ; skipping\n",
      "No behaviour found for {'performance': 'Mistake', 'direction': 'R', 'session': 'm061_20190517'} ; skipping\n",
      "No behaviour found for {'performance': 'Mistake', 'direction': 'R', 'session': 'm061_20190517'} ; skipping\n",
      "No behaviour found for {'performance': 'Mistake', 'direction': 'R', 'session': 'm061_20190517'} ; skipping\n",
      "No behaviour found for {'performance': 'Mistake', 'direction': 'R', 'session': 'm061_20190517'} ; skipping\n",
      "No behaviour found for {'performance': 'Mistake', 'direction': 'R', 'session': 'm061_20190517'} ; skipping\n",
      "No behaviour found for {'performance': 'Mistake', 'direction': 'R', 'session': 'm061_20190517'} ; skipping\n",
      "No behaviour found for {'performance': 'Mistake', 'direction': 'R', 'session': 'm061_20190517'} ; skipping\n",
      "No behaviour found for {'performance': 'Mistake', 'direction': 'R', 'session': 'm061_20190517'} ; skipping\n",
      "No behaviour found for {'performance': 'Mistake', 'direction': 'R', 'session': 'm061_20190517'} ; skipping\n",
      "No behaviour found for {'performance': 'Mistake', 'direction': 'R', 'session': 'm061_20190517'} ; skipping\n",
      "No behaviour found for {'performance': 'Mistake', 'direction': 'R', 'session': 'm061_20190517'} ; skipping\n",
      "No behaviour found for {'performance': 'Mistake', 'direction': 'R', 'session': 'm061_20190517'} ; skipping\n",
      "For Interval test passed\n",
      "For Phase test passed\n"
     ]
    },
    {
     "data": {
      "text/plain": [
       "'Testing'"
      ]
     },
     "metadata": {},
     "output_type": "display_data"
    },
    {
     "data": {
      "text/plain": [
       "{'datatype': 'deconv',\n",
       " 'mousename': 'm061',\n",
       " 'performance': 'Mistake',\n",
       " 'direction': 'R',\n",
       " 'zscoreChannel': False,\n",
       " 'serial': True,\n",
       " 'metricSettings': None,\n",
       " 'dimOrdTrg': 'p',\n",
       " 'multiplexKey': None}"
      ]
     },
     "metadata": {},
     "output_type": "display_data"
    },
    {
     "name": "stdout",
     "output_type": "stream",
     "text": [
      "No behaviour found for {'performance': 'Mistake', 'direction': 'R', 'session': 'm061_20190517'} ; skipping\n",
      "No behaviour found for {'performance': 'Mistake', 'direction': 'R', 'session': 'm061_20190517'} ; skipping\n",
      "No behaviour found for {'performance': 'Mistake', 'direction': 'R', 'session': 'm061_20190517'} ; skipping\n",
      "No behaviour found for {'performance': 'Mistake', 'direction': 'R', 'session': 'm061_20190517'} ; skipping\n",
      "No behaviour found for {'performance': 'Mistake', 'direction': 'R', 'session': 'm061_20190517'} ; skipping\n",
      "No behaviour found for {'performance': 'Mistake', 'direction': 'R', 'session': 'm061_20190517'} ; skipping\n",
      "No behaviour found for {'performance': 'Mistake', 'direction': 'R', 'session': 'm061_20190517'} ; skipping\n",
      "No behaviour found for {'performance': 'Mistake', 'direction': 'R', 'session': 'm061_20190517'} ; skipping\n",
      "No behaviour found for {'performance': 'Mistake', 'direction': 'R', 'session': 'm061_20190517'} ; skipping\n",
      "No behaviour found for {'performance': 'Mistake', 'direction': 'R', 'session': 'm061_20190517'} ; skipping\n",
      "No behaviour found for {'performance': 'Mistake', 'direction': 'R', 'session': 'm061_20190517'} ; skipping\n",
      "No behaviour found for {'performance': 'Mistake', 'direction': 'R', 'session': 'm061_20190517'} ; skipping\n",
      "No behaviour found for {'performance': 'Mistake', 'direction': 'R', 'session': 'm061_20190517'} ; skipping\n",
      "No behaviour found for {'performance': 'Mistake', 'direction': 'R', 'session': 'm061_20190517'} ; skipping\n",
      "No behaviour found for {'performance': 'Mistake', 'direction': 'R', 'session': 'm061_20190517'} ; skipping\n",
      "No behaviour found for {'performance': 'Mistake', 'direction': 'R', 'session': 'm061_20190517'} ; skipping\n",
      "No behaviour found for {'performance': 'Mistake', 'direction': 'R', 'session': 'm061_20190517'} ; skipping\n",
      "No behaviour found for {'performance': 'Mistake', 'direction': 'R', 'session': 'm061_20190517'} ; skipping\n",
      "For Interval test passed\n",
      "For Phase test passed\n"
     ]
    },
    {
     "data": {
      "text/plain": [
       "'Testing'"
      ]
     },
     "metadata": {},
     "output_type": "display_data"
    },
    {
     "data": {
      "text/plain": [
       "{'datatype': 'deconv',\n",
       " 'mousename': 'm061',\n",
       " 'performance': 'Mistake',\n",
       " 'zscoreChannel': False,\n",
       " 'serial': True,\n",
       " 'metricSettings': None,\n",
       " 'dimOrdTrg': '',\n",
       " 'multiplexKey': None}"
      ]
     },
     "metadata": {},
     "output_type": "display_data"
    },
    {
     "name": "stdout",
     "output_type": "stream",
     "text": [
      "For Interval test passed\n",
      "For Phase test passed\n"
     ]
    },
    {
     "data": {
      "text/plain": [
       "'Testing'"
      ]
     },
     "metadata": {},
     "output_type": "display_data"
    },
    {
     "data": {
      "text/plain": [
       "{'datatype': 'deconv',\n",
       " 'mousename': 'm061',\n",
       " 'performance': 'Mistake',\n",
       " 'zscoreChannel': False,\n",
       " 'serial': True,\n",
       " 'metricSettings': None,\n",
       " 'dimOrdTrg': 'p',\n",
       " 'multiplexKey': None}"
      ]
     },
     "metadata": {},
     "output_type": "display_data"
    },
    {
     "name": "stdout",
     "output_type": "stream",
     "text": [
      "For Interval test passed\n",
      "For Phase test passed\n"
     ]
    }
   ],
   "source": [
    "metricName = \"mean\"\n",
    "\n",
    "def append(d, k, v):\n",
    "    if v is not None:\n",
    "        d[k] = v\n",
    "        \n",
    "def test(txt, a, b):\n",
    "    if not np.all(a==b):\n",
    "        raise ValueError(\"For\", txt, \"expected\", b, \"got\", a)\n",
    "    else:\n",
    "        print(\"For\", txt, \"test passed\")\n",
    "\n",
    "for mousename in miceSweep:\n",
    "    nMice = len(dataDB.mice) if mousename is None else 1\n",
    "    for dataType in dataTypeSweep:\n",
    "        nSession = dataDB.get_nsession(mousename, dataType)\n",
    "\n",
    "        for performance in perfSweep:\n",
    "            nIntervals = len(dataDB.metaDataFrames['interval_maps'][performance]) - 1\n",
    "            nPhases = len(dataDB.phases[performance])\n",
    "\n",
    "            for direction in dirSweep:\n",
    "                trgDimSweepEff = trgDimSweep if mousename is not None else [\"\"]\n",
    "\n",
    "                for trgDimOrd in trgDimSweepEff:\n",
    "                    multiplexKeySweepEff = multiplexKeySweep if mousename is None else [None]\n",
    "                    for multiplexKey in multiplexKeySweepEff:\n",
    "                        queryThis = {}\n",
    "                        append(queryThis, \"datatype\", dataType)\n",
    "                        append(queryThis, \"mousename\", mousename)\n",
    "                        append(queryThis, \"performance\", performance)\n",
    "                        append(queryThis, \"direction\", direction)\n",
    "\n",
    "                        settings = {\"zscoreChannel\" : False, \"serial\" : True, \"metricSettings\" : None}\n",
    "\n",
    "                        display(\"Testing\", {**queryThis, **settings, \"dimOrdTrg\" : trgDimOrd, \"multiplexKey\" : multiplexKey})\n",
    "\n",
    "                        rezInterv = metric_by_interval(dataDB, queryThis, metricName, trgDimOrd, settings, multiplexKey=multiplexKey)\n",
    "                        rezPhase = metric_by_phase(dataDB, queryThis, metricName, trgDimOrd, settings, multiplexKey=multiplexKey)\n",
    "\n",
    "                        testIntervShape = (nIntervals, )\n",
    "                        testPhaseShape = (nPhases, )\n",
    "\n",
    "                        if multiplexKey is not None:\n",
    "                            if multiplexKey == \"mousename\":\n",
    "                                testIntervShape += (nMice, )\n",
    "                                testPhaseShape += (nMice, )\n",
    "                            elif multiplexKey == \"session\":\n",
    "                                testIntervShape += (nSession, )\n",
    "                                testPhaseShape += (nSession, )\n",
    "\n",
    "                            #if mousename is not None:\n",
    "\n",
    "                        if \"p\" in trgDimOrd:\n",
    "                            nChannels = dataDB.get_nchannel(mousename, dataType)\n",
    "                            testIntervShape += (nChannels, )\n",
    "                            testPhaseShape += (nChannels, )\n",
    "\n",
    "                        test(\"Interval\", rezInterv.shape, testIntervShape)\n",
    "                        test(\"Phase\", rezPhase.shape, testPhaseShape)"
   ]
  },
  {
   "cell_type": "code",
   "execution_count": null,
   "metadata": {},
   "outputs": [],
   "source": []
  }
 ],
 "metadata": {
  "kernelspec": {
   "display_name": "Python (nest)",
   "language": "python",
   "name": "py36nest"
  },
  "language_info": {
   "codemirror_mode": {
    "name": "ipython",
    "version": 3
   },
   "file_extension": ".py",
   "mimetype": "text/x-python",
   "name": "python",
   "nbconvert_exporter": "python",
   "pygments_lexer": "ipython3",
   "version": "3.6.6"
  }
 },
 "nbformat": 4,
 "nbformat_minor": 2
}

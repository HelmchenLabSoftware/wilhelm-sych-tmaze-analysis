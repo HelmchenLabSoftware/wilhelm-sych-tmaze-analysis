{
 "cells": [
  {
   "cell_type": "code",
   "execution_count": null,
   "metadata": {},
   "outputs": [],
   "source": [
    "# Standard libraries\n",
    "import pandas as pd\n",
    "import numpy as np\n",
    "import h5py\n",
    "import json\n",
    "import matplotlib.pyplot as plt\n",
    "from ipywidgets import interactive, IntProgress\n",
    "from IPython.display import display\n",
    "\n",
    "# Append base directory\n",
    "import os,sys,inspect\n",
    "rootname = \"chernysheva-tmaze-analysis-2020\"\n",
    "thispath = os.path.dirname(os.path.abspath(inspect.getfile(inspect.currentframe())))\n",
    "rootpath = os.path.join(thispath[:thispath.index(rootname)], rootname)\n",
    "sys.path.append(rootpath)\n",
    "print(\"Appended root directory\", rootpath)\n",
    "\n",
    "# User libraries\n",
    "from mesostat.utils.qt_helper import gui_fnames, gui_fpath\n",
    "\n",
    "from src.lib.data_db import BehaviouralNeuronalDatabase\n",
    "#from src.lib.extra_metrics import num_non_zero_std, num_sample\n",
    "from src.lib.significant_cells_lib import SignificantCells\n",
    "import src.lib.analysis.temporal_order as tempord\n",
    "\n",
    "%load_ext autoreload\n",
    "%autoreload 2"
   ]
  },
  {
   "cell_type": "code",
   "execution_count": null,
   "metadata": {
    "collapsed": true
   },
   "outputs": [],
   "source": [
    "# tmp_path = root_path_data if 'root_path_data' in locals() else \"./\"\n",
    "params = {}\n",
    "#params['root_path_data']  = gui_fpath(\"Path to data files\", \"./\")\n",
    "# params['root_path_dff'] = '/media/alyosha/Data/TE_data/mariadata/dff/'\n",
    "# params['root_path_deconv'] = '/media/alyosha/Data/TE_data/mariadata/deconv/'\n",
    "# params['root_path_dff'] = '/home/alyosha/Desktop/maria/dff/'\n",
    "# params['root_path_deconv'] = '/home/alyosha/Desktop/maria/deconv/'\n",
    "params['root_path_dff'] = '/media/aleksejs/DataHDD/work/data/maria/dff/'\n",
    "params['root_path_deconv'] = '/media/aleksejs/DataHDD/work/data/maria/deconv/'"
   ]
  },
  {
   "cell_type": "code",
   "execution_count": null,
   "metadata": {
    "collapsed": true
   },
   "outputs": [],
   "source": [
    "dataDB = BehaviouralNeuronalDatabase(params)"
   ]
  },
  {
   "cell_type": "code",
   "execution_count": null,
   "metadata": {},
   "outputs": [],
   "source": [
    "dataDB.read_neuro_files()"
   ]
  },
  {
   "cell_type": "code",
   "execution_count": null,
   "metadata": {},
   "outputs": [],
   "source": [
    "dataDB.read_behavior_files()"
   ]
  },
  {
   "cell_type": "code",
   "execution_count": null,
   "metadata": {
    "collapsed": true
   },
   "outputs": [],
   "source": [
    "significantCellsSelectorDatatype = {}\n",
    "\n",
    "for datatype in ['raw', 'deconv']:\n",
    "    signCellsMaintenance = SignificantCells('significant_cells_'+datatype+'_mt.h5').get_cells_by_mouse()\n",
    "    signCellsReward = SignificantCells('significant_cells_'+datatype+'_enc_reward.h5').get_cells_by_mouse()\n",
    "\n",
    "    significantCellsSelectorDatatype[datatype] = {\n",
    "        'None' : None,\n",
    "        'Maintenance' : signCellsMaintenance,\n",
    "        'Reward' : signCellsReward\n",
    "    }"
   ]
  },
  {
   "cell_type": "markdown",
   "metadata": {},
   "source": [
    "# Q1: Do temporal features predict modality\n",
    "\n",
    "Predictors:\n",
    "* mean by cell, variance of mean by cell\n",
    "* temporal_order by cell -> (cell-wise test, proxy via tsne)\n",
    "* legendre basis by cell -> (cell-wise base wise test, proxy via tsne)\n",
    "* var(temp_order) by trial by cell -> (cell-wise test, proxy via tsne)\n",
    "* var(legendre_basis) by trial by cell -> (cell-wise test, proxy via tsne)\n",
    "* binary_orderability\n",
    "    - permutation test on directly on ABO\n",
    "    - (maybe) significance matrix for each link, test counting (prob. via permutation test)\n",
    "* sequencability -> proxy via tsne (count if cell does approx 1 spike)\n",
    "\n",
    "Variations:\n",
    "* Time : [Stretched, Min-cropped]\n",
    "* Cells : [All, Significantly active]"
   ]
  },
  {
   "cell_type": "markdown",
   "metadata": {},
   "source": [
    "## 1.1 Temporal Mean by cell"
   ]
  },
  {
   "cell_type": "code",
   "execution_count": null,
   "metadata": {
    "collapsed": true,
    "scrolled": true
   },
   "outputs": [],
   "source": [
    "rezDFDict = {}\n",
    "for datatype in ['raw', 'deconv']:\n",
    "    for interval in range(6, 9):\n",
    "        for condition in ['performance', 'direction']:\n",
    "            key = (datatype, interval, condition)\n",
    "            print(key)\n",
    "            \n",
    "            rezDF = tempord.count_significant_cells(dataDB, datatype, {\"interval\" : interval},\n",
    "                                                    condition, \"ord_mean\")\n",
    "            rezDFDict[key] = rezDF\n",
    "            \n",
    "with pd.option_context('display.max_rows', None, 'display.max_columns', None):\n",
    "    display(merge_df_from_dict(rezDFDict, ['interval', 'datatype', 'condition']))"
   ]
  },
  {
   "cell_type": "markdown",
   "metadata": {},
   "source": [
    "## 1.2 Variance of Temporal Mean by cell"
   ]
  },
  {
   "cell_type": "code",
   "execution_count": null,
   "metadata": {
    "collapsed": true,
    "scrolled": true
   },
   "outputs": [],
   "source": [
    "diff_func = lambda x,y: np.std(x) - np.std(y)\n",
    "\n",
    "rezDFDict = {}\n",
    "for datatype in ['raw', 'deconv']:\n",
    "    for interval in range(6, 9):\n",
    "        for condition in ['performance', 'direction']:\n",
    "            key = (datatype, interval, condition)\n",
    "            print(key)\n",
    "            \n",
    "            rezDF = tempord.count_significant_cells(dataDB, datatype, {\"interval\" : interval},\n",
    "                                                     condition, \"ord_mean\", proxyFunc=diff_func, nResample=1000)\n",
    "            rezDFDict[key] = rezDF\n",
    "            \n",
    "with pd.option_context('display.max_rows', None, 'display.max_columns', None):\n",
    "    display(merge_df_from_dict(rezDFDict, ['interval', 'datatype', 'condition']))"
   ]
  },
  {
   "cell_type": "markdown",
   "metadata": {},
   "source": [
    "## 1.3 Legendre Basis by cell"
   ]
  },
  {
   "cell_type": "code",
   "execution_count": null,
   "metadata": {
    "collapsed": true,
    "scrolled": true
   },
   "outputs": [],
   "source": [
    "rezDFDict = {}\n",
    "for datatype in ['raw', 'deconv']:\n",
    "    for interval in range(6, 9):\n",
    "        for condition in ['performance', 'direction']:\n",
    "            for basisIdx in [1, 2]:            \n",
    "                key = (datatype, interval, condition, basisIdx)\n",
    "                print(key)\n",
    "\n",
    "                rezDF = tempord.count_significant_cells_legendre(dataDB, datatype, {\"interval\" : iInterv},\n",
    "                                                                  condition, basisIdx)\n",
    "                rezDFDict[key] = rezDF\n",
    "            \n",
    "with pd.option_context('display.max_rows', None, 'display.max_columns', None):\n",
    "    display(merge_df_from_dict(rezDFDict, ['interval', 'datatype', 'condition', 'basisIdx']))"
   ]
  },
  {
   "cell_type": "markdown",
   "metadata": {},
   "source": [
    "### Legendre STD"
   ]
  },
  {
   "cell_type": "code",
   "execution_count": null,
   "metadata": {
    "collapsed": true
   },
   "outputs": [],
   "source": [
    "rezDFDict = {}\n",
    "for datatype in ['raw', 'deconv']:\n",
    "    for interval in range(6, 9):\n",
    "        for condition in ['performance', 'direction']:\n",
    "            for basisIdx in [1, 2]:            \n",
    "                key = (datatype, interval, condition, basisIdx)\n",
    "                print(key)\n",
    "\n",
    "                rezDF = tempord.count_significant_cells_legendre(dataDB, datatype, {\"interval\" : iInterv},\n",
    "                                                                  condition, basisIdx, proxyFunc=np.std)\n",
    "                rezDFDict[key] = rezDF\n",
    "            \n",
    "with pd.option_context('display.max_rows', None, 'display.max_columns', None):\n",
    "    display(merge_df_from_dict(rezDFDict, ['interval', 'datatype', 'condition', 'basisIdx']))"
   ]
  },
  {
   "cell_type": "markdown",
   "metadata": {},
   "source": [
    "# 2 Testing orderability\n",
    "\n",
    "1. For each trial and channel, compute temporal means\n",
    "2. For a set of trials, compute average binary orderability from temporal means\n",
    "3. Do permutation test on modality trials"
   ]
  },
  {
   "cell_type": "code",
   "execution_count": null,
   "metadata": {
    "collapsed": true,
    "scrolled": true
   },
   "outputs": [],
   "source": [
    "rezDFDict = {}\n",
    "for datatype in ['raw', 'deconv']:\n",
    "    for interval in range(6, 9):\n",
    "        for condition in ['performance', 'direction']:\n",
    "            for signCellsName, signCells in significantCellsSelectorDatatype[datatype].items():\n",
    "                key = (datatype, interval, condition, signCellsName)\n",
    "                print(key)\n",
    "                \n",
    "                rezDF = tempord.test_orderability(dataDB, datatype, {\"interval\" : interval}, condition,\n",
    "                                          signCellsMouseDict=signCells)\n",
    "                rezDFDict[key] = rezDF\n",
    "            \n",
    "with pd.option_context('display.max_rows', None, 'display.max_columns', None):\n",
    "    display(merge_df_from_dict(rezDFDict, ['interval', 'datatype', 'condition', 'filter']))"
   ]
  },
  {
   "cell_type": "markdown",
   "metadata": {},
   "source": [
    "# Q2: Presence of relative temporal structure in the firing pattern\n",
    "\n",
    "Metrics:\n",
    "* Temporal Mean\n",
    "* Bivariate Orderability (undirected)\n",
    "* Bivariate Orderability (directed)\n",
    "\n",
    "Hypotheses:\n",
    "* Neurons are more orderable than random - **True**\n",
    "    * Neurons cluster by being orderable outside cluster but not inside - **True**\n",
    "        * Can be explained by average timing preference - **True**\n",
    "    * Exist cells that possess time-invariant orderability - **False**\n",
    "        * No evidence of orderability beyond average timing\n",
    "* Some neurons are useless at global orderability\n",
    "\n",
    "TODO:\n",
    "* Test if temporal mean is significantly different from 0.5\n",
    "    * test mean-0.5\n",
    "    * test var(mean-0.5)\n",
    "    * mark cells as useful or useless\n",
    "* Significance of ABO:\n",
    "    - Permutation-test ABO by interval, including maintenance and retrieval\n",
    "    - Filter cells, see if filtered have higher orderability"
   ]
  },
  {
   "cell_type": "markdown",
   "metadata": {},
   "source": [
    "# Stability of Temporal Mean"
   ]
  },
  {
   "cell_type": "code",
   "execution_count": null,
   "metadata": {
    "collapsed": true
   },
   "outputs": [],
   "source": [
    "tempord.plot_stability_temporal_mean(dataDB)"
   ]
  },
  {
   "cell_type": "markdown",
   "metadata": {},
   "source": [
    "## Undirected Orderability"
   ]
  },
  {
   "cell_type": "code",
   "execution_count": null,
   "metadata": {
    "collapsed": true,
    "scrolled": true
   },
   "outputs": [],
   "source": [
    "%%time\n",
    "for datatype in ['raw', 'deconv']:\n",
    "    for phaseType in ['semiphase']:#['phase', 'interval', 'semiphase']:\n",
    "        for phaseTypeVal in dataDB.get_phasetype_keys_from_phase('Maintenance', phaseType, 'Correct'):\n",
    "            queryDict = {'datatype' : datatype}\n",
    "            tempord.plot_undirected_orderability(dataDB, queryDict, {phaseType : phaseTypeVal},\n",
    "                                                 nResample=100, signCellsMouseDict=None)"
   ]
  },
  {
   "cell_type": "markdown",
   "metadata": {},
   "source": [
    "## Storing cell-average orderability"
   ]
  },
  {
   "cell_type": "code",
   "execution_count": null,
   "metadata": {
    "collapsed": true
   },
   "outputs": [],
   "source": [
    "tempord.write_cell_avg_orderability(dataDB, 'data.json')"
   ]
  },
  {
   "cell_type": "markdown",
   "metadata": {},
   "source": [
    "## Directed Orderability"
   ]
  },
  {
   "cell_type": "code",
   "execution_count": null,
   "metadata": {
    "scrolled": true
   },
   "outputs": [],
   "source": [
    "for datatype in ['raw', 'deconv']:\n",
    "    for phaseType in ['semiphase']: #['phase', 'interval', 'semiphase']:\n",
    "        for phaseTypeVal in dataDB.get_phasetype_keys_from_phase('Maintenance', phaseType, 'Correct'):\n",
    "#             for signCellsName, signCells in significantCellsSelectorDatatype[datatype].items():\n",
    "#             signCellSelecor = {signCellsName : signCells}\n",
    "            signCellsName = 'None'\n",
    "            signCellsSelecor = None\n",
    "            \n",
    "            key = (datatype, phaseType, phaseTypeVal, signCellsName)\n",
    "            print(key)\n",
    "\n",
    "            selector = {phaseType : phaseTypeVal}\n",
    "            tempord.plot_directed_orderability(dataDB, datatype, selector, signCellsSelector=signCellsSelecor)"
   ]
  },
  {
   "cell_type": "markdown",
   "metadata": {},
   "source": [
    "# Compare orderability between phase and its semiphases"
   ]
  },
  {
   "cell_type": "code",
   "execution_count": null,
   "metadata": {
    "scrolled": false
   },
   "outputs": [],
   "source": [
    "tempord.plots_directed_orderability_subphase_comparison(dataDB, 'deconv', 'Maintenance')"
   ]
  },
  {
   "cell_type": "markdown",
   "metadata": {},
   "source": [
    "# Example Traces for Directed Orderability"
   ]
  },
  {
   "cell_type": "code",
   "execution_count": null,
   "metadata": {
    "collapsed": true,
    "scrolled": false
   },
   "outputs": [],
   "source": [
    "tempord.plot_two_cell_temporal_means_bytrial(dataDB, \"deconv\", \"m060\", {\"interval\" : 8}, 32, 57)"
   ]
  },
  {
   "cell_type": "markdown",
   "metadata": {},
   "source": [
    "# Testing if Average orderability above null"
   ]
  },
  {
   "cell_type": "code",
   "execution_count": null,
   "metadata": {
    "collapsed": true
   },
   "outputs": [],
   "source": [
    "for datatype in ['raw', 'deconv']:\n",
    "    \n",
    "     #for signCellsName, signCells in significantCellsSelectorDatatype[datatype].items():\n",
    "#         test_average_orderability(dataDB, datatype, 'semiphase', 'Correct', signCellsSelector={signCellsName:signCells})\n",
    "    orderability.test_average_orderability(dataDB, datatype, 'semiphase', 'Correct',\n",
    "                                           signCellsSelector=None, withSEM=True, permStrategy='trial')"
   ]
  },
  {
   "cell_type": "code",
   "execution_count": null,
   "metadata": {
    "collapsed": true
   },
   "outputs": [],
   "source": [
    "for datatype in ['raw', 'deconv']:\n",
    "    \n",
    "     #for signCellsName, signCells in significantCellsSelectorDatatype[datatype].items():\n",
    "#         test_average_orderability(dataDB, datatype, 'semiphase', 'Correct', signCellsSelector={signCellsName:signCells})\n",
    "    orderability.test_average_orderability(dataDB, datatype, 'semiphase', 'Correct',\n",
    "                                           signCellsSelector=None, withSEM=True, permStrategy='neuron')"
   ]
  },
  {
   "cell_type": "code",
   "execution_count": null,
   "metadata": {},
   "outputs": [],
   "source": []
  }
 ],
 "metadata": {
  "kernelspec": {
   "display_name": "Py3QT5",
   "language": "python",
   "name": "py3qt5"
  },
  "language_info": {
   "codemirror_mode": {
    "name": "ipython",
    "version": 3
   },
   "file_extension": ".py",
   "mimetype": "text/x-python",
   "name": "python",
   "nbconvert_exporter": "python",
   "pygments_lexer": "ipython3",
   "version": "3.8.5"
  }
 },
 "nbformat": 4,
 "nbformat_minor": 2
}

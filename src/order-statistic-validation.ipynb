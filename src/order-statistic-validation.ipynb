{
 "cells": [
  {
   "cell_type": "markdown",
   "metadata": {},
   "source": [
    "**TODO-Analytic:**\n",
    "  * Conf. Bounds l(p), r(p) for pairwise order coefficient\n",
    "  * Conf. Bounds l(p), r(p) for multivariate order coefficient\n",
    "\n",
    "**TODO-Numeric:**\n",
    "  * Test effect of trial number\n",
    "  * Test effect of event number\n",
    "  * Test effect of bootstrap count"
   ]
  },
  {
   "cell_type": "code",
   "execution_count": null,
   "metadata": {
    "collapsed": true
   },
   "outputs": [],
   "source": [
    "import numpy as np\n",
    "import matplotlib.pyplot as plt\n",
    "\n",
    "def metric(t1, t2):\n",
    "    ord12 = (t1 < t2).astype(float)\n",
    "    return np.abs(2*np.mean(ord12) - 1)"
   ]
  },
  {
   "cell_type": "markdown",
   "metadata": {},
   "source": [
    "## Ordering for data\n",
    "\n",
    "1. Subtract minimum and normalize\n",
    "2. Compute CDF\n",
    "3. Subtract CDF and integrate"
   ]
  },
  {
   "cell_type": "code",
   "execution_count": null,
   "metadata": {},
   "outputs": [],
   "source": [
    "##################\n",
    "# Generate Data\n",
    "##################\n",
    "\n",
    "def addConv(data, r):\n",
    "    for i in range(len(data)-1):\n",
    "        data[i+1] += r * data[i]\n",
    "    return data\n",
    "\n",
    "# Convert data to probability distribution\n",
    "def rescale(x):\n",
    "    #xnorm = x - np.min(x)            # Subtract minimum\n",
    "    xnorm = x - np.percentile(x, 40)  # Subtract minimum\n",
    "    xnorm[xnorm < 0] = 0\n",
    "    return xnorm / np.sum(xnorm)      # Normalize\n",
    "\n",
    "def CDF(p):\n",
    "    rez = np.zeros(len(p) + 1)\n",
    "    for i in range(len(p)):\n",
    "        rez[i+1] = rez[i] + p[i]\n",
    "    return rez\n",
    "\n",
    "# Generate slow data\n",
    "nPoints = 100\n",
    "x = addConv(np.random.normal(0, 1, nPoints), 0.7)\n",
    "y = addConv(np.random.normal(0, 1, nPoints), 0.7)\n",
    "x = rescale(x)\n",
    "y = rescale(y)\n",
    "\n",
    "##################\n",
    "# Generate CDF\n",
    "##################\n",
    "cdfX = CDF(x)\n",
    "cdfY = CDF(y)\n",
    "deltaCDF = cdfX - cdfY\n",
    "orderFunc = np.sum(deltaCDF)\n",
    "\n",
    "print(\"Order function is\", orderFunc, \"so the earlier trace is\", int(orderFunc<0))\n",
    "\n",
    "fig, ax = plt.subplots(ncols = 3, figsize=(15,5))\n",
    "ax[0].set_title(\"Two slow noisy datasets\")\n",
    "ax[0].plot(x, label='data1')\n",
    "ax[0].plot(y, label='data2')\n",
    "ax[0].legend()\n",
    "\n",
    "ax[1].set_title(\"CDF's for both data sets\")\n",
    "ax[1].plot(cdfX, label='data1')\n",
    "ax[1].plot(cdfY, label='data2')\n",
    "ax[1].legend()\n",
    "\n",
    "ax[2].set_title(\"CDF difference\")\n",
    "ax[2].plot(deltaCDF)\n",
    "\n",
    "plt.show()"
   ]
  },
  {
   "cell_type": "markdown",
   "metadata": {},
   "source": [
    "## Pairwise orderability\n",
    "\n",
    "How to determine if one event consistently happens before/after another one?\n",
    "\n",
    "Approach:\n",
    "  1. Compute $b_i = x < y$. For noisy data can compare means or cumulatives\n",
    "  2. Assume $N_{<} = \\sum_i b_i \\sim Bin(p, N)$ - all events have iid binomial distribution\n",
    "  3. Compute expected value $\\hat{p} = \\frac{N_{<}}{N}$\n",
    "  4. Define orderability coefficient $c = |2\\hat{p} - 1|$, s.t. $c \\in [0,1]$\n",
    "  5. Compute empirical distribution of $c$ under $H_0 : p=0.5$, compute confidence threshold $c_{\\max}(\\alpha)$ s.t. under $H_0$ we have $c > c_{max}$ with probability at most $\\alpha$."
   ]
  },
  {
   "cell_type": "code",
   "execution_count": null,
   "metadata": {},
   "outputs": [],
   "source": [
    "pValLst = [0.01, 0.05]\n",
    "pValCol = ['r', 'y']\n",
    "nTrial = 59\n",
    "nBootstrap = 10000\n",
    "\n",
    "metricLst = []\n",
    "for i in range(nBootstrap):\n",
    "\n",
    "    times1 = np.random.uniform(0, 1, nTrial)\n",
    "    times2 = np.random.uniform(0, 1, nTrial)\n",
    "    metricLst += [metric(times1, times2)]\n",
    "\n",
    "plt.figure()\n",
    "plt.hist(metricLst, bins='auto')\n",
    "plt.xlabel(\"Orderability coefficient\")\n",
    "plt.title(\"Orderability of random data\")\n",
    "\n",
    "for pVal, col in zip(pValLst, pValCol):\n",
    "    empL = np.percentile(metricLst, 100*pVal)\n",
    "    empR = np.percentile(metricLst, 100*(1-pVal))\n",
    "    print(\"For p =\", pVal, \"empirical confidence interval for bivariate order metric is\", [empL, empR])\n",
    "    plt.axvline(x=empL, linestyle='--', color=col, label=str(pVal))\n",
    "    plt.axvline(x=empR, linestyle='--', color=col)\n",
    "\n",
    "plt.legend()\n",
    "plt.show()"
   ]
  },
  {
   "cell_type": "markdown",
   "metadata": {},
   "source": [
    "## Multivariate Orderability\n",
    "\n",
    "How to determine if multiple events are orderable\n",
    "\n",
    "Approach:\n",
    "  1. Compute pairwise \"earlier\" count $N^{<}_{ij}$\n",
    "  2. Compute pairwise orderability $c_{ij}$ matrix (excl. diagonal)\n",
    "  3. Define multivariate orderability $C = \\bar{c}$ as mean over pairwise coefficients\n",
    "  4. Compute empirical confidence intervals for $C$ under $H_0 : t_{ij} = U(0,1) \\; \\forall i,j$ that all events $i$ at all repetitions $j$ are random and uniform.\n",
    "  5. Test if $C$ for real data is inside the interval"
   ]
  },
  {
   "cell_type": "code",
   "execution_count": null,
   "metadata": {},
   "outputs": [],
   "source": [
    "pValLst = [0.01, 0.05]\n",
    "pValCol = ['r', 'y']\n",
    "nEvent = 20\n",
    "nTrial = 59\n",
    "nBootstrap = 10000\n",
    "\n",
    "metricLst = []\n",
    "\n",
    "for i in range(nBootstrap):\n",
    "    times = np.random.uniform(0, 1, (nEvent, nTrial))\n",
    "\n",
    "    ordMatL = []\n",
    "    for i in range(nEvent):\n",
    "        for j in range(i+1, nEvent):\n",
    "            ordMatL += [metric(times[i], times[j])]\n",
    "\n",
    "    metricLst += [np.mean(ordMatL)]\n",
    "\n",
    "plt.figure()\n",
    "plt.hist(metricLst, bins='auto')\n",
    "plt.xlabel(\"Mean Orderability coefficient\")\n",
    "plt.title(\"Orderability of random data of \" +str(nEvent) + \" events\")\n",
    "\n",
    "for pVal, col in zip(pValLst, pValCol):\n",
    "    empL = np.percentile(metricLst, 100*pVal/2)\n",
    "    empR = np.percentile(metricLst, 100*(1-pVal/2))\n",
    "    print(\"For p =\", pVal, \"empirical confidence interval for multivariate order metric is\", [empL, empR])\n",
    "    plt.axvline(x=empL, linestyle='--', color=col, label=str(pVal))\n",
    "    plt.axvline(x=empR, linestyle='--', color=col)\n",
    "plt.legend()\n",
    "plt.show()"
   ]
  },
  {
   "cell_type": "code",
   "execution_count": null,
   "metadata": {
    "collapsed": true
   },
   "outputs": [],
   "source": []
  }
 ],
 "metadata": {
  "kernelspec": {
   "display_name": "Python (py36qt5)",
   "language": "python",
   "name": "py36qt5"
  },
  "language_info": {
   "codemirror_mode": {
    "name": "ipython",
    "version": 3
   },
   "file_extension": ".py",
   "mimetype": "text/x-python",
   "name": "python",
   "nbconvert_exporter": "python",
   "pygments_lexer": "ipython3",
   "version": "3.6.4"
  }
 },
 "nbformat": 4,
 "nbformat_minor": 2
}

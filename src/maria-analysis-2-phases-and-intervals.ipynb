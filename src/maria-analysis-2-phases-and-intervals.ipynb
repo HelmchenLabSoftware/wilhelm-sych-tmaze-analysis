{
 "cells": [
  {
   "cell_type": "code",
   "execution_count": null,
   "metadata": {},
   "outputs": [],
   "source": [
    "# Standard libraries\n",
    "from copy import deepcopy\n",
    "\n",
    "import json\n",
    "import pandas as pd\n",
    "import numpy as np\n",
    "import matplotlib.pyplot as plt\n",
    "from ipywidgets import interactive, IntProgress\n",
    "from IPython.display import display\n",
    "\n",
    "# Append base directory\n",
    "import os,sys,inspect\n",
    "rootname = \"chernysheva-tmaze-analysis-2020\"\n",
    "thispath = os.path.dirname(os.path.abspath(inspect.getfile(inspect.currentframe())))\n",
    "rootpath = os.path.join(thispath[:thispath.index(rootname)], rootname)\n",
    "sys.path.append(rootpath)\n",
    "print(\"Appended root directory\", rootpath)\n",
    "\n",
    "from scipy.stats import mannwhitneyu, wilcoxon, binom_test, combine_pvalues\n",
    "\n",
    "# User libraries\n",
    "from mesostat.utils.qt_helper import gui_fnames, gui_fpath\n",
    "from mesostat.utils.arrays import numpy_merge_dimensions\n",
    "from mesostat.stat.connectomics import offdiag_1D\n",
    "from mesostat.utils.plotting import imshow, stat_annot_patches, custom_grad_cmap\n",
    "from mesostat.utils.pandas_helper import get_rows_colvals\n",
    "\n",
    "from src.lib.data_db import BehaviouralNeuronalDatabase\n",
    "import src.lib.plots_lib as plots_lib\n",
    "import src.lib.table_lib as table_lib\n",
    "from src.lib.metric_wrapper import metric_by_selector_all, metric_by_selector\n",
    "from src.lib.extra_metrics import num_non_zero_std, num_sample\n",
    "import src.lib.tests_phase_signle_cell as single_cell_tests\n",
    "from src.lib.significant_cells_lib import SignificantCells\n",
    "\n",
    "%load_ext autoreload\n",
    "%autoreload 2"
   ]
  },
  {
   "cell_type": "code",
   "execution_count": null,
   "metadata": {
    "collapsed": true
   },
   "outputs": [],
   "source": [
    "# tmp_path = root_path_data if 'root_path_data' in locals() else \"./\"\n",
    "params = {}\n",
    "#params['root_path_data']  = gui_fpath(\"Path to data files\", \"./\")\n",
    "# params['root_path_dff'] = '/media/alyosha/Data/TE_data/mariadata/dff/'\n",
    "# params['root_path_deconv'] = '/media/alyosha/Data/TE_data/mariadata/deconv/'\n",
    "params['root_path_dff'] = '/media/aleksejs/DataHDD/work/data/maria/dff/'\n",
    "params['root_path_deconv'] = '/media/aleksejs/DataHDD/work/data/maria/deconv/'"
   ]
  },
  {
   "cell_type": "code",
   "execution_count": null,
   "metadata": {
    "collapsed": true
   },
   "outputs": [],
   "source": [
    "dataDB = BehaviouralNeuronalDatabase(params)"
   ]
  },
  {
   "cell_type": "code",
   "execution_count": null,
   "metadata": {},
   "outputs": [],
   "source": [
    "dataDB.read_neuro_files()"
   ]
  },
  {
   "cell_type": "code",
   "execution_count": null,
   "metadata": {
    "scrolled": false
   },
   "outputs": [],
   "source": [
    "dataDB.read_behavior_files()"
   ]
  },
  {
   "cell_type": "markdown",
   "metadata": {},
   "source": [
    "# 1. Neuron-Time-Average\n",
    "\n",
    "**Goal**: Attempt to predict phase from mean activity over trial"
   ]
  },
  {
   "cell_type": "markdown",
   "metadata": {},
   "source": [
    "# 2 Time-Average\n",
    "\n",
    "**Goal**: Attempt to predict phase from average activities of individual cells.\n",
    "* Count predictive cells in each mouse\n",
    "* Test overlap over phases/intervals - identify how many significant cells overlap"
   ]
  },
  {
   "cell_type": "markdown",
   "metadata": {},
   "source": [
    "## 2.1 avg-firing-rate by neuron\n",
    " -> heatmap by mouse | 1D plot by neurons"
   ]
  },
  {
   "cell_type": "code",
   "execution_count": null,
   "metadata": {
    "collapsed": true,
    "scrolled": true
   },
   "outputs": [],
   "source": [
    "def plot_avg_firing_rate_by_neuron(datatype, phaseType, haveWaiting=True):\n",
    "    settings = {\"zscoreChannel\" : False, \"serial\" : True, \"metricSettings\" : {}}\n",
    "\n",
    "    for mousename in sorted(dataDB.mice):\n",
    "        fig, ax = plt.subplots(ncols=4, figsize=(4*2, 6), tight_layout=True)\n",
    "        fig.suptitle(mousename)\n",
    "        iCol = 0\n",
    "\n",
    "        for performance in dataDB.get_performances():\n",
    "            if phaseType != 'phase':\n",
    "                boundingLines = dataDB.get_phase_bounding_lines(phaseType, performance, haveWaiting=haveWaiting)\n",
    "\n",
    "            for direction in dataDB.get_directions():\n",
    "                queryDict = {'datatype' : datatype, 'mousename' : mousename, 'performance' : performance, 'direction' : direction}\n",
    "                means = metric_by_selector_all(dataDB, queryDict, phaseType, 'mean', 'p', settings, haveWaiting=haveWaiting)                \n",
    "                means = means.T\n",
    "                \n",
    "                print(means.shape)\n",
    "\n",
    "                # Sort by max argument\n",
    "                # But only based on the first one (CL) so that all 4 combinations have the same sorting\n",
    "                if iCol == 0:\n",
    "                    idxsMaxArgs = np.argsort(np.array([np.argmax(m) for m in means]))\n",
    "                means = means[idxsMaxArgs]\n",
    "\n",
    "                title = direction[0] + performance[0]\n",
    "                imshow(fig, ax[iCol], means, limits=None, title=title, haveColorBar=True)\n",
    "                if phaseType != 'phase':\n",
    "                    for bline in boundingLines:\n",
    "                        ax[iCol].axvline(x=bline-1, linestyle='--', color='r', alpha=0.5)\n",
    "\n",
    "                iCol += 1\n",
    "\n",
    "        plt.savefig(mousename + '_avgrate_' + phaseType + '.pdf', dpi=600)\n",
    "        plt.close()"
   ]
  },
  {
   "cell_type": "markdown",
   "metadata": {},
   "source": [
    "### 2.1.1 avg-firing-rate by neuron and interval"
   ]
  },
  {
   "cell_type": "code",
   "execution_count": null,
   "metadata": {
    "collapsed": true,
    "scrolled": true
   },
   "outputs": [],
   "source": [
    "plot_avg_firing_rate_by_neuron('zscore', 'interval', haveWaiting=False)"
   ]
  },
  {
   "cell_type": "markdown",
   "metadata": {},
   "source": [
    "### 2.1.2 avg-firing-rate by neuron and phase"
   ]
  },
  {
   "cell_type": "code",
   "execution_count": null,
   "metadata": {
    "collapsed": true,
    "scrolled": true
   },
   "outputs": [],
   "source": [
    "plot_avg_firing_rate_by_neuron('zscore', 'phase', haveWaiting=False)"
   ]
  },
  {
   "cell_type": "code",
   "execution_count": null,
   "metadata": {
    "collapsed": true
   },
   "outputs": [],
   "source": [
    "plot_avg_firing_rate_by_neuron('zscore', 'semiphase', haveWaiting=False)"
   ]
  },
  {
   "cell_type": "markdown",
   "metadata": {},
   "source": [
    "## 2.2 significant-avg-firing-rate by neuron"
   ]
  },
  {
   "cell_type": "code",
   "execution_count": null,
   "metadata": {
    "collapsed": true
   },
   "outputs": [],
   "source": [
    "# cmapConfusion = gen_cmap_3color(\n",
    "#     np.array([255, 255, 255]),\n",
    "#     np.array([168, 217, 49]),\n",
    "#     np.array([255, 0, 0])\n",
    "# )\n",
    "\n",
    "cmapConfusion = custom_grad_cmap(\n",
    "    np.array([\n",
    "        [0,0,0],\n",
    "        [255,198,126],\n",
    "        [233,79,25]\n",
    "    ])\n",
    ")\n",
    "\n",
    "cmapSignificance = custom_grad_cmap(\n",
    "    np.array([\n",
    "        [255, 255, 255],\n",
    "        [233, 79, 25]\n",
    "    ])\n",
    ")"
   ]
  },
  {
   "cell_type": "code",
   "execution_count": null,
   "metadata": {
    "collapsed": true
   },
   "outputs": [],
   "source": [
    "def plot_significant_firing_rate_by_neuron(datatype, phaseType, confThr=0.01, haveWaiting=True):\n",
    "    settings = {\"zscoreChannel\" : False, \"serial\" : True, \"metricSettings\" : {}}\n",
    "\n",
    "    performanceValues = dataDB.get_performances()\n",
    "    directionValues = dataDB.get_directions()\n",
    "    \n",
    "    directionValues += ['All']\n",
    "    if phaseType == 'phase':\n",
    "        performanceValues += ['All']\n",
    "        \n",
    "    nCol = len(performanceValues) * len(directionValues)\n",
    "    cumulConfDict = {}\n",
    "    cumulMeansSignDict = {}\n",
    "    \n",
    "    for mousename in sorted(dataDB.mice):\n",
    "        print('doing mouse', mousename)\n",
    "        nChannel = dataDB.get_nchannel(mousename, datatype)\n",
    "\n",
    "        fig1, ax1 = plt.subplots(ncols=nCol, figsize=(nCol*2, 6), tight_layout=True)\n",
    "        fig2, ax2 = plt.subplots(ncols=nCol, figsize=(nCol*4, 4), tight_layout=True)\n",
    "        \n",
    "        fig1.suptitle(mousename)\n",
    "        fig2.suptitle(mousename)\n",
    "        \n",
    "        if phaseType=='phase':\n",
    "            fig3, ax3 = plt.subplots(ncols=nCol, figsize=(nCol*4, 4), tight_layout=True)\n",
    "            fig3.suptitle(mousename)\n",
    "            \n",
    "        iCol = 0\n",
    "\n",
    "        for performance in performanceValues:\n",
    "            if phaseType != 'phase':\n",
    "                boundingLines = dataDB.get_phase_bounding_lines(phaseType, performance, haveWaiting=haveWaiting)\n",
    "                    \n",
    "            for direction in directionValues:\n",
    "                queryDict = {'datatype' : datatype, 'mousename' : mousename}\n",
    "                if performance != 'All':\n",
    "                    queryDict = {**queryDict, **{'performance' : performance}}\n",
    "                if direction != 'All':\n",
    "                    queryDict = {**queryDict, **{'direction' : direction}}\n",
    "                    \n",
    "                # Calculate p-values\n",
    "                pVals2D = single_cell_tests.test_inverse_all_selectors(dataDB, queryDict, phaseType, metricName='mean', alternative=\"greater\", haveWaiting=haveWaiting, settings=settings)\n",
    "                negLogPVals2D = -np.log10(pVals2D)\n",
    "                \n",
    "                # Calculate significant cells and confusion matrix\n",
    "                signCellsByPhase = single_cell_tests.pvalues_2_significant_cells(pVals2D, confThr)\n",
    "                confMat = single_cell_tests.significance_confusion_matrix(signCellsByPhase) / nChannel\n",
    "\n",
    "                # Sort by max argument\n",
    "                # But only based on the first one (CL) so that all 4 combinations have the same sorting\n",
    "                if iCol == 0:\n",
    "                    idxsMaxArgs = np.argsort(np.array([np.argmax(p) for p in negLogPVals2D]))\n",
    "                negLogPVals2D = negLogPVals2D[idxsMaxArgs]\n",
    "\n",
    "                colorBoundingLines = 'white'\n",
    "                \n",
    "                ###########################\n",
    "                # Plot significance for each cell and phaseType\n",
    "                ###########################\n",
    "                cmapSignificant = 'copper' #'YlOrBr' # 'viridis'\n",
    "                title = direction[0] + performance[0]\n",
    "                if phaseType != 'phase':\n",
    "                    imshow(fig1, ax1[iCol], negLogPVals2D, limits=[0, 4], title=title, haveColorBar=True, cmap=cmapSignificant)\n",
    "                    for bline in boundingLines:\n",
    "                        ax1[iCol].axvline(x=bline-1, linestyle='--', color=colorBoundingLines, alpha=1)\n",
    "                else:\n",
    "                    imshow(fig1, ax1[iCol], negLogPVals2D, limits=[0, 4], title=title, haveTicks=True, haveColorBar=False, cmap=cmapSignificant)\n",
    "                    \n",
    "                ax1[iCol].set_yticks(np.arange(0, len(negLogPVals2D), 10))\n",
    "\n",
    "                ###########################\n",
    "                # Plot confusion matrix\n",
    "                ###########################\n",
    "                imshow(fig2, ax2[iCol], confMat, limits=[0, 1], title=title, haveColorBar=True, cmap=cmapConfusion)\n",
    "                if phaseType != 'phase':\n",
    "                    for bline in boundingLines:\n",
    "                        ax2[iCol].axvline(x=bline-1, linestyle='--', color=colorBoundingLines, alpha=1)\n",
    "                        ax2[iCol].axhline(y=bline-1, linestyle='--', color=colorBoundingLines, alpha=1)\n",
    "                \n",
    "                # Store confusion matrices \n",
    "                cumulConfDict[(mousename, direction, performance)] = confMat\n",
    "                \n",
    "                #####################################\n",
    "                # Compare rate/DFF for cells of different phases\n",
    "                #####################################\n",
    "                if phaseType == 'phase':\n",
    "                    meansByPhase = metric_by_selector_all(dataDB, queryDict, phaseType, 'mean', 'p', settings, haveWaiting=haveWaiting)\n",
    "                    meansSignByPhase = [means[list(idxs)] for means, idxs in zip(meansByPhase, signCellsByPhase)]\n",
    "\n",
    "                    phaseNames = dataDB.get_phasetype_keys(phaseType, 'Correct', haveWaiting=haveWaiting)\n",
    "                    \n",
    "                    sigTestPairs = []\n",
    "                    nSignCells = [len(s) for s in signCellsByPhase]\n",
    "                    if (nSignCells[0] > 1) and (nSignCells[1] > 1):\n",
    "                        sigTestPairs += [(0,1)]\n",
    "                    if (nSignCells[1] > 1) and (nSignCells[2] > 1):\n",
    "                        sigTestPairs += [(1,2)]\n",
    "                    if len(sigTestPairs) == 0:\n",
    "                        sigTestPairs = None\n",
    "                    \n",
    "                    ax3[iCol].set_title(title)\n",
    "                    plots_lib.plot_labeled_violins(ax3[iCol], meansSignByPhase, phaseNames, phaseType, \"mean\",\n",
    "                                                   joinMeans=True, printLogP=False, sigTestPairs=sigTestPairs,\n",
    "                                                   violinInner='point')\n",
    "                    \n",
    "                    # Combine means for all mice\n",
    "                    cumulMeansSignDict[(mousename, direction, performance)] = meansSignByPhase\n",
    "                \n",
    "                iCol += 1\n",
    "\n",
    "        fig1.savefig(mousename + '_significantrate_' + datatype + '_' + phaseType + '.pdf', dpi=600)\n",
    "        plt.close()\n",
    "        fig2.savefig(mousename + '_significantrate_' + datatype + '_' + phaseType + '_confusion.pdf', dpi=600)\n",
    "        plt.close()\n",
    "        \n",
    "        if phaseType == 'phase':\n",
    "            fig3.savefig(mousename + '_significantcell_' + datatype + '_' + phaseType + '_rate_comparison.pdf', dpi=600)\n",
    "            plt.close()\n",
    "\n",
    "    iCol = 0\n",
    "    fig2All, ax2All = plt.subplots(ncols=nCol, figsize=(nCol*4, 4), tight_layout=True)    \n",
    "    fig3All, ax3All = plt.subplots(ncols=nCol, figsize=(nCol*4, 4), tight_layout=True)    \n",
    "    for performance in performanceValues:\n",
    "        for direction in directionValues:            \n",
    "            title = direction[0] + performance[0]\n",
    "            \n",
    "            ###########################\n",
    "            # Plot confusion matrix\n",
    "            ###########################\n",
    "            confThisCondition = [cumulConfDict[(mousename, direction, performance)] for mousename in dataDB.mice]\n",
    "            confAvg = np.mean(confThisCondition, axis=0)\n",
    "            \n",
    "            imshow(fig2All, ax2All[iCol], confAvg, limits=[0, 1], title=title, haveColorBar=True, cmap=cmapConfusion)\n",
    "            if phaseType != 'phase':\n",
    "                boundingLines = dataDB.get_phase_bounding_lines(phaseType, performance, haveWaiting=haveWaiting)\n",
    "                \n",
    "                for bline in boundingLines:\n",
    "                    axAll[iCol].axvline(x=bline-1, linestyle='--', color=colorBoundingLines, alpha=1)\n",
    "                    axAll[iCol].axhline(y=bline-1, linestyle='--', color=colorBoundingLines, alpha=1)\n",
    "                    \n",
    "            #####################################\n",
    "            # Compare rate/DFF for cells of different phases\n",
    "            #####################################\n",
    "            if phaseType == 'phase':\n",
    "                phaseNames = dataDB.get_phasetype_keys(phaseType, 'Correct', haveWaiting=haveWaiting)\n",
    "                \n",
    "                meansThisParam = [cumulMeansSignDict[(mousename, direction, performance)] for mousename in dataDB.mice]\n",
    "                meansThisParam = [np.hstack([m[i] for m in meansThisParam]) for i in range(len(phaseNames))]\n",
    "                \n",
    "                ax3All[iCol].set_title(title)\n",
    "                plots_lib.plot_labeled_violins(ax3All[iCol], meansThisParam, phaseNames, phaseType, \"mean\",\n",
    "                                               joinMeans=True, printLogP=False, sigTestPairs=sigTestPairs,\n",
    "                                               violinInner='point')\n",
    "            \n",
    "            iCol += 1\n",
    "            \n",
    "    fig2All.savefig('Allmice_significantrate_' + datatype + '_' + phaseType + '_confusion.pdf', dpi=600)\n",
    "    plt.close()\n",
    "    \n",
    "    if phaseType == 'phase':\n",
    "        fig3All.savefig('Allmice_significantcell_' + datatype + '_' + phaseType + '_rate_comparison.pdf', dpi=600)\n",
    "        plt.close()"
   ]
  },
  {
   "cell_type": "code",
   "execution_count": null,
   "metadata": {
    "scrolled": true
   },
   "outputs": [],
   "source": [
    "for datatype in ['deconv']:#['deconv', 'raw']:\n",
    "    for phasetype in ['phase']:#['semiphase', 'phase', 'interval']:\n",
    "        print(datatype, phasetype)\n",
    "        plot_significant_firing_rate_by_neuron(datatype, phasetype, confThr=0.01, haveWaiting=False)"
   ]
  },
  {
   "cell_type": "markdown",
   "metadata": {},
   "source": [
    "## 2.3 Storing significant neurons, counting across mice"
   ]
  },
  {
   "cell_type": "code",
   "execution_count": null,
   "metadata": {
    "collapsed": true
   },
   "outputs": [],
   "source": [
    "def plot_df_count_by_mice(ax, data1, data2, label1, label2, xLabels, nCellPerMouse):\n",
    "    dataNorm1 = np.array(data1) / np.array(nCellPerMouse)\n",
    "    dataNorm2 = np.array(data2) / np.array(nCellPerMouse)\n",
    "    pVals = [binom_test(d1, d1 + d2) for d1, d2 in zip(data1, data2)]\n",
    "    \n",
    "    xInd = np.arange(len(xLabels))\n",
    "    width = 0.35  # the width of the bars\n",
    "    \n",
    "    rects1 = ax.bar(xInd - width/2, dataNorm1, width, label=label1)\n",
    "    rects2 = ax.bar(xInd + width/2, dataNorm2, width, label=label2)\n",
    "    \n",
    "    for patch1, patch2, pVal in zip(rects1.patches, rects2.patches, pVals):\n",
    "        stat_annot_patches(ax, patch1, patch2, pVal, fontsize=20)\n",
    "    \n",
    "    ax.set_xticks(xInd)\n",
    "    ax.set_xticklabels(xLabels)\n",
    "    \n",
    "def plot_df_count_combined(ax, data1, data2, label1, label2, nCellPerMouse):\n",
    "    # Convert from counts to fractions\n",
    "    dataNorm1 = np.array(data1) / np.array(nCellPerMouse)\n",
    "    dataNorm2 = np.array(data2) / np.array(nCellPerMouse)\n",
    "    dataMean1 = np.mean(dataNorm1)\n",
    "    dataMean2 = np.mean(dataNorm2)\n",
    "    \n",
    "    # Compute p-values and combine\n",
    "    pVals = [binom_test(d1, d1 + d2) for d1, d2 in zip(data1, data2)]\n",
    "    pValMean = combine_pvalues(pVals)[1]\n",
    "    \n",
    "    # Plot Bars\n",
    "    width = 0.30  # the width of the bars\n",
    "    dist = 0.05\n",
    "    rects1 = ax.bar([-(width + dist)/2], [dataMean1], width, label=label1)\n",
    "    rects2 = ax.bar([+(width + dist)/2], [dataMean2], width, label=label2)\n",
    "        \n",
    "    # Plot individual lines\n",
    "    for d1, d2 in zip(dataNorm1, dataNorm2):\n",
    "        ax.plot([-(width + dist)/2, (width + dist)/2], [d1, d2], color='gray')\n",
    "        \n",
    "    # Annotate bars\n",
    "    for patch1, patch2 in zip(rects1.patches, rects2.patches):\n",
    "        stat_annot_patches(ax, patch1, patch2, pValMean, fontsize=20)\n",
    "        \n",
    "    ax.set_xticks([])\n",
    "    ax.set_ylim([0, 1.1*np.max(np.hstack([dataNorm1, dataNorm2]))])\n",
    "\n",
    "\n",
    "def plot_save_significantly_firing_neurons(datatype, phaseType, exclusiveIndices, exclusiveLabels, ranges=None, confThr=0.01, haveAll=False):\n",
    "    settings = {\"zscoreChannel\" : False, \"serial\" : True, \"metricSettings\" : {}}\n",
    "    \n",
    "    exclusiveLabelsKey = '_'.join(exclusiveLabels)\n",
    "\n",
    "    significantCellsDict = {label : [] for label in exclusiveLabels}\n",
    "    \n",
    "    if not haveAll:\n",
    "        performanceValues = ['Correct', 'Mistake']\n",
    "        directionValues = ['L', 'R']\n",
    "    else:\n",
    "        performanceValues = ['Correct', 'Mistake', 'All']\n",
    "        directionValues = ['L', 'R', 'All']\n",
    "    \n",
    "    mice = list(sorted(dataDB.mice))\n",
    "    for mousename in mice:\n",
    "        print('doing mouse', mousename)\n",
    "\n",
    "        for performance in performanceValues:\n",
    "            for direction in directionValues:\n",
    "                queryDict = {'datatype' : datatype, 'mousename' : mousename}\n",
    "                if performance != 'All':\n",
    "                    queryDict = {**queryDict, **{'performance' : performance}}\n",
    "                if direction != 'All':\n",
    "                    queryDict = {**queryDict, **{'direction' : direction}}\n",
    "                    \n",
    "                # Calculate p-values and significant cells\n",
    "                pVals2D = single_cell_tests.test_inverse_all_selectors(dataDB, queryDict, phaseType, metricName='mean', alternative=\"greater\", settings=settings, ranges=ranges)\n",
    "                signCellsByPhase = single_cell_tests.pvalues_2_significant_cells(pVals2D, confThr)\n",
    "\n",
    "                # Determine maintenance-significant cells for storage\n",
    "                exclusiveSets = single_cell_tests.find_exclusive_sets(signCellsByPhase, exclusiveIndices)\n",
    "\n",
    "                for thisSet, thisLabel in zip(exclusiveSets, exclusiveLabels):\n",
    "                    significantCellsDict[thisLabel] += [[mousename, performance, direction, np.array(list(thisSet))]]\n",
    "\n",
    "    # Store significant cells in HDF5\n",
    "    significantCellsDFDict = {}\n",
    "    for label, signCellsData in significantCellsDict.items():\n",
    "        dfCells = pd.DataFrame(signCellsData, columns=['mousename', 'performance', 'direction', 'cells'])\n",
    "        dfCells.to_hdf('significant_cells_' + datatype + '_' + label + '.h5', key='df', mode='w')\n",
    "        significantCellsDFDict[label] = dfCells\n",
    "        \n",
    "    nCellPerMouse = np.array([dataDB.get_nchannel(mousename, datatype) for mousename in mice])\n",
    "\n",
    "    # Plot selector-specific number of significant cells vs mice\n",
    "    for performance in performanceValues:\n",
    "        for direction in directionValues:\n",
    "            queryDict = {\"performance\" : performance, \"direction\" : direction}\n",
    "            \n",
    "            nSignCellByMouse = []\n",
    "            for label, signCellsDF in significantCellsDFDict.items():\n",
    "                rows = get_rows_colvals(signCellsDF, queryDict, dropQuery=True)\n",
    "                nSignCellByMouse += [[len(list(row.values)[1]) for idx, row in rows.iterrows()]]\n",
    "            \n",
    "            ######################\n",
    "            #  Plot by mouse\n",
    "            ######################\n",
    "            \n",
    "            figCount, axCount = plt.subplots(figsize=(5, 5))\n",
    "            plot_df_count_by_mice(axCount, *nSignCellByMouse, *exclusiveLabels, mice, nCellPerMouse)\n",
    "                \n",
    "            figKey = '_'.join([exclusiveLabelsKey, datatype, phaseType, performance, direction])\n",
    "                \n",
    "            axCount.legend()\n",
    "            figCount.savefig('significantrate_by_mouse_' + figKey + '.pdf')\n",
    "            plt.close()\n",
    "            \n",
    "            ######################\n",
    "            #  Plot combined\n",
    "            ######################\n",
    "            \n",
    "            figCountAll, axCountAll = plt.subplots(figsize=(5, 5))\n",
    "            plot_df_count_combined(axCountAll, *nSignCellByMouse, *exclusiveLabels, nCellPerMouse)\n",
    "            \n",
    "            figCountAll.savefig('significantrate_combined_' + figKey + '.pdf')\n",
    "            plt.close()"
   ]
  },
  {
   "cell_type": "code",
   "execution_count": null,
   "metadata": {
    "scrolled": false
   },
   "outputs": [],
   "source": [
    "# Testing each phase vs remainder of the trial, storing maintenance vs encoding+retrieval\n",
    "# for datatype in ['raw', 'deconv']:\n",
    "#     plot_save_significantly_firing_neurons(datatype,\n",
    "#                                            'phase',\n",
    "#                                            [[1], [0, 2]],\n",
    "#                                            ['mt', 'enc_ret'],\n",
    "#                                            confThr=0.01,\n",
    "#                                            haveAll=True)\n",
    "    \n",
    "    \n",
    "for datatype in ['raw', 'deconv']:\n",
    "    plot_save_significantly_firing_neurons(datatype,\n",
    "                                           'phase',\n",
    "                                           [[0], [2]],\n",
    "                                           ['end', 'ret'],\n",
    "                                           confThr=0.01,\n",
    "                                           haveAll=True)"
   ]
  },
  {
   "cell_type": "code",
   "execution_count": null,
   "metadata": {
    "collapsed": true,
    "scrolled": true
   },
   "outputs": [],
   "source": [
    "for datatype in ['raw', 'deconv']:\n",
    "    plot_save_significantly_firing_neurons(datatype,\n",
    "                                           'interval', \n",
    "                                           [[0], [1]],\n",
    "                                           ['enc_base', 'enc_reward'],\n",
    "                                           confThr=0.01,\n",
    "                                           ranges=[2, 4],\n",
    "                                           haveAll=True)"
   ]
  },
  {
   "cell_type": "markdown",
   "metadata": {},
   "source": [
    "## 2.4 Load and test significant cells"
   ]
  },
  {
   "cell_type": "code",
   "execution_count": null,
   "metadata": {
    "collapsed": true
   },
   "outputs": [],
   "source": [
    "significantCellsSelectorDatatype = {}\n",
    "\n",
    "for datatype in ['raw', 'deconv']:\n",
    "    signCellsMaintenance = SignificantCells('significant_cells_'+datatype+'_mt.h5').get_cells_by_mouse()\n",
    "    signCellsReward = SignificantCells('significant_cells_'+datatype+'_enc_reward.h5').get_cells_by_mouse()\n",
    "\n",
    "    significantCellsSelectorDatatype[datatype] = {\n",
    "        'None' : None,\n",
    "        'Maintenance' : signCellsMaintenance,\n",
    "        'Reward' : signCellsReward\n",
    "    }"
   ]
  },
  {
   "cell_type": "markdown",
   "metadata": {},
   "source": [
    "## 2.5 Are 'Maintenance Cells' more active than 'Encoding Cells'?\n",
    "\n",
    "1. For each cell, compute phase-avg over time\n",
    "2. For each cell, for each trial, compute ratio of ENC vs MT\n",
    "3. \n",
    "\n",
    "$$R_{i,j,ENC} = \\int_{ENC} R_{i,j}(t)$$\n",
    "$$R_{i,j,MT} = \\int_{MT} R_{i,j}(t)$$\n",
    "$$\\phi_{i,j} = \\frac{R_{i,j,ENC}}{R_{i,j,MT}}$$\n",
    "$$\\bar \\phi_{i} = \\frac{1}{N_{trial}} \\sum_j \\phi_{i,j}$$\n"
   ]
  },
  {
   "cell_type": "code",
   "execution_count": null,
   "metadata": {},
   "outputs": [],
   "source": [
    "def plot_ratio_enc_mt(datatype):\n",
    "    settings = {\"zscoreChannel\" : False, \"serial\" : True, \"metricSettings\" : {}}\n",
    "\n",
    "    nPlots = len(dataDB.mice)\n",
    "    fig, ax = plt.subplots(ncols=nPlots, figsize=(4*nPlots, 4), tight_layout=True)\n",
    "\n",
    "    for iMouse, mousename in enumerate(sorted(dataDB.mice)):\n",
    "        queryDict = {'datatype' : datatype, 'mousename' : mousename}\n",
    "\n",
    "        rezEnc = metric_by_selector(dataDB, queryDict, 'mean', 'p', {'phase' : 'Encoding'}, settings, channelFilter=None)\n",
    "        rezMt = metric_by_selector(dataDB, queryDict, 'mean', 'p', {'phase' : 'Maintenance'}, settings, channelFilter=None)\n",
    "            \n",
    "        rezRatio = (rezMt - rezEnc) / (rezMt + rezEnc)\n",
    "        \n",
    "        cdf = lambda x: (np.sort(x), np.linspace(0, 1, len(x)))\n",
    "        \n",
    "        cdfX, cdfY = cdf(rezRatio)\n",
    "        idx0 = np.argmin(cdfX**2)\n",
    "        yMin = cdfY[idx0]\n",
    "        \n",
    "        ax[iMouse].plot(cdfX, cdfY)\n",
    "        ax[iMouse].set_title(mousename)\n",
    "        ax[iMouse].axvline(x=0, linestyle='--', color='r')\n",
    "        ax[iMouse].axhline(y=yMin, linestyle='--', color='r')\n",
    "        \n",
    "    plt.show()\n",
    "\n",
    "plot_ratio_enc_mt('deconv')"
   ]
  },
  {
   "cell_type": "markdown",
   "metadata": {},
   "source": [
    "# 3.1 Table - Discriminate Phases by Metric"
   ]
  },
  {
   "cell_type": "code",
   "execution_count": null,
   "metadata": {
    "collapsed": true,
    "scrolled": false
   },
   "outputs": [],
   "source": [
    "%%time\n",
    "dataDB.verbose = False\n",
    "\n",
    "phases = ['Encoding', 'Maintenance', 'Retrieval']\n",
    "#settings = {\"serial\" : True, \"metricSettings\" : {\"metric\" : num_non_zero_std}}\n",
    "settings = {\"serial\" : True, \"metricSettings\" :{\"max_lag\" : 1}}\n",
    "sweepDict = {\n",
    "    #\"mousename\" : sorted(list(dataDB.mice)),\n",
    "    \"datatype\": [\"deconv\"],#, \"raw\", \"high\", \"deconv\"],\n",
    "    \"performance\": [\"Correct\", \"Mistake\", \"All\"],\n",
    "    \"direction\": [\"L\", \"R\", \"All\"]\n",
    "}\n",
    "\n",
    "table_lib.table_discriminate_time(dataDB, sweepDict,\n",
    "                                         {\"phase\" : phases},\n",
    "                                         \"mean\",\n",
    "                                         trgDimOrder=\"r\",\n",
    "                                         settings=settings, multiplexKey=\"mousename\")"
   ]
  },
  {
   "cell_type": "markdown",
   "metadata": {},
   "source": [
    "# 3.2 Violins - Metric by Phase and Interval"
   ]
  },
  {
   "cell_type": "code",
   "execution_count": null,
   "metadata": {
    "collapsed": true,
    "scrolled": false
   },
   "outputs": [],
   "source": [
    "def plot_violins(datatype, phaseType, metricName, settings, haveWaiting=True, signCellsSelector=None):\n",
    "    if signCellsSelector == None:\n",
    "        signCellsSelector = {'None' : None}\n",
    "        \n",
    "    signCellsKey, signCellsMouseDict = list(signCellsSelector.items())[0]\n",
    "    \n",
    "    \n",
    "    for performance in [\"Correct\", \"Mistake\"]:\n",
    "        fig, ax = plt.subplots(ncols=3, figsize=(15,5))\n",
    "        fig.suptitle(performance)\n",
    "\n",
    "        intervalOrigIndices = dataDB.get_phasetype_keys(phaseType, performance)\n",
    "        boundingLines = dataDB.get_phase_bounding_lines(phaseType, performance, haveWaiting=haveWaiting) - 1\n",
    "        phases = dataDB.get_phasetype_keys('phase', performance, haveWaiting=haveWaiting)\n",
    "\n",
    "        for mousename in sorted(dataDB.mice)[:-1]:\n",
    "            queryThis = {\"datatype\" : datatype, \"mousename\" : mousename, \"performance\" : performance}  # \"direction\" : \"R\"\n",
    "            rez2D = metric_by_selector_all(dataDB, queryThis, phaseType, metricName, 'p', settings, haveWaiting=haveWaiting, channelFilter=signCellsMouseDict)\n",
    "    #         rez2D = rez2D[..., 0]\n",
    "            plots_lib.plot_labeled_bars(ax[0], rez2D, intervalOrigIndices, plotLabel=mousename, alpha=0.2, vlines=boundingLines)\n",
    "\n",
    "        rez2DIntervAll = metric_by_selector_all(dataDB, queryThis, phaseType, metricName, 'p', settings, haveWaiting=haveWaiting, channelFilter=signCellsMouseDict)\n",
    "        rez2DPhaseAll = metric_by_selector_all(dataDB, queryThis, 'phase', metricName, 'p', settings, haveWaiting=haveWaiting, channelFilter=signCellsMouseDict)\n",
    "        plots_lib.plot_labeled_bars(ax[1], rez2DIntervAll, intervalOrigIndices, vlines=boundingLines)\n",
    "        plots_lib.plot_labeled_violins(ax[2], rez2DPhaseAll, phases, \"phase\", metricName, joinMeans=True, printLogP=True)\n",
    "\n",
    "        ax[0].legend()\n",
    "        plt.savefig(phaseType+'_'+datatype+'_'+signCellsKey+'_avg_violins_'+performance+'.pdf')\n",
    "        plt.show()"
   ]
  },
  {
   "cell_type": "code",
   "execution_count": null,
   "metadata": {
    "collapsed": true,
    "scrolled": true
   },
   "outputs": [],
   "source": [
    "settings = {\"serial\" : True, \"metricSettings\" : {\"max_lag\" : 1}}\n",
    "#settings = {\"serial\" : True, \"metricSettings\" : {\"metric\" : num_non_zero_std}}\n",
    "\n",
    "        \n",
    "for datatype in ['raw', 'deconv']:\n",
    "    for phaseType in ['interval', 'semiphase']:\n",
    "        for signCellsName, signCells in significantCellsSelectorDatatype[datatype].items():\n",
    "            print(\"datatype\", datatype, \"Significant Cells :\", signCellsName)\n",
    "            plot_violins(datatype, phaseType, \"mean\", settings, haveWaiting=False, signCellsSelector={signCellsName:signCells})"
   ]
  },
  {
   "cell_type": "code",
   "execution_count": null,
   "metadata": {
    "collapsed": true
   },
   "outputs": [],
   "source": []
  }
 ],
 "metadata": {
  "kernelspec": {
   "display_name": "Python (py36qt5)",
   "language": "python",
   "name": "py36qt5"
  },
  "language_info": {
   "codemirror_mode": {
    "name": "ipython",
    "version": 3
   },
   "file_extension": ".py",
   "mimetype": "text/x-python",
   "name": "python",
   "nbconvert_exporter": "python",
   "pygments_lexer": "ipython3",
   "version": "3.6.4"
  }
 },
 "nbformat": 4,
 "nbformat_minor": 2
}

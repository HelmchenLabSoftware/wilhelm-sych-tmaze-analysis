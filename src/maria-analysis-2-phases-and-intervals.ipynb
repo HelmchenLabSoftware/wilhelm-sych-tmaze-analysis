{
 "cells": [
  {
   "cell_type": "code",
   "execution_count": 1,
   "metadata": {},
   "outputs": [
    {
     "name": "stdout",
     "output_type": "stream",
     "text": [
      "Appended root directory /media/aleksejs/DataHDD/work/codes/comp-neuro/analysis-neuro/chernysheva-tmaze-analysis-2020\n"
     ]
    }
   ],
   "source": [
    "# Standard libraries\n",
    "from copy import deepcopy\n",
    "\n",
    "import json\n",
    "import pandas as pd\n",
    "import numpy as np\n",
    "import matplotlib.pyplot as plt\n",
    "from ipywidgets import interactive, IntProgress\n",
    "from IPython.display import display\n",
    "\n",
    "# Append base directory\n",
    "import os,sys,inspect\n",
    "rootname = \"chernysheva-tmaze-analysis-2020\"\n",
    "thispath = os.path.dirname(os.path.abspath(inspect.getfile(inspect.currentframe())))\n",
    "rootpath = os.path.join(thispath[:thispath.index(rootname)], rootname)\n",
    "sys.path.append(rootpath)\n",
    "print(\"Appended root directory\", rootpath)\n",
    "\n",
    "from scipy.stats import mannwhitneyu, wilcoxon, binom_test, combine_pvalues\n",
    "\n",
    "# User libraries\n",
    "from mesostat.utils.qt_helper import gui_fnames, gui_fpath\n",
    "from mesostat.utils.arrays import numpy_merge_dimensions\n",
    "from mesostat.stat.connectomics import offdiag_1D\n",
    "from mesostat.utils.plotting import imshow, stat_annot_patches\n",
    "from mesostat.utils.pandas_helper import get_rows_colvals\n",
    "\n",
    "from src.lib.data_db import BehaviouralNeuronalDatabase\n",
    "import src.lib.plots_lib as plots_lib\n",
    "import src.lib.table_lib as table_lib\n",
    "from src.lib.metric_wrapper import metric_by_selector_all, metric_by_selector\n",
    "from src.lib.extra_metrics import num_non_zero_std, num_sample\n",
    "import src.lib.tests_phase_signle_cell as single_cell_tests\n",
    "from src.lib.significant_cells_lib import SignificantCells\n",
    "\n",
    "%load_ext autoreload\n",
    "%autoreload 2"
   ]
  },
  {
   "cell_type": "code",
   "execution_count": 2,
   "metadata": {
    "collapsed": true
   },
   "outputs": [],
   "source": [
    "# tmp_path = root_path_data if 'root_path_data' in locals() else \"./\"\n",
    "params = {}\n",
    "#params['root_path_data']  = gui_fpath(\"Path to data files\", \"./\")\n",
    "# params['root_path_dff'] = '/media/alyosha/Data/TE_data/mariadata/dff/'\n",
    "# params['root_path_deconv'] = '/media/alyosha/Data/TE_data/mariadata/deconv/'\n",
    "params['root_path_dff'] = '/media/aleksejs/DataHDD/work/data/maria/dff/'\n",
    "params['root_path_deconv'] = '/media/aleksejs/DataHDD/work/data/maria/deconv/'"
   ]
  },
  {
   "cell_type": "code",
   "execution_count": 3,
   "metadata": {
    "collapsed": true
   },
   "outputs": [],
   "source": [
    "dataDB = BehaviouralNeuronalDatabase(params)"
   ]
  },
  {
   "cell_type": "code",
   "execution_count": 4,
   "metadata": {},
   "outputs": [
    {
     "data": {
      "application/vnd.jupyter.widget-view+json": {
       "model_id": "f8d13fe1703340059b0aa68804cb5cea",
       "version_major": 2,
       "version_minor": 0
      },
      "text/plain": [
       "IntProgress(value=0, description='Read DFF Data:', max=27)"
      ]
     },
     "metadata": {},
     "output_type": "display_data"
    },
    {
     "data": {
      "application/vnd.jupyter.widget-view+json": {
       "model_id": "e20e113f367242e685911f5cff63da0b",
       "version_major": 2,
       "version_minor": 0
      },
      "text/plain": [
       "IntProgress(value=0, description='Read DECONV Data:', max=27)"
      ]
     },
     "metadata": {},
     "output_type": "display_data"
    }
   ],
   "source": [
    "dataDB.read_neuro_files()"
   ]
  },
  {
   "cell_type": "code",
   "execution_count": 5,
   "metadata": {
    "scrolled": false
   },
   "outputs": [
    {
     "data": {
      "application/vnd.jupyter.widget-view+json": {
       "model_id": "c7449a0af96c4305bdf065aab6340c89",
       "version_major": 2,
       "version_minor": 0
      },
      "text/plain": [
       "IntProgress(value=0, description='Read Neuro Data:', max=27)"
      ]
     },
     "metadata": {},
     "output_type": "display_data"
    },
    {
     "name": "stdout",
     "output_type": "stream",
     "text": [
      "No trials found for Trial_LWhole_Mistake skipping\n",
      "No trials found for Trial_RWhole_Mistake skipping\n",
      "No trials found for Trial_LWhole_Mistake skipping\n"
     ]
    }
   ],
   "source": [
    "dataDB.read_behavior_files()"
   ]
  },
  {
   "cell_type": "markdown",
   "metadata": {},
   "source": [
    "# 1. Neuron-Time-Average\n",
    "\n",
    "**Goal**: Attempt to predict phase from mean activity over trial"
   ]
  },
  {
   "cell_type": "markdown",
   "metadata": {},
   "source": [
    "# 2 Time-Average\n",
    "\n",
    "**Goal**: Attempt to predict phase from average activities of individual cells.\n",
    "* Count predictive cells in each mouse\n",
    "* Test overlap over phases/intervals - identify how many significant cells overlap"
   ]
  },
  {
   "cell_type": "markdown",
   "metadata": {},
   "source": [
    "## 2.1 avg-firing-rate by neuron\n",
    " -> heatmap by mouse | 1D plot by neurons"
   ]
  },
  {
   "cell_type": "code",
   "execution_count": null,
   "metadata": {
    "collapsed": true,
    "scrolled": true
   },
   "outputs": [],
   "source": [
    "def plot_avg_firing_rate_by_neuron(datatype, phaseType, haveWaiting=True):\n",
    "    settings = {\"zscoreChannel\" : False, \"serial\" : True, \"metricSettings\" : {}}\n",
    "\n",
    "    for mousename in sorted(dataDB.mice):\n",
    "        fig, ax = plt.subplots(ncols=4, figsize=(4*2, 6), tight_layout=True)\n",
    "        fig.suptitle(mousename)\n",
    "        iCol = 0\n",
    "\n",
    "        for performance in dataDB.get_performances():\n",
    "            if phaseType != 'phase':\n",
    "                boundingLines = dataDB.get_phase_bounding_lines(phaseType, performance, haveWaiting=haveWaiting)\n",
    "\n",
    "            for direction in dataDB.get_directions():\n",
    "                queryDict = {'datatype' : datatype, 'mousename' : mousename, 'performance' : performance, 'direction' : direction}\n",
    "                means = metric_by_selector_all(dataDB, queryDict, phaseType, 'mean', 'p', settings, haveWaiting=haveWaiting)                \n",
    "                means = means.T\n",
    "                \n",
    "                print(means.shape)\n",
    "\n",
    "                # Sort by max argument\n",
    "                # But only based on the first one (CL) so that all 4 combinations have the same sorting\n",
    "                if iCol == 0:\n",
    "                    idxsMaxArgs = np.argsort(np.array([np.argmax(m) for m in means]))\n",
    "                means = means[idxsMaxArgs]\n",
    "\n",
    "                title = direction[0] + performance[0]\n",
    "                imshow(fig, ax[iCol], means, limits=None, title=title, haveColorBar=True)\n",
    "                if phaseType != 'phase':\n",
    "                    for bline in boundingLines:\n",
    "                        ax[iCol].axvline(x=bline-1, linestyle='--', color='r', alpha=0.5)\n",
    "\n",
    "                iCol += 1\n",
    "\n",
    "        plt.savefig(mousename + '_avgrate_' + phaseType + '.pdf')\n",
    "        plt.close()"
   ]
  },
  {
   "cell_type": "markdown",
   "metadata": {},
   "source": [
    "### 2.1.1 avg-firing-rate by neuron and interval"
   ]
  },
  {
   "cell_type": "code",
   "execution_count": null,
   "metadata": {
    "collapsed": true,
    "scrolled": true
   },
   "outputs": [],
   "source": [
    "plot_avg_firing_rate_by_neuron('zscore', 'interval', haveWaiting=False)"
   ]
  },
  {
   "cell_type": "markdown",
   "metadata": {},
   "source": [
    "### 2.1.2 avg-firing-rate by neuron and phase"
   ]
  },
  {
   "cell_type": "code",
   "execution_count": null,
   "metadata": {
    "collapsed": true,
    "scrolled": true
   },
   "outputs": [],
   "source": [
    "plot_avg_firing_rate_by_neuron('zscore', 'phase', haveWaiting=False)"
   ]
  },
  {
   "cell_type": "code",
   "execution_count": null,
   "metadata": {
    "collapsed": true
   },
   "outputs": [],
   "source": [
    "plot_avg_firing_rate_by_neuron('zscore', 'semiphase', haveWaiting=False)"
   ]
  },
  {
   "cell_type": "markdown",
   "metadata": {},
   "source": [
    "## 2.2 significant-avg-firing-rate by neuron"
   ]
  },
  {
   "cell_type": "code",
   "execution_count": 13,
   "metadata": {
    "collapsed": true
   },
   "outputs": [],
   "source": [
    "from matplotlib.colors import ListedColormap, LinearSegmentedColormap\n",
    "\n",
    "def gen_cmap_2color(c1, c2):\n",
    "    vals = np.ones((256, 4))\n",
    "    vals[:, 0] = np.linspace(c1[0], c2[0], 256) / 255\n",
    "    vals[:, 1] = np.linspace(c1[1], c2[1], 256) / 255\n",
    "    vals[:, 2] = np.linspace(c1[2], c2[2], 256) / 255    \n",
    "    return ListedColormap(vals)\n",
    "\n",
    "def gen_cmap_3color(c1, c2, c3):\n",
    "    r1 = np.linspace(c1[0], c2[0], 128) / 255\n",
    "    g1 = np.linspace(c1[1], c2[1], 128) / 255\n",
    "    b1 = np.linspace(c1[2], c2[2], 128) / 255    \n",
    "    r2 = np.linspace(c2[0], c3[0], 128) / 255\n",
    "    g2 = np.linspace(c2[1], c3[1], 128) / 255\n",
    "    b2 = np.linspace(c2[2], c3[2], 128) / 255\n",
    "    \n",
    "    vals = np.ones((256, 4))\n",
    "    vals[:, 0] = np.hstack([r1, r2])\n",
    "    vals[:, 1] = np.hstack([g1, g2])\n",
    "    vals[:, 2] = np.hstack([b1, b2])\n",
    "    return ListedColormap(vals)\n",
    "\n",
    "# cmapConfusion = gen_cmap_3color(\n",
    "#     np.array([255, 255, 255]),\n",
    "#     np.array([168, 217, 49]),\n",
    "#     np.array([255, 0, 0])\n",
    "# )\n",
    "\n",
    "cmapConfusion = gen_cmap_3color(\n",
    "    np.array([0,0,0]),\n",
    "    np.array([255,198,126]),\n",
    "    np.array([233,79,25])\n",
    ")\n",
    "\n",
    "cmapSignificance = gen_cmap_2color(\n",
    "    np.array([255, 255, 255]),\n",
    "    np.array([233, 79, 25])\n",
    ")"
   ]
  },
  {
   "cell_type": "code",
   "execution_count": 25,
   "metadata": {
    "collapsed": true
   },
   "outputs": [],
   "source": [
    "def plot_significant_firing_rate_by_neuron(datatype, phaseType, confThr=0.01, haveWaiting=True):\n",
    "    settings = {\"zscoreChannel\" : False, \"serial\" : True, \"metricSettings\" : {}}\n",
    "\n",
    "    performanceValues = dataDB.get_performances()\n",
    "    directionValues = dataDB.get_directions()\n",
    "    \n",
    "    if phaseType == 'phase':\n",
    "        performanceValues += ['All']\n",
    "        directionValues += ['All']\n",
    "        \n",
    "    nCol = len(performanceValues) * len(directionValues)\n",
    "    cumulConfDict = {}\n",
    "    \n",
    "    for mousename in sorted(dataDB.mice):\n",
    "        print('doing mouse', mousename)\n",
    "        nChannel = dataDB.get_nchannel(mousename, datatype)\n",
    "\n",
    "        fig1, ax1 = plt.subplots(ncols=nCol, figsize=(nCol*2, 6), tight_layout=True)\n",
    "        fig2, ax2 = plt.subplots(ncols=nCol, figsize=(nCol*4, 4), tight_layout=True)\n",
    "\n",
    "        fig1.suptitle(mousename)\n",
    "        fig2.suptitle(mousename)\n",
    "        iCol = 0\n",
    "\n",
    "        for performance in performanceValues:\n",
    "            if phaseType != 'phase':\n",
    "                boundingLines = dataDB.get_phase_bounding_lines(phaseType, performance, haveWaiting=haveWaiting)\n",
    "                    \n",
    "            for direction in directionValues:\n",
    "                queryDict = {'datatype' : datatype, 'mousename' : mousename}\n",
    "                if performance != 'All':\n",
    "                    queryDict = {**queryDict, **{'performance' : performance}}\n",
    "                if direction != 'All':\n",
    "                    queryDict = {**queryDict, **{'direction' : direction}}\n",
    "                    \n",
    "                # Calculate p-values\n",
    "                pVals2D = single_cell_tests.test_inverse_all_selectors(dataDB, queryDict, phaseType, metricName='mean', alternative=\"greater\", haveWaiting=haveWaiting, settings=settings)\n",
    "                negLogPVals2D = -np.log10(pVals2D)\n",
    "                \n",
    "                # Calculate significant cells and confusion matrix\n",
    "                signCellsByPhase = single_cell_tests.pvalues_2_significant_cells(pVals2D, confThr)\n",
    "                confMat = single_cell_tests.significance_confusion_matrix(signCellsByPhase) / nChannel\n",
    "\n",
    "                # Sort by max argument\n",
    "                # But only based on the first one (CL) so that all 4 combinations have the same sorting\n",
    "                if iCol == 0:\n",
    "                    idxsMaxArgs = np.argsort(np.array([np.argmax(p) for p in negLogPVals2D]))\n",
    "                negLogPVals2D = negLogPVals2D[idxsMaxArgs]\n",
    "\n",
    "                colorBoundingLines = 'white'\n",
    "                cmapSignificant = 'copper' #'YlOrBr' # 'viridis'\n",
    "                title = direction[0] + performance[0]\n",
    "                if phaseType != 'phase':\n",
    "                    imshow(fig1, ax1[iCol], negLogPVals2D, limits=[0, 4], title=title, haveColorBar=True, cmap=cmapSignificant)\n",
    "                    for bline in boundingLines:\n",
    "                        ax1[iCol].axvline(x=bline-1, linestyle='--', color=colorBoundingLines, alpha=1)\n",
    "                else:\n",
    "                    imshow(fig1, ax1[iCol], negLogPVals2D, limits=[0, 4], title=title, haveTicks=True, haveColorBar=False, cmap=cmapSignificant)\n",
    "                    \n",
    "                ax1[iCol].set_yticks(np.arange(0, len(negLogPVals2D), 10))\n",
    "\n",
    "                # Plot confusion matrix\n",
    "                imshow(fig2, ax2[iCol], confMat, limits=[0, 1], title=title, haveColorBar=True, cmap=cmapConfusion)\n",
    "                if phaseType != 'phase':\n",
    "                    for bline in boundingLines:\n",
    "                        ax2[iCol].axvline(x=bline-1, linestyle='--', color=colorBoundingLines, alpha=1)\n",
    "                        ax2[iCol].axhline(y=bline-1, linestyle='--', color=colorBoundingLines, alpha=1)\n",
    "                \n",
    "                # Store confusion matrices \n",
    "                cumulConfDict[(mousename, direction, performance)] = confMat\n",
    "                \n",
    "                iCol += 1\n",
    "\n",
    "        fig1.savefig(mousename + '_significantrate_' + datatype + '_' + phaseType + '.png')\n",
    "        plt.close()\n",
    "        fig2.savefig(mousename + '_significantrate_' + datatype + '_' + phaseType + '_confusion.pdf')\n",
    "        plt.close()\n",
    "\n",
    "    iCol = 0\n",
    "    figAll, axAll = plt.subplots(ncols=nCol, figsize=(nCol*4, 4), tight_layout=True)    \n",
    "    for performance in performanceValues:\n",
    "        for direction in directionValues:\n",
    "            confThisCondition = [cumulConfDict[(mousename, direction, performance)] for mousename in dataDB.mice]\n",
    "            confAvg = np.mean(confThisCondition, axis=0)\n",
    "            \n",
    "            title = direction[0] + performance[0]\n",
    "            imshow(figAll, axAll[iCol], confAvg, limits=[0, 1], title=title, haveColorBar=True, cmap=cmapConfusion)\n",
    "            if phaseType != 'phase':\n",
    "                boundingLines = dataDB.get_phase_bounding_lines(phaseType, performance, haveWaiting=haveWaiting)\n",
    "                \n",
    "                for bline in boundingLines:\n",
    "                    axAll[iCol].axvline(x=bline-1, linestyle='--', color=colorBoundingLines, alpha=1)\n",
    "                    axAll[iCol].axhline(y=bline-1, linestyle='--', color=colorBoundingLines, alpha=1)\n",
    "            \n",
    "            iCol += 1\n",
    "            \n",
    "    figAll.savefig('Allmice_significantrate_' + phaseType + '_confusion.pdf')\n",
    "    plt.close()"
   ]
  },
  {
   "cell_type": "code",
   "execution_count": 26,
   "metadata": {},
   "outputs": [
    {
     "name": "stdout",
     "output_type": "stream",
     "text": [
      "deconv semiphase\n",
      "doing mouse m060\n",
      "No behaviour found for {'performance': 'Mistake', 'direction': 'L', 'session': 'm060_20190606'} ; skipping\n",
      "No behaviour found for {'performance': 'Mistake', 'direction': 'L', 'session': 'm060_20190606'} ; skipping\n",
      "No behaviour found for {'performance': 'Mistake', 'direction': 'L', 'session': 'm060_20190606'} ; skipping\n",
      "No behaviour found for {'performance': 'Mistake', 'direction': 'L', 'session': 'm060_20190606'} ; skipping\n",
      "No behaviour found for {'performance': 'Mistake', 'direction': 'L', 'session': 'm060_20190606'} ; skipping\n",
      "No behaviour found for {'performance': 'Mistake', 'direction': 'L', 'session': 'm060_20190606'} ; skipping\n",
      "No behaviour found for {'performance': 'Mistake', 'direction': 'L', 'session': 'm060_20190606'} ; skipping\n",
      "No behaviour found for {'performance': 'Mistake', 'direction': 'L', 'session': 'm060_20190606'} ; skipping\n",
      "doing mouse m061\n",
      "No behaviour found for {'performance': 'Mistake', 'direction': 'R', 'session': 'm061_20190517'} ; skipping\n",
      "No behaviour found for {'performance': 'Mistake', 'direction': 'R', 'session': 'm061_20190517'} ; skipping\n",
      "No behaviour found for {'performance': 'Mistake', 'direction': 'R', 'session': 'm061_20190517'} ; skipping\n",
      "No behaviour found for {'performance': 'Mistake', 'direction': 'R', 'session': 'm061_20190517'} ; skipping\n",
      "No behaviour found for {'performance': 'Mistake', 'direction': 'R', 'session': 'm061_20190517'} ; skipping\n",
      "No behaviour found for {'performance': 'Mistake', 'direction': 'R', 'session': 'm061_20190517'} ; skipping\n",
      "No behaviour found for {'performance': 'Mistake', 'direction': 'R', 'session': 'm061_20190517'} ; skipping\n",
      "No behaviour found for {'performance': 'Mistake', 'direction': 'R', 'session': 'm061_20190517'} ; skipping\n",
      "doing mouse m065\n",
      "doing mouse m066\n",
      "Warning:  m066_20191206 has zero interval 9 10\n",
      "Warning:  m066_20191206 has zero interval 1 2\n",
      "Warning:  m066_20191206 has zero interval 9 10\n",
      "Warning:  m066_20191206 has zero interval 14 15\n",
      "doing mouse m067\n",
      "No behaviour found for {'performance': 'Mistake', 'direction': 'L', 'session': 'm067_20200203'} ; skipping\n",
      "No behaviour found for {'performance': 'Mistake', 'direction': 'L', 'session': 'm067_20200203'} ; skipping\n",
      "Warning:  m067_20200218 has zero interval 2 3\n",
      "No behaviour found for {'performance': 'Mistake', 'direction': 'L', 'session': 'm067_20200203'} ; skipping\n",
      "No behaviour found for {'performance': 'Mistake', 'direction': 'L', 'session': 'm067_20200203'} ; skipping\n",
      "No behaviour found for {'performance': 'Mistake', 'direction': 'L', 'session': 'm067_20200203'} ; skipping\n",
      "No behaviour found for {'performance': 'Mistake', 'direction': 'L', 'session': 'm067_20200203'} ; skipping\n",
      "No behaviour found for {'performance': 'Mistake', 'direction': 'L', 'session': 'm067_20200203'} ; skipping\n",
      "No behaviour found for {'performance': 'Mistake', 'direction': 'L', 'session': 'm067_20200203'} ; skipping\n",
      "doing mouse m068\n",
      "deconv phase\n",
      "doing mouse m060\n",
      "No behaviour found for {'performance': 'Mistake', 'direction': 'L', 'session': 'm060_20190606'} ; skipping\n",
      "No behaviour found for {'performance': 'Mistake', 'direction': 'L', 'session': 'm060_20190606'} ; skipping\n",
      "No behaviour found for {'performance': 'Mistake', 'direction': 'L', 'session': 'm060_20190606'} ; skipping\n",
      "No behaviour found for {'direction': 'L', 'performance': 'Mistake', 'session': 'm060_20190606'} ; skipping\n",
      "No behaviour found for {'direction': 'L', 'performance': 'Mistake', 'session': 'm060_20190606'} ; skipping\n",
      "No behaviour found for {'direction': 'L', 'performance': 'Mistake', 'session': 'm060_20190606'} ; skipping\n",
      "doing mouse m061\n",
      "No behaviour found for {'performance': 'Mistake', 'direction': 'R', 'session': 'm061_20190517'} ; skipping\n",
      "No behaviour found for {'performance': 'Mistake', 'direction': 'R', 'session': 'm061_20190517'} ; skipping\n",
      "No behaviour found for {'performance': 'Mistake', 'direction': 'R', 'session': 'm061_20190517'} ; skipping\n",
      "No behaviour found for {'direction': 'R', 'performance': 'Mistake', 'session': 'm061_20190517'} ; skipping\n",
      "No behaviour found for {'direction': 'R', 'performance': 'Mistake', 'session': 'm061_20190517'} ; skipping\n",
      "No behaviour found for {'direction': 'R', 'performance': 'Mistake', 'session': 'm061_20190517'} ; skipping\n",
      "doing mouse m065\n",
      "doing mouse m066\n"
     ]
    },
    {
     "ename": "KeyboardInterrupt",
     "evalue": "",
     "output_type": "error",
     "traceback": [
      "\u001b[0;31m---------------------------------------------------------------------------\u001b[0m",
      "\u001b[0;31mKeyboardInterrupt\u001b[0m                         Traceback (most recent call last)",
      "\u001b[0;32m<ipython-input-26-3da1700478f1>\u001b[0m in \u001b[0;36m<module>\u001b[0;34m()\u001b[0m\n\u001b[1;32m      2\u001b[0m     \u001b[0;32mfor\u001b[0m \u001b[0mphasetype\u001b[0m \u001b[0;32min\u001b[0m \u001b[0;34m[\u001b[0m\u001b[0;34m'semiphase'\u001b[0m\u001b[0;34m,\u001b[0m \u001b[0;34m'phase'\u001b[0m\u001b[0;34m,\u001b[0m \u001b[0;34m'interval'\u001b[0m\u001b[0;34m]\u001b[0m\u001b[0;34m:\u001b[0m\u001b[0;34m\u001b[0m\u001b[0m\n\u001b[1;32m      3\u001b[0m         \u001b[0mprint\u001b[0m\u001b[0;34m(\u001b[0m\u001b[0mdatatype\u001b[0m\u001b[0;34m,\u001b[0m \u001b[0mphasetype\u001b[0m\u001b[0;34m)\u001b[0m\u001b[0;34m\u001b[0m\u001b[0m\n\u001b[0;32m----> 4\u001b[0;31m         \u001b[0mplot_significant_firing_rate_by_neuron\u001b[0m\u001b[0;34m(\u001b[0m\u001b[0mdatatype\u001b[0m\u001b[0;34m,\u001b[0m \u001b[0mphasetype\u001b[0m\u001b[0;34m,\u001b[0m \u001b[0mconfThr\u001b[0m\u001b[0;34m=\u001b[0m\u001b[0;36m0.01\u001b[0m\u001b[0;34m,\u001b[0m \u001b[0mhaveWaiting\u001b[0m\u001b[0;34m=\u001b[0m\u001b[0;32mFalse\u001b[0m\u001b[0;34m)\u001b[0m\u001b[0;34m\u001b[0m\u001b[0m\n\u001b[0m",
      "\u001b[0;32m<ipython-input-25-fb67d0ad5f7c>\u001b[0m in \u001b[0;36mplot_significant_firing_rate_by_neuron\u001b[0;34m(datatype, phaseType, confThr, haveWaiting)\u001b[0m\n\u001b[1;32m     35\u001b[0m \u001b[0;34m\u001b[0m\u001b[0m\n\u001b[1;32m     36\u001b[0m                 \u001b[0;31m# Calculate p-values\u001b[0m\u001b[0;34m\u001b[0m\u001b[0;34m\u001b[0m\u001b[0m\n\u001b[0;32m---> 37\u001b[0;31m                 \u001b[0mpVals2D\u001b[0m \u001b[0;34m=\u001b[0m \u001b[0msingle_cell_tests\u001b[0m\u001b[0;34m.\u001b[0m\u001b[0mtest_inverse_all_selectors\u001b[0m\u001b[0;34m(\u001b[0m\u001b[0mdataDB\u001b[0m\u001b[0;34m,\u001b[0m \u001b[0mqueryDict\u001b[0m\u001b[0;34m,\u001b[0m \u001b[0mphaseType\u001b[0m\u001b[0;34m,\u001b[0m \u001b[0mmetricName\u001b[0m\u001b[0;34m=\u001b[0m\u001b[0;34m'mean'\u001b[0m\u001b[0;34m,\u001b[0m \u001b[0malternative\u001b[0m\u001b[0;34m=\u001b[0m\u001b[0;34m\"greater\"\u001b[0m\u001b[0;34m,\u001b[0m \u001b[0mhaveWaiting\u001b[0m\u001b[0;34m=\u001b[0m\u001b[0mhaveWaiting\u001b[0m\u001b[0;34m,\u001b[0m \u001b[0msettings\u001b[0m\u001b[0;34m=\u001b[0m\u001b[0msettings\u001b[0m\u001b[0;34m)\u001b[0m\u001b[0;34m\u001b[0m\u001b[0m\n\u001b[0m\u001b[1;32m     38\u001b[0m                 \u001b[0mnegLogPVals2D\u001b[0m \u001b[0;34m=\u001b[0m \u001b[0;34m-\u001b[0m\u001b[0mnp\u001b[0m\u001b[0;34m.\u001b[0m\u001b[0mlog10\u001b[0m\u001b[0;34m(\u001b[0m\u001b[0mpVals2D\u001b[0m\u001b[0;34m)\u001b[0m\u001b[0;34m\u001b[0m\u001b[0m\n\u001b[1;32m     39\u001b[0m \u001b[0;34m\u001b[0m\u001b[0m\n",
      "\u001b[0;32m/media/aleksejs/DataHDD/work/codes/comp-neuro/analysis-neuro/chernysheva-tmaze-analysis-2020/src/lib/tests_phase_signle_cell.py\u001b[0m in \u001b[0;36mtest_inverse_all_selectors\u001b[0;34m(dataDB, queryDict, phaseType, metricName, alternative, ranges, haveWaiting, settings)\u001b[0m\n\u001b[1;32m     22\u001b[0m     \u001b[0msettings\u001b[0m \u001b[0;34m=\u001b[0m \u001b[0;34m{\u001b[0m\u001b[0;34m}\u001b[0m \u001b[0;32mif\u001b[0m \u001b[0msettings\u001b[0m \u001b[0;32mis\u001b[0m \u001b[0;32mNone\u001b[0m \u001b[0;32melse\u001b[0m \u001b[0msettings\u001b[0m\u001b[0;34m\u001b[0m\u001b[0m\n\u001b[1;32m     23\u001b[0m \u001b[0;34m\u001b[0m\u001b[0m\n\u001b[0;32m---> 24\u001b[0;31m     \u001b[0mrez3D\u001b[0m \u001b[0;34m=\u001b[0m \u001b[0mmetric_by_selector_all\u001b[0m\u001b[0;34m(\u001b[0m\u001b[0mdataDB\u001b[0m\u001b[0;34m,\u001b[0m \u001b[0mqueryDict\u001b[0m\u001b[0;34m,\u001b[0m \u001b[0mphaseType\u001b[0m\u001b[0;34m,\u001b[0m \u001b[0mmetricName\u001b[0m\u001b[0;34m,\u001b[0m \u001b[0;34m'pr'\u001b[0m\u001b[0;34m,\u001b[0m \u001b[0msettings\u001b[0m\u001b[0;34m,\u001b[0m \u001b[0mranges\u001b[0m\u001b[0;34m=\u001b[0m\u001b[0mranges\u001b[0m\u001b[0;34m,\u001b[0m \u001b[0mhaveWaiting\u001b[0m\u001b[0;34m=\u001b[0m\u001b[0mhaveWaiting\u001b[0m\u001b[0;34m)\u001b[0m\u001b[0;34m\u001b[0m\u001b[0m\n\u001b[0m\u001b[1;32m     25\u001b[0m \u001b[0;34m\u001b[0m\u001b[0m\n\u001b[1;32m     26\u001b[0m     \u001b[0mnInterval\u001b[0m\u001b[0;34m,\u001b[0m \u001b[0mnChannel\u001b[0m\u001b[0;34m,\u001b[0m \u001b[0mnTrial\u001b[0m \u001b[0;34m=\u001b[0m \u001b[0mrez3D\u001b[0m\u001b[0;34m.\u001b[0m\u001b[0mshape\u001b[0m\u001b[0;34m\u001b[0m\u001b[0m\n",
      "\u001b[0;32m/media/aleksejs/DataHDD/work/codes/comp-neuro/analysis-neuro/chernysheva-tmaze-analysis-2020/src/lib/metric_wrapper.py\u001b[0m in \u001b[0;36mmetric_by_selector_all\u001b[0;34m(dataDB, queryDict, phaseType, metricName, dimOrderTrg, settings, ranges, haveWaiting, channelFilter)\u001b[0m\n\u001b[1;32m    123\u001b[0m     \u001b[0;32mfor\u001b[0m \u001b[0mrangeVal\u001b[0m \u001b[0;32min\u001b[0m \u001b[0mranges\u001b[0m\u001b[0;34m:\u001b[0m\u001b[0;34m\u001b[0m\u001b[0m\n\u001b[1;32m    124\u001b[0m         \u001b[0mselector\u001b[0m \u001b[0;34m=\u001b[0m \u001b[0;34m{\u001b[0m\u001b[0mphaseType\u001b[0m \u001b[0;34m:\u001b[0m \u001b[0mrangeVal\u001b[0m\u001b[0;34m}\u001b[0m\u001b[0;34m\u001b[0m\u001b[0m\n\u001b[0;32m--> 125\u001b[0;31m         \u001b[0mmetricValues\u001b[0m \u001b[0;34m+=\u001b[0m \u001b[0;34m[\u001b[0m\u001b[0m_metric_single\u001b[0m\u001b[0;34m(\u001b[0m\u001b[0mselector\u001b[0m\u001b[0;34m,\u001b[0m \u001b[0mdataDB\u001b[0m\u001b[0;34m,\u001b[0m \u001b[0mqueryDict\u001b[0m\u001b[0;34m,\u001b[0m \u001b[0mmetricName\u001b[0m\u001b[0;34m,\u001b[0m \u001b[0mmc\u001b[0m\u001b[0;34m,\u001b[0m \u001b[0mdimOrderTrg\u001b[0m\u001b[0;34m,\u001b[0m \u001b[0msettings\u001b[0m\u001b[0;34m,\u001b[0m \u001b[0mchannelFilter\u001b[0m\u001b[0;34m)\u001b[0m\u001b[0;34m]\u001b[0m\u001b[0;34m\u001b[0m\u001b[0m\n\u001b[0m\u001b[1;32m    126\u001b[0m \u001b[0;34m\u001b[0m\u001b[0m\n\u001b[1;32m    127\u001b[0m     \u001b[0;32mreturn\u001b[0m \u001b[0mnp\u001b[0m\u001b[0;34m.\u001b[0m\u001b[0marray\u001b[0m\u001b[0;34m(\u001b[0m\u001b[0mmetricValues\u001b[0m\u001b[0;34m)\u001b[0m\u001b[0;34m\u001b[0m\u001b[0m\n",
      "\u001b[0;32m/media/aleksejs/DataHDD/work/codes/comp-neuro/analysis-neuro/chernysheva-tmaze-analysis-2020/src/lib/metric_wrapper.py\u001b[0m in \u001b[0;36m_metric_single\u001b[0;34m(selector, dataDB, queryDict, metricName, metricCalculator, dimOrderTrg, settings, channelFilter)\u001b[0m\n\u001b[1;32m     43\u001b[0m         \u001b[0;32mif\u001b[0m \u001b[0;34m\"nTest\"\u001b[0m \u001b[0;32mnot\u001b[0m \u001b[0;32min\u001b[0m \u001b[0msettings\u001b[0m\u001b[0;34m.\u001b[0m\u001b[0mkeys\u001b[0m\u001b[0;34m(\u001b[0m\u001b[0;34m)\u001b[0m\u001b[0;34m:\u001b[0m\u001b[0;34m\u001b[0m\u001b[0m\n\u001b[1;32m     44\u001b[0m             \u001b[0mmetricCalculator\u001b[0m\u001b[0;34m.\u001b[0m\u001b[0mset_data\u001b[0m\u001b[0;34m(\u001b[0m\u001b[0mdataLst\u001b[0m\u001b[0;34m,\u001b[0m \u001b[0mzscoreChannel\u001b[0m\u001b[0;34m=\u001b[0m\u001b[0mzscoreChannel\u001b[0m\u001b[0;34m)\u001b[0m\u001b[0;34m\u001b[0m\u001b[0m\n\u001b[0;32m---> 45\u001b[0;31m             \u001b[0;32mreturn\u001b[0m \u001b[0mmetricCalculator\u001b[0m\u001b[0;34m.\u001b[0m\u001b[0mmetric3D\u001b[0m\u001b[0;34m(\u001b[0m\u001b[0mmetricName\u001b[0m\u001b[0;34m,\u001b[0m \u001b[0mdimOrderTrg\u001b[0m\u001b[0;34m,\u001b[0m \u001b[0mmetricSettings\u001b[0m\u001b[0;34m=\u001b[0m\u001b[0mmetricSettings\u001b[0m\u001b[0;34m,\u001b[0m \u001b[0msweepSettings\u001b[0m\u001b[0;34m=\u001b[0m\u001b[0msweepSettings\u001b[0m\u001b[0;34m)\u001b[0m\u001b[0;34m\u001b[0m\u001b[0m\n\u001b[0m\u001b[1;32m     46\u001b[0m         \u001b[0;32melse\u001b[0m\u001b[0;34m:\u001b[0m\u001b[0;34m\u001b[0m\u001b[0m\n\u001b[1;32m     47\u001b[0m             \u001b[0mrezLst\u001b[0m \u001b[0;34m=\u001b[0m \u001b[0;34m[\u001b[0m\u001b[0;34m]\u001b[0m\u001b[0;34m\u001b[0m\u001b[0m\n",
      "\u001b[0;32m/media/aleksejs/DataHDD/work/codes/comp-neuro/analysis-mesoscopic/mesostat-dev/mesostat/metric/metric_non_uniform.py\u001b[0m in \u001b[0;36mmetric3D\u001b[0;34m(self, metricName, dimOrderTrg, metricSettings, sweepSettings)\u001b[0m\n\u001b[1;32m    124\u001b[0m         \u001b[0msweepGen\u001b[0m \u001b[0;34m=\u001b[0m \u001b[0mSweepGeneratorNonUniform\u001b[0m\u001b[0;34m(\u001b[0m\u001b[0mself\u001b[0m\u001b[0;34m.\u001b[0m\u001b[0mdataLst\u001b[0m\u001b[0;34m,\u001b[0m \u001b[0mdimOrderTrg\u001b[0m\u001b[0;34m,\u001b[0m \u001b[0msettingsSweep\u001b[0m\u001b[0;34m=\u001b[0m\u001b[0msweepSettings\u001b[0m\u001b[0;34m)\u001b[0m\u001b[0;34m\u001b[0m\u001b[0m\n\u001b[1;32m    125\u001b[0m \u001b[0;34m\u001b[0m\u001b[0m\n\u001b[0;32m--> 126\u001b[0;31m         \u001b[0;32mreturn\u001b[0m \u001b[0msweepGen\u001b[0m\u001b[0;34m.\u001b[0m\u001b[0munpack\u001b[0m\u001b[0;34m(\u001b[0m\u001b[0mself\u001b[0m\u001b[0;34m.\u001b[0m\u001b[0mmapper\u001b[0m\u001b[0;34m.\u001b[0m\u001b[0mmapMultiArg\u001b[0m\u001b[0;34m(\u001b[0m\u001b[0mwrappedFunc\u001b[0m\u001b[0;34m,\u001b[0m \u001b[0msweepGen\u001b[0m\u001b[0;34m.\u001b[0m\u001b[0miterator\u001b[0m\u001b[0;34m(\u001b[0m\u001b[0;34m)\u001b[0m\u001b[0;34m)\u001b[0m\u001b[0;34m)\u001b[0m\u001b[0;34m\u001b[0m\u001b[0m\n\u001b[0m\u001b[1;32m    127\u001b[0m \u001b[0;34m\u001b[0m\u001b[0m\n\u001b[1;32m    128\u001b[0m     \u001b[0;31m# Metric defined by user\u001b[0m\u001b[0;34m\u001b[0m\u001b[0;34m\u001b[0m\u001b[0m\n",
      "\u001b[0;32m/media/aleksejs/DataHDD/work/codes/comp-neuro/analysis-mesoscopic/mesostat-dev/mesostat/utils/parallel.py\u001b[0m in \u001b[0;36mmapMultiArg\u001b[0;34m(self, f, x)\u001b[0m\n\u001b[1;32m     41\u001b[0m         \u001b[0;31m# Ugly intermediate function to unpack tuple\u001b[0m\u001b[0;34m\u001b[0m\u001b[0;34m\u001b[0m\u001b[0m\n\u001b[1;32m     42\u001b[0m         \u001b[0mf_proxy\u001b[0m \u001b[0;34m=\u001b[0m \u001b[0;32mlambda\u001b[0m \u001b[0mtask\u001b[0m\u001b[0;34m:\u001b[0m \u001b[0mf\u001b[0m\u001b[0;34m(\u001b[0m\u001b[0;34m*\u001b[0m\u001b[0mtask\u001b[0m\u001b[0;34m)\u001b[0m\u001b[0;34m\u001b[0m\u001b[0m\n\u001b[0;32m---> 43\u001b[0;31m         \u001b[0;32mreturn\u001b[0m \u001b[0mself\u001b[0m\u001b[0;34m.\u001b[0m\u001b[0mmap\u001b[0m\u001b[0;34m(\u001b[0m\u001b[0mf_proxy\u001b[0m\u001b[0;34m,\u001b[0m \u001b[0mx\u001b[0m\u001b[0;34m)\u001b[0m\u001b[0;34m\u001b[0m\u001b[0m\n\u001b[0m",
      "\u001b[0;32m/media/aleksejs/DataHDD/work/codes/comp-neuro/analysis-mesoscopic/mesostat-dev/mesostat/utils/parallel.py\u001b[0m in \u001b[0;36mmap\u001b[0;34m(self, f, x)\u001b[0m\n\u001b[1;32m     31\u001b[0m             \u001b[0mprint\u001b[0m\u001b[0;34m(\u001b[0m\u001b[0;34m\"----Root process\"\u001b[0m\u001b[0;34m,\u001b[0m \u001b[0mself\u001b[0m\u001b[0;34m.\u001b[0m\u001b[0mpid\u001b[0m\u001b[0;34m,\u001b[0m \u001b[0;34m\"started task on\"\u001b[0m\u001b[0;34m,\u001b[0m \u001b[0mself\u001b[0m\u001b[0;34m.\u001b[0m\u001b[0mnCore\u001b[0m\u001b[0;34m,\u001b[0m \u001b[0;34m\"cores----\"\u001b[0m\u001b[0;34m)\u001b[0m\u001b[0;34m\u001b[0m\u001b[0m\n\u001b[1;32m     32\u001b[0m \u001b[0;34m\u001b[0m\u001b[0m\n\u001b[0;32m---> 33\u001b[0;31m         \u001b[0mrez\u001b[0m \u001b[0;34m=\u001b[0m \u001b[0mself\u001b[0m\u001b[0;34m.\u001b[0m\u001b[0mmap_func\u001b[0m\u001b[0;34m(\u001b[0m\u001b[0mf\u001b[0m\u001b[0;34m,\u001b[0m \u001b[0mx\u001b[0m\u001b[0;34m)\u001b[0m\u001b[0;34m\u001b[0m\u001b[0m\n\u001b[0m\u001b[1;32m     34\u001b[0m \u001b[0;34m\u001b[0m\u001b[0m\n\u001b[1;32m     35\u001b[0m         \u001b[0;32mif\u001b[0m \u001b[0mself\u001b[0m\u001b[0;34m.\u001b[0m\u001b[0mverbose\u001b[0m\u001b[0;34m:\u001b[0m\u001b[0;34m\u001b[0m\u001b[0m\n",
      "\u001b[0;32m/media/aleksejs/DataHDD/work/codes/comp-neuro/analysis-mesoscopic/mesostat-dev/mesostat/utils/parallel.py\u001b[0m in \u001b[0;36m<lambda>\u001b[0;34m(f, x)\u001b[0m\n\u001b[1;32m     13\u001b[0m         \u001b[0;32mif\u001b[0m \u001b[0mserial\u001b[0m\u001b[0;34m:\u001b[0m\u001b[0;34m\u001b[0m\u001b[0m\n\u001b[1;32m     14\u001b[0m             \u001b[0mself\u001b[0m\u001b[0;34m.\u001b[0m\u001b[0mnCore\u001b[0m \u001b[0;34m=\u001b[0m \u001b[0;36m1\u001b[0m\u001b[0;34m\u001b[0m\u001b[0m\n\u001b[0;32m---> 15\u001b[0;31m             \u001b[0mself\u001b[0m\u001b[0;34m.\u001b[0m\u001b[0mmap_func\u001b[0m \u001b[0;34m=\u001b[0m \u001b[0;32mlambda\u001b[0m \u001b[0mf\u001b[0m\u001b[0;34m,\u001b[0m\u001b[0mx\u001b[0m\u001b[0;34m:\u001b[0m \u001b[0mlist\u001b[0m\u001b[0;34m(\u001b[0m\u001b[0mmap\u001b[0m\u001b[0;34m(\u001b[0m\u001b[0mf\u001b[0m\u001b[0;34m,\u001b[0m \u001b[0mx\u001b[0m\u001b[0;34m)\u001b[0m\u001b[0;34m)\u001b[0m\u001b[0;34m\u001b[0m\u001b[0m\n\u001b[0m\u001b[1;32m     16\u001b[0m         \u001b[0;32melse\u001b[0m\u001b[0;34m:\u001b[0m\u001b[0;34m\u001b[0m\u001b[0m\n\u001b[1;32m     17\u001b[0m             \u001b[0mself\u001b[0m\u001b[0;34m.\u001b[0m\u001b[0mnCore\u001b[0m \u001b[0;34m=\u001b[0m \u001b[0mnCore\u001b[0m \u001b[0;32mif\u001b[0m \u001b[0mnCore\u001b[0m \u001b[0;32mis\u001b[0m \u001b[0;32mnot\u001b[0m \u001b[0;32mNone\u001b[0m \u001b[0;32melse\u001b[0m \u001b[0mpathos\u001b[0m\u001b[0;34m.\u001b[0m\u001b[0mmultiprocessing\u001b[0m\u001b[0;34m.\u001b[0m\u001b[0mcpu_count\u001b[0m\u001b[0;34m(\u001b[0m\u001b[0;34m)\u001b[0m \u001b[0;34m-\u001b[0m \u001b[0;36m1\u001b[0m\u001b[0;34m\u001b[0m\u001b[0m\n",
      "\u001b[0;32m/media/aleksejs/DataHDD/work/codes/comp-neuro/analysis-mesoscopic/mesostat-dev/mesostat/utils/parallel.py\u001b[0m in \u001b[0;36m<lambda>\u001b[0;34m(task)\u001b[0m\n\u001b[1;32m     40\u001b[0m     \u001b[0;32mdef\u001b[0m \u001b[0mmapMultiArg\u001b[0m\u001b[0;34m(\u001b[0m\u001b[0mself\u001b[0m\u001b[0;34m,\u001b[0m \u001b[0mf\u001b[0m\u001b[0;34m,\u001b[0m \u001b[0mx\u001b[0m\u001b[0;34m)\u001b[0m\u001b[0;34m:\u001b[0m\u001b[0;34m\u001b[0m\u001b[0m\n\u001b[1;32m     41\u001b[0m         \u001b[0;31m# Ugly intermediate function to unpack tuple\u001b[0m\u001b[0;34m\u001b[0m\u001b[0;34m\u001b[0m\u001b[0m\n\u001b[0;32m---> 42\u001b[0;31m         \u001b[0mf_proxy\u001b[0m \u001b[0;34m=\u001b[0m \u001b[0;32mlambda\u001b[0m \u001b[0mtask\u001b[0m\u001b[0;34m:\u001b[0m \u001b[0mf\u001b[0m\u001b[0;34m(\u001b[0m\u001b[0;34m*\u001b[0m\u001b[0mtask\u001b[0m\u001b[0;34m)\u001b[0m\u001b[0;34m\u001b[0m\u001b[0m\n\u001b[0m\u001b[1;32m     43\u001b[0m         \u001b[0;32mreturn\u001b[0m \u001b[0mself\u001b[0m\u001b[0;34m.\u001b[0m\u001b[0mmap\u001b[0m\u001b[0;34m(\u001b[0m\u001b[0mf_proxy\u001b[0m\u001b[0;34m,\u001b[0m \u001b[0mx\u001b[0m\u001b[0;34m)\u001b[0m\u001b[0;34m\u001b[0m\u001b[0m\n",
      "\u001b[0;32m/media/aleksejs/DataHDD/work/codes/comp-neuro/analysis-mesoscopic/mesostat-dev/mesostat/metric/metric_non_uniform.py\u001b[0m in \u001b[0;36mwrappedFunc\u001b[0;34m(dataLst, settings)\u001b[0m\n\u001b[1;32m    118\u001b[0m \u001b[0;34m\u001b[0m\u001b[0m\n\u001b[1;32m    119\u001b[0m             \u001b[0;32mif\u001b[0m \u001b[0mlen\u001b[0m\u001b[0;34m(\u001b[0m\u001b[0mdataLstDrop\u001b[0m\u001b[0;34m)\u001b[0m \u001b[0;34m>\u001b[0m \u001b[0;36m0\u001b[0m\u001b[0;34m:\u001b[0m\u001b[0;34m\u001b[0m\u001b[0m\n\u001b[0;32m--> 120\u001b[0;31m                 \u001b[0;32mreturn\u001b[0m \u001b[0mmetricFunc\u001b[0m\u001b[0;34m(\u001b[0m\u001b[0mdataLstDrop\u001b[0m\u001b[0;34m,\u001b[0m \u001b[0;34m{\u001b[0m\u001b[0;34m**\u001b[0m\u001b[0msettings\u001b[0m\u001b[0;34m,\u001b[0m \u001b[0;34m**\u001b[0m\u001b[0mmetricSettings\u001b[0m\u001b[0;34m}\u001b[0m\u001b[0;34m)\u001b[0m\u001b[0;34m\u001b[0m\u001b[0m\n\u001b[0m\u001b[1;32m    121\u001b[0m             \u001b[0;32melse\u001b[0m\u001b[0;34m:\u001b[0m\u001b[0;34m\u001b[0m\u001b[0m\n\u001b[1;32m    122\u001b[0m                 \u001b[0;32mreturn\u001b[0m \u001b[0;32mNone\u001b[0m\u001b[0;34m\u001b[0m\u001b[0m\n",
      "\u001b[0;32m/media/aleksejs/DataHDD/work/codes/comp-neuro/analysis-mesoscopic/mesostat-dev/mesostat/metric/metric_non_uniform.py\u001b[0m in \u001b[0;36m<lambda>\u001b[0;34m(dataLst, settings)\u001b[0m\n\u001b[1;32m     28\u001b[0m             \u001b[0;31m# SCALAR METRICS\u001b[0m\u001b[0;34m\u001b[0m\u001b[0;34m\u001b[0m\u001b[0m\n\u001b[1;32m     29\u001b[0m             \u001b[0;34m\"sum\"\u001b[0m\u001b[0;34m:\u001b[0m                  \u001b[0;32mlambda\u001b[0m \u001b[0mdataLst\u001b[0m\u001b[0;34m,\u001b[0m \u001b[0msettings\u001b[0m \u001b[0;34m:\u001b[0m \u001b[0mself\u001b[0m\u001b[0;34m.\u001b[0m\u001b[0m_flat_reduce\u001b[0m\u001b[0;34m(\u001b[0m\u001b[0mnp\u001b[0m\u001b[0;34m.\u001b[0m\u001b[0mnansum\u001b[0m\u001b[0;34m,\u001b[0m \u001b[0mdataLst\u001b[0m\u001b[0;34m)\u001b[0m\u001b[0;34m,\u001b[0m\u001b[0;34m\u001b[0m\u001b[0m\n\u001b[0;32m---> 30\u001b[0;31m             \u001b[0;34m\"mean\"\u001b[0m\u001b[0;34m:\u001b[0m                 \u001b[0;32mlambda\u001b[0m \u001b[0mdataLst\u001b[0m\u001b[0;34m,\u001b[0m \u001b[0msettings\u001b[0m \u001b[0;34m:\u001b[0m \u001b[0mself\u001b[0m\u001b[0;34m.\u001b[0m\u001b[0m_flat_reduce\u001b[0m\u001b[0;34m(\u001b[0m\u001b[0mnp\u001b[0m\u001b[0;34m.\u001b[0m\u001b[0mnanmean\u001b[0m\u001b[0;34m,\u001b[0m \u001b[0mdataLst\u001b[0m\u001b[0;34m)\u001b[0m\u001b[0;34m,\u001b[0m\u001b[0;34m\u001b[0m\u001b[0m\n\u001b[0m\u001b[1;32m     31\u001b[0m             \u001b[0;34m\"std\"\u001b[0m\u001b[0;34m:\u001b[0m                  \u001b[0;32mlambda\u001b[0m \u001b[0mdataLst\u001b[0m\u001b[0;34m,\u001b[0m \u001b[0msettings\u001b[0m \u001b[0;34m:\u001b[0m \u001b[0mself\u001b[0m\u001b[0;34m.\u001b[0m\u001b[0m_flat_reduce\u001b[0m\u001b[0;34m(\u001b[0m\u001b[0mnp\u001b[0m\u001b[0;34m.\u001b[0m\u001b[0mnanstd\u001b[0m\u001b[0;34m,\u001b[0m \u001b[0mdataLst\u001b[0m\u001b[0;34m)\u001b[0m\u001b[0;34m,\u001b[0m\u001b[0;34m\u001b[0m\u001b[0m\n\u001b[1;32m     32\u001b[0m             \u001b[0;34m\"autocorr_d1\"\u001b[0m\u001b[0;34m:\u001b[0m          \u001b[0mautocorr_d1_3D_non_uniform\u001b[0m\u001b[0;34m,\u001b[0m\u001b[0;34m\u001b[0m\u001b[0m\n",
      "\u001b[0;32m/media/aleksejs/DataHDD/work/codes/comp-neuro/analysis-mesoscopic/mesostat-dev/mesostat/metric/metric_non_uniform.py\u001b[0m in \u001b[0;36m_flat_reduce\u001b[0;34m(self, func, dataLst)\u001b[0m\n\u001b[1;32m    131\u001b[0m \u001b[0;34m\u001b[0m\u001b[0m\n\u001b[1;32m    132\u001b[0m     \u001b[0;32mdef\u001b[0m \u001b[0m_flat_reduce\u001b[0m\u001b[0;34m(\u001b[0m\u001b[0mself\u001b[0m\u001b[0;34m,\u001b[0m \u001b[0mfunc\u001b[0m\u001b[0;34m,\u001b[0m \u001b[0mdataLst\u001b[0m\u001b[0;34m)\u001b[0m\u001b[0;34m:\u001b[0m\u001b[0;34m\u001b[0m\u001b[0m\n\u001b[0;32m--> 133\u001b[0;31m         \u001b[0;32mreturn\u001b[0m \u001b[0mfunc\u001b[0m\u001b[0;34m(\u001b[0m\u001b[0mnp\u001b[0m\u001b[0;34m.\u001b[0m\u001b[0mhstack\u001b[0m\u001b[0;34m(\u001b[0m\u001b[0;34m[\u001b[0m\u001b[0mdata\u001b[0m\u001b[0;34m.\u001b[0m\u001b[0mflatten\u001b[0m\u001b[0;34m(\u001b[0m\u001b[0;34m)\u001b[0m \u001b[0;32mfor\u001b[0m \u001b[0mdata\u001b[0m \u001b[0;32min\u001b[0m \u001b[0mdataLst\u001b[0m\u001b[0;34m]\u001b[0m\u001b[0;34m)\u001b[0m\u001b[0;34m)\u001b[0m\u001b[0;34m\u001b[0m\u001b[0m\n\u001b[0m\u001b[1;32m    134\u001b[0m \u001b[0;34m\u001b[0m\u001b[0m\n\u001b[1;32m    135\u001b[0m     \u001b[0;31m# Calculate entropy averaged over all channels\u001b[0m\u001b[0;34m\u001b[0m\u001b[0;34m\u001b[0m\u001b[0m\n",
      "\u001b[0;32m<__array_function__ internals>\u001b[0m in \u001b[0;36mnanmean\u001b[0;34m(*args, **kwargs)\u001b[0m\n",
      "\u001b[0;32m/opt/anaconda3/envs/py36qt5/lib/python3.6/site-packages/numpy/lib/nanfunctions.py\u001b[0m in \u001b[0;36mnanmean\u001b[0;34m(a, axis, dtype, out, keepdims)\u001b[0m\n\u001b[1;32m    951\u001b[0m     \u001b[0mavg\u001b[0m \u001b[0;34m=\u001b[0m \u001b[0m_divide_by_count\u001b[0m\u001b[0;34m(\u001b[0m\u001b[0mtot\u001b[0m\u001b[0;34m,\u001b[0m \u001b[0mcnt\u001b[0m\u001b[0;34m,\u001b[0m \u001b[0mout\u001b[0m\u001b[0;34m=\u001b[0m\u001b[0mout\u001b[0m\u001b[0;34m)\u001b[0m\u001b[0;34m\u001b[0m\u001b[0m\n\u001b[1;32m    952\u001b[0m \u001b[0;34m\u001b[0m\u001b[0m\n\u001b[0;32m--> 953\u001b[0;31m     \u001b[0misbad\u001b[0m \u001b[0;34m=\u001b[0m \u001b[0;34m(\u001b[0m\u001b[0mcnt\u001b[0m \u001b[0;34m==\u001b[0m \u001b[0;36m0\u001b[0m\u001b[0;34m)\u001b[0m\u001b[0;34m\u001b[0m\u001b[0m\n\u001b[0m\u001b[1;32m    954\u001b[0m     \u001b[0;32mif\u001b[0m \u001b[0misbad\u001b[0m\u001b[0;34m.\u001b[0m\u001b[0many\u001b[0m\u001b[0;34m(\u001b[0m\u001b[0;34m)\u001b[0m\u001b[0;34m:\u001b[0m\u001b[0;34m\u001b[0m\u001b[0m\n\u001b[1;32m    955\u001b[0m         \u001b[0mwarnings\u001b[0m\u001b[0;34m.\u001b[0m\u001b[0mwarn\u001b[0m\u001b[0;34m(\u001b[0m\u001b[0;34m\"Mean of empty slice\"\u001b[0m\u001b[0;34m,\u001b[0m \u001b[0mRuntimeWarning\u001b[0m\u001b[0;34m,\u001b[0m \u001b[0mstacklevel\u001b[0m\u001b[0;34m=\u001b[0m\u001b[0;36m3\u001b[0m\u001b[0;34m)\u001b[0m\u001b[0;34m\u001b[0m\u001b[0m\n",
      "\u001b[0;31mKeyboardInterrupt\u001b[0m: "
     ]
    },
    {
     "name": "stderr",
     "output_type": "stream",
     "text": [
      "/opt/anaconda3/envs/py36qt5/lib/python3.6/site-packages/matplotlib/figure.py:2022: UserWarning: This figure includes Axes that are not compatible with tight_layout, so results might be incorrect.\n",
      "  warnings.warn(\"This figure includes Axes that are not compatible \"\n"
     ]
    },
    {
     "data": {
      "image/png": "[encoded data removed]",
      "text/plain": [
       "<matplotlib.figure.Figure at 0x7fcc12f67390>"
      ]
     },
     "metadata": {},
     "output_type": "display_data"
    },
    {
     "data": {
      "image/png": "[encoded data removed]",
      "text/plain": [
       "<matplotlib.figure.Figure at 0x7fcc12eb67b8>"
      ]
     },
     "metadata": {},
     "output_type": "display_data"
    }
   ],
   "source": [
    "for datatype in ['deconv', 'raw']:\n",
    "    for phasetype in ['semiphase', 'phase', 'interval']:\n",
    "        print(datatype, phasetype)\n",
    "        plot_significant_firing_rate_by_neuron(datatype, phasetype, confThr=0.01, haveWaiting=False)"
   ]
  },
  {
   "cell_type": "markdown",
   "metadata": {},
   "source": [
    "## 2.3 Storing significant neurons, counting across mice"
   ]
  },
  {
   "cell_type": "code",
   "execution_count": 17,
   "metadata": {
    "collapsed": true
   },
   "outputs": [],
   "source": [
    "def plot_df_count_by_mice(ax, data1, data2, label1, label2, xLabels, nCellPerMouse):\n",
    "    dataNorm1 = np.array(data1) / np.array(nCellPerMouse)\n",
    "    dataNorm2 = np.array(data2) / np.array(nCellPerMouse)\n",
    "    pVals = [binom_test(d1, d1 + d2) for d1, d2 in zip(data1, data2)]\n",
    "    \n",
    "    xInd = np.arange(len(xLabels))\n",
    "    width = 0.35  # the width of the bars\n",
    "    \n",
    "    rects1 = ax.bar(xInd - width/2, dataNorm1, width, label=label1)\n",
    "    rects2 = ax.bar(xInd + width/2, dataNorm2, width, label=label2)\n",
    "    \n",
    "    for patch1, patch2, pVal in zip(rects1.patches, rects2.patches, pVals):\n",
    "        stat_annot_patches(ax, patch1, patch2, pVal, fontsize=20)\n",
    "    \n",
    "    ax.set_xticks(xInd)\n",
    "    ax.set_xticklabels(xLabels)\n",
    "    \n",
    "def plot_df_count_combined(ax, data1, data2, label1, label2, nCellPerMouse):\n",
    "    # Convert from counts to fractions\n",
    "    dataNorm1 = np.array(data1) / np.array(nCellPerMouse)\n",
    "    dataNorm2 = np.array(data2) / np.array(nCellPerMouse)\n",
    "    dataMean1 = np.mean(dataNorm1)\n",
    "    dataMean2 = np.mean(dataNorm2)\n",
    "    \n",
    "    # Compute p-values and combine\n",
    "    pVals = [binom_test(d1, d1 + d2) for d1, d2 in zip(data1, data2)]\n",
    "    pValMean = combine_pvalues(pVals)[1]\n",
    "    \n",
    "    # Plot Bars\n",
    "    width = 0.30  # the width of the bars\n",
    "    dist = 0.05\n",
    "    rects1 = ax.bar([-(width + dist)/2], [dataMean1], width, label=label1)\n",
    "    rects2 = ax.bar([+(width + dist)/2], [dataMean2], width, label=label2)\n",
    "        \n",
    "    # Plot individual lines\n",
    "    for d1, d2 in zip(dataNorm1, dataNorm2):\n",
    "        ax.plot([-(width + dist)/2, (width + dist)/2], [d1, d2], color='gray')\n",
    "        \n",
    "    # Annotate bars\n",
    "    for patch1, patch2 in zip(rects1.patches, rects2.patches):\n",
    "        stat_annot_patches(ax, patch1, patch2, pValMean, fontsize=20)\n",
    "        \n",
    "    ax.set_xticks([])\n",
    "    ax.set_ylim([0, 1.1*np.max(np.hstack([dataNorm1, dataNorm2]))])\n",
    "\n",
    "\n",
    "def plot_save_significantly_firing_neurons(datatype, phaseType, exclusiveIndices, exclusiveLabels, ranges=None, confThr=0.01, haveAll=False):\n",
    "    settings = {\"zscoreChannel\" : False, \"serial\" : True, \"metricSettings\" : {}}\n",
    "    \n",
    "    exclusiveLabelsKey = '_'.join(exclusiveLabels)\n",
    "\n",
    "    significantCellsDict = {label : [] for label in exclusiveLabels}\n",
    "    \n",
    "    if not haveAll:\n",
    "        performanceValues = ['Correct', 'Mistake']\n",
    "        directionValues = ['L', 'R']\n",
    "    else:\n",
    "        performanceValues = ['Correct', 'Mistake', 'All']\n",
    "        directionValues = ['L', 'R', 'All']\n",
    "    \n",
    "    mice = list(sorted(dataDB.mice))\n",
    "    for mousename in mice:\n",
    "        print('doing mouse', mousename)\n",
    "\n",
    "        for performance in performanceValues:\n",
    "            for direction in directionValues:\n",
    "                queryDict = {'datatype' : datatype, 'mousename' : mousename}\n",
    "                if performance != 'All':\n",
    "                    queryDict = {**queryDict, **{'performance' : performance}}\n",
    "                if direction != 'All':\n",
    "                    queryDict = {**queryDict, **{'direction' : direction}}\n",
    "                    \n",
    "                # Calculate p-values and significant cells\n",
    "                pVals2D = single_cell_tests.test_inverse_all_selectors(dataDB, queryDict, phaseType, metricName='mean', alternative=\"greater\", settings=settings, ranges=ranges)\n",
    "                signCellsByPhase = single_cell_tests.pvalues_2_significant_cells(pVals2D, confThr)\n",
    "\n",
    "                # Determine maintenance-significant cells for storage\n",
    "                exclusiveSets = single_cell_tests.find_exclusive_sets(signCellsByPhase, exclusiveIndices)\n",
    "\n",
    "                for thisSet, thisLabel in zip(exclusiveSets, exclusiveLabels):\n",
    "                    significantCellsDict[thisLabel] += [[mousename, performance, direction, np.array(list(thisSet))]]\n",
    "\n",
    "    # Store significant cells in HDF5\n",
    "    significantCellsDFDict = {}\n",
    "    for label, signCellsData in significantCellsDict.items():\n",
    "        dfCells = pd.DataFrame(signCellsData, columns=['mousename', 'performance', 'direction', 'cells'])\n",
    "        dfCells.to_hdf('significant_cells_' + datatype + '_' + label + '.h5', key='df', mode='w')\n",
    "        significantCellsDFDict[label] = dfCells\n",
    "        \n",
    "    nCellPerMouse = np.array([dataDB.get_nchannel(mousename, datatype) for mousename in mice])\n",
    "\n",
    "    # Plot selector-specific number of significant cells vs mice\n",
    "    for performance in performanceValues:\n",
    "        for direction in directionValues:\n",
    "            queryDict = {\"performance\" : performance, \"direction\" : direction}\n",
    "            \n",
    "            nSignCellByMouse = []\n",
    "            for label, signCellsDF in significantCellsDFDict.items():\n",
    "                rows = get_rows_colvals(signCellsDF, queryDict, dropQuery=True)\n",
    "                nSignCellByMouse += [[len(list(row.values)[1]) for idx, row in rows.iterrows()]]\n",
    "            \n",
    "            ######################\n",
    "            #  Plot by mouse\n",
    "            ######################\n",
    "            \n",
    "            figCount, axCount = plt.subplots(figsize=(5, 5))\n",
    "            plot_df_count_by_mice(axCount, *nSignCellByMouse, *exclusiveLabels, mice, nCellPerMouse)\n",
    "                \n",
    "            figKey = '_'.join([exclusiveLabelsKey, datatype, phaseType, performance, direction])\n",
    "                \n",
    "            axCount.legend()\n",
    "            figCount.savefig('significantrate_by_mouse_' + figKey + '.pdf')\n",
    "            plt.close()\n",
    "            \n",
    "            ######################\n",
    "            #  Plot combined\n",
    "            ######################\n",
    "            \n",
    "            figCountAll, axCountAll = plt.subplots(figsize=(5, 5))\n",
    "            plot_df_count_combined(axCountAll, *nSignCellByMouse, *exclusiveLabels, nCellPerMouse)\n",
    "            \n",
    "            figCountAll.savefig('significantrate_combined_' + figKey + '.pdf')\n",
    "            plt.close()"
   ]
  },
  {
   "cell_type": "code",
   "execution_count": 22,
   "metadata": {
    "scrolled": false
   },
   "outputs": [
    {
     "name": "stdout",
     "output_type": "stream",
     "text": [
      "doing mouse m060\n",
      "No behaviour found for {'performance': 'Mistake', 'direction': 'L', 'session': 'm060_20190606'} ; skipping\n",
      "No behaviour found for {'performance': 'Mistake', 'direction': 'L', 'session': 'm060_20190606'} ; skipping\n",
      "No behaviour found for {'performance': 'Mistake', 'direction': 'L', 'session': 'm060_20190606'} ; skipping\n",
      "No behaviour found for {'performance': 'Mistake', 'direction': 'L', 'session': 'm060_20190606'} ; skipping\n",
      "No behaviour found for {'direction': 'L', 'performance': 'Mistake', 'session': 'm060_20190606'} ; skipping\n",
      "No behaviour found for {'direction': 'L', 'performance': 'Mistake', 'session': 'm060_20190606'} ; skipping\n",
      "No behaviour found for {'direction': 'L', 'performance': 'Mistake', 'session': 'm060_20190606'} ; skipping\n",
      "No behaviour found for {'direction': 'L', 'performance': 'Mistake', 'session': 'm060_20190606'} ; skipping\n",
      "doing mouse m061\n",
      "No behaviour found for {'performance': 'Mistake', 'direction': 'R', 'session': 'm061_20190517'} ; skipping\n",
      "No behaviour found for {'performance': 'Mistake', 'direction': 'R', 'session': 'm061_20190517'} ; skipping\n",
      "No behaviour found for {'performance': 'Mistake', 'direction': 'R', 'session': 'm061_20190517'} ; skipping\n",
      "No behaviour found for {'performance': 'Mistake', 'direction': 'R', 'session': 'm061_20190517'} ; skipping\n",
      "No behaviour found for {'direction': 'R', 'performance': 'Mistake', 'session': 'm061_20190517'} ; skipping\n",
      "No behaviour found for {'direction': 'R', 'performance': 'Mistake', 'session': 'm061_20190517'} ; skipping\n",
      "No behaviour found for {'direction': 'R', 'performance': 'Mistake', 'session': 'm061_20190517'} ; skipping\n",
      "No behaviour found for {'direction': 'R', 'performance': 'Mistake', 'session': 'm061_20190517'} ; skipping\n",
      "doing mouse m065\n",
      "doing mouse m066\n",
      "doing mouse m067\n",
      "No behaviour found for {'performance': 'Mistake', 'direction': 'L', 'session': 'm067_20200203'} ; skipping\n",
      "No behaviour found for {'performance': 'Mistake', 'direction': 'L', 'session': 'm067_20200203'} ; skipping\n",
      "No behaviour found for {'performance': 'Mistake', 'direction': 'L', 'session': 'm067_20200203'} ; skipping\n",
      "No behaviour found for {'performance': 'Mistake', 'direction': 'L', 'session': 'm067_20200203'} ; skipping\n",
      "No behaviour found for {'direction': 'L', 'performance': 'Mistake', 'session': 'm067_20200203'} ; skipping\n",
      "No behaviour found for {'direction': 'L', 'performance': 'Mistake', 'session': 'm067_20200203'} ; skipping\n",
      "No behaviour found for {'direction': 'L', 'performance': 'Mistake', 'session': 'm067_20200203'} ; skipping\n",
      "No behaviour found for {'direction': 'L', 'performance': 'Mistake', 'session': 'm067_20200203'} ; skipping\n",
      "doing mouse m068\n"
     ]
    },
    {
     "name": "stderr",
     "output_type": "stream",
     "text": [
      "/opt/anaconda3/envs/py36qt5/lib/python3.6/site-packages/pandas/core/generic.py:1471: PerformanceWarning: \n",
      "your performance may suffer as PyTables will pickle object types that it cannot\n",
      "map directly to c-types [inferred_type->mixed,key->block0_values] [items->['mousename', 'performance', 'direction', 'cells']]\n",
      "\n",
      "  return pytables.to_hdf(path_or_buf, key, self, **kwargs)\n"
     ]
    },
    {
     "name": "stdout",
     "output_type": "stream",
     "text": [
      "doing mouse m060\n",
      "No behaviour found for {'performance': 'Mistake', 'direction': 'L', 'session': 'm060_20190606'} ; skipping\n",
      "No behaviour found for {'performance': 'Mistake', 'direction': 'L', 'session': 'm060_20190606'} ; skipping\n",
      "No behaviour found for {'performance': 'Mistake', 'direction': 'L', 'session': 'm060_20190606'} ; skipping\n",
      "No behaviour found for {'performance': 'Mistake', 'direction': 'L', 'session': 'm060_20190606'} ; skipping\n",
      "No behaviour found for {'direction': 'L', 'performance': 'Mistake', 'session': 'm060_20190606'} ; skipping\n",
      "No behaviour found for {'direction': 'L', 'performance': 'Mistake', 'session': 'm060_20190606'} ; skipping\n",
      "No behaviour found for {'direction': 'L', 'performance': 'Mistake', 'session': 'm060_20190606'} ; skipping\n",
      "No behaviour found for {'direction': 'L', 'performance': 'Mistake', 'session': 'm060_20190606'} ; skipping\n",
      "doing mouse m061\n",
      "No behaviour found for {'performance': 'Mistake', 'direction': 'R', 'session': 'm061_20190517'} ; skipping\n",
      "No behaviour found for {'performance': 'Mistake', 'direction': 'R', 'session': 'm061_20190517'} ; skipping\n",
      "No behaviour found for {'performance': 'Mistake', 'direction': 'R', 'session': 'm061_20190517'} ; skipping\n",
      "No behaviour found for {'performance': 'Mistake', 'direction': 'R', 'session': 'm061_20190517'} ; skipping\n",
      "No behaviour found for {'direction': 'R', 'performance': 'Mistake', 'session': 'm061_20190517'} ; skipping\n",
      "No behaviour found for {'direction': 'R', 'performance': 'Mistake', 'session': 'm061_20190517'} ; skipping\n",
      "No behaviour found for {'direction': 'R', 'performance': 'Mistake', 'session': 'm061_20190517'} ; skipping\n",
      "No behaviour found for {'direction': 'R', 'performance': 'Mistake', 'session': 'm061_20190517'} ; skipping\n",
      "doing mouse m065\n",
      "doing mouse m066\n",
      "doing mouse m067\n",
      "No behaviour found for {'performance': 'Mistake', 'direction': 'L', 'session': 'm067_20200203'} ; skipping\n",
      "No behaviour found for {'performance': 'Mistake', 'direction': 'L', 'session': 'm067_20200203'} ; skipping\n",
      "No behaviour found for {'performance': 'Mistake', 'direction': 'L', 'session': 'm067_20200203'} ; skipping\n",
      "No behaviour found for {'performance': 'Mistake', 'direction': 'L', 'session': 'm067_20200203'} ; skipping\n",
      "No behaviour found for {'direction': 'L', 'performance': 'Mistake', 'session': 'm067_20200203'} ; skipping\n",
      "No behaviour found for {'direction': 'L', 'performance': 'Mistake', 'session': 'm067_20200203'} ; skipping\n",
      "No behaviour found for {'direction': 'L', 'performance': 'Mistake', 'session': 'm067_20200203'} ; skipping\n",
      "No behaviour found for {'direction': 'L', 'performance': 'Mistake', 'session': 'm067_20200203'} ; skipping\n",
      "doing mouse m068\n"
     ]
    }
   ],
   "source": [
    "# Testing each phase vs remainder of the trial, storing maintenance vs encoding+retrieval\n",
    "# for datatype in ['raw', 'deconv']:\n",
    "#     plot_save_significantly_firing_neurons(datatype,\n",
    "#                                            'phase',\n",
    "#                                            [[1], [0, 2]],\n",
    "#                                            ['mt', 'enc_ret'],\n",
    "#                                            confThr=0.01,\n",
    "#                                            haveAll=True)\n",
    "    \n",
    "    \n",
    "for datatype in ['raw', 'deconv']:\n",
    "    plot_save_significantly_firing_neurons(datatype,\n",
    "                                           'phase',\n",
    "                                           [[0], [2]],\n",
    "                                           ['end', 'ret'],\n",
    "                                           confThr=0.01,\n",
    "                                           haveAll=True)"
   ]
  },
  {
   "cell_type": "code",
   "execution_count": null,
   "metadata": {
    "collapsed": true,
    "scrolled": true
   },
   "outputs": [],
   "source": [
    "for datatype in ['raw', 'deconv']:\n",
    "    plot_save_significantly_firing_neurons(datatype,\n",
    "                                           'interval', \n",
    "                                           [[0], [1]],\n",
    "                                           ['enc_base', 'enc_reward'],\n",
    "                                           confThr=0.01,\n",
    "                                           ranges=[2, 4],\n",
    "                                           haveAll=True)"
   ]
  },
  {
   "cell_type": "markdown",
   "metadata": {},
   "source": [
    "## 2.4 Load and test significant cells"
   ]
  },
  {
   "cell_type": "code",
   "execution_count": null,
   "metadata": {
    "collapsed": true
   },
   "outputs": [],
   "source": [
    "significantCellsSelectorDatatype = {}\n",
    "\n",
    "for datatype in ['raw', 'deconv']:\n",
    "    signCellsMaintenance = SignificantCells('significant_cells_'+datatype+'_mt.h5').get_cells_by_mouse()\n",
    "    signCellsReward = SignificantCells('significant_cells_'+datatype+'_enc_reward.h5').get_cells_by_mouse()\n",
    "\n",
    "    significantCellsSelectorDatatype[datatype] = {\n",
    "        'None' : None,\n",
    "        'Maintenance' : signCellsMaintenance,\n",
    "        'Reward' : signCellsReward\n",
    "    }"
   ]
  },
  {
   "cell_type": "markdown",
   "metadata": {},
   "source": [
    "# 3.1 Table - Discriminate Phases by Metric"
   ]
  },
  {
   "cell_type": "code",
   "execution_count": null,
   "metadata": {
    "collapsed": true,
    "scrolled": false
   },
   "outputs": [],
   "source": [
    "%%time\n",
    "dataDB.verbose = False\n",
    "\n",
    "phases = ['Encoding', 'Maintenance', 'Retrieval']\n",
    "#settings = {\"serial\" : True, \"metricSettings\" : {\"metric\" : num_non_zero_std}}\n",
    "settings = {\"serial\" : True, \"metricSettings\" :{\"max_lag\" : 1}}\n",
    "sweepDict = {\n",
    "    #\"mousename\" : sorted(list(dataDB.mice)),\n",
    "    \"datatype\": [\"deconv\"],#, \"raw\", \"high\", \"deconv\"],\n",
    "    \"performance\": [\"Correct\", \"Mistake\", \"All\"],\n",
    "    \"direction\": [\"L\", \"R\", \"All\"]\n",
    "}\n",
    "\n",
    "table_lib.table_discriminate_time(dataDB, sweepDict,\n",
    "                                         {\"phase\" : phases},\n",
    "                                         \"mean\",\n",
    "                                         trgDimOrder=\"r\",\n",
    "                                         settings=settings, multiplexKey=\"mousename\")"
   ]
  },
  {
   "cell_type": "markdown",
   "metadata": {},
   "source": [
    "# 3.2 Violins - Metric by Phase and Interval"
   ]
  },
  {
   "cell_type": "code",
   "execution_count": null,
   "metadata": {
    "collapsed": true,
    "scrolled": false
   },
   "outputs": [],
   "source": [
    "def plot_violins(datatype, phaseType, metricName, settings, haveWaiting=True, signCellsSelector=None):\n",
    "    if signCellsSelector == None:\n",
    "        signCellsSelector = {'None' : None}\n",
    "        \n",
    "    signCellsKey, signCellsMouseDict = list(signCellsSelector.items())[0]\n",
    "    \n",
    "    \n",
    "    for performance in [\"Correct\", \"Mistake\"]:\n",
    "        fig, ax = plt.subplots(ncols=3, figsize=(15,5))\n",
    "        fig.suptitle(performance)\n",
    "\n",
    "        intervalOrigIndices = dataDB.get_phasetype_keys(phaseType, performance)\n",
    "        boundingLines = dataDB.get_phase_bounding_lines(phaseType, performance, haveWaiting=haveWaiting) - 1\n",
    "        phases = dataDB.get_phasetype_keys('phase', performance, haveWaiting=haveWaiting)\n",
    "\n",
    "        for mousename in sorted(dataDB.mice)[:-1]:\n",
    "            queryThis = {\"datatype\" : datatype, \"mousename\" : mousename, \"performance\" : performance}  # \"direction\" : \"R\"\n",
    "            rez2D = metric_by_selector_all(dataDB, queryThis, phaseType, metricName, 'p', settings, haveWaiting=haveWaiting, channelFilter=signCellsMouseDict)\n",
    "    #         rez2D = rez2D[..., 0]\n",
    "            plots_lib.plot_labeled_bars(ax[0], rez2D, intervalOrigIndices, plotLabel=mousename, alpha=0.2, vlines=boundingLines)\n",
    "\n",
    "        rez2DIntervAll = metric_by_selector_all(dataDB, queryThis, phaseType, metricName, 'p', settings, haveWaiting=haveWaiting, channelFilter=signCellsMouseDict)\n",
    "        rez2DPhaseAll = metric_by_selector_all(dataDB, queryThis, 'phase', metricName, 'p', settings, haveWaiting=haveWaiting, channelFilter=signCellsMouseDict)\n",
    "        plots_lib.plot_labeled_bars(ax[1], rez2DIntervAll, intervalOrigIndices, vlines=boundingLines)        \n",
    "        plots_lib.plot_labeled_violins(ax[2], rez2DPhaseAll, phases, \"phase\", metricName, joinMeans=True, printLogP=True)\n",
    "\n",
    "        ax[0].legend()\n",
    "        plt.savefig(phaseType+'_'+datatype+'_'+signCellsKey+'_avg_violins_'+performance+'.pdf')\n",
    "        plt.show()"
   ]
  },
  {
   "cell_type": "code",
   "execution_count": null,
   "metadata": {
    "collapsed": true,
    "scrolled": true
   },
   "outputs": [],
   "source": [
    "settings = {\"serial\" : True, \"metricSettings\" : {\"max_lag\" : 1}}\n",
    "#settings = {\"serial\" : True, \"metricSettings\" : {\"metric\" : num_non_zero_std}}\n",
    "\n",
    "        \n",
    "for datatype in ['raw', 'deconv']:\n",
    "    for phaseType in ['interval', 'semiphase']:\n",
    "        for signCellsName, signCells in significantCellsSelectorDatatype[datatype].items():\n",
    "            print(\"datatype\", datatype, \"Significant Cells :\", signCellsName)\n",
    "            plot_violins(datatype, phaseType, \"mean\", settings, haveWaiting=False, signCellsSelector={signCellsName:signCells})"
   ]
  },
  {
   "cell_type": "code",
   "execution_count": null,
   "metadata": {
    "collapsed": true
   },
   "outputs": [],
   "source": []
  }
 ],
 "metadata": {
  "kernelspec": {
   "display_name": "Python (py36qt5)",
   "language": "python",
   "name": "py36qt5"
  },
  "language_info": {
   "codemirror_mode": {
    "name": "ipython",
    "version": 3
   },
   "file_extension": ".py",
   "mimetype": "text/x-python",
   "name": "python",
   "nbconvert_exporter": "python",
   "pygments_lexer": "ipython3",
   "version": "3.6.4"
  }
 },
 "nbformat": 4,
 "nbformat_minor": 2
}

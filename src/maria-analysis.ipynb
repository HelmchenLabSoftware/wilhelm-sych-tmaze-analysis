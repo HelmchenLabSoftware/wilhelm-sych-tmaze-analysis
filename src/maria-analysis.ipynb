{
 "cells": [
  {
   "cell_type": "code",
   "execution_count": 1,
   "metadata": {},
   "outputs": [
    {
     "name": "stdout",
     "output_type": "stream",
     "text": [
      "Appended root directory /media/aleksejs/DataHDD/work/codes/comp-neuro/analysis-neuro/neuronal-sequence-test\n"
     ]
    }
   ],
   "source": [
    "# Standard libraries\n",
    "import numpy as np\n",
    "import matplotlib.pyplot as plt\n",
    "from ipywidgets import interactive, IntProgress\n",
    "from IPython.display import display\n",
    "\n",
    "# Append base directory\n",
    "import os,sys,inspect\n",
    "rootname = \"neuronal-sequence-test\"\n",
    "thispath = os.path.dirname(os.path.abspath(inspect.getfile(inspect.currentframe())))\n",
    "rootpath = os.path.join(thispath[:thispath.index(rootname)], rootname)\n",
    "sys.path.append(rootpath)\n",
    "print(\"Appended root directory\", rootpath)\n",
    "\n",
    "# User libraries\n",
    "from src.lib.qt_wrapper import gui_fnames, gui_fpath\n",
    "from src.lib.data_db import BehaviouralNeuronalDatabase\n",
    "\n",
    "%load_ext autoreload\n",
    "%autoreload 2"
   ]
  },
  {
   "cell_type": "markdown",
   "metadata": {},
   "source": [
    "# TODO\n",
    "\n",
    "1. Preprocessing : Apply background subtraction\n",
    "2. Alignment : Ensure intervals actually match. Ask Maria for visual test of alignment\n",
    "3. Apply metrics - 1 data point per trial - pool trials - maintenance vs all\n",
    "    * 1D semistatic: Mean, Variance, 1D Entropy\n",
    "    * ND semistatic: Avg Correlation, ND Entropy\n",
    "    * 1D dynamic: Predictive Info, AR(1) efficiency\n",
    "    * ND dynamic: Predictive Info, AR(1) efficiency, Orderability coeff\n",
    "    \n",
    "4. Test Hypotheses:\n",
    "    1. Maintenance predicts Correct/Incorrect vs other phases\n",
    "    2. Maintenance predicts L/R better vs other phases\n",
    "    3. Validation: Prev trial C/I or L/R predicts that of next trial\n",
    "    4. Predictive aspect:\n",
    "        * Semi-static maintenance activity is good predictor, fine temporal details irrelevant\n",
    "        * Semi-static maintenance activity is not good, fine temporal details improve prediction"
   ]
  },
  {
   "cell_type": "code",
   "execution_count": 2,
   "metadata": {
    "collapsed": true
   },
   "outputs": [],
   "source": [
    "# tmp_path = root_path_data if 'root_path_data' in locals() else \"./\"\n",
    "params = {}\n",
    "#params['root_path_data']  = gui_fpath(\"Path to data files\", \"./\")\n",
    "params['root_path_data'] = '/media/aleksejs/DataHDD/work/data/maria'"
   ]
  },
  {
   "cell_type": "code",
   "execution_count": 3,
   "metadata": {},
   "outputs": [],
   "source": [
    "dataDB = BehaviouralNeuronalDatabase(params)"
   ]
  },
  {
   "cell_type": "code",
   "execution_count": 12,
   "metadata": {},
   "outputs": [
    {
     "data": {
      "application/vnd.jupyter.widget-view+json": {
       "model_id": "faab02d51a6445e8b65d3f091699eb42",
       "version_major": 2,
       "version_minor": 0
      },
      "text/plain": [
       "IntProgress(value=0, description='Read Neuro Data:', max=14)"
      ]
     },
     "metadata": {},
     "output_type": "display_data"
    }
   ],
   "source": [
    "dataDB.read_neuro_files()"
   ]
  },
  {
   "cell_type": "code",
   "execution_count": 13,
   "metadata": {
    "scrolled": false
   },
   "outputs": [
    {
     "data": {
      "application/vnd.jupyter.widget-view+json": {
       "model_id": "b485a49238f5453d9caaefc214d485e4",
       "version_major": 2,
       "version_minor": 0
      },
      "text/plain": [
       "IntProgress(value=0, description='Read Neuro Data:', max=14)"
      ]
     },
     "metadata": {},
     "output_type": "display_data"
    },
    {
     "name": "stdout",
     "output_type": "stream",
     "text": [
      "Reading /media/aleksejs/DataHDD/work/data/maria/m060/Behavior_m060_20190522.mat\n",
      "Reading /media/aleksejs/DataHDD/work/data/maria/m060/Behavior_m060_20190524.mat\n",
      "Reading /media/aleksejs/DataHDD/work/data/maria/m060/Behavior_m060_20190527.mat\n",
      "Reading /media/aleksejs/DataHDD/work/data/maria/m060/Behavior_m060_20190606.mat\n",
      "No trials found for Trial_LWhole_Mistake skipping\n",
      "Reading /media/aleksejs/DataHDD/work/data/maria/m065/Behavior_m065_20191128.mat\n",
      "Reading /media/aleksejs/DataHDD/work/data/maria/m065/Behavior_m065_20191204.mat\n",
      "Reading /media/aleksejs/DataHDD/work/data/maria/m065/Behavior_m065_20191205.mat\n",
      "Reading /media/aleksejs/DataHDD/work/data/maria/m065/Behavior_m065_20191206.mat\n",
      "Reading /media/aleksejs/DataHDD/work/data/maria/m065/Behavior_m065_20191209.mat\n",
      "Reading /media/aleksejs/DataHDD/work/data/maria/m068/Behavior_m068_20200130.mat\n",
      "Reading /media/aleksejs/DataHDD/work/data/maria/m068/Behavior_m068_20200131.mat\n",
      "Reading /media/aleksejs/DataHDD/work/data/maria/m068/Behavior_m068_20200203.mat\n",
      "Reading /media/aleksejs/DataHDD/work/data/maria/m068/Behavior_m068_20200204.mat\n",
      "Reading /media/aleksejs/DataHDD/work/data/maria/m068/Behavior_m068_20200205.mat\n"
     ]
    }
   ],
   "source": [
    "dataDB.read_behavior_files()"
   ]
  },
  {
   "cell_type": "code",
   "execution_count": 23,
   "metadata": {
    "collapsed": true
   },
   "outputs": [],
   "source": [
    "dataSets = {\n",
    "    \"data_L_C_mt_raw\"    : dataDB.get_data_mouse_phase(\"m060\", \"Maintenance\", \"L\", \"Correct\", \"raw\"),\n",
    "    \"data_L_C_mt_high\"   : dataDB.get_data_mouse_phase(\"m060\", \"Maintenance\", \"L\", \"Correct\", \"high\"),\n",
    "    \"data_L_C_all_raw\"   : dataDB.get_data_mouse_interval(\"m060\", 0, 17, \"L\", \"Correct\", \"raw\"),\n",
    "    \"data_L_C_all_high\"  : dataDB.get_data_mouse_interval(\"m060\", 0, 17, \"L\", \"Correct\", \"high\")    \n",
    "}"
   ]
  },
  {
   "cell_type": "code",
   "execution_count": 25,
   "metadata": {},
   "outputs": [
    {
     "ename": "IndexError",
     "evalue": "index 18 is out of bounds for axis 1 with size 18",
     "output_type": "error",
     "traceback": [
      "\u001b[0;31m---------------------------------------------------------------------------\u001b[0m",
      "\u001b[0;31mIndexError\u001b[0m                                Traceback (most recent call last)",
      "\u001b[0;32m<ipython-input-25-54ea8a9d1a50>\u001b[0m in \u001b[0;36m<module>\u001b[0;34m()\u001b[0m\n\u001b[1;32m      3\u001b[0m     \u001b[0;32mfor\u001b[0m \u001b[0mdirection\u001b[0m \u001b[0;32min\u001b[0m \u001b[0;34m[\u001b[0m\u001b[0;34m\"L\"\u001b[0m\u001b[0;34m,\u001b[0m \u001b[0;34m\"R\"\u001b[0m\u001b[0;34m]\u001b[0m\u001b[0;34m:\u001b[0m\u001b[0;34m\u001b[0m\u001b[0m\n\u001b[1;32m      4\u001b[0m         \u001b[0;32mfor\u001b[0m \u001b[0mdataType\u001b[0m \u001b[0;32min\u001b[0m \u001b[0;34m[\u001b[0m\u001b[0;34m\"raw\"\u001b[0m\u001b[0;34m,\u001b[0m \u001b[0;34m\"high\"\u001b[0m\u001b[0;34m]\u001b[0m\u001b[0;34m:\u001b[0m\u001b[0;34m\u001b[0m\u001b[0m\n\u001b[0;32m----> 5\u001b[0;31m             \u001b[0mdataAll\u001b[0m \u001b[0;34m=\u001b[0m \u001b[0mdataDB\u001b[0m\u001b[0;34m.\u001b[0m\u001b[0mget_data_mouse_phase\u001b[0m\u001b[0;34m(\u001b[0m\u001b[0;34m\"m060\"\u001b[0m\u001b[0;34m,\u001b[0m \u001b[0;32mNone\u001b[0m\u001b[0;34m,\u001b[0m \u001b[0mdirection\u001b[0m\u001b[0;34m,\u001b[0m \u001b[0mperformance\u001b[0m\u001b[0;34m,\u001b[0m \u001b[0mdataType\u001b[0m\u001b[0;34m)\u001b[0m\u001b[0;34m\u001b[0m\u001b[0m\n\u001b[0m\u001b[1;32m      6\u001b[0m             \u001b[0mdataMt\u001b[0m \u001b[0;34m=\u001b[0m \u001b[0mdataDB\u001b[0m\u001b[0;34m.\u001b[0m\u001b[0mget_data_mouse_phase\u001b[0m\u001b[0;34m(\u001b[0m\u001b[0;34m\"m060\"\u001b[0m\u001b[0;34m,\u001b[0m \u001b[0;34m\"Maintenance\"\u001b[0m\u001b[0;34m,\u001b[0m \u001b[0mdirection\u001b[0m\u001b[0;34m,\u001b[0m \u001b[0mperformance\u001b[0m\u001b[0;34m,\u001b[0m \u001b[0mdataType\u001b[0m\u001b[0;34m)\u001b[0m\u001b[0;34m\u001b[0m\u001b[0m\n\u001b[1;32m      7\u001b[0m \u001b[0;34m\u001b[0m\u001b[0m\n",
      "\u001b[0;32m/media/aleksejs/DataHDD/work/codes/comp-neuro/analysis-neuro/neuronal-sequence-test/src/lib/data_db.py\u001b[0m in \u001b[0;36mget_data_mouse_phase\u001b[0;34m(self, mousename, phase, direction, performance, dataType)\u001b[0m\n\u001b[1;32m    213\u001b[0m     \u001b[0;32mdef\u001b[0m \u001b[0mget_data_mouse_phase\u001b[0m\u001b[0;34m(\u001b[0m\u001b[0mself\u001b[0m\u001b[0;34m,\u001b[0m \u001b[0mmousename\u001b[0m\u001b[0;34m,\u001b[0m \u001b[0mphase\u001b[0m\u001b[0;34m,\u001b[0m \u001b[0mdirection\u001b[0m\u001b[0;34m,\u001b[0m \u001b[0mperformance\u001b[0m\u001b[0;34m,\u001b[0m \u001b[0mdataType\u001b[0m\u001b[0;34m=\u001b[0m\u001b[0;34m'raw'\u001b[0m\u001b[0;34m)\u001b[0m\u001b[0;34m:\u001b[0m\u001b[0;34m\u001b[0m\u001b[0m\n\u001b[1;32m    214\u001b[0m         \u001b[0mstartState\u001b[0m\u001b[0;34m,\u001b[0m \u001b[0mendState\u001b[0m \u001b[0;34m=\u001b[0m \u001b[0mself\u001b[0m\u001b[0;34m.\u001b[0m\u001b[0m_phase_to_interval\u001b[0m\u001b[0;34m(\u001b[0m\u001b[0mphase\u001b[0m\u001b[0;34m,\u001b[0m \u001b[0mperformance\u001b[0m\u001b[0;34m)\u001b[0m\u001b[0;34m\u001b[0m\u001b[0m\n\u001b[0;32m--> 215\u001b[0;31m         \u001b[0;32mreturn\u001b[0m \u001b[0mself\u001b[0m\u001b[0;34m.\u001b[0m\u001b[0mget_data_mouse_interval\u001b[0m\u001b[0;34m(\u001b[0m\u001b[0mmousename\u001b[0m\u001b[0;34m,\u001b[0m \u001b[0mstartState\u001b[0m\u001b[0;34m,\u001b[0m \u001b[0mendState\u001b[0m\u001b[0;34m,\u001b[0m \u001b[0mdirection\u001b[0m\u001b[0;34m,\u001b[0m \u001b[0mperformance\u001b[0m\u001b[0;34m,\u001b[0m \u001b[0mdataType\u001b[0m\u001b[0;34m)\u001b[0m\u001b[0;34m\u001b[0m\u001b[0m\n\u001b[0m\u001b[1;32m    216\u001b[0m \u001b[0;34m\u001b[0m\u001b[0m\n\u001b[1;32m    217\u001b[0m \u001b[0;34m\u001b[0m\u001b[0m\n",
      "\u001b[0;32m/media/aleksejs/DataHDD/work/codes/comp-neuro/analysis-neuro/neuronal-sequence-test/src/lib/data_db.py\u001b[0m in \u001b[0;36mget_data_mouse_interval\u001b[0;34m(self, mousename, startState, endState, direction, performance, dataType)\u001b[0m\n\u001b[1;32m    206\u001b[0m                 \u001b[0mprint\u001b[0m\u001b[0;34m(\u001b[0m\u001b[0;34m\"No behaviour found for\"\u001b[0m\u001b[0;34m,\u001b[0m \u001b[0;34m[\u001b[0m\u001b[0mthisMouseKey\u001b[0m\u001b[0;34m,\u001b[0m \u001b[0mdirection\u001b[0m\u001b[0;34m,\u001b[0m \u001b[0mperformance\u001b[0m\u001b[0;34m]\u001b[0m\u001b[0;34m,\u001b[0m \u001b[0;34m\"; skipping\"\u001b[0m\u001b[0;34m)\u001b[0m\u001b[0;34m\u001b[0m\u001b[0m\n\u001b[1;32m    207\u001b[0m             \u001b[0;32melse\u001b[0m\u001b[0;34m:\u001b[0m\u001b[0;34m\u001b[0m\u001b[0m\n\u001b[0;32m--> 208\u001b[0;31m                 \u001b[0mrez\u001b[0m \u001b[0;34m+=\u001b[0m \u001b[0mself\u001b[0m\u001b[0;34m.\u001b[0m\u001b[0mget_data_session_interval_fromindex\u001b[0m\u001b[0;34m(\u001b[0m\u001b[0midxNeuro\u001b[0m\u001b[0;34m,\u001b[0m \u001b[0midxBehavior\u001b[0m\u001b[0;34m,\u001b[0m \u001b[0mstartState\u001b[0m\u001b[0;34m,\u001b[0m \u001b[0mendState\u001b[0m\u001b[0;34m,\u001b[0m \u001b[0mdataType\u001b[0m\u001b[0;34m)\u001b[0m\u001b[0;34m\u001b[0m\u001b[0m\n\u001b[0m\u001b[1;32m    209\u001b[0m \u001b[0;34m\u001b[0m\u001b[0m\n\u001b[1;32m    210\u001b[0m         \u001b[0;32mreturn\u001b[0m \u001b[0mrez\u001b[0m\u001b[0;34m\u001b[0m\u001b[0m\n",
      "\u001b[0;32m/media/aleksejs/DataHDD/work/codes/comp-neuro/analysis-neuro/neuronal-sequence-test/src/lib/data_db.py\u001b[0m in \u001b[0;36mget_data_session_interval_fromindex\u001b[0;34m(self, idxNeuro, idxBehavior, startState, endState, dataType)\u001b[0m\n\u001b[1;32m    169\u001b[0m \u001b[0;34m\u001b[0m\u001b[0m\n\u001b[1;32m    170\u001b[0m         \u001b[0mstartFrameIdxs\u001b[0m \u001b[0;34m=\u001b[0m \u001b[0mframesArrThis\u001b[0m\u001b[0;34m[\u001b[0m\u001b[0;34m:\u001b[0m\u001b[0;34m,\u001b[0m \u001b[0mstartState\u001b[0m\u001b[0;34m]\u001b[0m\u001b[0;34m\u001b[0m\u001b[0m\n\u001b[0;32m--> 171\u001b[0;31m         \u001b[0mendFrameIdxs\u001b[0m \u001b[0;34m=\u001b[0m \u001b[0mframesArrThis\u001b[0m\u001b[0;34m[\u001b[0m\u001b[0;34m:\u001b[0m\u001b[0;34m,\u001b[0m \u001b[0mendState\u001b[0m\u001b[0;34m]\u001b[0m\u001b[0;34m\u001b[0m\u001b[0m\n\u001b[0m\u001b[1;32m    172\u001b[0m \u001b[0;34m\u001b[0m\u001b[0m\n\u001b[1;32m    173\u001b[0m         \u001b[0;32mreturn\u001b[0m \u001b[0;34m[\u001b[0m\u001b[0mdataNeuroThis\u001b[0m\u001b[0;34m[\u001b[0m\u001b[0mstart\u001b[0m\u001b[0;34m:\u001b[0m\u001b[0mend\u001b[0m\u001b[0;34m]\u001b[0m \u001b[0;32mfor\u001b[0m \u001b[0mstart\u001b[0m\u001b[0;34m,\u001b[0m \u001b[0mend\u001b[0m \u001b[0;32min\u001b[0m \u001b[0mzip\u001b[0m\u001b[0;34m(\u001b[0m\u001b[0mstartFrameIdxs\u001b[0m\u001b[0;34m,\u001b[0m \u001b[0mendFrameIdxs\u001b[0m\u001b[0;34m)\u001b[0m\u001b[0;34m]\u001b[0m\u001b[0;34m\u001b[0m\u001b[0m\n",
      "\u001b[0;31mIndexError\u001b[0m: index 18 is out of bounds for axis 1 with size 18"
     ]
    }
   ],
   "source": [
    "\n",
    "for performance in [\"Correct\", \"Mistake\"]:\n",
    "    for direction in [\"L\", \"R\"]:\n",
    "        for dataType in [\"raw\", \"high\"]:\n",
    "            dataAll = dataDB.get_data_mouse_phase(\"m060\", None, direction, performance, dataType)\n",
    "            dataMt = dataDB.get_data_mouse_phase(\"m060\", \"Maintenance\", direction, performance, dataType)\n",
    "            \n",
    "            dataAllFlat = np.vstack(dataAll)\n",
    "            dataMtFlat = np.vstack(dataMt)\n",
    "            \n",
    "            print(np.mean(dataMtFlat), \"vs\", np.mean(dataAllFlat))\n",
    "    \n",
    "    "
   ]
  },
  {
   "cell_type": "code",
   "execution_count": null,
   "metadata": {
    "collapsed": true
   },
   "outputs": [],
   "source": []
  }
 ],
 "metadata": {
  "kernelspec": {
   "display_name": "Python (py36qt5)",
   "language": "python",
   "name": "py36qt5"
  },
  "language_info": {
   "codemirror_mode": {
    "name": "ipython",
    "version": 3
   },
   "file_extension": ".py",
   "mimetype": "text/x-python",
   "name": "python",
   "nbconvert_exporter": "python",
   "pygments_lexer": "ipython3",
   "version": "3.6.4"
  }
 },
 "nbformat": 4,
 "nbformat_minor": 2
}

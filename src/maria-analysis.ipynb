{
 "cells": [
  {
   "cell_type": "code",
   "execution_count": 24,
   "metadata": {},
   "outputs": [
    {
     "name": "stdout",
     "output_type": "stream",
     "text": [
      "Appended root directory /media/aleksejs/DataHDD/work/codes/comp-neuro/analysis-neuro/neuronal-sequence-test\n",
      "The autoreload extension is already loaded. To reload it, use:\n",
      "  %reload_ext autoreload\n"
     ]
    }
   ],
   "source": [
    "# Standard libraries\n",
    "import pandas as pd\n",
    "import numpy as np\n",
    "import matplotlib.pyplot as plt\n",
    "from ipywidgets import interactive, IntProgress\n",
    "from IPython.display import display\n",
    "\n",
    "# Append base directory\n",
    "import os,sys,inspect\n",
    "rootname = \"neuronal-sequence-test\"\n",
    "thispath = os.path.dirname(os.path.abspath(inspect.getfile(inspect.currentframe())))\n",
    "rootpath = os.path.join(thispath[:thispath.index(rootname)], rootname)\n",
    "sys.path.append(rootpath)\n",
    "print(\"Appended root directory\", rootpath)\n",
    "\n",
    "# User libraries\n",
    "from src.lib.qt_wrapper import gui_fnames, gui_fpath\n",
    "from src.lib.data_db import BehaviouralNeuronalDatabase\n",
    "import src.lib.plots_lib as plots_lib\n",
    "\n",
    "%load_ext autoreload\n",
    "%autoreload 2"
   ]
  },
  {
   "cell_type": "markdown",
   "metadata": {},
   "source": [
    "# TODO\n",
    "\n",
    "1. Preprocessing : Apply background subtraction\n",
    "2. Alignment : Ensure intervals actually match. Ask Maria for visual test of alignment\n",
    "3. Apply metrics - 1 data point per trial - pool trials - maintenance vs all\n",
    "    * 1D semistatic: Mean, Variance, 1D Entropy\n",
    "    * ND semistatic: Avg Correlation, ND Entropy\n",
    "    * 1D dynamic: Predictive Info, AR(1) efficiency\n",
    "    * ND dynamic: Predictive Info, AR(1) efficiency, Orderability coeff\n",
    "    \n",
    "4. Test Hypotheses:\n",
    "    1. Maintenance predicts Correct/Incorrect vs other phases\n",
    "    2. Maintenance predicts L/R better vs other phases\n",
    "    3. Validation: Prev trial C/I or L/R predicts that of next trial\n",
    "    4. Predictive aspect:\n",
    "        * Semi-static maintenance activity is good predictor, fine temporal details irrelevant\n",
    "        * Semi-static maintenance activity is not good, fine temporal details improve prediction"
   ]
  },
  {
   "cell_type": "code",
   "execution_count": 2,
   "metadata": {
    "collapsed": true
   },
   "outputs": [],
   "source": [
    "# tmp_path = root_path_data if 'root_path_data' in locals() else \"./\"\n",
    "params = {}\n",
    "params['root_path_data']  = gui_fpath(\"Path to data files\", \"./\")\n",
    "#params['root_path_data'] = '/media/aleksejs/DataHDD/work/data/maria'"
   ]
  },
  {
   "cell_type": "code",
   "execution_count": 3,
   "metadata": {
    "collapsed": true
   },
   "outputs": [],
   "source": [
    "dataDB = BehaviouralNeuronalDatabase(params)"
   ]
  },
  {
   "cell_type": "code",
   "execution_count": 4,
   "metadata": {},
   "outputs": [
    {
     "data": {
      "application/vnd.jupyter.widget-view+json": {
       "model_id": "c75b68093dc1416b869839987ccaa447",
       "version_major": 2,
       "version_minor": 0
      },
      "text/plain": [
       "IntProgress(value=0, description='Read Neuro Data:', max=14)"
      ]
     },
     "metadata": {},
     "output_type": "display_data"
    }
   ],
   "source": [
    "dataDB.read_neuro_files()"
   ]
  },
  {
   "cell_type": "code",
   "execution_count": 5,
   "metadata": {
    "scrolled": false
   },
   "outputs": [
    {
     "data": {
      "application/vnd.jupyter.widget-view+json": {
       "model_id": "90a1212cc74540ee89aa6e2f0f3422f3",
       "version_major": 2,
       "version_minor": 0
      },
      "text/plain": [
       "IntProgress(value=0, description='Read Neuro Data:', max=14)"
      ]
     },
     "metadata": {},
     "output_type": "display_data"
    },
    {
     "name": "stdout",
     "output_type": "stream",
     "text": [
      "Reading /media/aleksejs/DataHDD/work/data/maria/m060/Behavior_m060_20190522.mat\n",
      "Reading /media/aleksejs/DataHDD/work/data/maria/m060/Behavior_m060_20190524.mat\n",
      "Reading /media/aleksejs/DataHDD/work/data/maria/m060/Behavior_m060_20190527.mat\n",
      "Reading /media/aleksejs/DataHDD/work/data/maria/m060/Behavior_m060_20190606.mat\n",
      "No trials found for Trial_LWhole_Mistake skipping\n",
      "Reading /media/aleksejs/DataHDD/work/data/maria/m065/Behavior_m065_20191128.mat\n",
      "Reading /media/aleksejs/DataHDD/work/data/maria/m065/Behavior_m065_20191204.mat\n",
      "Reading /media/aleksejs/DataHDD/work/data/maria/m065/Behavior_m065_20191205.mat\n",
      "Reading /media/aleksejs/DataHDD/work/data/maria/m065/Behavior_m065_20191206.mat\n",
      "Reading /media/aleksejs/DataHDD/work/data/maria/m065/Behavior_m065_20191209.mat\n",
      "Reading /media/aleksejs/DataHDD/work/data/maria/m068/Behavior_m068_20200130.mat\n",
      "Reading /media/aleksejs/DataHDD/work/data/maria/m068/Behavior_m068_20200131.mat\n",
      "Reading /media/aleksejs/DataHDD/work/data/maria/m068/Behavior_m068_20200203.mat\n",
      "Reading /media/aleksejs/DataHDD/work/data/maria/m068/Behavior_m068_20200204.mat\n",
      "Reading /media/aleksejs/DataHDD/work/data/maria/m068/Behavior_m068_20200205.mat\n"
     ]
    }
   ],
   "source": [
    "dataDB.read_behavior_files()"
   ]
  },
  {
   "cell_type": "code",
   "execution_count": 88,
   "metadata": {
    "scrolled": false
   },
   "outputs": [
    {
     "name": "stdout",
     "output_type": "stream",
     "text": [
      "No behaviour found for {'performance': 'Mistake', 'direction': 'L', 'mousekey': 'm060_20190606'} ; skipping\n",
      "No behaviour found for {'performance': 'Mistake', 'direction': 'L', 'mousekey': 'm060_20190606'} ; skipping\n",
      "No behaviour found for {'performance': 'Mistake', 'direction': 'L', 'mousekey': 'm060_20190606'} ; skipping\n",
      "No behaviour found for {'performance': 'Mistake', 'direction': 'L', 'mousekey': 'm060_20190606'} ; skipping\n",
      "No behaviour found for {'direction': 'L', 'performance': 'Mistake', 'mousekey': 'm060_20190606'} ; skipping\n",
      "No behaviour found for {'direction': 'L', 'performance': 'Mistake', 'mousekey': 'm060_20190606'} ; skipping\n",
      "No behaviour found for {'direction': 'L', 'performance': 'Mistake', 'mousekey': 'm060_20190606'} ; skipping\n",
      "No behaviour found for {'direction': 'L', 'performance': 'Mistake', 'mousekey': 'm060_20190606'} ; skipping\n"
     ]
    },
    {
     "data": {
      "text/html": [
       "<div>\n",
       "<style scoped>\n",
       "    .dataframe tbody tr th:only-of-type {\n",
       "        vertical-align: middle;\n",
       "    }\n",
       "\n",
       "    .dataframe tbody tr th {\n",
       "        vertical-align: top;\n",
       "    }\n",
       "\n",
       "    .dataframe thead th {\n",
       "        text-align: right;\n",
       "    }\n",
       "</style>\n",
       "<table border=\"1\" class=\"dataframe\">\n",
       "  <thead>\n",
       "    <tr style=\"text-align: right;\">\n",
       "      <th></th>\n",
       "      <th>performance</th>\n",
       "      <th>direction</th>\n",
       "      <th>datatype</th>\n",
       "      <th>mean(Maintenance)</th>\n",
       "      <th>mean(WholeTrial)</th>\n",
       "      <th>pVal_log10</th>\n",
       "      <th>nTrial</th>\n",
       "    </tr>\n",
       "  </thead>\n",
       "  <tbody>\n",
       "    <tr>\n",
       "      <th>0</th>\n",
       "      <td>Correct</td>\n",
       "      <td>L</td>\n",
       "      <td>raw</td>\n",
       "      <td>-2.236264</td>\n",
       "      <td>-0.697467</td>\n",
       "      <td>-1.373570</td>\n",
       "      <td>256</td>\n",
       "    </tr>\n",
       "    <tr>\n",
       "      <th>1</th>\n",
       "      <td>Correct</td>\n",
       "      <td>L</td>\n",
       "      <td>high</td>\n",
       "      <td>0.835604</td>\n",
       "      <td>0.916089</td>\n",
       "      <td>-5.997608</td>\n",
       "      <td>256</td>\n",
       "    </tr>\n",
       "    <tr>\n",
       "      <th>2</th>\n",
       "      <td>Correct</td>\n",
       "      <td>R</td>\n",
       "      <td>raw</td>\n",
       "      <td>-0.875659</td>\n",
       "      <td>0.112680</td>\n",
       "      <td>-0.952086</td>\n",
       "      <td>233</td>\n",
       "    </tr>\n",
       "    <tr>\n",
       "      <th>3</th>\n",
       "      <td>Correct</td>\n",
       "      <td>R</td>\n",
       "      <td>high</td>\n",
       "      <td>0.861503</td>\n",
       "      <td>0.947460</td>\n",
       "      <td>-4.500450</td>\n",
       "      <td>233</td>\n",
       "    </tr>\n",
       "    <tr>\n",
       "      <th>4</th>\n",
       "      <td>Correct</td>\n",
       "      <td>All</td>\n",
       "      <td>raw</td>\n",
       "      <td>-1.587959</td>\n",
       "      <td>-0.311446</td>\n",
       "      <td>-1.772974</td>\n",
       "      <td>489</td>\n",
       "    </tr>\n",
       "    <tr>\n",
       "      <th>5</th>\n",
       "      <td>Correct</td>\n",
       "      <td>All</td>\n",
       "      <td>high</td>\n",
       "      <td>0.847945</td>\n",
       "      <td>0.931037</td>\n",
       "      <td>-9.579105</td>\n",
       "      <td>489</td>\n",
       "    </tr>\n",
       "    <tr>\n",
       "      <th>6</th>\n",
       "      <td>Mistake</td>\n",
       "      <td>L</td>\n",
       "      <td>raw</td>\n",
       "      <td>-2.753138</td>\n",
       "      <td>0.177327</td>\n",
       "      <td>-2.065900</td>\n",
       "      <td>71</td>\n",
       "    </tr>\n",
       "    <tr>\n",
       "      <th>7</th>\n",
       "      <td>Mistake</td>\n",
       "      <td>L</td>\n",
       "      <td>high</td>\n",
       "      <td>0.745697</td>\n",
       "      <td>0.924109</td>\n",
       "      <td>-4.518954</td>\n",
       "      <td>71</td>\n",
       "    </tr>\n",
       "    <tr>\n",
       "      <th>8</th>\n",
       "      <td>Mistake</td>\n",
       "      <td>R</td>\n",
       "      <td>raw</td>\n",
       "      <td>-1.765620</td>\n",
       "      <td>-0.053517</td>\n",
       "      <td>-0.990437</td>\n",
       "      <td>69</td>\n",
       "    </tr>\n",
       "    <tr>\n",
       "      <th>9</th>\n",
       "      <td>Mistake</td>\n",
       "      <td>R</td>\n",
       "      <td>high</td>\n",
       "      <td>0.836264</td>\n",
       "      <td>0.935980</td>\n",
       "      <td>-2.185633</td>\n",
       "      <td>69</td>\n",
       "    </tr>\n",
       "    <tr>\n",
       "      <th>10</th>\n",
       "      <td>Mistake</td>\n",
       "      <td>All</td>\n",
       "      <td>raw</td>\n",
       "      <td>-2.266433</td>\n",
       "      <td>0.063554</td>\n",
       "      <td>-2.352247</td>\n",
       "      <td>140</td>\n",
       "    </tr>\n",
       "    <tr>\n",
       "      <th>11</th>\n",
       "      <td>Mistake</td>\n",
       "      <td>All</td>\n",
       "      <td>high</td>\n",
       "      <td>0.790334</td>\n",
       "      <td>0.929960</td>\n",
       "      <td>-5.426332</td>\n",
       "      <td>140</td>\n",
       "    </tr>\n",
       "    <tr>\n",
       "      <th>12</th>\n",
       "      <td>All</td>\n",
       "      <td>L</td>\n",
       "      <td>raw</td>\n",
       "      <td>-2.348490</td>\n",
       "      <td>-0.507527</td>\n",
       "      <td>-2.455776</td>\n",
       "      <td>327</td>\n",
       "    </tr>\n",
       "    <tr>\n",
       "      <th>13</th>\n",
       "      <td>All</td>\n",
       "      <td>L</td>\n",
       "      <td>high</td>\n",
       "      <td>0.816083</td>\n",
       "      <td>0.917830</td>\n",
       "      <td>-9.073130</td>\n",
       "      <td>327</td>\n",
       "    </tr>\n",
       "    <tr>\n",
       "      <th>14</th>\n",
       "      <td>All</td>\n",
       "      <td>R</td>\n",
       "      <td>raw</td>\n",
       "      <td>-1.078994</td>\n",
       "      <td>0.074708</td>\n",
       "      <td>-1.380306</td>\n",
       "      <td>302</td>\n",
       "    </tr>\n",
       "    <tr>\n",
       "      <th>15</th>\n",
       "      <td>All</td>\n",
       "      <td>R</td>\n",
       "      <td>high</td>\n",
       "      <td>0.855737</td>\n",
       "      <td>0.944837</td>\n",
       "      <td>-5.838380</td>\n",
       "      <td>302</td>\n",
       "    </tr>\n",
       "    <tr>\n",
       "      <th>16</th>\n",
       "      <td>All</td>\n",
       "      <td>All</td>\n",
       "      <td>raw</td>\n",
       "      <td>-1.738971</td>\n",
       "      <td>-0.227980</td>\n",
       "      <td>-3.095802</td>\n",
       "      <td>629</td>\n",
       "    </tr>\n",
       "    <tr>\n",
       "      <th>17</th>\n",
       "      <td>All</td>\n",
       "      <td>All</td>\n",
       "      <td>high</td>\n",
       "      <td>0.835122</td>\n",
       "      <td>0.930797</td>\n",
       "      <td>-13.800351</td>\n",
       "      <td>629</td>\n",
       "    </tr>\n",
       "  </tbody>\n",
       "</table>\n",
       "</div>"
      ],
      "text/plain": [
       "   performance direction datatype  mean(Maintenance)  mean(WholeTrial)  \\\n",
       "0      Correct         L      raw          -2.236264         -0.697467   \n",
       "1      Correct         L     high           0.835604          0.916089   \n",
       "2      Correct         R      raw          -0.875659          0.112680   \n",
       "3      Correct         R     high           0.861503          0.947460   \n",
       "4      Correct       All      raw          -1.587959         -0.311446   \n",
       "5      Correct       All     high           0.847945          0.931037   \n",
       "6      Mistake         L      raw          -2.753138          0.177327   \n",
       "7      Mistake         L     high           0.745697          0.924109   \n",
       "8      Mistake         R      raw          -1.765620         -0.053517   \n",
       "9      Mistake         R     high           0.836264          0.935980   \n",
       "10     Mistake       All      raw          -2.266433          0.063554   \n",
       "11     Mistake       All     high           0.790334          0.929960   \n",
       "12         All         L      raw          -2.348490         -0.507527   \n",
       "13         All         L     high           0.816083          0.917830   \n",
       "14         All         R      raw          -1.078994          0.074708   \n",
       "15         All         R     high           0.855737          0.944837   \n",
       "16         All       All      raw          -1.738971         -0.227980   \n",
       "17         All       All     high           0.835122          0.930797   \n",
       "\n",
       "    pVal_log10  nTrial  \n",
       "0    -1.373570     256  \n",
       "1    -5.997608     256  \n",
       "2    -0.952086     233  \n",
       "3    -4.500450     233  \n",
       "4    -1.772974     489  \n",
       "5    -9.579105     489  \n",
       "6    -2.065900      71  \n",
       "7    -4.518954      71  \n",
       "8    -0.990437      69  \n",
       "9    -2.185633      69  \n",
       "10   -2.352247     140  \n",
       "11   -5.426332     140  \n",
       "12   -2.455776     327  \n",
       "13   -9.073130     327  \n",
       "14   -1.380306     302  \n",
       "15   -5.838380     302  \n",
       "16   -3.095802     629  \n",
       "17  -13.800351     629  "
      ]
     },
     "metadata": {},
     "output_type": "display_data"
    }
   ],
   "source": [
    "plots_lib.table_test_metric_phase_vs_all(dataDB, \"Maintenance\", \"mean\", np.mean)"
   ]
  },
  {
   "cell_type": "code",
   "execution_count": 115,
   "metadata": {},
   "outputs": [
    {
     "name": "stdout",
     "output_type": "stream",
     "text": [
      "{'mousename': 'm060', 'direction': 'L', 'datatype': 'raw', 'performance': 'Correct'} (74, 88)\n",
      "No behaviour found for {'direction': 'L', 'performance': 'Mistake', 'mousekey': 'm060_20190606'} ; skipping\n",
      "{'mousename': 'm060', 'direction': 'L', 'datatype': 'raw', 'performance': 'Mistake'} (5, 88)\n"
     ]
    },
    {
     "data": {
      "text/plain": [
       "{'Accuracy_Test : ': 0.76625,\n",
       " 'Accuracy_Train': 1.0,\n",
       " 'p-value': 0.9225945717617944}"
      ]
     },
     "execution_count": 115,
     "metadata": {},
     "output_type": "execute_result"
    }
   ],
   "source": [
    "queryThis = {\"mousename\" : \"m060\", \"direction\" : \"L\", \"datatype\" : \"raw\"}\n",
    "\n",
    "plots_lib.table_binary_classification(dataDB, \"Maintenance\", queryThis, \"performance\") "
   ]
  },
  {
   "cell_type": "code",
   "execution_count": null,
   "metadata": {
    "collapsed": true
   },
   "outputs": [],
   "source": []
  }
 ],
 "metadata": {
  "kernelspec": {
   "display_name": "Python (py36qt5)",
   "language": "python",
   "name": "py36qt5"
  },
  "language_info": {
   "codemirror_mode": {
    "name": "ipython",
    "version": 3
   },
   "file_extension": ".py",
   "mimetype": "text/x-python",
   "name": "python",
   "nbconvert_exporter": "python",
   "pygments_lexer": "ipython3",
   "version": "3.6.4"
  }
 },
 "nbformat": 4,
 "nbformat_minor": 2
}

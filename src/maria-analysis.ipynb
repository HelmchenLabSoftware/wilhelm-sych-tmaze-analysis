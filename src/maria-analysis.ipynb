{
 "cells": [
  {
   "cell_type": "code",
   "execution_count": 1,
   "metadata": {},
   "outputs": [
    {
     "name": "stdout",
     "output_type": "stream",
     "text": [
      "Appended root directory /media/aleksejs/DataHDD/work/codes/comp-neuro/analysis-neuro/neuronal-sequence-test\n"
     ]
    }
   ],
   "source": [
    "# Standard libraries\n",
    "from copy import deepcopy\n",
    "\n",
    "import pandas as pd\n",
    "import numpy as np\n",
    "import matplotlib.pyplot as plt\n",
    "from ipywidgets import interactive, IntProgress\n",
    "from IPython.display import display\n",
    "\n",
    "# Append base directory\n",
    "import os,sys,inspect\n",
    "rootname = \"neuronal-sequence-test\"\n",
    "thispath = os.path.dirname(os.path.abspath(inspect.getfile(inspect.currentframe())))\n",
    "rootpath = os.path.join(thispath[:thispath.index(rootname)], rootname)\n",
    "sys.path.append(rootpath)\n",
    "print(\"Appended root directory\", rootpath)\n",
    "\n",
    "# User libraries\n",
    "from src.lib.qt_wrapper import gui_fnames, gui_fpath\n",
    "from src.lib.data_db import BehaviouralNeuronalDatabase\n",
    "import src.lib.plots_lib as plots_lib\n",
    "\n",
    "%load_ext autoreload\n",
    "%autoreload 2"
   ]
  },
  {
   "cell_type": "markdown",
   "metadata": {},
   "source": [
    "# TODO\n",
    "\n",
    "1. Preprocessing : Apply background subtraction\n",
    "2. Alignment : Ensure intervals actually match. Ask Maria for visual test of alignment\n",
    "3. Apply metrics - 1 data point per trial - pool trials - maintenance vs all\n",
    "    * 1D semistatic: Mean, Variance, 1D Entropy\n",
    "    * ND semistatic: Avg Correlation, ND Entropy\n",
    "    * Dynamic-Extended: Predictive Info, AR(1) efficiency\n",
    "    * Dynamic-Invariant: Orderability, Trunc PSD, PhaseSpace Clustering Distance\n",
    "    * Dynamic-Translated:\n",
    "        * Plot neuron-average activity over trials, see if alignment makes any sence\n",
    "    * Dynamic-Scaled:\n",
    "        * Plot avg scaled activity L vs R, Corr vs Miss, see if looks different\n",
    "        * DimRed neurons, project time onto first few Legendre poly, do classification\n",
    "    * Dynamic-Overlap:  Shorter trials are subsets of longer trials in terms of neuronal spikes\n",
    "   \n",
    "4. Test Hypotheses:\n",
    "    1. Maintenance vs other discriminates (Hit/Miss) $\\otimes$ (L/R)\n",
    "    2. Validation: Prev trial C/I or L/R predicts that of next trial\n",
    "    3. Predictive aspect:\n",
    "        * Semi-static maintenance activity is good predictor, fine temporal details irrelevant\n",
    "        * Semi-static maintenance activity is not good, fine temporal details improve prediction\n",
    "\n",
    "5. Visualize each metric:\n",
    "    * For single trial, to check that it makes sense\n",
    "    * By intervals and phases"
   ]
  },
  {
   "cell_type": "code",
   "execution_count": 2,
   "metadata": {
    "collapsed": true
   },
   "outputs": [],
   "source": [
    "# tmp_path = root_path_data if 'root_path_data' in locals() else \"./\"\n",
    "params = {}\n",
    "#params['root_path_data']  = gui_fpath(\"Path to data files\", \"./\")\n",
    "params['root_path_data'] = '/media/aleksejs/DataHDD/work/data/maria'\n",
    "#params['root_path_data'] = '/media/alyosha/Data/TE_data/mariadata'"
   ]
  },
  {
   "cell_type": "code",
   "execution_count": 3,
   "metadata": {
    "collapsed": true
   },
   "outputs": [],
   "source": [
    "dataDB = BehaviouralNeuronalDatabase(params)"
   ]
  },
  {
   "cell_type": "code",
   "execution_count": 4,
   "metadata": {},
   "outputs": [
    {
     "data": {
      "application/vnd.jupyter.widget-view+json": {
       "model_id": "f4f3ec1bd1f94641b7c80c42ea633437",
       "version_major": 2,
       "version_minor": 0
      },
      "text/plain": [
       "IntProgress(value=0, description='Read Neuro Data:', max=22)"
      ]
     },
     "metadata": {},
     "output_type": "display_data"
    }
   ],
   "source": [
    "dataDB.read_neuro_files()"
   ]
  },
  {
   "cell_type": "code",
   "execution_count": 5,
   "metadata": {
    "scrolled": false
   },
   "outputs": [
    {
     "data": {
      "application/vnd.jupyter.widget-view+json": {
       "model_id": "7eb6dae7eac14171904207a651a02925",
       "version_major": 2,
       "version_minor": 0
      },
      "text/plain": [
       "IntProgress(value=0, description='Read Neuro Data:', max=22)"
      ]
     },
     "metadata": {},
     "output_type": "display_data"
    },
    {
     "name": "stdout",
     "output_type": "stream",
     "text": [
      "Reading /media/aleksejs/DataHDD/work/data/maria/m060/Behavior_m060_20190522.mat\n",
      "Reading /media/aleksejs/DataHDD/work/data/maria/m060/Behavior_m060_20190524.mat\n",
      "Reading /media/aleksejs/DataHDD/work/data/maria/m060/Behavior_m060_20190527.mat\n",
      "Reading /media/aleksejs/DataHDD/work/data/maria/m060/Behavior_m060_20190606.mat\n",
      "No trials found for Trial_LWhole_Mistake skipping\n",
      "Reading /media/aleksejs/DataHDD/work/data/maria/m061/Behavior_m061_20190517.mat\n",
      "No trials found for Trial_RWhole_Mistake skipping\n",
      "Reading /media/aleksejs/DataHDD/work/data/maria/m061/Behavior_m061_20190524.mat\n",
      "Reading /media/aleksejs/DataHDD/work/data/maria/m061/Behavior_m061_20190527.mat\n",
      "Reading /media/aleksejs/DataHDD/work/data/maria/m065/Behavior_m065_20191128.mat\n",
      "Reading /media/aleksejs/DataHDD/work/data/maria/m065/Behavior_m065_20191204.mat\n",
      "Reading /media/aleksejs/DataHDD/work/data/maria/m065/Behavior_m065_20191205.mat\n",
      "Reading /media/aleksejs/DataHDD/work/data/maria/m065/Behavior_m065_20191206.mat\n",
      "Reading /media/aleksejs/DataHDD/work/data/maria/m065/Behavior_m065_20191209.mat\n",
      "Reading /media/aleksejs/DataHDD/work/data/maria/m066/Behavior_m066_20191128.mat\n",
      "Reading /media/aleksejs/DataHDD/work/data/maria/m066/Behavior_m066_20191205.mat\n",
      "Reading /media/aleksejs/DataHDD/work/data/maria/m066/Behavior_m066_20191206.mat\n",
      "Reading /media/aleksejs/DataHDD/work/data/maria/m066/Behavior_m066_20191218.mat\n",
      "Reading /media/aleksejs/DataHDD/work/data/maria/m066/Behavior_m066_20191223.mat\n",
      "Reading /media/aleksejs/DataHDD/work/data/maria/m067/Behavior_m067_20200115.mat\n",
      "Reading /media/aleksejs/DataHDD/work/data/maria/m067/Behavior_m067_20200203.mat\n",
      "No trials found for Trial_LWhole_Mistake skipping\n",
      "Reading /media/aleksejs/DataHDD/work/data/maria/m067/Behavior_m067_20200204.mat\n",
      "Reading /media/aleksejs/DataHDD/work/data/maria/m067/Behavior_m067_20200218.mat\n",
      "Reading /media/aleksejs/DataHDD/work/data/maria/m067/Behavior_m067_20200219.mat\n"
     ]
    }
   ],
   "source": [
    "dataDB.read_behavior_files()"
   ]
  },
  {
   "cell_type": "code",
   "execution_count": 74,
   "metadata": {
    "scrolled": false
   },
   "outputs": [
    {
     "name": "stdout",
     "output_type": "stream",
     "text": [
      "Warning:  m066_20191206 has zero interval 0 1\n",
      "Warning:  m066_20191206 has zero interval 8 9\n",
      "Warning:  m066_20191206 has zero interval 8 9\n"
     ]
    },
    {
     "name": "stderr",
     "output_type": "stream",
     "text": [
      "/opt/anaconda3/envs/py36qt5/lib/python3.6/site-packages/numpy/lib/nanfunctions.py:1666: RuntimeWarning: Degrees of freedom <= 0 for slice.\n",
      "  keepdims=keepdims)\n"
     ]
    },
    {
     "name": "stdout",
     "output_type": "stream",
     "text": [
      "Warning:  m066_20191206 has zero interval 13 14\n",
      "Warning:  m066_20191206 has zero interval 0 1\n",
      "Warning:  m066_20191206 has zero interval 8 9\n",
      "Warning:  m066_20191206 has zero interval 8 9\n",
      "Warning:  m066_20191206 has zero interval 13 14\n"
     ]
    },
    {
     "data": {
      "image/png": "[encoded data removed]",
      "text/plain": [
       "<matplotlib.figure.Figure at 0x7efe42f1ac50>"
      ]
     },
     "metadata": {},
     "output_type": "display_data"
    }
   ],
   "source": [
    "'''\n",
    "TODO:\n",
    "    * [+] Rewrite to use AX as param\n",
    "    * [+] Plot all mice overlay\n",
    "    * [ ] enable other metrics\n",
    "'''\n",
    "\n",
    "metric = \"std\"\n",
    "queryThis = {\"performance\" : \"Correct\", \"datatype\" : \"high\"}\n",
    "\n",
    "fig, ax = plt.subplots(ncols=3, figsize=(15,5))\n",
    "for mousename in sorted(list(dataDB.mice)):\n",
    "    if mousename != \"m068\":\n",
    "        queryMouse = deepcopy(queryThis)\n",
    "        queryMouse[\"mousename\"] = mousename\n",
    "        plots_lib.plot_metric_by_interval(ax[0], dataDB, queryMouse, metric, mousename)\n",
    "    \n",
    "plots_lib.plot_metric_by_interval(ax[1], dataDB, queryThis, metric, \"all\")\n",
    "plots_lib.plot_metric_by_phase(ax[2], dataDB, queryThis, metric, \"all\")\n",
    "ax[0].legend()\n",
    "plt.show()\n"
   ]
  },
  {
   "cell_type": "code",
   "execution_count": 69,
   "metadata": {
    "scrolled": false
   },
   "outputs": [
    {
     "name": "stdout",
     "output_type": "stream",
     "text": [
      "No behaviour found for {'performance': 'Mistake', 'direction': 'L', 'mousekey': 'm060_20190606'} ; skipping\n",
      "No behaviour found for {'performance': 'Mistake', 'direction': 'L', 'mousekey': 'm067_20200203'} ; skipping\n",
      "No behaviour found for {'performance': 'Mistake', 'direction': 'L', 'mousekey': 'm060_20190606'} ; skipping\n",
      "No behaviour found for {'performance': 'Mistake', 'direction': 'L', 'mousekey': 'm067_20200203'} ; skipping\n",
      "No behaviour found for {'performance': 'Mistake', 'direction': 'L', 'mousekey': 'm060_20190606'} ; skipping\n",
      "No behaviour found for {'performance': 'Mistake', 'direction': 'L', 'mousekey': 'm067_20200203'} ; skipping\n"
     ]
    },
    {
     "data": {
      "image/png": "[encoded data removed]",
      "text/plain": [
       "<matplotlib.figure.Figure at 0x7efe8958c8d0>"
      ]
     },
     "metadata": {},
     "output_type": "display_data"
    }
   ],
   "source": [
    "fig, ax = plt.subplots()\n",
    "queryThis = {\"performance\" : \"Correct\", \"direction\" : \"L\", \"datatype\" : \"raw\"}#\"mousename\" : \"m060\", \"direction\" : \"L\", \n",
    "plots_lib.plot_stretched_intervals(ax, dataDB, queryThis, 5, 8, nInterp=200, label='Correct', color='blue')\n",
    "queryThis = {\"performance\" : \"Mistake\", \"direction\" : \"L\", \"datatype\" : \"raw\"}#\"mousename\" : \"m060\", \"direction\" : \"L\", \n",
    "plots_lib.plot_stretched_intervals(ax, dataDB, queryThis, 5, 8, nInterp=200, label='Mistake', color='yellow')\n",
    "plt.legend()\n",
    "plt.show()"
   ]
  },
  {
   "cell_type": "code",
   "execution_count": 77,
   "metadata": {
    "scrolled": false
   },
   "outputs": [
    {
     "name": "stdout",
     "output_type": "stream",
     "text": [
      "Warning, all trials have same test value\n",
      "Warning, all trials have same test value\n",
      "Warning, all trials have same test value\n",
      "No behaviour found for {'performance': 'Mistake', 'direction': 'L', 'mousekey': 'm060_20190606'} ; skipping\n",
      "No behaviour found for {'performance': 'Mistake', 'direction': 'L', 'mousekey': 'm067_20200203'} ; skipping\n",
      "No behaviour found for {'performance': 'Mistake', 'direction': 'L', 'mousekey': 'm060_20190606'} ; skipping\n",
      "No behaviour found for {'performance': 'Mistake', 'direction': 'L', 'mousekey': 'm067_20200203'} ; skipping\n",
      "Warning, all trials have same test value\n",
      "No behaviour found for {'performance': 'Mistake', 'direction': 'R', 'mousekey': 'm061_20190517'} ; skipping\n",
      "No behaviour found for {'performance': 'Mistake', 'direction': 'R', 'mousekey': 'm061_20190517'} ; skipping\n",
      "Warning, all trials have same test value\n",
      "Warning, all trials have same test value\n",
      "No behaviour found for {'direction': 'L', 'performance': 'Mistake', 'mousekey': 'm060_20190606'} ; skipping\n",
      "No behaviour found for {'direction': 'L', 'performance': 'Mistake', 'mousekey': 'm067_20200203'} ; skipping\n",
      "No behaviour found for {'direction': 'L', 'performance': 'Mistake', 'mousekey': 'm060_20190606'} ; skipping\n",
      "No behaviour found for {'direction': 'L', 'performance': 'Mistake', 'mousekey': 'm067_20200203'} ; skipping\n",
      "Warning, all trials have same test value\n",
      "No behaviour found for {'direction': 'R', 'performance': 'Mistake', 'mousekey': 'm061_20190517'} ; skipping\n",
      "No behaviour found for {'direction': 'R', 'performance': 'Mistake', 'mousekey': 'm061_20190517'} ; skipping\n",
      "Warning, all trials have same test value\n",
      "Warning, all trials have same test value\n",
      "No behaviour found for {'performance': 'Mistake', 'direction': 'L', 'mousekey': 'm060_20190606'} ; skipping\n",
      "No behaviour found for {'performance': 'Mistake', 'direction': 'L', 'mousekey': 'm067_20200203'} ; skipping\n",
      "No behaviour found for {'performance': 'Mistake', 'direction': 'L', 'mousekey': 'm060_20190606'} ; skipping\n",
      "No behaviour found for {'performance': 'Mistake', 'direction': 'L', 'mousekey': 'm067_20200203'} ; skipping\n",
      "No behaviour found for {'performance': 'Mistake', 'direction': 'R', 'mousekey': 'm061_20190517'} ; skipping\n",
      "No behaviour found for {'performance': 'Mistake', 'direction': 'R', 'mousekey': 'm061_20190517'} ; skipping\n",
      "No behaviour found for {'direction': 'L', 'performance': 'Mistake', 'mousekey': 'm060_20190606'} ; skipping\n",
      "No behaviour found for {'direction': 'L', 'performance': 'Mistake', 'mousekey': 'm067_20200203'} ; skipping\n",
      "No behaviour found for {'direction': 'L', 'performance': 'Mistake', 'mousekey': 'm060_20190606'} ; skipping\n",
      "No behaviour found for {'direction': 'L', 'performance': 'Mistake', 'mousekey': 'm067_20200203'} ; skipping\n",
      "No behaviour found for {'direction': 'R', 'performance': 'Mistake', 'mousekey': 'm061_20190517'} ; skipping\n",
      "No behaviour found for {'direction': 'R', 'performance': 'Mistake', 'mousekey': 'm061_20190517'} ; skipping\n"
     ]
    },
    {
     "data": {
      "text/html": [
       "<div>\n",
       "<style scoped>\n",
       "    .dataframe tbody tr th:only-of-type {\n",
       "        vertical-align: middle;\n",
       "    }\n",
       "\n",
       "    .dataframe tbody tr th {\n",
       "        vertical-align: top;\n",
       "    }\n",
       "\n",
       "    .dataframe thead th {\n",
       "        text-align: right;\n",
       "    }\n",
       "</style>\n",
       "<table border=\"1\" class=\"dataframe\">\n",
       "  <thead>\n",
       "    <tr style=\"text-align: right;\">\n",
       "      <th></th>\n",
       "      <th>datatype</th>\n",
       "      <th>performance</th>\n",
       "      <th>direction</th>\n",
       "      <th>stdFreq(Maintenance)</th>\n",
       "      <th>stdFreq(WholeTrial)</th>\n",
       "      <th>pVal_log10</th>\n",
       "      <th>nTrial</th>\n",
       "    </tr>\n",
       "  </thead>\n",
       "  <tbody>\n",
       "    <tr>\n",
       "      <th>0</th>\n",
       "      <td>raw</td>\n",
       "      <td>Correct</td>\n",
       "      <td>L</td>\n",
       "      <td>1.000000</td>\n",
       "      <td>1.000000</td>\n",
       "      <td>0.000000</td>\n",
       "      <td>341</td>\n",
       "    </tr>\n",
       "    <tr>\n",
       "      <th>1</th>\n",
       "      <td>raw</td>\n",
       "      <td>Correct</td>\n",
       "      <td>R</td>\n",
       "      <td>1.000000</td>\n",
       "      <td>1.000000</td>\n",
       "      <td>0.000000</td>\n",
       "      <td>352</td>\n",
       "    </tr>\n",
       "    <tr>\n",
       "      <th>2</th>\n",
       "      <td>raw</td>\n",
       "      <td>Correct</td>\n",
       "      <td>All</td>\n",
       "      <td>1.000000</td>\n",
       "      <td>1.000000</td>\n",
       "      <td>0.000000</td>\n",
       "      <td>693</td>\n",
       "    </tr>\n",
       "    <tr>\n",
       "      <th>3</th>\n",
       "      <td>raw</td>\n",
       "      <td>Mistake</td>\n",
       "      <td>L</td>\n",
       "      <td>1.000000</td>\n",
       "      <td>1.000000</td>\n",
       "      <td>0.000000</td>\n",
       "      <td>81</td>\n",
       "    </tr>\n",
       "    <tr>\n",
       "      <th>4</th>\n",
       "      <td>raw</td>\n",
       "      <td>Mistake</td>\n",
       "      <td>R</td>\n",
       "      <td>1.000000</td>\n",
       "      <td>1.000000</td>\n",
       "      <td>0.000000</td>\n",
       "      <td>92</td>\n",
       "    </tr>\n",
       "    <tr>\n",
       "      <th>5</th>\n",
       "      <td>raw</td>\n",
       "      <td>Mistake</td>\n",
       "      <td>All</td>\n",
       "      <td>1.000000</td>\n",
       "      <td>1.000000</td>\n",
       "      <td>0.000000</td>\n",
       "      <td>173</td>\n",
       "    </tr>\n",
       "    <tr>\n",
       "      <th>6</th>\n",
       "      <td>raw</td>\n",
       "      <td>All</td>\n",
       "      <td>L</td>\n",
       "      <td>1.000000</td>\n",
       "      <td>1.000000</td>\n",
       "      <td>0.000000</td>\n",
       "      <td>422</td>\n",
       "    </tr>\n",
       "    <tr>\n",
       "      <th>7</th>\n",
       "      <td>raw</td>\n",
       "      <td>All</td>\n",
       "      <td>R</td>\n",
       "      <td>1.000000</td>\n",
       "      <td>1.000000</td>\n",
       "      <td>0.000000</td>\n",
       "      <td>444</td>\n",
       "    </tr>\n",
       "    <tr>\n",
       "      <th>8</th>\n",
       "      <td>raw</td>\n",
       "      <td>All</td>\n",
       "      <td>All</td>\n",
       "      <td>1.000000</td>\n",
       "      <td>1.000000</td>\n",
       "      <td>0.000000</td>\n",
       "      <td>866</td>\n",
       "    </tr>\n",
       "    <tr>\n",
       "      <th>9</th>\n",
       "      <td>high</td>\n",
       "      <td>Correct</td>\n",
       "      <td>L</td>\n",
       "      <td>0.488641</td>\n",
       "      <td>0.757894</td>\n",
       "      <td>-40.290065</td>\n",
       "      <td>341</td>\n",
       "    </tr>\n",
       "    <tr>\n",
       "      <th>10</th>\n",
       "      <td>high</td>\n",
       "      <td>Correct</td>\n",
       "      <td>R</td>\n",
       "      <td>0.483846</td>\n",
       "      <td>0.742910</td>\n",
       "      <td>-40.828077</td>\n",
       "      <td>352</td>\n",
       "    </tr>\n",
       "    <tr>\n",
       "      <th>11</th>\n",
       "      <td>high</td>\n",
       "      <td>Correct</td>\n",
       "      <td>All</td>\n",
       "      <td>0.486206</td>\n",
       "      <td>0.750283</td>\n",
       "      <td>-79.737378</td>\n",
       "      <td>693</td>\n",
       "    </tr>\n",
       "    <tr>\n",
       "      <th>12</th>\n",
       "      <td>high</td>\n",
       "      <td>Mistake</td>\n",
       "      <td>L</td>\n",
       "      <td>0.396016</td>\n",
       "      <td>0.651888</td>\n",
       "      <td>-10.345246</td>\n",
       "      <td>81</td>\n",
       "    </tr>\n",
       "    <tr>\n",
       "      <th>13</th>\n",
       "      <td>high</td>\n",
       "      <td>Mistake</td>\n",
       "      <td>R</td>\n",
       "      <td>0.510503</td>\n",
       "      <td>0.745334</td>\n",
       "      <td>-10.247005</td>\n",
       "      <td>92</td>\n",
       "    </tr>\n",
       "    <tr>\n",
       "      <th>14</th>\n",
       "      <td>high</td>\n",
       "      <td>Mistake</td>\n",
       "      <td>All</td>\n",
       "      <td>0.456899</td>\n",
       "      <td>0.701582</td>\n",
       "      <td>-18.185438</td>\n",
       "      <td>173</td>\n",
       "    </tr>\n",
       "    <tr>\n",
       "      <th>15</th>\n",
       "      <td>high</td>\n",
       "      <td>All</td>\n",
       "      <td>L</td>\n",
       "      <td>0.470863</td>\n",
       "      <td>0.737547</td>\n",
       "      <td>-47.733028</td>\n",
       "      <td>422</td>\n",
       "    </tr>\n",
       "    <tr>\n",
       "      <th>16</th>\n",
       "      <td>high</td>\n",
       "      <td>All</td>\n",
       "      <td>R</td>\n",
       "      <td>0.489369</td>\n",
       "      <td>0.743412</td>\n",
       "      <td>-49.769132</td>\n",
       "      <td>444</td>\n",
       "    </tr>\n",
       "    <tr>\n",
       "      <th>17</th>\n",
       "      <td>high</td>\n",
       "      <td>All</td>\n",
       "      <td>All</td>\n",
       "      <td>0.480351</td>\n",
       "      <td>0.740554</td>\n",
       "      <td>-96.046207</td>\n",
       "      <td>866</td>\n",
       "    </tr>\n",
       "  </tbody>\n",
       "</table>\n",
       "</div>"
      ],
      "text/plain": [
       "   datatype performance direction  stdFreq(Maintenance)  stdFreq(WholeTrial)  \\\n",
       "0       raw     Correct         L              1.000000             1.000000   \n",
       "1       raw     Correct         R              1.000000             1.000000   \n",
       "2       raw     Correct       All              1.000000             1.000000   \n",
       "3       raw     Mistake         L              1.000000             1.000000   \n",
       "4       raw     Mistake         R              1.000000             1.000000   \n",
       "5       raw     Mistake       All              1.000000             1.000000   \n",
       "6       raw         All         L              1.000000             1.000000   \n",
       "7       raw         All         R              1.000000             1.000000   \n",
       "8       raw         All       All              1.000000             1.000000   \n",
       "9      high     Correct         L              0.488641             0.757894   \n",
       "10     high     Correct         R              0.483846             0.742910   \n",
       "11     high     Correct       All              0.486206             0.750283   \n",
       "12     high     Mistake         L              0.396016             0.651888   \n",
       "13     high     Mistake         R              0.510503             0.745334   \n",
       "14     high     Mistake       All              0.456899             0.701582   \n",
       "15     high         All         L              0.470863             0.737547   \n",
       "16     high         All         R              0.489369             0.743412   \n",
       "17     high         All       All              0.480351             0.740554   \n",
       "\n",
       "    pVal_log10  nTrial  \n",
       "0     0.000000     341  \n",
       "1     0.000000     352  \n",
       "2     0.000000     693  \n",
       "3     0.000000      81  \n",
       "4     0.000000      92  \n",
       "5     0.000000     173  \n",
       "6     0.000000     422  \n",
       "7     0.000000     444  \n",
       "8     0.000000     866  \n",
       "9   -40.290065     341  \n",
       "10  -40.828077     352  \n",
       "11  -79.737378     693  \n",
       "12  -10.345246      81  \n",
       "13  -10.247005      92  \n",
       "14  -18.185438     173  \n",
       "15  -47.733028     422  \n",
       "16  -49.769132     444  \n",
       "17  -96.046207     866  "
      ]
     },
     "metadata": {},
     "output_type": "display_data"
    }
   ],
   "source": [
    "plots_lib.table_test_metric_phase_vs_all(dataDB, \"Maintenance\", \"stdFreq\")"
   ]
  },
  {
   "cell_type": "code",
   "execution_count": 52,
   "metadata": {
    "scrolled": false
   },
   "outputs": [
    {
     "name": "stdout",
     "output_type": "stream",
     "text": [
      "{'mousename': 'm065', 'performance': 'Correct', 'datatype': 'raw', 'direction': 'R'} (92, 83)\n",
      "{'mousename': 'm065', 'performance': 'Correct', 'datatype': 'raw', 'direction': 'L'} (89, 83)\n"
     ]
    },
    {
     "name": "stderr",
     "output_type": "stream",
     "text": [
      "/opt/anaconda3/envs/py36qt5/lib/python3.6/site-packages/sklearn/linear_model/logistic.py:947: ConvergenceWarning: lbfgs failed to converge. Increase the number of iterations.\n",
      "  \"of iterations.\", ConvergenceWarning)\n",
      "/opt/anaconda3/envs/py36qt5/lib/python3.6/site-packages/sklearn/linear_model/logistic.py:947: ConvergenceWarning: lbfgs failed to converge. Increase the number of iterations.\n",
      "  \"of iterations.\", ConvergenceWarning)\n",
      "/opt/anaconda3/envs/py36qt5/lib/python3.6/site-packages/sklearn/linear_model/logistic.py:947: ConvergenceWarning: lbfgs failed to converge. Increase the number of iterations.\n",
      "  \"of iterations.\", ConvergenceWarning)\n",
      "/opt/anaconda3/envs/py36qt5/lib/python3.6/site-packages/sklearn/linear_model/logistic.py:947: ConvergenceWarning: lbfgs failed to converge. Increase the number of iterations.\n",
      "  \"of iterations.\", ConvergenceWarning)\n",
      "/opt/anaconda3/envs/py36qt5/lib/python3.6/site-packages/sklearn/linear_model/logistic.py:947: ConvergenceWarning: lbfgs failed to converge. Increase the number of iterations.\n",
      "  \"of iterations.\", ConvergenceWarning)\n"
     ]
    },
    {
     "data": {
      "text/plain": [
       "{'Accuracy_Test : ': 0.6289473684210526,\n",
       " 'Accuracy_Train': 1.0,\n",
       " 'p-value': 0.18603660316929416}"
      ]
     },
     "execution_count": 52,
     "metadata": {},
     "output_type": "execute_result"
    }
   ],
   "source": [
    "queryThis = {\"mousename\" : \"m065\", \"performance\" : \"Correct\", \"datatype\" : \"raw\"}\n",
    "\n",
    "plots_lib.table_binary_classification(dataDB, \"Maintenance\", queryThis, \"direction\")"
   ]
  }
 ],
 "metadata": {
  "kernelspec": {
   "display_name": "Python (dlc)",
   "language": "python",
   "name": "dlc_ker"
  },
  "language_info": {
   "codemirror_mode": {
    "name": "ipython",
    "version": 3
   },
   "file_extension": ".py",
   "mimetype": "text/x-python",
   "name": "python",
   "nbconvert_exporter": "python",
   "pygments_lexer": "ipython3",
   "version": "3.6.7"
  }
 },
 "nbformat": 4,
 "nbformat_minor": 2
}

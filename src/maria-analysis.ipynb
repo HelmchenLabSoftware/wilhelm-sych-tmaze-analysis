{
 "cells": [
  {
   "cell_type": "code",
   "execution_count": 20,
   "metadata": {},
   "outputs": [
    {
     "name": "stdout",
     "output_type": "stream",
     "text": [
      "Appended root directory /home/alyosha/work/git/neuronal-sequence-test\n",
      "The autoreload extension is already loaded. To reload it, use:\n",
      "  %reload_ext autoreload\n"
     ]
    }
   ],
   "source": [
    "# Standard libraries\n",
    "import pandas as pd\n",
    "import numpy as np\n",
    "import matplotlib.pyplot as plt\n",
    "from ipywidgets import interactive, IntProgress\n",
    "from IPython.display import display\n",
    "from scipy.stats import mannwhitneyu\n",
    "\n",
    "# Append base directory\n",
    "import os,sys,inspect\n",
    "rootname = \"neuronal-sequence-test\"\n",
    "thispath = os.path.dirname(os.path.abspath(inspect.getfile(inspect.currentframe())))\n",
    "rootpath = os.path.join(thispath[:thispath.index(rootname)], rootname)\n",
    "sys.path.append(rootpath)\n",
    "print(\"Appended root directory\", rootpath)\n",
    "\n",
    "# User libraries\n",
    "from src.lib.qt_wrapper import gui_fnames, gui_fpath\n",
    "from src.lib.data_db import BehaviouralNeuronalDatabase\n",
    "from src.lib.pandas_lib import add_list_as_row, outer_product_df\n",
    "\n",
    "%load_ext autoreload\n",
    "%autoreload 2"
   ]
  },
  {
   "cell_type": "markdown",
   "metadata": {},
   "source": [
    "# TODO\n",
    "\n",
    "1. Preprocessing : Apply background subtraction\n",
    "2. Alignment : Ensure intervals actually match. Ask Maria for visual test of alignment\n",
    "3. Apply metrics - 1 data point per trial - pool trials - maintenance vs all\n",
    "    * 1D semistatic: Mean, Variance, 1D Entropy\n",
    "    * ND semistatic: Avg Correlation, ND Entropy\n",
    "    * 1D dynamic: Predictive Info, AR(1) efficiency\n",
    "    * ND dynamic: Predictive Info, AR(1) efficiency, Orderability coeff\n",
    "    \n",
    "4. Test Hypotheses:\n",
    "    1. Maintenance predicts Correct/Incorrect vs other phases\n",
    "    2. Maintenance predicts L/R better vs other phases\n",
    "    3. Validation: Prev trial C/I or L/R predicts that of next trial\n",
    "    4. Predictive aspect:\n",
    "        * Semi-static maintenance activity is good predictor, fine temporal details irrelevant\n",
    "        * Semi-static maintenance activity is not good, fine temporal details improve prediction"
   ]
  },
  {
   "cell_type": "code",
   "execution_count": 2,
   "metadata": {},
   "outputs": [],
   "source": [
    "# tmp_path = root_path_data if 'root_path_data' in locals() else \"./\"\n",
    "params = {}\n",
    "params['root_path_data']  = gui_fpath(\"Path to data files\", \"./\")\n",
    "#params['root_path_data'] = '/media/aleksejs/DataHDD/work/data/maria'"
   ]
  },
  {
   "cell_type": "code",
   "execution_count": 3,
   "metadata": {},
   "outputs": [],
   "source": [
    "dataDB = BehaviouralNeuronalDatabase(params)"
   ]
  },
  {
   "cell_type": "code",
   "execution_count": 4,
   "metadata": {},
   "outputs": [
    {
     "data": {
      "application/vnd.jupyter.widget-view+json": {
       "model_id": "84a3ccd9377041e18589c0e1df28218d",
       "version_major": 2,
       "version_minor": 0
      },
      "text/plain": [
       "IntProgress(value=0, description='Read Neuro Data:', max=4)"
      ]
     },
     "metadata": {},
     "output_type": "display_data"
    }
   ],
   "source": [
    "dataDB.read_neuro_files()"
   ]
  },
  {
   "cell_type": "code",
   "execution_count": 5,
   "metadata": {
    "scrolled": false
   },
   "outputs": [
    {
     "data": {
      "application/vnd.jupyter.widget-view+json": {
       "model_id": "9e6e013e24a74684ae8a82bf6f0a173e",
       "version_major": 2,
       "version_minor": 0
      },
      "text/plain": [
       "IntProgress(value=0, description='Read Neuro Data:', max=4)"
      ]
     },
     "metadata": {},
     "output_type": "display_data"
    },
    {
     "name": "stdout",
     "output_type": "stream",
     "text": [
      "Reading /media/alyosha/Data/TE_data/mariadata/m060/Behavior_m060_20190522.mat\n",
      "Reading /media/alyosha/Data/TE_data/mariadata/m060/Behavior_m060_20190524.mat\n",
      "Reading /media/alyosha/Data/TE_data/mariadata/m060/Behavior_m060_20190527.mat\n",
      "Reading /media/alyosha/Data/TE_data/mariadata/m060/Behavior_m060_20190606.mat\n",
      "No trials found for Trial_LWhole_Mistake skipping\n"
     ]
    }
   ],
   "source": [
    "dataDB.read_behavior_files()"
   ]
  },
  {
   "cell_type": "code",
   "execution_count": 25,
   "metadata": {
    "scrolled": false
   },
   "outputs": [
    {
     "name": "stdout",
     "output_type": "stream",
     "text": [
      "No behaviour found for {'mousename': 'm060', 'performance': 'Mistake', 'direction': 'L', 'datatype': 'raw'} ; skipping\n",
      "No behaviour found for {'mousename': 'm060', 'performance': 'Mistake', 'direction': 'L', 'datatype': 'raw'} ; skipping\n",
      "No behaviour found for {'mousename': 'm060', 'performance': 'Mistake', 'direction': 'L', 'datatype': 'high'} ; skipping\n",
      "No behaviour found for {'mousename': 'm060', 'performance': 'Mistake', 'direction': 'L', 'datatype': 'high'} ; skipping\n"
     ]
    },
    {
     "data": {
      "text/html": [
       "<div>\n",
       "<style scoped>\n",
       "    .dataframe tbody tr th:only-of-type {\n",
       "        vertical-align: middle;\n",
       "    }\n",
       "\n",
       "    .dataframe tbody tr th {\n",
       "        vertical-align: top;\n",
       "    }\n",
       "\n",
       "    .dataframe thead th {\n",
       "        text-align: right;\n",
       "    }\n",
       "</style>\n",
       "<table border=\"1\" class=\"dataframe\">\n",
       "  <thead>\n",
       "    <tr style=\"text-align: right;\">\n",
       "      <th></th>\n",
       "      <th>mousename</th>\n",
       "      <th>performance</th>\n",
       "      <th>direction</th>\n",
       "      <th>datatype</th>\n",
       "      <th>Maintenance</th>\n",
       "      <th>All</th>\n",
       "      <th>Significance</th>\n",
       "    </tr>\n",
       "  </thead>\n",
       "  <tbody>\n",
       "    <tr>\n",
       "      <th>0</th>\n",
       "      <td>m060</td>\n",
       "      <td>Correct</td>\n",
       "      <td>L</td>\n",
       "      <td>raw</td>\n",
       "      <td>-0.059962</td>\n",
       "      <td>0.970966</td>\n",
       "      <td>3.497313e-118</td>\n",
       "    </tr>\n",
       "    <tr>\n",
       "      <th>1</th>\n",
       "      <td>m060</td>\n",
       "      <td>Correct</td>\n",
       "      <td>L</td>\n",
       "      <td>high</td>\n",
       "      <td>0.950861</td>\n",
       "      <td>1.111300</td>\n",
       "      <td>9.705744e-247</td>\n",
       "    </tr>\n",
       "    <tr>\n",
       "      <th>2</th>\n",
       "      <td>m060</td>\n",
       "      <td>Correct</td>\n",
       "      <td>R</td>\n",
       "      <td>raw</td>\n",
       "      <td>-0.108479</td>\n",
       "      <td>0.236106</td>\n",
       "      <td>5.446718e-45</td>\n",
       "    </tr>\n",
       "    <tr>\n",
       "      <th>3</th>\n",
       "      <td>m060</td>\n",
       "      <td>Correct</td>\n",
       "      <td>R</td>\n",
       "      <td>high</td>\n",
       "      <td>0.959903</td>\n",
       "      <td>0.986120</td>\n",
       "      <td>8.268231e-44</td>\n",
       "    </tr>\n",
       "    <tr>\n",
       "      <th>4</th>\n",
       "      <td>m060</td>\n",
       "      <td>Mistake</td>\n",
       "      <td>L</td>\n",
       "      <td>raw</td>\n",
       "      <td>-0.760703</td>\n",
       "      <td>-0.676497</td>\n",
       "      <td>3.226339e-06</td>\n",
       "    </tr>\n",
       "    <tr>\n",
       "      <th>5</th>\n",
       "      <td>m060</td>\n",
       "      <td>Mistake</td>\n",
       "      <td>L</td>\n",
       "      <td>high</td>\n",
       "      <td>0.875655</td>\n",
       "      <td>1.000277</td>\n",
       "      <td>5.221310e-09</td>\n",
       "    </tr>\n",
       "    <tr>\n",
       "      <th>6</th>\n",
       "      <td>m060</td>\n",
       "      <td>Mistake</td>\n",
       "      <td>R</td>\n",
       "      <td>raw</td>\n",
       "      <td>0.490120</td>\n",
       "      <td>0.744215</td>\n",
       "      <td>5.157796e-07</td>\n",
       "    </tr>\n",
       "    <tr>\n",
       "      <th>7</th>\n",
       "      <td>m060</td>\n",
       "      <td>Mistake</td>\n",
       "      <td>R</td>\n",
       "      <td>high</td>\n",
       "      <td>1.050503</td>\n",
       "      <td>1.014210</td>\n",
       "      <td>2.135445e-07</td>\n",
       "    </tr>\n",
       "  </tbody>\n",
       "</table>\n",
       "</div>"
      ],
      "text/plain": [
       "  mousename performance direction datatype  Maintenance       All  \\\n",
       "0      m060     Correct         L      raw    -0.059962  0.970966   \n",
       "1      m060     Correct         L     high     0.950861  1.111300   \n",
       "2      m060     Correct         R      raw    -0.108479  0.236106   \n",
       "3      m060     Correct         R     high     0.959903  0.986120   \n",
       "4      m060     Mistake         L      raw    -0.760703 -0.676497   \n",
       "5      m060     Mistake         L     high     0.875655  1.000277   \n",
       "6      m060     Mistake         R      raw     0.490120  0.744215   \n",
       "7      m060     Mistake         R     high     1.050503  1.014210   \n",
       "\n",
       "    Significance  \n",
       "0  3.497313e-118  \n",
       "1  9.705744e-247  \n",
       "2   5.446718e-45  \n",
       "3   8.268231e-44  \n",
       "4   3.226339e-06  \n",
       "5   5.221310e-09  \n",
       "6   5.157796e-07  \n",
       "7   2.135445e-07  "
      ]
     },
     "execution_count": 25,
     "metadata": {},
     "output_type": "execute_result"
    }
   ],
   "source": [
    "sweepDF = outer_product_df({\n",
    "    \"mousename\"   : [\"m060\"],\n",
    "    \"performance\" : [\"Correct\", \"Mistake\"],\n",
    "    \"direction\"   : [\"L\", \"R\"],\n",
    "    \"datatype\"    : [\"raw\", \"high\"]\n",
    "})\n",
    "\n",
    "rezDF = sweepDF.copy()\n",
    "rezDF[\"Maintenance\"] = 0.0\n",
    "rezDF[\"All\"] = 0.0\n",
    "rezDF[\"Significance\"] = 0.0\n",
    "\n",
    "dict_drop_none = lambda d: {k:v for k,v in d.items() if v is not None}\n",
    "\n",
    "for idx, row in sweepDF.iterrows():\n",
    "    queryDict = dict_drop_none(row.to_dict())\n",
    "        \n",
    "    dataAll = dataDB.get_data_from_phase(None, queryDict)\n",
    "    dataMt = dataDB.get_data_from_phase(\"Maintenance\", queryDict)\n",
    "\n",
    "    dataAllFlat = np.vstack(dataAll).flatten()\n",
    "    dataMtFlat = np.vstack(dataMt).flatten()\n",
    "\n",
    "    muAllFlat = np.mean(dataMtFlat)\n",
    "    muMtFlat = np.mean(dataAllFlat)\n",
    "    \n",
    "    rezDF.at[idx, \"Maintenance\"]  = muMtFlat\n",
    "    rezDF.at[idx, \"All\"]          = muAllFlat\n",
    "    rezDF.at[idx, \"Significance\"] = mannwhitneyu(dataAllFlat, dataMtFlat)[1]\n",
    "    \n",
    "rezDF"
   ]
  },
  {
   "cell_type": "code",
   "execution_count": null,
   "metadata": {},
   "outputs": [],
   "source": []
  }
 ],
 "metadata": {
  "kernelspec": {
   "display_name": "Python (nest)",
   "language": "python",
   "name": "py36nest"
  },
  "language_info": {
   "codemirror_mode": {
    "name": "ipython",
    "version": 3
   },
   "file_extension": ".py",
   "mimetype": "text/x-python",
   "name": "python",
   "nbconvert_exporter": "python",
   "pygments_lexer": "ipython3",
   "version": "3.6.6"
  }
 },
 "nbformat": 4,
 "nbformat_minor": 2
}

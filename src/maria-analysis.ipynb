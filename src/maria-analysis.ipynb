{
 "cells": [
  {
   "cell_type": "code",
   "execution_count": 2,
   "metadata": {},
   "outputs": [
    {
     "name": "stdout",
     "output_type": "stream",
     "text": [
      "Appended root directory /home/alyosha/work/git/neuronal-sequence-test\n"
     ]
    }
   ],
   "source": [
    "# Standard libraries\n",
    "import numpy as np\n",
    "import matplotlib.pyplot as plt\n",
    "from ipywidgets import interactive, IntProgress\n",
    "from IPython.display import display\n",
    "\n",
    "# Append base directory\n",
    "import os,sys,inspect\n",
    "rootname = \"neuronal-sequence-test\"\n",
    "thispath = os.path.dirname(os.path.abspath(inspect.getfile(inspect.currentframe())))\n",
    "rootpath = os.path.join(thispath[:thispath.index(rootname)], rootname)\n",
    "sys.path.append(rootpath)\n",
    "print(\"Appended root directory\", rootpath)\n",
    "\n",
    "# User libraries\n",
    "from src.lib.qt_wrapper import gui_fnames, gui_fpath\n",
    "from src.lib.data_db import BehaviouralNeuronalDatabase\n",
    "\n",
    "%load_ext autoreload\n",
    "%autoreload 2"
   ]
  },
  {
   "cell_type": "markdown",
   "metadata": {},
   "source": [
    "# TODO\n",
    "\n",
    "1. Preprocessing : Apply background subtraction\n",
    "2. Alignment : Ensure intervals actually match. Ask Maria for visual test of alignment\n",
    "3. Apply metrics - 1 data point per trial - pool trials - maintenance vs all\n",
    "    * 1D semistatic: Mean, Variance, 1D Entropy\n",
    "    * ND semistatic: Avg Correlation, ND Entropy\n",
    "    * 1D dynamic: Predictive Info, AR(1) efficiency\n",
    "    * ND dynamic: Predictive Info, AR(1) efficiency, Orderability coeff\n",
    "    \n",
    "4. Test Hypotheses:\n",
    "    1. Maintenance predicts Correct/Incorrect vs other phases\n",
    "    2. Maintenance predicts L/R better vs other phases\n",
    "    3. Validation: Prev trial C/I or L/R predicts that of next trial\n",
    "    4. Predictive aspect:\n",
    "        * Semi-static maintenance activity is good predictor, fine temporal details irrelevant\n",
    "        * Semi-static maintenance activity is not good, fine temporal details improve prediction"
   ]
  },
  {
   "cell_type": "code",
   "execution_count": 3,
   "metadata": {},
   "outputs": [],
   "source": [
    "# tmp_path = root_path_data if 'root_path_data' in locals() else \"./\"\n",
    "params = {}\n",
    "params['root_path_data']  = gui_fpath(\"Path to data files\", \"./\")"
   ]
  },
  {
   "cell_type": "code",
   "execution_count": 4,
   "metadata": {},
   "outputs": [],
   "source": [
    "dataDB = BehaviouralNeuronalDatabase(params)"
   ]
  },
  {
   "cell_type": "code",
   "execution_count": 5,
   "metadata": {},
   "outputs": [
    {
     "data": {
      "application/vnd.jupyter.widget-view+json": {
       "model_id": "35d1d3f246264de2a8ceefd8ece45737",
       "version_major": 2,
       "version_minor": 0
      },
      "text/plain": [
       "IntProgress(value=0, description='Read Neuro Data:', max=4)"
      ]
     },
     "metadata": {},
     "output_type": "display_data"
    }
   ],
   "source": [
    "dataDB.read_neuro_files()"
   ]
  },
  {
   "cell_type": "code",
   "execution_count": 6,
   "metadata": {},
   "outputs": [
    {
     "data": {
      "text/html": [
       "<div>\n",
       "<style scoped>\n",
       "    .dataframe tbody tr th:only-of-type {\n",
       "        vertical-align: middle;\n",
       "    }\n",
       "\n",
       "    .dataframe tbody tr th {\n",
       "        vertical-align: top;\n",
       "    }\n",
       "\n",
       "    .dataframe thead th {\n",
       "        text-align: right;\n",
       "    }\n",
       "</style>\n",
       "<table border=\"1\" class=\"dataframe\">\n",
       "  <thead>\n",
       "    <tr style=\"text-align: right;\">\n",
       "      <th></th>\n",
       "      <th>mousename</th>\n",
       "      <th>date</th>\n",
       "      <th>mousekey</th>\n",
       "      <th>path</th>\n",
       "    </tr>\n",
       "  </thead>\n",
       "  <tbody>\n",
       "    <tr>\n",
       "      <th>0</th>\n",
       "      <td>m060</td>\n",
       "      <td>2019-05-22</td>\n",
       "      <td>m060_20190522</td>\n",
       "      <td>/media/alyosha/Data/TE_data/mariadata/m060/Beh...</td>\n",
       "    </tr>\n",
       "    <tr>\n",
       "      <th>1</th>\n",
       "      <td>m060</td>\n",
       "      <td>2019-05-24</td>\n",
       "      <td>m060_20190524</td>\n",
       "      <td>/media/alyosha/Data/TE_data/mariadata/m060/Beh...</td>\n",
       "    </tr>\n",
       "    <tr>\n",
       "      <th>2</th>\n",
       "      <td>m060</td>\n",
       "      <td>2019-05-27</td>\n",
       "      <td>m060_20190527</td>\n",
       "      <td>/media/alyosha/Data/TE_data/mariadata/m060/Beh...</td>\n",
       "    </tr>\n",
       "    <tr>\n",
       "      <th>3</th>\n",
       "      <td>m060</td>\n",
       "      <td>2019-06-06</td>\n",
       "      <td>m060_20190606</td>\n",
       "      <td>/media/alyosha/Data/TE_data/mariadata/m060/Beh...</td>\n",
       "    </tr>\n",
       "  </tbody>\n",
       "</table>\n",
       "</div>"
      ],
      "text/plain": [
       "  mousename       date       mousekey  \\\n",
       "0      m060 2019-05-22  m060_20190522   \n",
       "1      m060 2019-05-24  m060_20190524   \n",
       "2      m060 2019-05-27  m060_20190527   \n",
       "3      m060 2019-06-06  m060_20190606   \n",
       "\n",
       "                                                path  \n",
       "0  /media/alyosha/Data/TE_data/mariadata/m060/Beh...  \n",
       "1  /media/alyosha/Data/TE_data/mariadata/m060/Beh...  \n",
       "2  /media/alyosha/Data/TE_data/mariadata/m060/Beh...  \n",
       "3  /media/alyosha/Data/TE_data/mariadata/m060/Beh...  "
      ]
     },
     "execution_count": 6,
     "metadata": {},
     "output_type": "execute_result"
    }
   ],
   "source": [
    "dataDB.metaDataFrames['behavior']"
   ]
  },
  {
   "cell_type": "code",
   "execution_count": 7,
   "metadata": {
    "scrolled": false
   },
   "outputs": [
    {
     "data": {
      "application/vnd.jupyter.widget-view+json": {
       "model_id": "c88bd1ff6b43459da326465a21e5b69e",
       "version_major": 2,
       "version_minor": 0
      },
      "text/plain": [
       "IntProgress(value=0, description='Read Neuro Data:', max=4)"
      ]
     },
     "metadata": {},
     "output_type": "display_data"
    },
    {
     "name": "stdout",
     "output_type": "stream",
     "text": [
      "Reading /media/alyosha/Data/TE_data/mariadata/m060/Behavior_m060_20190522.mat\n",
      "Reading /media/alyosha/Data/TE_data/mariadata/m060/Behavior_m060_20190524.mat\n",
      "Reading /media/alyosha/Data/TE_data/mariadata/m060/Behavior_m060_20190527.mat\n",
      "Reading /media/alyosha/Data/TE_data/mariadata/m060/Behavior_m060_20190606.mat\n",
      "No trials found for Trial_LWhole_Mistake skipping\n"
     ]
    }
   ],
   "source": [
    "dataDB.read_behavior_files()"
   ]
  },
  {
   "cell_type": "code",
   "execution_count": 20,
   "metadata": {
    "scrolled": true
   },
   "outputs": [
    {
     "name": "stdout",
     "output_type": "stream",
     "text": [
      "[(699, 770), (990, 1123), (1952, 2029), (3312, 3374), (3977, 4045), (4894, 4959), (5248, 5312), (6066, 6159), (6666, 6736), (8203, 8321), (9239, 9299), (9531, 9589), (9806, 9865), (10448, 10520), (11354, 11416), (12560, 12627), (12836, 12902), (13437, 13532), (14030, 14098), (15217, 15285), (15876, 15956)]\n",
      "[(446, 509), (1325, 1439), (1754, 1822), (2407, 2485), (3236, 3300), (3571, 3634), (4632, 4698), (4963, 5048), (6847, 6915), (7208, 7272), (7932, 8007), (8875, 8937), (9488, 9553), (10478, 10637), (10989, 11052), (11276, 11346), (11958, 12070), (12789, 12861), (13658, 13749)]\n",
      "[(651, 743), (1037, 1115), (2802, 2920), (3545, 3608), (4223, 4286), (5321, 5386), (5992, 6056), (6682, 6738), (7154, 7215), (7513, 7581), (8435, 8512), (9080, 9161), (9403, 9585), (9798, 9856), (10361, 10428), (11339, 11411)]\n",
      "[(2143, 2265), (2691, 2830), (3634, 3704), (4015, 4102), (4438, 4532), (5235, 5331), (5625, 5712), (6441, 6536), (7282, 7373), (7806, 7940), (8223, 8334), (9518, 9623), (9926, 10025), (11374, 11478), (11778, 11876), (12204, 12330), (13072, 13190), (13518, 13620)]\n"
     ]
    }
   ],
   "source": [
    "statLst = dataDB.get_phase_all(\"Maintenance\", \"L\", \"Correct\")"
   ]
  },
  {
   "cell_type": "code",
   "execution_count": 22,
   "metadata": {},
   "outputs": [
    {
     "data": {
      "text/plain": [
       "[(71, 88),\n",
       " (133, 88),\n",
       " (77, 88),\n",
       " (62, 88),\n",
       " (68, 88),\n",
       " (65, 88),\n",
       " (64, 88),\n",
       " (93, 88),\n",
       " (70, 88),\n",
       " (118, 88),\n",
       " (60, 88),\n",
       " (58, 88),\n",
       " (59, 88),\n",
       " (72, 88),\n",
       " (62, 88),\n",
       " (67, 88),\n",
       " (66, 88),\n",
       " (95, 88),\n",
       " (68, 88),\n",
       " (68, 88),\n",
       " (80, 88),\n",
       " (63, 88),\n",
       " (114, 88),\n",
       " (68, 88),\n",
       " (78, 88),\n",
       " (64, 88),\n",
       " (63, 88),\n",
       " (66, 88),\n",
       " (85, 88),\n",
       " (68, 88),\n",
       " (64, 88),\n",
       " (75, 88),\n",
       " (62, 88),\n",
       " (65, 88),\n",
       " (159, 88),\n",
       " (63, 88),\n",
       " (70, 88),\n",
       " (112, 88),\n",
       " (72, 88),\n",
       " (91, 88),\n",
       " (92, 88),\n",
       " (78, 88),\n",
       " (118, 88),\n",
       " (63, 88),\n",
       " (63, 88),\n",
       " (65, 88),\n",
       " (64, 88),\n",
       " (56, 88),\n",
       " (61, 88),\n",
       " (68, 88),\n",
       " (77, 88),\n",
       " (81, 88),\n",
       " (182, 88),\n",
       " (58, 88),\n",
       " (67, 88),\n",
       " (72, 88),\n",
       " (122, 88),\n",
       " (139, 88),\n",
       " (70, 88),\n",
       " (87, 88),\n",
       " (94, 88),\n",
       " (96, 88),\n",
       " (87, 88),\n",
       " (95, 88),\n",
       " (91, 88),\n",
       " (134, 88),\n",
       " (111, 88),\n",
       " (105, 88),\n",
       " (99, 88),\n",
       " (104, 88),\n",
       " (98, 88),\n",
       " (126, 88),\n",
       " (118, 88),\n",
       " (102, 88)]"
      ]
     },
     "execution_count": 22,
     "metadata": {},
     "output_type": "execute_result"
    }
   ],
   "source": [
    "[st.shape for st in statLst]"
   ]
  },
  {
   "cell_type": "code",
   "execution_count": null,
   "metadata": {},
   "outputs": [],
   "source": []
  }
 ],
 "metadata": {
  "kernelspec": {
   "display_name": "Python (nest)",
   "language": "python",
   "name": "py36nest"
  },
  "language_info": {
   "codemirror_mode": {
    "name": "ipython",
    "version": 3
   },
   "file_extension": ".py",
   "mimetype": "text/x-python",
   "name": "python",
   "nbconvert_exporter": "python",
   "pygments_lexer": "ipython3",
   "version": "3.6.6"
  }
 },
 "nbformat": 4,
 "nbformat_minor": 2
}

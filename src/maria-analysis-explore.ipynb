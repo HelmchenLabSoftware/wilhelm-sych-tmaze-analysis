{
 "cells": [
  {
   "cell_type": "code",
   "execution_count": 26,
   "metadata": {},
   "outputs": [
    {
     "name": "stdout",
     "output_type": "stream",
     "text": [
      "Appended root directory /home/alyosha/work/git/neuronal-sequence-test\n",
      "The autoreload extension is already loaded. To reload it, use:\n",
      "  %reload_ext autoreload\n"
     ]
    }
   ],
   "source": [
    "# Standard libraries\n",
    "import pandas as pd\n",
    "import numpy as np\n",
    "import matplotlib.pyplot as plt\n",
    "from ipywidgets import interactive, IntProgress\n",
    "from IPython.display import display\n",
    "\n",
    "# Append base directory\n",
    "import os,sys,inspect\n",
    "rootname = \"neuronal-sequence-test\"\n",
    "thispath = os.path.dirname(os.path.abspath(inspect.getfile(inspect.currentframe())))\n",
    "rootpath = os.path.join(thispath[:thispath.index(rootname)], rootname)\n",
    "sys.path.append(rootpath)\n",
    "print(\"Appended root directory\", rootpath)\n",
    "\n",
    "# User libraries\n",
    "from mesostat.utils.arrays import numpy_add_empty_axes\n",
    "from mesostat.utils.qt_helper import gui_fnames, gui_fpath\n",
    "from mesostat.metric.metric import MetricCalculator\n",
    "from mesostat.metric.metric_non_uniform import MetricCalculatorNonUniform\n",
    "\n",
    "from src.lib.data_db import BehaviouralNeuronalDatabase\n",
    "from src.lib.metric_wrapper import metric_by_interval, metric_by_phase\n",
    "from src.lib.extra_metrics import num_non_zero_std, num_sample\n",
    "\n",
    "%load_ext autoreload\n",
    "%autoreload 2"
   ]
  },
  {
   "cell_type": "code",
   "execution_count": 2,
   "metadata": {},
   "outputs": [],
   "source": [
    "# tmp_path = root_path_data if 'root_path_data' in locals() else \"./\"\n",
    "params = {}\n",
    "#params['root_path_data']  = gui_fpath(\"Path to data files\", \"./\")\n",
    "params['root_path_dff'] = '/media/alyosha/Data/TE_data/mariadata/dff/'\n",
    "params['root_path_deconv'] = '/media/alyosha/Data/TE_data/mariadata/deconv/'"
   ]
  },
  {
   "cell_type": "code",
   "execution_count": 3,
   "metadata": {},
   "outputs": [],
   "source": [
    "dataDB = BehaviouralNeuronalDatabase(params)"
   ]
  },
  {
   "cell_type": "code",
   "execution_count": 4,
   "metadata": {},
   "outputs": [
    {
     "data": {
      "application/vnd.jupyter.widget-view+json": {
       "model_id": "67b24692f6cb4098b48338ac9f8ae89c",
       "version_major": 2,
       "version_minor": 0
      },
      "text/plain": [
       "IntProgress(value=0, description='Read DFF Data:', max=27)"
      ]
     },
     "metadata": {},
     "output_type": "display_data"
    },
    {
     "data": {
      "application/vnd.jupyter.widget-view+json": {
       "model_id": "bcd240c1f56c42cab50a85a99ff9bfe2",
       "version_major": 2,
       "version_minor": 0
      },
      "text/plain": [
       "IntProgress(value=0, description='Read DECONV Data:', max=27)"
      ]
     },
     "metadata": {},
     "output_type": "display_data"
    }
   ],
   "source": [
    "dataDB.read_neuro_files()"
   ]
  },
  {
   "cell_type": "code",
   "execution_count": 5,
   "metadata": {
    "scrolled": false
   },
   "outputs": [
    {
     "data": {
      "application/vnd.jupyter.widget-view+json": {
       "model_id": "d11b1fa294a14178a462adfcd149d90c",
       "version_major": 2,
       "version_minor": 0
      },
      "text/plain": [
       "IntProgress(value=0, description='Read Neuro Data:', max=27)"
      ]
     },
     "metadata": {},
     "output_type": "display_data"
    },
    {
     "name": "stdout",
     "output_type": "stream",
     "text": [
      "No trials found for Trial_LWhole_Mistake skipping\n",
      "No trials found for Trial_RWhole_Mistake skipping\n",
      "No trials found for Trial_LWhole_Mistake skipping\n"
     ]
    }
   ],
   "source": [
    "dataDB.read_behavior_files()"
   ]
  },
  {
   "cell_type": "markdown",
   "metadata": {},
   "source": [
    "# 1. SNR\n",
    "\n",
    "**Goal**: Attempt to predict L/R and C/M from mean activity over trial"
   ]
  },
  {
   "cell_type": "code",
   "execution_count": 29,
   "metadata": {},
   "outputs": [
    {
     "name": "stdout",
     "output_type": "stream",
     "text": [
      "doing mouse m060\n",
      "doing mouse m061\n",
      "doing mouse m065\n",
      "doing mouse m066\n",
      "doing mouse m067\n",
      "doing mouse m068\n"
     ]
    },
    {
     "data": {
      "image/png": "[encoded data removed]",
      "text/plain": [
       "<Figure size 2160x360 with 6 Axes>"
      ]
     },
     "metadata": {
      "needs_background": "light"
     },
     "output_type": "display_data"
    }
   ],
   "source": [
    "mc = MetricCalculator(serial=True, verbose=False)\n",
    "\n",
    "fig, ax = plt.subplots(ncols=len(dataDB.mice), figsize=(5 * len(dataDB.mice),5))\n",
    "for iMouse, mousename in enumerate(sorted(dataDB.mice)):\n",
    "    print('doing mouse', mousename)\n",
    "    rows = dataDB.get_rows('dff', {'mousename' : mousename})\n",
    "\n",
    "    rez = []\n",
    "    for idx, row in rows.iterrows():\n",
    "        mc.set_data(dataDB.dataNeuronal['raw'][idx], 'sp')\n",
    "        rez += [mc.metric3D('autocorr_d1', 'p', metricSettings=None, sweepSettings=None)]\n",
    "        \n",
    "    ax[iMouse].set_title(mousename)\n",
    "    ax[iMouse].imshow(np.array(rez).T, cmap='jet', vmin=0, vmax=1)\n",
    "plt.show()"
   ]
  },
  {
   "cell_type": "code",
   "execution_count": null,
   "metadata": {},
   "outputs": [],
   "source": []
  }
 ],
 "metadata": {
  "kernelspec": {
   "display_name": "Python (nest)",
   "language": "python",
   "name": "py36nest"
  },
  "language_info": {
   "codemirror_mode": {
    "name": "ipython",
    "version": 3
   },
   "file_extension": ".py",
   "mimetype": "text/x-python",
   "name": "python",
   "nbconvert_exporter": "python",
   "pygments_lexer": "ipython3",
   "version": "3.6.6"
  }
 },
 "nbformat": 4,
 "nbformat_minor": 2
}

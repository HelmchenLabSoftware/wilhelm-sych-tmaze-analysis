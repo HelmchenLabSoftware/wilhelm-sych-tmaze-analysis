{
 "cells": [
  {
   "cell_type": "code",
   "execution_count": null,
   "metadata": {},
   "outputs": [],
   "source": [
    "# Standard libraries\n",
    "from copy import deepcopy\n",
    "\n",
    "import pandas as pd\n",
    "import numpy as np\n",
    "import matplotlib.pyplot as plt\n",
    "from ipywidgets import interactive, IntProgress\n",
    "from IPython.display import display\n",
    "\n",
    "# Append base directory\n",
    "import os,sys,inspect\n",
    "rootname = \"chernysheva-tmaze-analysis-2020\"\n",
    "thispath = os.path.dirname(os.path.abspath(inspect.getfile(inspect.currentframe())))\n",
    "rootpath = os.path.join(thispath[:thispath.index(rootname)], rootname)\n",
    "sys.path.append(rootpath)\n",
    "print(\"Appended root directory\", rootpath)\n",
    "\n",
    "# User libraries\n",
    "# from mesostat.stat.machinelearning import binary_classifier\n",
    "# from mesostat.stat.connectomics import offdiag_1D\n",
    "from mesostat.utils.qt_helper import gui_fnames, gui_fpath\n",
    "from mesostat.utils.pandas_helper import merge_df_from_dict\n",
    "from mesostat.utils.arrays import numpy_merge_dimensions\n",
    "from mesostat.utils.plotting import imshow\n",
    "\n",
    "from src.lib.data_db import BehaviouralNeuronalDatabase\n",
    "import src.lib.plots_lib as plots_lib\n",
    "import src.lib.table_lib as table_lib\n",
    "import src.lib.plots_pca as plots_pca\n",
    "from src.lib.metric_wrapper import metric_by_selector\n",
    "from src.lib.extra_metrics import num_non_zero_std, num_sample\n",
    "from src.lib.stat_lib import test_quantity, rstest_twosided\n",
    "from src.lib.significant_cells_lib import SignificantCells\n",
    "\n",
    "%load_ext autoreload\n",
    "%autoreload 2"
   ]
  },
  {
   "cell_type": "code",
   "execution_count": null,
   "metadata": {
    "collapsed": true
   },
   "outputs": [],
   "source": [
    "# tmp_path = root_path_data if 'root_path_data' in locals() else \"./\"\n",
    "params = {}\n",
    "#params['root_path_data']  = gui_fpath(\"Path to data files\", \"./\")\n",
    "# params['root_path_dff'] = '/media/alyosha/Data/TE_data/mariadata/dff/'\n",
    "# params['root_path_deconv'] = '/media/alyosha/Data/TE_data/mariadata/deconv/'\n",
    "params['root_path_dff'] = '/media/aleksejs/DataHDD/work/data/maria/dff/'\n",
    "params['root_path_deconv'] = '/media/aleksejs/DataHDD/work/data/maria/deconv/'"
   ]
  },
  {
   "cell_type": "code",
   "execution_count": null,
   "metadata": {
    "collapsed": true
   },
   "outputs": [],
   "source": [
    "dataDB = BehaviouralNeuronalDatabase(params)"
   ]
  },
  {
   "cell_type": "code",
   "execution_count": null,
   "metadata": {},
   "outputs": [],
   "source": [
    "dataDB.read_neuro_files()"
   ]
  },
  {
   "cell_type": "code",
   "execution_count": null,
   "metadata": {
    "scrolled": false
   },
   "outputs": [],
   "source": [
    "dataDB.read_behavior_files()"
   ]
  },
  {
   "cell_type": "code",
   "execution_count": null,
   "metadata": {
    "collapsed": true
   },
   "outputs": [],
   "source": [
    "significantCellsSelectorDatatype = {}\n",
    "\n",
    "for datatype in ['raw', 'deconv']:\n",
    "    signCellsMaintenance = SignificantCells('significant_cells_'+datatype+'_mt.h5').get_cells_by_mouse()\n",
    "    signCellsReward = SignificantCells('significant_cells_'+datatype+'_enc_reward.h5').get_cells_by_mouse()\n",
    "\n",
    "    significantCellsSelectorDatatype[datatype] = {\n",
    "        'None' : None,\n",
    "        'Maintenance' : signCellsMaintenance,\n",
    "        'Reward' : signCellsReward\n",
    "    }"
   ]
  },
  {
   "cell_type": "markdown",
   "metadata": {},
   "source": [
    "# 1. Neuron-Time-Average\n",
    "\n",
    "**Goal**: Attempt to predict L/R and C/M from mean activity over trial\n",
    "\n",
    "**VERY IMPORTANT**: When we compare significant cells, we must compare exactly the same cells in each condition. So, we must select all cells significant within that interval/phase"
   ]
  },
  {
   "cell_type": "code",
   "execution_count": null,
   "metadata": {
    "collapsed": true,
    "scrolled": false
   },
   "outputs": [],
   "source": [
    "def test_mean_time_and_neurons(dataDB, datatype, selector, condition, signCellsMouseDict=None):\n",
    "    nMice = len(dataDB.mice)\n",
    "    condValues = set(dataDB.metaDataFrames['behaviorStates'][condition])\n",
    "    testResults = []\n",
    "    \n",
    "    fig, ax = plt.subplots(ncols=nMice, figsize=(4*nMice, 4))\n",
    "    for iMouse, mousename in enumerate(sorted(dataDB.mice)):\n",
    "        means = []\n",
    "        \n",
    "        if signCellsMouseDict is not None:\n",
    "            channelFilter = signCellsMouseDict\n",
    "            nChannels = len(signCellsMouseDict[mousename])\n",
    "        else:\n",
    "            channelFilter = None\n",
    "            nChannels = dataDB.get_nchannel(mousename, datatype)\n",
    "            \n",
    "        for condVal in condValues:\n",
    "            queryDictCond = {\"datatype\" : datatype, \"mousename\" : mousename, condition : condVal}\n",
    "            means += [metric_by_selector(dataDB, queryDictCond, \"mean\", \"r\", selector, {}, channelFilter=signCellsMouseDict)]\n",
    "\n",
    "        meanVals = [np.mean(mu) for mu in means]\n",
    "        nTrialsCond = tuple(len(mu) for mu in means)\n",
    "        negLogPVal = -np.log10(rstest_twosided(*means)[1])\n",
    "        \n",
    "                \n",
    "        testResults += [[mousename, *meanVals, nTrialsCond, nChannels, negLogPVal]]\n",
    "        ax[iMouse].violinplot(means)\n",
    "        ax[iMouse].set_title(mousename)\n",
    "        \n",
    "    dfRez = pd.DataFrame(testResults, columns=[\"mouse\", *condValues, \"nTrials\", \"nNeurons\", \"-log10(pval)\"])\n",
    "    display(dfRez)\n",
    "    plt.show()\n",
    "    \n",
    "    return dfRez"
   ]
  },
  {
   "cell_type": "code",
   "execution_count": null,
   "metadata": {
    "collapsed": true,
    "scrolled": true
   },
   "outputs": [],
   "source": [
    "# selector = {\"phase\" : \"Maintenance\"}\n",
    "\n",
    "rezDict = {}\n",
    "for interval in range(6, 9):\n",
    "    for datatype in ['raw', 'deconv']:\n",
    "        for condition in [\"performance\", \"direction\"]:\n",
    "            for signCellsName, signCells in significantCellsSelectorDatatype[datatype].items():\n",
    "#                 print(condition, useSignificant)\n",
    "                keys = (interval, datatype, condition, signCellsName)\n",
    "                selector = {\"interval\" : interval}\n",
    "                print(keys)\n",
    "                dfRez = test_mean_time_and_neurons(dataDB, datatype, selector, condition, signCellsMouseDict=signCells)\n",
    "                rezDict[keys] = dfRez                "
   ]
  },
  {
   "cell_type": "code",
   "execution_count": null,
   "metadata": {
    "collapsed": true,
    "scrolled": true
   },
   "outputs": [],
   "source": [
    "with pd.option_context('display.max_rows', None, 'display.max_columns', None):\n",
    "    display(merge_df_from_dict(rezDict, ['interval', 'datatype', 'condition', 'filter']))"
   ]
  },
  {
   "cell_type": "markdown",
   "metadata": {},
   "source": [
    "# 2 Time-Average\n",
    "\n",
    "**Goal**: Attempt to predict LR/CM from average activities of individual cells.\n",
    "* Count predictive cells in each mouse, phase/interval"
   ]
  },
  {
   "cell_type": "code",
   "execution_count": null,
   "metadata": {
    "collapsed": true,
    "scrolled": false
   },
   "outputs": [],
   "source": [
    "def test_mean_time(dataDB, datatype, selector, condition, nTest=1000, pval=0.01, signCellsMouseDict=None):\n",
    "    nMice = len(dataDB.mice)\n",
    "    condValues = set(dataDB.metaDataFrames['behaviorStates'][condition])\n",
    "    mouseResults = []\n",
    "    \n",
    "    fig1, ax1 = plt.subplots(ncols=nMice, figsize=(4*nMice, 4), tight_layout=True)\n",
    "    for iMouse, mousename in enumerate(sorted(dataDB.mice)):\n",
    "        means = []\n",
    "        \n",
    "        if signCellsMouseDict is not None:\n",
    "            channelFilter = signCellsMouseDict\n",
    "            nCells = len(signCellsMouseDict[mousename])\n",
    "        else:\n",
    "            channelFilter = None\n",
    "            nCells = dataDB.get_nchannel(mousename, datatype)\n",
    "        \n",
    "        for condVal in condValues:\n",
    "            queryDictCond = {\"datatype\" : datatype, \"mousename\" : mousename, condition : condVal}\n",
    "            means += [metric_by_selector(dataDB, queryDictCond, \"mean\", \"pr\", selector, {}, channelFilter=channelFilter)]\n",
    "            \n",
    "        pValByCell, nCellSignificant, negLogPValPop = test_quantity(means[0], means[1], pval)\n",
    "        mouseResults += [[mousename, nCellSignificant, nCells, np.round(negLogPValPop, 2)]]\n",
    "        \n",
    "        ax1[iMouse].plot(sorted(-np.log10(pValByCell)))\n",
    "        ax1[iMouse].axhline(y=2, linestyle=\"--\", color='r')\n",
    "        ax1[iMouse].set_xlabel(\"cell index, sorted\")\n",
    "        ax1[iMouse].set_ylabel(\"-log10(pVal)\")\n",
    "        ax1[iMouse].set_title(mousename)\n",
    "    \n",
    "    rezDf = pd.DataFrame(mouseResults, columns=[\"mouse\", \"nCellSignificant\", \"nCellTot\", \"-log10(pval)\"])\n",
    "    display(rezDf)\n",
    "        \n",
    "    plt.show()\n",
    "    \n",
    "    return rezDf"
   ]
  },
  {
   "cell_type": "code",
   "execution_count": null,
   "metadata": {
    "collapsed": true,
    "scrolled": true
   },
   "outputs": [],
   "source": [
    "# selector = {\"phase\" : \"Maintenance\"}\n",
    "\n",
    "rezDFDict = {}\n",
    "for interval in range(6, 9):\n",
    "    for datatype in ['raw', 'deconv']:\n",
    "        for condition in [\"performance\", \"direction\"]:\n",
    "            for signCellsName, signCells in significantCellsSelectorDatatype[datatype].items():\n",
    "    #             print(condition, useSignificant)\n",
    "                keys = (interval, datatype, condition, signCellsName)\n",
    "                selector = {\"interval\" : interval}\n",
    "                print(keys)\n",
    "                rezDF = test_mean_time(dataDB, datatype, selector, condition, signCellsMouseDict=signCells)\n",
    "                rezDFDict[keys] = rezDF"
   ]
  },
  {
   "cell_type": "code",
   "execution_count": null,
   "metadata": {
    "collapsed": true
   },
   "outputs": [],
   "source": [
    "with pd.option_context('display.max_rows', None, 'display.max_columns', None):\n",
    "    display(merge_df_from_dict(rezDFDict, ['interval', 'datatype', 'condition', 'filter']))"
   ]
  },
  {
   "cell_type": "markdown",
   "metadata": {},
   "source": [
    "## 2.1 LRCM discrimination by phase/interval"
   ]
  },
  {
   "cell_type": "code",
   "execution_count": null,
   "metadata": {
    "collapsed": true
   },
   "outputs": [],
   "source": [
    "def test_ncells_by_interval(dataDB, queryDict, datatype, condition, phaseType, phaseTypeRange, nTest=1000, pval=0.01, plotYLim=None):\n",
    "    nMice = len(dataDB.mice)\n",
    "    condValues = set(dataDB.metaDataFrames['behaviorStates'][condition])\n",
    "    mouseResults = []\n",
    "    \n",
    "    xDummy = np.arange(len(phaseTypeRange))\n",
    "    \n",
    "    fig, ax = plt.subplots(figsize=(10,10))\n",
    "    for iMouse, mousename in enumerate(sorted(dataDB.mice)):\n",
    "        print(\"Calculating mouse\", mousename, 'for', datatype, phaseType, condition)\n",
    "        \n",
    "        freqCellSignificant = []\n",
    "        for phaseTypeVal in phaseTypeRange:\n",
    "            selector = {phaseType : phaseTypeVal}\n",
    "        \n",
    "            means = []\n",
    "            for condVal in condValues:        \n",
    "                queryDictCond = {**queryDict, **{\"datatype\" : datatype, \"mousename\" : mousename, condition : condVal}}\n",
    "                means += [metric_by_selector(dataDB, queryDictCond, \"mean\", \"pr\", selector, {})]\n",
    "\n",
    "            nCells = means[0].shape[0]\n",
    "            _, nCellSignificant, _ = test_quantity(means[0], means[1], pval)\n",
    "            freqCellSignificant += [nCellSignificant / nCells]\n",
    "            \n",
    "        ax.plot(xDummy, freqCellSignificant, label=mousename)\n",
    "        ax.set_xticks(xDummy)\n",
    "        ax.set_xticklabels(phaseTypeRange)\n",
    "\n",
    "    suffix = '_'.join([phaseType, datatype, condition, list(queryDict.values())[0]])\n",
    "        \n",
    "#     ax.axvline(x=5.5, linestyle='--', color='pink')\n",
    "#     ax.axvline(x=8.5, linestyle='--', color='pink')\n",
    "    ax.legend()\n",
    "    if plotYLim is not None:\n",
    "        ax.set_ylim(plotYLim)\n",
    "    \n",
    "    ax.set_xlabel(phaseType)\n",
    "    ax.set_ylabel('Significant cell fraction')\n",
    "    fig.savefig('quantity_significant_cells_'+suffix+'.pdf')\n",
    "    plt.close()"
   ]
  },
  {
   "cell_type": "code",
   "execution_count": null,
   "metadata": {
    "collapsed": true,
    "scrolled": true
   },
   "outputs": [],
   "source": [
    "# queryDict = {\"datatype\" : \"raw\", \"direction\" : \"R\"}\n",
    "# queryDict = {\"datatype\" : \"raw\", \"performance\" : \"Correct\"}\n",
    "\n",
    "for datatype in [\"raw\", \"deconv\"]:\n",
    "    for phaseType in ['semiphase']:#[\"phase\", \"interval\", \"semiphase\"]:\n",
    "#         ylim = [0, 0.4] if phaseType == 'phase' else [0, 0.8]\n",
    "        ylim=[0, 0.5]\n",
    "            \n",
    "        for condition in [\"performance\", \"direction\"]:\n",
    "            if condition == \"performance\":\n",
    "                secondCond = \"direction\"\n",
    "                secondCondVals = [\"L\", \"R\"]\n",
    "            else:\n",
    "                secondCond = \"performance\"\n",
    "                secondCondVals = [\"Correct\", \"Mistake\"]\n",
    "                \n",
    "            for condVal in secondCondVals:\n",
    "                queryDict = {secondCond : condVal}\n",
    "                ranges = dataDB.get_phasetype_keys(phaseType, \"Mistake\", haveWaiting=False)\n",
    "                test_ncells_by_interval(dataDB, queryDict, datatype, condition, phaseType,\n",
    "                                        ranges, plotYLim=ylim)"
   ]
  },
  {
   "cell_type": "markdown",
   "metadata": {},
   "source": [
    "## 2.3 Significant Cell Confusion matrices"
   ]
  },
  {
   "cell_type": "code",
   "execution_count": null,
   "metadata": {
    "collapsed": true
   },
   "outputs": [],
   "source": [
    "def text_different_one(data2D, i):\n",
    "    dataThis = data2D[i]\n",
    "    dataOther = np.hstack(data2D[:i] + data2D[i+1:])\n",
    "    T, p = rstest_twosided(dataThis, dataOther)\n",
    "    return -np.log10(p)\n",
    "\n",
    "\n",
    "def text_different(data2D):\n",
    "    return np.array([text_different_one(data2D, i) for i in range(len(data2D))])\n",
    "\n",
    "\n",
    "# Calculate confusion matrix\n",
    "def significance_confusion_matrix(sign2D):\n",
    "    nCell, nPhase = sign2D.shape  # A boolean array reporting if a given cell is significant in a given phase\n",
    "    confMat = np.zeros((nPhase, nPhase))\n",
    "    for i in range(nPhase):\n",
    "        for j in range(nPhase):\n",
    "            confMat[i][j] = np.sum(np.logical_and(sign2D[:, i], sign2D[:, j]))\n",
    "    return confMat\n",
    "\n",
    "\n",
    "def confusion_matrices_LRCM(queryDict, selector):\n",
    "    settings = {\"zscoreChannel\" : False, \"serial\" : True, \"metricSettings\" : {}}\n",
    "\n",
    "    fig, ax = plt.subplots(ncols=len(dataDB.mice), figsize=(4*len(dataDB.mice), 4), tight_layout=True)\n",
    "    \n",
    "    for iMouse, mousename in enumerate(sorted(dataDB.mice)):\n",
    "        print('doing mouse', mousename)\n",
    "\n",
    "        keys = []\n",
    "        rezLst = []\n",
    "        for performance in ['Correct', 'Mistake']:\n",
    "            for direction in ['L', 'R']:\n",
    "                keys += [str((performance, direction))]\n",
    "                queryDictThis = {**queryDict, **{'mousename' : mousename, 'performance' : performance, 'direction' : direction}}\n",
    "                rezLst += [metric_by_selector(dataDB, queryDictThis, 'mean', 'pr', selector, settings)]\n",
    "                \n",
    "        nChannel = len(rezLst[0])\n",
    "        pVals2D = np.array([text_different([rez[iCh] for rez in rezLst]) for iCh in range(nChannel)])\n",
    "\n",
    "        # Calculate confusion matrix\n",
    "        sign2D = pVals2D > 2\n",
    "        confMat = significance_confusion_matrix(sign2D)\n",
    "\n",
    "        # Plot confusion matrix\n",
    "        imshow(fig, ax[iMouse], confMat, limits=[0, nChannel], title=mousename, haveColorBar=True, cmap='jet',\n",
    "               haveTicks=True, xTicks=keys, yTicks=keys)\n",
    "\n",
    "    fig.savefig('interval_'+ str(selector[\"interval\"]) +'_significant_cells_confusion.pdf')\n",
    "    #plt.show()\n",
    "    plt.close()"
   ]
  },
  {
   "cell_type": "code",
   "execution_count": null,
   "metadata": {
    "collapsed": true,
    "scrolled": true
   },
   "outputs": [],
   "source": [
    "for iInterv in range(5, 10):\n",
    "    confusion_matrices_LRCM({\"datatype\" : \"deconv\"}, {\"interval\" : iInterv})"
   ]
  },
  {
   "cell_type": "markdown",
   "metadata": {},
   "source": [
    "# 3. Scalar metric tests\n",
    "\n",
    "**Goal**: Evaluate predictive power for several metrics\n",
    "* Stretch hypothesis: Legendre Basis (try several bases individually up to 6)\n",
    "* Synchronization hypothesis: AvgCorr, H"
   ]
  },
  {
   "cell_type": "markdown",
   "metadata": {},
   "source": [
    "## Table"
   ]
  },
  {
   "cell_type": "code",
   "execution_count": null,
   "metadata": {
    "collapsed": true,
    "scrolled": false
   },
   "outputs": [],
   "source": [
    "%%time\n",
    "dataDB.verbose = False\n",
    "\n",
    "#settings = {\"serial\" : True, \"metricSettings\" : {\"metric\" : num_non_zero_std}}\n",
    "settings = {\"serial\" : True, \"metricSettings\" : {\"max_lag\" : 1}}\n",
    "sweepDict = {\n",
    "    \"datatype\": [\"deconv\"],\n",
    "    \"performance\": [\"Correct\", \"Mistake\", \"All\"],\n",
    "#     \"direction\": [\"L\", \"R\", \"All\"]\n",
    "}\n",
    "# selector = {\"phase\" : \"Maintenance\"}\n",
    "selector = {\"interval\" : 9}\n",
    "\n",
    "table_lib.table_discriminate_behavior(dataDB, selector, \"direction\",\n",
    "                                      sweepDict,\n",
    "                                      \"mean\",\n",
    "                                      trgDimOrder=\"r\",\n",
    "                                      settings=settings,\n",
    "                                      multiplexKey=\"mousename\",\n",
    "                                      channelFilter=None)"
   ]
  },
  {
   "cell_type": "markdown",
   "metadata": {},
   "source": [
    "## Violins"
   ]
  },
  {
   "cell_type": "code",
   "execution_count": null,
   "metadata": {
    "collapsed": true,
    "scrolled": false
   },
   "outputs": [],
   "source": [
    "def binary_test_phase(dataDB, queryDict, condition, selector, metricName, settings):\n",
    "    condValues = list(set(dataDB.metaDataFrames['behaviorStates'][condition]))\n",
    "    \n",
    "    rezLst = []\n",
    "    for condVal in condValues:\n",
    "        queryDictCond = {**queryDict, **{condition : condVal}}\n",
    "        rezLst += [metric_by_selector(dataDB, queryDictCond, metricName, \"r\", selector, {})]\n",
    "        \n",
    "    fig, ax = plt.subplots()\n",
    "    plots_lib.plot_labeled_violins(ax, rezLst, condValues, condition, metricName,\n",
    "                                   joinMeans=True, haveLog=False, sigTestPairs=[(0,1)])\n",
    "    \n",
    "    \n",
    "#settings = {\"serial\" : True, \"metricSettings\" : {\"metric\" : num_sample}}\n",
    "settings = {\"serial\" : True, \"metricSettings\" : {}}\n",
    "queryDict = {\"datatype\" : \"deconv\", \"direction\" : \"L\"}\n",
    "\n",
    "binary_test_phase(dataDB, queryDict, \"performance\", {\"interval\" : 9}, \"mean\", settings)\n",
    "#binary_test_phase(dataDB, queryDict, \"direction\", [\"L\", \"R\"], \"Maintenance\", settings)"
   ]
  },
  {
   "cell_type": "code",
   "execution_count": null,
   "metadata": {
    "collapsed": true
   },
   "outputs": [],
   "source": []
  }
 ],
 "metadata": {
  "kernelspec": {
   "display_name": "Python (py36qt5)",
   "language": "python",
   "name": "py36qt5"
  },
  "language_info": {
   "codemirror_mode": {
    "name": "ipython",
    "version": 3
   },
   "file_extension": ".py",
   "mimetype": "text/x-python",
   "name": "python",
   "nbconvert_exporter": "python",
   "pygments_lexer": "ipython3",
   "version": "3.6.4"
  }
 },
 "nbformat": 4,
 "nbformat_minor": 2
}

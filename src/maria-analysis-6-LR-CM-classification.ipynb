{
 "cells": [
  {
   "cell_type": "code",
   "execution_count": null,
   "metadata": {},
   "outputs": [],
   "source": [
    "# Standard libraries\n",
    "from copy import deepcopy\n",
    "\n",
    "import pandas as pd\n",
    "import numpy as np\n",
    "import matplotlib.pyplot as plt\n",
    "from ipywidgets import interactive, IntProgress\n",
    "from IPython.display import display\n",
    "\n",
    "from sklearn.linear_model import RidgeClassifier, LogisticRegression\n",
    "from sklearn.neural_network import MLPClassifier\n",
    "\n",
    "# Append base directory\n",
    "import os,sys,inspect\n",
    "rootname = \"chernysheva-tmaze-analysis-2020\"\n",
    "thispath = os.path.dirname(os.path.abspath(inspect.getfile(inspect.currentframe())))\n",
    "rootpath = os.path.join(thispath[:thispath.index(rootname)], rootname)\n",
    "sys.path.append(rootpath)\n",
    "print(\"Appended root directory\", rootpath)\n",
    "\n",
    "# User libraries\n",
    "from mesostat.stat.classification import binary_classifier\n",
    "# from mesostat.stat.connectomics import offdiag_1D\n",
    "from mesostat.utils.qt_helper import gui_fnames, gui_fpath\n",
    "from mesostat.utils.pandas_helper import merge_df_from_dict\n",
    "from mesostat.utils.arrays import numpy_merge_dimensions\n",
    "from mesostat.utils.plotting import imshow\n",
    "\n",
    "from src.lib.data_db import BehaviouralNeuronalDatabase\n",
    "import src.lib.plots_lib as plots_lib\n",
    "import src.lib.table_lib as table_lib\n",
    "import src.lib.plots_pca as plots_pca\n",
    "from src.lib.metric_wrapper import metric_by_selector\n",
    "from src.lib.extra_metrics import num_non_zero_std, num_sample\n",
    "from src.lib.stat_lib import test_quantity, rstest_twosided\n",
    "from src.lib.significant_cells_lib import SignificantCells\n",
    "\n",
    "%load_ext autoreload\n",
    "%autoreload 2"
   ]
  },
  {
   "cell_type": "code",
   "execution_count": null,
   "metadata": {
    "collapsed": true
   },
   "outputs": [],
   "source": [
    "# tmp_path = root_path_data if 'root_path_data' in locals() else \"./\"\n",
    "params = {}\n",
    "#params['root_path_data']  = gui_fpath(\"Path to data files\", \"./\")\n",
    "# params['root_path_dff'] = '/media/alyosha/Data/TE_data/mariadata/dff/'\n",
    "# params['root_path_deconv'] = '/media/alyosha/Data/TE_data/mariadata/deconv/'\n",
    "params['root_path_dff'] = '/media/aleksejs/DataHDD/work/data/maria/dff/'\n",
    "params['root_path_deconv'] = '/media/aleksejs/DataHDD/work/data/maria/deconv/'"
   ]
  },
  {
   "cell_type": "code",
   "execution_count": null,
   "metadata": {
    "collapsed": true
   },
   "outputs": [],
   "source": [
    "dataDB = BehaviouralNeuronalDatabase(params)"
   ]
  },
  {
   "cell_type": "code",
   "execution_count": null,
   "metadata": {},
   "outputs": [],
   "source": [
    "dataDB.read_neuro_files()"
   ]
  },
  {
   "cell_type": "code",
   "execution_count": null,
   "metadata": {
    "scrolled": false
   },
   "outputs": [],
   "source": [
    "dataDB.read_behavior_files()"
   ]
  },
  {
   "cell_type": "markdown",
   "metadata": {},
   "source": [
    "# 4. Binary Classification\n",
    "\n",
    "**Goal**: Train a classifier to discriminate between two cases (L/R), (C/M)\n",
    "\n",
    "**Versions**:\n",
    "* **4A. Mouse-wise**: Choose metric that is independent of number of samples, calc individually for each mouse\n",
    "* **4B. All-mice**: Choose metric that has fixed shape per trial, calc for all mice\n",
    "\n",
    "**Advantages**:\n",
    "* Can theoretically make use of vector metrics, by studying their combinations\n",
    "\n",
    "**Problems**:\n",
    "* High overfitting. Performance for train and test dramatically different.\n",
    "\n",
    "**TODO**:\n",
    "* Research further into regularization. Try more sophisticated estimators (e.g. )\n",
    "* Impl classification by phase"
   ]
  },
  {
   "cell_type": "code",
   "execution_count": null,
   "metadata": {
    "scrolled": false
   },
   "outputs": [],
   "source": [
    "def cross_validate(dataDB, datatype, selector, metricName):\n",
    "    CLst = 10.0**np.arange(-7, 15)\n",
    "\n",
    "    nMice = len(dataDB.mice)\n",
    "    fig, ax = plt.subplots(ncols=nMice, figsize=(5*nMice, 5))\n",
    "    for iMouse, mousename in enumerate(sorted(dataDB.mice)):\n",
    "        print('Doing mouse', mousename)\n",
    "\n",
    "        queryDictL = {'datatype' : datatype, 'mousename' : mousename, 'direction' : 'L'}\n",
    "        queryDictR = {'datatype' : datatype, 'mousename' : mousename, 'direction' : 'R'}\n",
    "\n",
    "        dataL = metric_by_selector(dataDB, queryDictL, metricName, 'rp', selector, {})\n",
    "        dataR = metric_by_selector(dataDB, queryDictR, metricName, 'rp', selector, {})\n",
    "        \n",
    "        dataL = numpy_merge_dimensions(dataL, 1, 3)\n",
    "        dataR = numpy_merge_dimensions(dataR, 1, 3)\n",
    "        \n",
    "        print(dataL.shape)\n",
    "\n",
    "        rezLst = []\n",
    "        for C in CLst:\n",
    "            print(C)\n",
    "        #     classifier = LogisticRegression(max_iter=10000, C=C, penalty='l1', solver='liblinear')\n",
    "#             classifier = LogisticRegression(max_iter=10000, C=C, solver='lbfgs')\n",
    "#             classifier = RidgeClassifier(max_iter=10000, alpha=C)\n",
    "            classifier = MLPClassifier(alpha=C, max_iter=10000, hidden_layer_sizes=(200, 50))\n",
    "            rezLst += [binary_classifier(dataL, dataR, classifier, havePVal=True, method='kfold')]\n",
    "\n",
    "        df = pd.DataFrame(rezLst)\n",
    "#         display(df)\n",
    "\n",
    "        ax[iMouse].set_title(mousename)\n",
    "        ax[iMouse].semilogx(CLst, df['accTrain'], label='train')\n",
    "        ax[iMouse].semilogx(CLst, df['accTest'], label='test')\n",
    "        ax[iMouse].axhline(y=df['accNaive'][0], linestyle='--', color='r', label='chance')\n",
    "        ax[iMouse].set_ylim([0,1])\n",
    "        ax[iMouse].legend()\n",
    "    plt.show()\n",
    "    \n",
    "for interval in [6,7,8]:\n",
    "    cross_validate(dataDB, 'deconv', {'interval' : interval}, 'temporal_basis')"
   ]
  },
  {
   "cell_type": "code",
   "execution_count": null,
   "metadata": {
    "collapsed": true
   },
   "outputs": [],
   "source": []
  },
  {
   "cell_type": "code",
   "execution_count": null,
   "metadata": {},
   "outputs": [],
   "source": [
    "# 4B\n",
    "queryDict = {\"direction\": \"L\", \"datatype\": \"raw\"}\n",
    "#queryDict = {\"performance\": \"Correct\", \"datatype\": \"raw\"}\n",
    "settings = {\"serial\": True, \"metricSettings\": None}\n",
    "#settings = {\"serial\" : True, \"metricSettings\" : {\"metric\" : num_non_zero_std}}\n",
    "\n",
    "rez = plots_lib.table_binary_classification(dataDB, \"Maintenance\", \"performance\", \"cumul_ord_coeff\", \"\",\n",
    "                                            queryDict, settings)\n",
    "\n",
    "rez"
   ]
  },
  {
   "cell_type": "code",
   "execution_count": null,
   "metadata": {
    "collapsed": true
   },
   "outputs": [],
   "source": [
    "# 4A\n",
    "queryDict = {\"performance\": \"Correct\", \"datatype\": \"raw\"}\n",
    "#queryDict = {\"direction\": \"L\", \"datatype\": \"high\"}\n",
    "settings = {\"serial\": True, \"metricSettings\": {\"lag\" : 1, \"max_lag\" : 3}}\n",
    "#settings = {\"serial\" : True, \"metricSettings\" : {\"metric\" : num_non_zero_std}}\n",
    "\n",
    "plots_lib.table_binary_classification_bymouse(dataDB, \"Maintenance\", \"direction\", \"temporal_basis\", \"rp\",\n",
    "                                              queryDict, settings)"
   ]
  }
 ],
 "metadata": {
  "kernelspec": {
   "display_name": "Python (py36qt5)",
   "language": "python",
   "name": "py36qt5"
  },
  "language_info": {
   "codemirror_mode": {
    "name": "ipython",
    "version": 3
   },
   "file_extension": ".py",
   "mimetype": "text/x-python",
   "name": "python",
   "nbconvert_exporter": "python",
   "pygments_lexer": "ipython3",
   "version": "3.6.4"
  }
 },
 "nbformat": 4,
 "nbformat_minor": 2
}

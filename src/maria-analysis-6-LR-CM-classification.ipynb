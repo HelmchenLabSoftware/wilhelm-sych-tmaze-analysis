{
 "cells": [
  {
   "cell_type": "code",
   "execution_count": null,
   "metadata": {},
   "outputs": [],
   "source": [
    "# Standard libraries\n",
    "from copy import deepcopy\n",
    "\n",
    "import pandas as pd\n",
    "import numpy as np\n",
    "import matplotlib.pyplot as plt\n",
    "from ipywidgets import interactive, IntProgress\n",
    "from IPython.display import display\n",
    "\n",
    "from sklearn.linear_model import RidgeClassifier, LogisticRegression\n",
    "from sklearn.neural_network import MLPClassifier\n",
    "\n",
    "# Append base directory\n",
    "import os,sys,inspect\n",
    "rootname = \"chernysheva-tmaze-analysis-2020\"\n",
    "thispath = os.getcwd()\n",
    "# thispath = os.path.dirname(os.path.abspath(inspect.getfile(inspect.currentframe())))\n",
    "rootpath = os.path.join(thispath[:thispath.index(rootname)], rootname)\n",
    "sys.path.append(rootpath)\n",
    "print(\"Appended root directory\", rootpath)\n",
    "\n",
    "# User libraries\n",
    "from mesostat.stat.classification import binary_classifier\n",
    "# from mesostat.stat.connectomics import offdiag_1D\n",
    "from mesostat.utils.qt_helper import gui_fnames, gui_fpath\n",
    "from mesostat.utils.pandas_helper import merge_df_from_dict\n",
    "from mesostat.utils.arrays import numpy_merge_dimensions\n",
    "from mesostat.visualization.mpl_matrix import imshow\n",
    "from mesostat.stat.testing.quantity_test import test_quantity\n",
    "\n",
    "from src.lib.data_db import BehaviouralNeuronalDatabase\n",
    "import src.lib.plots_lib as plots_lib\n",
    "import src.lib.table_lib as table_lib\n",
    "import src.lib.plots_pca as plots_pca\n",
    "from src.lib.metric_wrapper import metric_by_selector\n",
    "from src.lib.extra_metrics import num_non_zero_std, num_sample\n",
    "from src.lib.significant_cells_lib import SignificantCells\n",
    "\n",
    "%load_ext autoreload\n",
    "%autoreload 2"
   ]
  },
  {
   "cell_type": "code",
   "execution_count": null,
   "metadata": {},
   "outputs": [],
   "source": [
    "# tmp_path = root_path_data if 'root_path_data' in locals() else \"./\"\n",
    "params = {}\n",
    "# prefix = '/media/alyosha/Data/TE_data/mariadata/'\n",
    "prefix = '/home/alyosha/data/maria/'\n",
    "# prefix = '/media/aleksejs/DataHDD/work/data/maria/'\n",
    "\n",
    "#params['root_path_data']  = gui_fpath(\"Path to data files\", \"./\")\n",
    "params['root_path_dff'] = prefix + 'dff/'\n",
    "params['root_path_deconv'] = prefix + 'deconv/'"
   ]
  },
  {
   "cell_type": "code",
   "execution_count": null,
   "metadata": {},
   "outputs": [],
   "source": [
    "dataDB = BehaviouralNeuronalDatabase(params)"
   ]
  },
  {
   "cell_type": "code",
   "execution_count": null,
   "metadata": {},
   "outputs": [],
   "source": [
    "dataDB.read_neuro_files()"
   ]
  },
  {
   "cell_type": "code",
   "execution_count": null,
   "metadata": {
    "scrolled": false
   },
   "outputs": [],
   "source": [
    "dataDB.read_behavior_files()"
   ]
  },
  {
   "cell_type": "markdown",
   "metadata": {},
   "source": [
    "# 1. Binary Classification\n",
    "\n",
    "## 1.1 Phase-average classification\n",
    "\n",
    "**Goal**: Train a classifier to discriminate between two cases (L/R), (C/M)\n",
    "\n",
    "**Versions**:\n",
    "* **4A. Mouse-wise**: Choose metric that is independent of number of samples, calc individually for each mouse\n",
    "* **4B. All-mice**: Choose metric that has fixed shape per trial, calc for all mice\n",
    "\n",
    "**Advantages**:\n",
    "* Can theoretically make use of vector metrics, by studying their combinations\n",
    "\n",
    "**Problems**:\n",
    "* High overfitting. Performance for train and test dramatically different.\n",
    "\n",
    "**TODO**:\n",
    "* Research further into regularization. Try more sophisticated estimators (e.g. )\n",
    "* Impl classification by phase"
   ]
  },
  {
   "cell_type": "code",
   "execution_count": null,
   "metadata": {
    "scrolled": false
   },
   "outputs": [],
   "source": [
    "def get_classifier(name, C):\n",
    "    if name == 'LogL1':\n",
    "        return LogisticRegression(max_iter=10000, C=C, penalty='l1', solver='liblinear')\n",
    "    elif name == 'LogL2':\n",
    "        return LogisticRegression(max_iter=10000, C=C, solver='lbfgs')\n",
    "    elif name == 'LinL2':\n",
    "        return RidgeClassifier(max_iter=10000, alpha=C)\n",
    "    elif name == 'MPLL2':\n",
    "        return MLPClassifier(alpha=C, max_iter=10000, hidden_layer_sizes=(200, 50))\n",
    "\n",
    "def plot_classification_results(ax, CLst, df, haveLog=True):\n",
    "    ax.plot(CLst, df['accTrain'], label='train')\n",
    "    ax.plot(CLst, df['accTest'], label='test')\n",
    "    ax.axhline(y=df['accNaive'][0], linestyle='--', color='r', label='chance')\n",
    "    ax.set_ylim([0,1])\n",
    "    ax.legend()\n",
    "    \n",
    "    if haveLog:\n",
    "        ax.set_xscale('log')\n",
    "    \n",
    "def cross_validate(dataDB, datatype, selector, queryDict, condition,\n",
    "                   metricName, classifierName):\n",
    "    if condition == 'performance':\n",
    "        condValA = 'Correct'\n",
    "        condValB = 'Mistake'\n",
    "    else:\n",
    "        condValA = 'L'\n",
    "        condValB = 'R'\n",
    "    \n",
    "    CLst = 10.0**np.arange(-7, 15)\n",
    "\n",
    "    nMice = len(dataDB.mice)\n",
    "    fig, ax = plt.subplots(ncols=nMice, figsize=(5*nMice, 5))\n",
    "    for iMouse, mousename in enumerate(sorted(dataDB.mice)):\n",
    "        print('Doing mouse', mousename)\n",
    "        \n",
    "        queryDictA = {'datatype' : datatype, 'mousename' : mousename,\n",
    "                      condition : condValA}\n",
    "        queryDictB = {'datatype' : datatype, 'mousename' : mousename,\n",
    "                      condition : condValB}\n",
    "        queryDictA = {**queryDictA, **queryDict}\n",
    "        queryDictB = {**queryDictB, **queryDict}\n",
    "\n",
    "        dataA = metric_by_selector(dataDB, queryDictA, metricName, 'rp', selector, {})\n",
    "        dataB = metric_by_selector(dataDB, queryDictB, metricName, 'rp', selector, {})\n",
    "        \n",
    "#         dataA = numpy_merge_dimensions(dataA, 1, 3)\n",
    "#         dataB = numpy_merge_dimensions(dataB, 1, 3)\n",
    "        \n",
    "        print('shapes', dataA.shape, dataB.shape)\n",
    "    \n",
    "        if len(dataA) < 10 or len(dataB) < 10:\n",
    "            print('--too few samples, skipping')\n",
    "        else:\n",
    "            rezLst = []\n",
    "            for C in CLst:\n",
    "                #print(C)\n",
    "                classifier = get_classifier(classifierName, C)\n",
    "                rezLst += [binary_classifier(dataA, dataB, classifier, havePVal=True,\n",
    "                                             method='kfold', balancing=True)]\n",
    "\n",
    "            df = pd.DataFrame(rezLst)\n",
    "    #         display(df)\n",
    "\n",
    "            ax[iMouse].set_title(mousename)\n",
    "            plot_classification_results(ax[iMouse], CLst, df)\n",
    "\n",
    "    plotSuffixLst = [datatype, condition] + list(selector.values()) + \\\n",
    "                    [str(v) for v in queryDict.values()] + [metricName, classifierName]\n",
    "\n",
    "    plt.savefig('crossval_avg_' + '_'.join(plotSuffixLst) + '.pdf', dpi=300)\n",
    "    plt.close()"
   ]
  },
  {
   "cell_type": "code",
   "execution_count": null,
   "metadata": {
    "scrolled": true
   },
   "outputs": [],
   "source": [
    "for datatype in ['deconv', 'raw']:\n",
    "    for classifierName in ['LinL2', 'LogL2']:#, 'MPLL2']:\n",
    "    #     for interval in [8, 7, 6]:\n",
    "        for semiphase in ['M2', 'M1']:\n",
    "            selector = {'semiphase' : semiphase}\n",
    "            for metricName in ['mean']: #, 'temporal_basis']:\n",
    "                cross_validate(dataDB, datatype, selector,\n",
    "                               {'performance': 'Correct'},\n",
    "                               'direction',\n",
    "                               metricName, classifierName)\n",
    "                cross_validate(dataDB, datatype, selector,\n",
    "                               {'direction': 'L'},\n",
    "                               'performance',\n",
    "                               metricName, classifierName)\n",
    "                cross_validate(dataDB, datatype, selector,\n",
    "                               {'direction': 'R'},\n",
    "                               'performance',\n",
    "                               metricName, classifierName)"
   ]
  },
  {
   "cell_type": "code",
   "execution_count": null,
   "metadata": {},
   "outputs": [],
   "source": []
  },
  {
   "cell_type": "code",
   "execution_count": null,
   "metadata": {},
   "outputs": [],
   "source": [
    "queryDictL = {'datatype' : 'deconv', 'mousename' : 'm061', 'direction' : 'L'}\n",
    "queryDictR = {'datatype' : 'deconv', 'mousename' : 'm061', 'direction' : 'R'}\n",
    "\n",
    "dataL = metric_by_selector(dataDB, queryDictL, 'mean', 'rp', {'semiphase' : 'M2'}, {})\n",
    "dataR = metric_by_selector(dataDB, queryDictR, 'mean', 'rp', {'semiphase' : 'M2'}, {})\n",
    "\n",
    "dataL = numpy_merge_dimensions(dataL, 1, 3)\n",
    "dataR = numpy_merge_dimensions(dataR, 1, 3)\n",
    "\n",
    "print('shapes', dataL.shape, dataR.shape)\n",
    "\n",
    "classifier = get_classifier('LinL2', 1.0E+7)\n",
    "rez = binary_classifier(dataL, dataR, classifier, havePVal=True, method='looc')\n",
    "\n",
    "print(rez)"
   ]
  },
  {
   "cell_type": "markdown",
   "metadata": {},
   "source": [
    "## 1.2 Resampled time classification"
   ]
  },
  {
   "cell_type": "code",
   "execution_count": null,
   "metadata": {},
   "outputs": [],
   "source": [
    "dataDB.mice\n",
    "from mesostat.utils.signals.resample import resample_kernel"
   ]
  },
  {
   "cell_type": "code",
   "execution_count": null,
   "metadata": {},
   "outputs": [],
   "source": [
    "def durationDistr(data, showHist=True):\n",
    "    dur = [d.shape[1] for d in data]\n",
    "    if showHist:\n",
    "        plt.figure()\n",
    "        plt.hist(dur)\n",
    "        plt.show()\n",
    "    \n",
    "    return int(np.mean(dur))\n",
    "\n",
    "def resample2D(dataPS, nTrg):\n",
    "    nSrc = dataPS.shape[1]\n",
    "    x1 = np.linspace(0, 1, nSrc)\n",
    "    x2 = np.linspace(0, 1, nTrg)\n",
    "    ker = resample_kernel(x1, x2)\n",
    "    return dataPS.dot(ker.T)\n",
    "\n",
    "def get_classification_data(selector, queryDict, condition):\n",
    "    if condition == 'performance':\n",
    "        condValA = 'Correct'\n",
    "        condValB = 'Mistake'\n",
    "    else:\n",
    "        condValA = 'L'\n",
    "        condValB = 'R'\n",
    "        \n",
    "    # Get data, calculate average duration\n",
    "    queryA = {**queryDict, **{condition : condValA}}\n",
    "    queryB = {**queryDict, **{condition : condValB}}\n",
    "    dataA = dataDB.get_data_from_selector(selector, queryA)\n",
    "    dataB = dataDB.get_data_from_selector(selector, queryB)\n",
    "    avgDur = durationDistr(dataA + dataB, showHist=False)\n",
    "    \n",
    "    print(selector, queryDict, condition)\n",
    "    print('--average duration', avgDur)\n",
    "    \n",
    "    # Resample data, assemble 2D array\n",
    "    dataA = np.array([resample2D(d, avgDur) for d in dataA])\n",
    "    dataB = np.array([resample2D(d, avgDur) for d in dataB])\n",
    "    return dataA, dataB\n",
    "\n",
    "\n",
    "def find_optimal_hyperparameter(selector, queryDict, condition):\n",
    "    dataA, dataB = get_classification_data(selector, queryDict, condition)\n",
    "    \n",
    "    # Test binary classifier on one timestep to find optimal hyperparameter\n",
    "    CLst = 10.0**np.arange(-7, 15)\n",
    "    rezLst = []\n",
    "    for C in CLst:\n",
    "        print(C)\n",
    "        classifier = get_classifier(\"LogL2\", C)\n",
    "        rezLst += [binary_classifier(dataA[:, :, 0], dataB[:, :, 0],\n",
    "                                     classifier, havePVal=True, method='looc',\n",
    "                                     balancing=True)]\n",
    "        \n",
    "    df = pd.DataFrame(rezLst)\n",
    "    fig, ax = plt.subplots(figsize=(4,4))\n",
    "    plot_classification_results(ax, CLst, df)\n",
    "    plt.show()\n",
    "\n",
    "\n",
    "def temporal_classification(selector, queryDict, condition, C=0.1):\n",
    "    dataA, dataB = get_classification_data(selector, queryDict, condition)\n",
    "    \n",
    "    nA = len(dataA)\n",
    "    nB = len(dataB)\n",
    "    \n",
    "    print('nA', nA, 'nB', nB)\n",
    "    \n",
    "    if (nA < 10) or (nB < 10):\n",
    "        print('--Too few samples, skipping')\n",
    "    else:\n",
    "        # Compute classification\n",
    "        classifier = get_classifier(\"LogL2\", C)\n",
    "        p = IntProgress(value=0, max=dataA.shape[2]-1)\n",
    "        display(p)\n",
    "        rezSweep = []\n",
    "        for iTime in range(dataA.shape[2]):\n",
    "        #     print(iTime)\n",
    "            rezSweep += [binary_classifier(dataA[:, :, iTime], dataB[:, :, iTime],\n",
    "                                           classifier, havePVal=True, method='kfold',\n",
    "                                           balancing=True)]\n",
    "            p.value += 1\n",
    "\n",
    "        dfSweep = pd.DataFrame(rezSweep)\n",
    "        fig, ax = plt.subplots(figsize=(4,4))\n",
    "        plot_classification_results(ax, np.arange(dataA.shape[2]), dfSweep, haveLog=False)\n",
    "\n",
    "        plotSuffixLst = [condition] + list(selector.values()) + [str(v) for v in queryDict.values()]\n",
    "\n",
    "        plt.savefig('classification_' + '_'.join(plotSuffixLst) + '.pdf', dpi=300)\n",
    "        plt.close()"
   ]
  },
  {
   "cell_type": "code",
   "execution_count": null,
   "metadata": {},
   "outputs": [],
   "source": [
    "dataDB.get_phasetype_keys('semiphase', performance='Correct')"
   ]
  },
  {
   "cell_type": "code",
   "execution_count": null,
   "metadata": {},
   "outputs": [],
   "source": [
    "# Get data, calculate average duration\n",
    "queryL = {\"datatype\" : \"deconv\", \"mousename\" : \"m060\", \"direction\" : \"L\"}\n",
    "queryR = {\"datatype\" : \"deconv\", \"mousename\" : \"m060\", \"direction\" : \"R\"}\n",
    "dataL = dataDB.get_data_from_selector({\"semiphase\" : \"M2\"}, queryL)\n",
    "dataR = dataDB.get_data_from_selector({\"semiphase\" : \"M2\"}, queryR)\n",
    "dataAll = dataL + dataR\n",
    "avgDur = durationDistr(dataAll)"
   ]
  },
  {
   "cell_type": "code",
   "execution_count": null,
   "metadata": {},
   "outputs": [],
   "source": [
    "avgDur"
   ]
  },
  {
   "cell_type": "code",
   "execution_count": null,
   "metadata": {},
   "outputs": [],
   "source": [
    "# Resample data, assemble 2D array\n",
    "dataL = np.array([resample2D(d, avgDur) for d in dataL])\n",
    "dataR = np.array([resample2D(d, avgDur) for d in dataR])"
   ]
  },
  {
   "cell_type": "code",
   "execution_count": null,
   "metadata": {
    "scrolled": true
   },
   "outputs": [],
   "source": [
    "# Test binary classifier on one timestep to find optimal hyperparameter\n",
    "CLst = 10.0**np.arange(-7, 15)\n",
    "rezLst = []\n",
    "for C in CLst:\n",
    "    print(C)\n",
    "    classifier = get_classifier(\"LogL2\", C)\n",
    "    rezLst += [binary_classifier(dataL[:, :, 0], dataR[:, :, 0], classifier, havePVal=True, method='looc', balancing=True)]"
   ]
  },
  {
   "cell_type": "code",
   "execution_count": null,
   "metadata": {},
   "outputs": [],
   "source": [
    "df = pd.DataFrame(rezLst)\n",
    "fig, ax = plt.subplots(figsize=(4,4))\n",
    "plot_classification_results(ax, CLst, df)\n",
    "plt.show()"
   ]
  },
  {
   "cell_type": "code",
   "execution_count": null,
   "metadata": {},
   "outputs": [],
   "source": [
    "# Compute classification\n",
    "classifier = get_classifier(\"LogL2\", 0.1)\n",
    "p = IntProgress(value=0, max=dataL.shape[2]-1)\n",
    "display(p)\n",
    "rezSweep = []\n",
    "for iTime in range(dataL.shape[2]):\n",
    "#     print(iTime)\n",
    "    rezSweep += [binary_classifier(dataL[:, :, iTime], dataR[:, :, iTime],\n",
    "                                   classifier, havePVal=True, method='looc',\n",
    "                                   balancing=True)]\n",
    "    p.value += 1"
   ]
  },
  {
   "cell_type": "code",
   "execution_count": null,
   "metadata": {},
   "outputs": [],
   "source": [
    "dfSweep = pd.DataFrame(rezSweep)\n",
    "fig, ax = plt.subplots(figsize=(4,4))\n",
    "plot_classification_results(ax, np.arange(dataL.shape[2]), dfSweep, haveLog=False)\n",
    "plt.show()"
   ]
  },
  {
   "cell_type": "code",
   "execution_count": null,
   "metadata": {},
   "outputs": [],
   "source": [
    "for semiphase in ['M1', 'M2']:\n",
    "    for datatype in ['raw', 'deconv']:\n",
    "        for mousename in dataDB.mice:\n",
    "            queryDict1 =  {\"datatype\" : datatype,\n",
    "                          \"mousename\" : mousename,\n",
    "                          \"direction\" : \"L\"}\n",
    "            queryDict2 =  {\"datatype\" : datatype,\n",
    "              \"mousename\" : mousename,\n",
    "              \"direction\" : \"R\"}\n",
    "            queryDict3 =  {\"datatype\" : datatype,\n",
    "              \"mousename\" : mousename,\n",
    "              \"performance\" : \"Correct\"}\n",
    "            \n",
    "            temporal_classification({'semiphase': semiphase}, queryDict1, 'performance', C=0.1)\n",
    "            temporal_classification({'semiphase': semiphase}, queryDict2, 'performance', C=0.1)\n",
    "            temporal_classification({'semiphase': semiphase}, queryDict3, 'direction', C=0.1)"
   ]
  },
  {
   "cell_type": "code",
   "execution_count": null,
   "metadata": {},
   "outputs": [],
   "source": []
  },
  {
   "cell_type": "code",
   "execution_count": null,
   "metadata": {},
   "outputs": [],
   "source": []
  },
  {
   "cell_type": "code",
   "execution_count": null,
   "metadata": {},
   "outputs": [],
   "source": [
    "from mesostat.stat.classification import cross_temporal_decoding"
   ]
  },
  {
   "cell_type": "code",
   "execution_count": null,
   "metadata": {
    "scrolled": true
   },
   "outputs": [],
   "source": [
    "classifier = get_classifier(\"LogL2\", 100)\n",
    "mat = cross_temporal_decoding(dataL, dataR, classifier, balancing=False)"
   ]
  },
  {
   "cell_type": "code",
   "execution_count": null,
   "metadata": {},
   "outputs": [],
   "source": [
    "nL = len(dataL)\n",
    "nR = len(dataR)\n",
    "accNaive = np.max([nL, nR]) / (nL + nR)"
   ]
  },
  {
   "cell_type": "code",
   "execution_count": null,
   "metadata": {},
   "outputs": [],
   "source": [
    "plt.figure()\n",
    "plt.imshow(mat - accNaive, vmin=-0.5, vmax=0.5, cmap='jet')\n",
    "plt.colorbar()\n",
    "plt.show()"
   ]
  },
  {
   "cell_type": "markdown",
   "metadata": {},
   "source": [
    "# 3. Classification Tables"
   ]
  },
  {
   "cell_type": "code",
   "execution_count": null,
   "metadata": {},
   "outputs": [],
   "source": [
    "# 4B\n",
    "queryDict = {\"direction\": \"L\", \"datatype\": \"raw\"}\n",
    "#queryDict = {\"performance\": \"Correct\", \"datatype\": \"raw\"}\n",
    "settings = {\"serial\": True, \"metricSettings\": None}\n",
    "#settings = {\"serial\" : True, \"metricSettings\" : {\"metric\" : num_non_zero_std}}\n",
    "\n",
    "rez = plots_lib.table_binary_classification(dataDB, \"Maintenance\", \"performance\", \"cumul_ord_coeff\", \"\",\n",
    "                                            queryDict, settings)\n",
    "\n",
    "rez"
   ]
  },
  {
   "cell_type": "code",
   "execution_count": null,
   "metadata": {},
   "outputs": [],
   "source": [
    "# 4A\n",
    "queryDict = {\"performance\": \"Correct\", \"datatype\": \"raw\"}\n",
    "#queryDict = {\"direction\": \"L\", \"datatype\": \"high\"}\n",
    "settings = {\"serial\": True, \"metricSettings\": {\"lag\" : 1, \"max_lag\" : 3}}\n",
    "#settings = {\"serial\" : True, \"metricSettings\" : {\"metric\" : num_non_zero_std}}\n",
    "\n",
    "plots_lib.table_binary_classification_bymouse(dataDB, \"Maintenance\", \"direction\", \"temporal_basis\", \"rp\",\n",
    "                                              queryDict, settings)"
   ]
  }
 ],
 "metadata": {
  "kernelspec": {
   "display_name": "Python 3.8 (IDTxl)",
   "language": "python",
   "name": "py38idtxl"
  },
  "language_info": {
   "codemirror_mode": {
    "name": "ipython",
    "version": 3
   },
   "file_extension": ".py",
   "mimetype": "text/x-python",
   "name": "python",
   "nbconvert_exporter": "python",
   "pygments_lexer": "ipython3",
   "version": "3.8.10"
  }
 },
 "nbformat": 4,
 "nbformat_minor": 2
}

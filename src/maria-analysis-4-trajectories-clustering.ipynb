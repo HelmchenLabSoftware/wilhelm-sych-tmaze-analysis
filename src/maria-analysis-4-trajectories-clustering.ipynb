{
 "cells": [
  {
   "cell_type": "code",
   "execution_count": 1,
   "metadata": {},
   "outputs": [
    {
     "name": "stdout",
     "output_type": "stream",
     "text": [
      "Appended root directory /home/alyosha/work/git/chernysheva-tmaze-analysis-2020\n"
     ]
    }
   ],
   "source": [
    "# Standard libraries\n",
    "import pandas as pd\n",
    "import numpy as np\n",
    "import matplotlib.pyplot as plt\n",
    "from ipywidgets import interactive, IntProgress\n",
    "from IPython.display import display\n",
    "\n",
    "# Append base directory\n",
    "import os,sys,inspect\n",
    "rootname = \"chernysheva-tmaze-analysis-2020\"\n",
    "thispath = os.path.dirname(os.path.abspath(inspect.getfile(inspect.currentframe())))\n",
    "rootpath = os.path.join(thispath[:thispath.index(rootname)], rootname)\n",
    "sys.path.append(rootpath)\n",
    "print(\"Appended root directory\", rootpath)\n",
    "\n",
    "from scipy.stats import mannwhitneyu, binom\n",
    "rstest_twosided = lambda x, y : mannwhitneyu(x, y, alternative='two-sided')\n",
    "\n",
    "# User libraries\n",
    "from mesostat.metric.metric_non_uniform import MetricCalculatorNonUniform\n",
    "from mesostat.stat.permtests import difference_test\n",
    "from mesostat.utils.qt_helper import gui_fnames, gui_fpath\n",
    "from mesostat.utils.arrays import numpy_merge_dimensions\n",
    "from mesostat.utils.pandas_helper import outer_product_df, merge_df_from_dict\n",
    "\n",
    "from src.lib.data_db import BehaviouralNeuronalDatabase\n",
    "import src.lib.plots_lib as plots_lib\n",
    "from src.lib.plots_pca  import PCAPlots\n",
    "from src.lib.metric_wrapper import metric_by_selector\n",
    "from src.lib.extra_metrics import num_non_zero_std, num_sample\n",
    "from src.lib.significant_cells_lib import SignificantCells\n",
    "\n",
    "\n",
    "%load_ext autoreload\n",
    "%autoreload 2"
   ]
  },
  {
   "cell_type": "code",
   "execution_count": 2,
   "metadata": {},
   "outputs": [],
   "source": [
    "# tmp_path = root_path_data if 'root_path_data' in locals() else \"./\"\n",
    "params = {}\n",
    "#params['root_path_data']  = gui_fpath(\"Path to data files\", \"./\")\n",
    "params['root_path_dff'] = '/media/alyosha/Data/TE_data/mariadata/dff/'\n",
    "params['root_path_deconv'] = '/media/alyosha/Data/TE_data/mariadata/deconv/'\n",
    "# params['root_path_dff'] = '/media/aleksejs/DataHDD/work/data/maria/dff/'\n",
    "# params['root_path_deconv'] = '/media/aleksejs/DataHDD/work/data/maria/deconv/'"
   ]
  },
  {
   "cell_type": "code",
   "execution_count": 3,
   "metadata": {},
   "outputs": [],
   "source": [
    "dataDB = BehaviouralNeuronalDatabase(params)"
   ]
  },
  {
   "cell_type": "code",
   "execution_count": 4,
   "metadata": {},
   "outputs": [
    {
     "data": {
      "application/vnd.jupyter.widget-view+json": {
       "model_id": "391811cf063041028fec5d975c00e9aa",
       "version_major": 2,
       "version_minor": 0
      },
      "text/plain": [
       "IntProgress(value=0, description='Read DFF Data:', max=27)"
      ]
     },
     "metadata": {},
     "output_type": "display_data"
    },
    {
     "data": {
      "application/vnd.jupyter.widget-view+json": {
       "model_id": "ad11ce8d59274e35b5deb8b21a909418",
       "version_major": 2,
       "version_minor": 0
      },
      "text/plain": [
       "IntProgress(value=0, description='Read DECONV Data:', max=27)"
      ]
     },
     "metadata": {},
     "output_type": "display_data"
    }
   ],
   "source": [
    "dataDB.read_neuro_files()"
   ]
  },
  {
   "cell_type": "code",
   "execution_count": null,
   "metadata": {
    "scrolled": false
   },
   "outputs": [
    {
     "data": {
      "application/vnd.jupyter.widget-view+json": {
       "model_id": "5f29f1ef6d744bcf951ff21a7e1c8cf5",
       "version_major": 2,
       "version_minor": 0
      },
      "text/plain": [
       "IntProgress(value=0, description='Read Neuro Data:', max=27)"
      ]
     },
     "metadata": {},
     "output_type": "display_data"
    },
    {
     "name": "stdout",
     "output_type": "stream",
     "text": [
      "No trials found for Trial_LWhole_Mistake skipping\n",
      "No trials found for Trial_RWhole_Mistake skipping\n",
      "No trials found for Trial_LWhole_Mistake skipping\n"
     ]
    }
   ],
   "source": [
    "dataDB.read_behavior_files()"
   ]
  },
  {
   "cell_type": "code",
   "execution_count": null,
   "metadata": {},
   "outputs": [],
   "source": [
    "significantCellsSelectorDatatype = {}\n",
    "\n",
    "for datatype in ['raw', 'deconv']:\n",
    "    signCellsMaintenance = SignificantCells('significant_cells_'+datatype+'_mt.h5').get_cells_by_mouse()\n",
    "    signCellsReward = SignificantCells('significant_cells_'+datatype+'_enc_reward.h5').get_cells_by_mouse()\n",
    "\n",
    "    significantCellsSelectorDatatype[datatype] = {\n",
    "        'None' : None,\n",
    "        'Maintenance' : signCellsMaintenance,\n",
    "        'Reward' : signCellsReward\n",
    "    }"
   ]
  },
  {
   "cell_type": "markdown",
   "metadata": {},
   "source": [
    "# 1. Clustering\n",
    "\n",
    "Main idea:\n",
    "* Select and cluster datapoints\n",
    "* Color clustering by modality\n",
    "\n",
    "\n",
    "Analysis Strategies:\n",
    "1. Select 1 interval, color by modality $LR\\otimes CM$\n",
    "2. Select modality, color by interval\n",
    "\n",
    "Dynamics Strategies:\n",
    "1. Static-noob-1: One point per timestep. Bad because biased towards trials with more timesteps, slower transients\n",
    "    * Nothing to be seen on TSNE\n",
    "2. Static-noob-2: Mean value per trial. Balanced. Probably averages out important info\n",
    "    * Nothing to be seen on TSNE\n",
    "3. Dynamic-slow-legendre. Multiplex channels and legendre temporal basis. Good for stretch hypothesis\n",
    "4. Dynamic-noob-1: Window-sweep time, multiplex onto channels. Bias+too-many-dimensions\n",
    "5. Dynamic-noob-2: As above + preprocess dim.reduction. Bias"
   ]
  },
  {
   "cell_type": "code",
   "execution_count": null,
   "metadata": {},
   "outputs": [],
   "source": [
    "from sklearn import manifold, datasets\n",
    "from sklearn.decomposition import PCA\n",
    "\n",
    "def fit_color_data(ax, X, labels, methodName, param):\n",
    "    if methodName == 'tsne':\n",
    "        method = manifold.TSNE(n_components=2, init='pca', perplexity=param)\n",
    "        Y = method.fit_transform(X)\n",
    "    elif methodName == 'pca':\n",
    "        pca = PCA(n_components=2)\n",
    "        Y = pca.fit_transform(X)\n",
    "        \n",
    "    for label in sorted(set(labels)):\n",
    "        idxs = labels == label\n",
    "        ax.plot(Y[idxs, 0], Y[idxs, 1], 'o', label=label)\n",
    "    ax.legend()"
   ]
  },
  {
   "cell_type": "markdown",
   "metadata": {},
   "source": [
    "## 1.1. Interval -> Modalities"
   ]
  },
  {
   "cell_type": "code",
   "execution_count": null,
   "metadata": {
    "scrolled": true
   },
   "outputs": [],
   "source": [
    "def tsne_interval_by_behaviour(datatype, selector, methodName, param, temporalStrat='raw', signCellsSelector=None):\n",
    "    mc = MetricCalculatorNonUniform(serial=True)\n",
    "    \n",
    "    if signCellsSelector == None:\n",
    "        signCellsSelector = {'None' : None}\n",
    "        \n",
    "    signCellsName, signCellsMouseDict = list(signCellsSelector.items())[0]\n",
    "\n",
    "    fig, ax = plt.subplots(ncols=len(dataDB.mice), figsize=(6*len(dataDB.mice), 6))\n",
    "    for iMouse, mousename in enumerate(sorted(dataDB.mice)):\n",
    "        labelsBigLst = []\n",
    "        dataBigLst = []\n",
    "        for performance in ['Correct', 'Mistake']:\n",
    "            for direction in ['L', 'R']:\n",
    "                queryDict = {'datatype' : datatype, 'mousename' : mousename, 'performance' : performance, 'direction' : direction}\n",
    "\n",
    "                dataLst = dataDB.get_data_from_selector(selector, queryDict)\n",
    "                \n",
    "                if signCellsMouseDict is not None:\n",
    "                    idxCells = signCellsMouseDict[mousename]\n",
    "                    dataLst = [d[idxCells] for d in dataLst]\n",
    "\n",
    "                if temporalStrat == 'avg':\n",
    "                    # Average over timesteps\n",
    "                    dataArr = np.array([np.mean(d, axis=1) for d in dataLst if d.shape[1] > 0])\n",
    "                elif temporalStrat == 'legendre':\n",
    "                    # Estimate legendre basis functions, add them as extra dimensions\n",
    "                    mc.set_data(dataLst)\n",
    "                    dataArr = mc.metric3D(\"temporal_basis\", \"rp\", metricSettings={\"basisOrder\": 5})\n",
    "                    dataArr = numpy_merge_dimensions(dataArr, 1, 3)\n",
    "                else:\n",
    "                    # Consider timesteps and trials equivalent\n",
    "                    dataArr = np.hstack(dataLst).T\n",
    "                    \n",
    "                dataBigLst += [dataArr]\n",
    "                labelsBigLst += [str((direction, performance))]*len(dataArr)\n",
    "\n",
    "#         print(mousename, [d.shape for d in dataBigLst])\n",
    "        dataBigArr = np.vstack(dataBigLst)\n",
    "\n",
    "        fit_color_data(ax[iMouse], dataBigArr, np.array(labelsBigLst), methodName, param)\n",
    "        ax[iMouse].set_title(mousename)\n",
    "\n",
    "    selectorType, selectorValue = list(selector.items())[0]\n",
    "    prefix = '_'.join([datatype, selectorType, str(selectorValue), methodName, str(param), temporalStrat])\n",
    "        \n",
    "    fig.suptitle(prefix)\n",
    "    plt.savefig(prefix + \".pdf\")\n",
    "    plt.show()"
   ]
  },
  {
   "cell_type": "code",
   "execution_count": null,
   "metadata": {
    "scrolled": true
   },
   "outputs": [],
   "source": [
    "methodParamDict = {\n",
    "    \"pca\"     : (\"pca\", None),\n",
    "    \"tsne10\"    : (\"tsne\", 10),\n",
    "    \"tsne20\"    : (\"tsne\", 20)\n",
    "}\n",
    "\n",
    "for interval in [6, 7, 8]:\n",
    "    for datatype in ['raw', 'deconv']:\n",
    "        for methodKey, (methodName, param) in methodParamDict.items():\n",
    "            for temporalStrat in ['raw', 'avg', 'legendre']:\n",
    "                for signCellsName, signCells in significantCellsSelector.items():\n",
    "                    print(\"Significant Cells :\", signCellsName, methodKey, temporalStrat, interval, datatype)\n",
    "\n",
    "                    tsne_interval_by_behaviour(datatype, {'interval' : interval},\n",
    "                                               methodName=methodName,\n",
    "                                               param=param,\n",
    "                                               temporalStrat=temporalStrat,\n",
    "                                               signCellsSelector={signCellsName:signCells})"
   ]
  },
  {
   "cell_type": "code",
   "execution_count": null,
   "metadata": {
    "scrolled": true
   },
   "outputs": [],
   "source": [
    "def test_average_L2_difference(dataDB, datatype, selector, condition, nTest=1000, pval=0.01, signCellsSelector=None):\n",
    "    nMice = len(dataDB.mice)\n",
    "    condValues = set(dataDB.metaDataFrames['behaviorStates'][condition])\n",
    "    \n",
    "    if signCellsSelector is None:\n",
    "        signCellsSelector = {'None' : None}\n",
    "    \n",
    "    results = []\n",
    "    \n",
    "    for iMouse, mousename in enumerate(sorted(dataDB.mice)):\n",
    "        means = []\n",
    "        \n",
    "        filterDict = list(signCellsSelector.values())[0]\n",
    "        \n",
    "        if filterDict is not None:\n",
    "            nCells = len(filterDict[mousename])\n",
    "        else:\n",
    "            nCells = dataDB.get_nchannel(mousename, datatype)\n",
    "        \n",
    "        for condVal in condValues:\n",
    "            queryDictCond = {\"datatype\" : datatype, \"mousename\" : mousename, condition : condVal}\n",
    "            means += [metric_by_selector(dataDB, queryDictCond, \"mean\", \"rp\", selector, {}, channelFilter=filterDict)]\n",
    "\n",
    "        # Avg over trials -> Norm Dist over neurons\n",
    "        dist_func = lambda a, b: np.linalg.norm(np.mean(a, axis=0) - np.mean(b, axis=0))  #/ a.shape[1]\n",
    "\n",
    "        distTrue = dist_func(means[0], means[1])\n",
    "        settings = {\"haveMeans\" : True, \"haveEffectSize\" : True}\n",
    "        results += [[\n",
    "            mousename,\n",
    "            *difference_test(dist_func, means[0], means[1], 1000, sampleFunction=\"permutation\", settings=settings)\n",
    "        ]]\n",
    "        \n",
    "    rezDF = pd.DataFrame(results, columns=[\"mousename\", \"pSmall\", \"pLarge\", \"effSize\", \"fTrue\", \"fRand\"])\n",
    "#     display(rezDF)\n",
    "    return rezDF"
   ]
  },
  {
   "cell_type": "code",
   "execution_count": null,
   "metadata": {},
   "outputs": [],
   "source": [
    "rezDFDict = {}\n",
    "for interval in [6, 7, 8]:\n",
    "    for datatype in ['raw', 'deconv']:\n",
    "        for condition in ['direction', 'performance']:\n",
    "            for signCellsName, signCells in significantCellsSelectorDatatype[datatype].items():\n",
    "                key = (interval, datatype, condition, signCellsName)\n",
    "                print(key)\n",
    "\n",
    "                rezDF = test_average_L2_difference(dataDB,\n",
    "                                                   datatype,\n",
    "                                                   {\"interval\": interval},\n",
    "                                                   condition,\n",
    "                                                   signCellsSelector={signCellsName:signCells})\n",
    "                \n",
    "                rezDFDict[key] = rezDF"
   ]
  },
  {
   "cell_type": "code",
   "execution_count": null,
   "metadata": {},
   "outputs": [],
   "source": [
    "with pd.option_context('display.max_rows', None, 'display.max_columns', None):\n",
    "    display(merge_df_from_dict(rezDFDict, ['interval', 'datatype', 'condition', 'filter']))"
   ]
  },
  {
   "cell_type": "markdown",
   "metadata": {},
   "source": [
    "## 1.2. Modality -> Intervals"
   ]
  },
  {
   "cell_type": "code",
   "execution_count": null,
   "metadata": {},
   "outputs": [],
   "source": [
    "def tsne_behaviour_by_interval(dataDB, datatype, direction, performance, methodName, methodParam, signCellsSelector=None):\n",
    "    if signCellsSelector is None:\n",
    "        signCellsSelector = {'None':None}\n",
    "        \n",
    "    signCellLabel, signCellDict = list(signCellsSelector.items())[0]\n",
    "    \n",
    "    fig, ax = plt.subplots(ncols=len(dataDB.mice), figsize=(6*len(dataDB.mice), 6))\n",
    "    for iMouse, mousename in enumerate(sorted(dataDB.mice)):\n",
    "        print(\"Doing mouse\", mousename)\n",
    "        \n",
    "        queryDictMouse = {\n",
    "            'datatype' : datatype,\n",
    "            'mousename' : mousename,\n",
    "            'performance' : performance,\n",
    "            'direction' : direction}\n",
    "\n",
    "        labelsBigLst = []\n",
    "        dataBigLst = []\n",
    "\n",
    "        for interval in range(6, 9):\n",
    "            means = metric_by_selector(dataDB, queryDictMouse, \"mean\", \"rp\", {'interval' : interval}, {},\n",
    "                                       channelFilter=signCellDict)\n",
    "\n",
    "    #         mc.set_data(dataLst)\n",
    "    #         dataArr = mc.metric3D(\"temporal_basis\", \"rp\", metricSettings={\"basisOrder\": 5})\n",
    "    #         dataArr = numpy_merge_dimensions(dataArr, 1, 3)\n",
    "\n",
    "    #         means = np.hstack(dataLst).T  # concatenate trials and timepoints\n",
    "            dataBigLst += [means]\n",
    "            labelsBigLst += [str(interval+1)]*len(means)\n",
    "\n",
    "        print([d.shape for d in dataBigLst])\n",
    "        dataBigArr = np.vstack(dataBigLst)\n",
    "\n",
    "        fit_color_data(ax[iMouse], dataBigArr, np.array(labelsBigLst), methodName, methodParam)\n",
    "        ax[iMouse].set_title(mousename)\n",
    "\n",
    "    plt.savefig(\"tsne_modality_\"+datatype+'_'+signCellLabel+'_'+performance+'_'+direction+\".pdf\")\n",
    "    plt.show()"
   ]
  },
  {
   "cell_type": "code",
   "execution_count": null,
   "metadata": {
    "scrolled": true
   },
   "outputs": [],
   "source": [
    "for datatype in ['raw', 'deconv']:\n",
    "    for performance in ['Correct', 'Mistake']:\n",
    "        for direction in ['L', 'R']:\n",
    "            for signCellsName, signCells in significantCellsSelectorDatatype[datatype].items():\n",
    "                key = (datatype, performance, direction, signCellsName)\n",
    "                print(key)\n",
    "                \n",
    "                tsne_behaviour_by_interval(dataDB, datatype, direction, performance, \"tsne\", methodParam=20,\n",
    "                                           signCellsSelector={signCellsName:signCells})"
   ]
  },
  {
   "cell_type": "markdown",
   "metadata": {},
   "source": [
    "# 5. Trajectory via PCA\n",
    "\n",
    "Main Point:\n",
    "* Select 1 interval\n",
    "* compute 2D PCA\n",
    "* plot trajectories by trial\n",
    "* color by modality ($LR\\otimes CM$)\n",
    "\n",
    "Dynamics Strategy:\n",
    "0. Naive-0: Plot indivitual PCA components as function of time\n",
    "1. Naive-1: Exact PCA coordinates\n",
    "    * Problem: that is not a trajectory, just blob that oscillates around zero\n",
    "2. Adept-1: Add intertia by time-accumulation\n",
    "3. Adept-2: Add intertia by gaussian-filtering\n",
    "    \n",
    "TASKS\n",
    "* **TODO**: Average over trials for 1 mouse, only 1 session\n",
    "* **TODO**: How is average and cumulative possible simultaneously\n",
    "* **TODO**: Add curve distance as function of timestep, shuffle test"
   ]
  },
  {
   "cell_type": "code",
   "execution_count": null,
   "metadata": {
    "scrolled": false
   },
   "outputs": [],
   "source": [
    "def pca_plots_wrapper(datatype, selector, paramDict, signCellsSelector=None):\n",
    "    if signCellsSelector is None:\n",
    "        signCellsSelector = {'None':None}\n",
    "        \n",
    "    signCellLabel, signCellDict = list(signCellsSelector.items())[0]\n",
    "    selectorKey, selectorVal = list(selector.items())[0]\n",
    "    \n",
    "    # Create all possible parameter combinations\n",
    "    # Exclude trial-averaging when no crop strategy employed as it makes no sense to average trials of different length\n",
    "    paramProdDF = outer_product_df(paramDict)\n",
    "    badrows = paramProdDF[(paramProdDF['trialStrategy'] == 'avg') & (paramProdDF['cropStrategy'].isnull())]\n",
    "    paramProdDF = paramProdDF.drop(badrows.index)\n",
    "    paramProdDF = paramProdDF.reset_index(drop=True)\n",
    "\n",
    "    def makefigure(nrows, ncols, title):\n",
    "        fig, ax = plt.subplots(nrows=nrows, ncols=ncols, figsize=(4*ncols, 4*nrows), tight_layout=True)\n",
    "        fig.suptitle(title)\n",
    "        return fig, ax\n",
    "\n",
    "    figAvg, axAvg = makefigure(1, len(dataDB.mice), \"Trial-average\")\n",
    "    figTime1, axTime1 = makefigure(1, len(dataDB.mice), \"PCA1 vs Timestep\")\n",
    "    figTime2, axTime2 = makefigure(1, len(dataDB.mice), \"PCA2 vs Timestep\")\n",
    "    figsPCA = [makefigure(1, len(dataDB.mice), \"TMP\") for i in range(len(paramProdDF))]\n",
    "    figsDist = [makefigure(1, len(dataDB.mice), \"TMP\") for i in range(len(paramProdDF))]\n",
    "\n",
    "    for iMouse, mousename in enumerate(sorted(dataDB.mice)):\n",
    "        print(\"Doing mouse:\", mousename)\n",
    "        \n",
    "        if signCellDict is not None:\n",
    "            channelFilterMouse = signCellDict[mousename]\n",
    "        else:\n",
    "            channelFilterMouse = None\n",
    "        \n",
    "        queryDict = {'datatype' : datatype, 'mousename' : mousename}\n",
    "        pp = PCAPlots(dataDB, selector, queryDict, channelFilterMouse=channelFilterMouse)\n",
    "        pp.set_stretch_timesteps(100)\n",
    "        pp.plot_time_avg_scatter(axAvg[iMouse])\n",
    "        pp.plot_pca_vs_time(axTime1[iMouse], 0)\n",
    "        pp.plot_pca_vs_time(axTime2[iMouse], 1)\n",
    "\n",
    "        for idx, row in paramProdDF.iterrows():\n",
    "            print(\"--Doing strategy:\", dict(row))\n",
    "        \n",
    "            # PCA\n",
    "            fig, ax = figsPCA[idx]\n",
    "            if iMouse == 0:\n",
    "                fig.suptitle(\"PCA :: \" + str(dict(row)))\n",
    "\n",
    "            pp.plot_pca(ax[iMouse], dict(row))\n",
    "                \n",
    "                \n",
    "            # DIST\n",
    "            fig, ax = figsDist[idx]\n",
    "            if iMouse == 0:\n",
    "                fig.suptitle(\"Dist :: \" + str(dict(row)))\n",
    "\n",
    "            pp.plot_distances(ax[iMouse], dict(row))\n",
    "            \n",
    "\n",
    "    # Saving stuff    \n",
    "    fnamePrefix = datatype+\"_cellfilter_\" + signCellLabel + \"_\" +selectorKey+\"_\"+str(selectorVal)\n",
    "    \n",
    "    plt.figure(figAvg.number)\n",
    "    plt.savefig(\"Trial_average_\"+fnamePrefix+\".pdf\")\n",
    "    \n",
    "    plt.figure(figTime1.number)\n",
    "    plt.savefig(\"PCA1_vs_time_\"+fnamePrefix+\".pdf\")\n",
    "    \n",
    "    plt.figure(figTime2.number)\n",
    "    plt.savefig(\"PCA2_vs_time_\"+fnamePrefix+\".pdf\")\n",
    "    \n",
    "    for idx, row in paramProdDF.iterrows():\n",
    "        rowKey = '_'.join([k+'_'+str(v) for k,v in dict(row).items()])\n",
    "        \n",
    "        plt.figure(figsPCA[idx][0].number)\n",
    "        plt.savefig(\"PCA1_vs_PCA2_\"+fnamePrefix+'_'+rowKey+\".pdf\")\n",
    "\n",
    "        plt.figure(figsDist[idx][0].number)\n",
    "        plt.savefig(\"manifold_dist_vs_time_\"+fnamePrefix+'_'+rowKey+\".pdf\")\n",
    "            \n",
    "    plt.show()"
   ]
  },
  {
   "cell_type": "code",
   "execution_count": null,
   "metadata": {
    "scrolled": true
   },
   "outputs": [],
   "source": [
    "paramDict = {\n",
    "    \"cropStrategy\" :[\"stretch\", \"cropmin\"], #[None, \"cropmin\", \"stretch\"],\n",
    "    \"trialStrategy\" : [None], #[None, \"concat\", \"avg\"],\n",
    "    \"accStrategy\" : [None], #[None, \"cumulative\", \"gaussfilter\"]\n",
    "}\n",
    "\n",
    "for datatype in ['raw', 'deconv']:\n",
    "    for interval in [6,7,8]:\n",
    "        for signCellsName, signCells in significantCellsSelectorDatatype[datatype].items():\n",
    "            if signCellsName != 'None':\n",
    "            \n",
    "                key = (datatype, interval, signCellsName)\n",
    "                print(key)\n",
    "\n",
    "                # pca_plots_wrapper('deconv', {\"phase\" : \"Maintenance\"}, paramDict)\n",
    "                pca_plots_wrapper(datatype,\n",
    "                                  {\"interval\" : interval},\n",
    "                                  paramDict,\n",
    "                                  signCellsSelector={signCellsName:signCells})"
   ]
  },
  {
   "cell_type": "code",
   "execution_count": null,
   "metadata": {
    "scrolled": false
   },
   "outputs": [],
   "source": [
    "x = np.linspace(0, 1, 100)\n",
    "y = np.sin(5*x)\n",
    "z = x\n",
    "\n",
    "fig, ax = plt.subplots(figsize=(4,4))\n",
    "plots_lib.plot_coloured_1D(ax, x, y, y**2)\n",
    "plt.show()"
   ]
  }
 ],
 "metadata": {
  "kernelspec": {
   "display_name": "Python (nest)",
   "language": "python",
   "name": "py36nest"
  },
  "language_info": {
   "codemirror_mode": {
    "name": "ipython",
    "version": 3
   },
   "file_extension": ".py",
   "mimetype": "text/x-python",
   "name": "python",
   "nbconvert_exporter": "python",
   "pygments_lexer": "ipython3",
   "version": "3.6.6"
  }
 },
 "nbformat": 4,
 "nbformat_minor": 2
}

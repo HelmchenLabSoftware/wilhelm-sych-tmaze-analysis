{
 "cells": [
  {
   "cell_type": "code",
   "execution_count": 1,
   "metadata": {},
   "outputs": [
    {
     "name": "stdout",
     "output_type": "stream",
     "text": [
      "Appended root directory /home/alyosha/work/git/neuronal-sequence-test\n"
     ]
    }
   ],
   "source": [
    "# Standard libraries\n",
    "from copy import deepcopy\n",
    "\n",
    "import pandas as pd\n",
    "import numpy as np\n",
    "import matplotlib.pyplot as plt\n",
    "from ipywidgets import interactive, IntProgress\n",
    "from IPython.display import display\n",
    "\n",
    "# Append base directory\n",
    "import os,sys,inspect\n",
    "rootname = \"neuronal-sequence-test\"\n",
    "thispath = os.path.dirname(os.path.abspath(inspect.getfile(inspect.currentframe())))\n",
    "rootpath = os.path.join(thispath[:thispath.index(rootname)], rootname)\n",
    "sys.path.append(rootpath)\n",
    "print(\"Appended root directory\", rootpath)\n",
    "\n",
    "from scipy.stats import mannwhitneyu\n",
    "\n",
    "# User libraries\n",
    "from mesostat.utils.qt_helper import gui_fnames, gui_fpath\n",
    "from mesostat.stat.machinelearning import binary_classifier\n",
    "from mesostat.utils.arrays import numpy_merge_dimensions\n",
    "from mesostat.stat.connectomics import offdiag_1D\n",
    "\n",
    "from src.lib.data_db import BehaviouralNeuronalDatabase\n",
    "import src.lib.plots_lib as plots_lib\n",
    "from src.lib.metric_wrapper import metric_by_interval, metric_by_phase\n",
    "from src.lib.extra_metrics import num_non_zero_std, num_sample\n",
    "from src.lib.stat_lib import cluster_dist_matrix\n",
    "\n",
    "\n",
    "%load_ext autoreload\n",
    "%autoreload 2"
   ]
  },
  {
   "cell_type": "code",
   "execution_count": 2,
   "metadata": {},
   "outputs": [],
   "source": [
    "# tmp_path = root_path_data if 'root_path_data' in locals() else \"./\"\n",
    "params = {}\n",
    "#params['root_path_data']  = gui_fpath(\"Path to data files\", \"./\")\n",
    "params['root_path_data'] = '/media/alyosha/Data/TE_data/mariadata/'\n",
    "#params['root_path_data'] = '/media/alyosha/Data/TE_data/mariadata/postselect/'"
   ]
  },
  {
   "cell_type": "code",
   "execution_count": 3,
   "metadata": {},
   "outputs": [],
   "source": [
    "dataDB = BehaviouralNeuronalDatabase(params)"
   ]
  },
  {
   "cell_type": "code",
   "execution_count": 4,
   "metadata": {},
   "outputs": [
    {
     "data": {
      "application/vnd.jupyter.widget-view+json": {
       "model_id": "481d8d01cfee43df88b776eab415a872",
       "version_major": 2,
       "version_minor": 0
      },
      "text/plain": [
       "IntProgress(value=0, description='Read Neuro Data:', max=27)"
      ]
     },
     "metadata": {},
     "output_type": "display_data"
    }
   ],
   "source": [
    "dataDB.read_neuro_files()"
   ]
  },
  {
   "cell_type": "code",
   "execution_count": 5,
   "metadata": {
    "scrolled": false
   },
   "outputs": [
    {
     "data": {
      "application/vnd.jupyter.widget-view+json": {
       "model_id": "eb85bda8a4a44db0bf566c96e531ec10",
       "version_major": 2,
       "version_minor": 0
      },
      "text/plain": [
       "IntProgress(value=0, description='Read Neuro Data:', max=27)"
      ]
     },
     "metadata": {},
     "output_type": "display_data"
    },
    {
     "name": "stdout",
     "output_type": "stream",
     "text": [
      "No trials found for Trial_LWhole_Mistake skipping\n",
      "No trials found for Trial_RWhole_Mistake skipping\n",
      "No trials found for Trial_LWhole_Mistake skipping\n"
     ]
    }
   ],
   "source": [
    "dataDB.read_behavior_files()"
   ]
  },
  {
   "cell_type": "code",
   "execution_count": 6,
   "metadata": {
    "scrolled": false
   },
   "outputs": [
    {
     "name": "stdout",
     "output_type": "stream",
     "text": [
      "m068_20200130 17 28 169.47058823529412\n",
      "m068_20200131 17 28 247.05882352941177\n",
      "m068_20200203 10 28 153.4\n",
      "m068_20200204 16 28 156.125\n",
      "m068_20200205 3 28 167.0\n",
      "m060_20190522 6 88 145.0\n",
      "m060_20190524 7 88 151.42857142857142\n",
      "m060_20190527 6 88 155.16666666666666\n",
      "m060_20190606 1 88 183.0\n",
      "m061_20190517 3 46 153.0\n",
      "m061_20190524 6 46 244.66666666666666\n",
      "m061_20190527 7 46 138.85714285714286\n",
      "m065_20191128 10 83 190.3\n",
      "m065_20191204 18 83 171.5\n",
      "m065_20191205 13 83 163.0\n",
      "m065_20191206 11 83 140.9090909090909\n",
      "m065_20191209 5 83 177.6\n",
      "m066_20191128 4 47 175.75\n",
      "m066_20191205 7 47 272.14285714285717\n",
      "m066_20191206 7 47 153.71428571428572\n",
      "m066_20191218 12 47 254.58333333333334\n",
      "m066_20191223 7 47 198.0\n",
      "m067_20200115 6 49 256.0\n",
      "m067_20200203 6 49 211.0\n",
      "m067_20200204 10 49 263.8\n",
      "m067_20200218 13 49 148.84615384615384\n",
      "m067_20200219 8 49 268.875\n"
     ]
    }
   ],
   "source": [
    "for idx, row in dataDB.metaDataFrames['neuro'].iterrows():\n",
    "    dataThis = dataDB.get_data_from_phase(\"Maintenance\", {\"mousekey\" : row['mousekey'], \"performance\" : \"Mistake\"})\n",
    "    print(row['mousekey'], len(dataThis), dataThis[0].shape[0], np.mean([data.shape[1] for data in dataThis]))"
   ]
  },
  {
   "cell_type": "markdown",
   "metadata": {},
   "source": [
    "# 1. Neuron-Time-Average\n",
    "\n",
    "**Goal**: Attempt to predict phase from mean activity over trial"
   ]
  },
  {
   "cell_type": "markdown",
   "metadata": {},
   "source": [
    "# 2 Time-Average\n",
    "\n",
    "**Goal**: Attempt to predict phase from average activities of individual cells.\n",
    "* Count predictive cells in each mouse"
   ]
  },
  {
   "cell_type": "markdown",
   "metadata": {},
   "source": [
    "# 3.1 Table - Discriminate Phases by Metric"
   ]
  },
  {
   "cell_type": "code",
   "execution_count": 89,
   "metadata": {
    "scrolled": false
   },
   "outputs": [
    {
     "name": "stderr",
     "output_type": "stream",
     "text": [
      "/opt/anaconda3/envs/py36nest/lib/python3.6/site-packages/numpy/lib/function_base.py:2400: RuntimeWarning: invalid value encountered in true_divide\n",
      "  c /= stddev[:, None]\n",
      "/opt/anaconda3/envs/py36nest/lib/python3.6/site-packages/numpy/lib/function_base.py:2401: RuntimeWarning: invalid value encountered in true_divide\n",
      "  c /= stddev[None, :]\n"
     ]
    },
    {
     "data": {
      "text/html": [
       "<div>\n",
       "<style scoped>\n",
       "    .dataframe tbody tr th:only-of-type {\n",
       "        vertical-align: middle;\n",
       "    }\n",
       "\n",
       "    .dataframe tbody tr th {\n",
       "        vertical-align: top;\n",
       "    }\n",
       "\n",
       "    .dataframe thead th {\n",
       "        text-align: right;\n",
       "    }\n",
       "</style>\n",
       "<table border=\"1\" class=\"dataframe\">\n",
       "  <thead>\n",
       "    <tr style=\"text-align: right;\">\n",
       "      <th></th>\n",
       "      <th>datatype</th>\n",
       "      <th>performance</th>\n",
       "      <th>direction</th>\n",
       "      <th>Encoding</th>\n",
       "      <th>Maintenance</th>\n",
       "      <th>Retrieval</th>\n",
       "      <th>-logp(0, 1)</th>\n",
       "      <th>-logp(0, 2)</th>\n",
       "      <th>-logp(1, 2)</th>\n",
       "      <th>nTrial</th>\n",
       "    </tr>\n",
       "  </thead>\n",
       "  <tbody>\n",
       "    <tr>\n",
       "      <th>0</th>\n",
       "      <td>raw</td>\n",
       "      <td>Correct</td>\n",
       "      <td>L</td>\n",
       "      <td>0.247876</td>\n",
       "      <td>0.244396</td>\n",
       "      <td>0.245591</td>\n",
       "      <td>0.52</td>\n",
       "      <td>0.94</td>\n",
       "      <td>0.63</td>\n",
       "      <td>[341, 341, 341]</td>\n",
       "    </tr>\n",
       "    <tr>\n",
       "      <th>1</th>\n",
       "      <td>raw</td>\n",
       "      <td>Correct</td>\n",
       "      <td>R</td>\n",
       "      <td>0.254054</td>\n",
       "      <td>0.251253</td>\n",
       "      <td>0.254253</td>\n",
       "      <td>0.50</td>\n",
       "      <td>0.38</td>\n",
       "      <td>0.62</td>\n",
       "      <td>[352, 352, 352]</td>\n",
       "    </tr>\n",
       "    <tr>\n",
       "      <th>2</th>\n",
       "      <td>raw</td>\n",
       "      <td>Correct</td>\n",
       "      <td>All</td>\n",
       "      <td>0.251014</td>\n",
       "      <td>0.247879</td>\n",
       "      <td>0.249991</td>\n",
       "      <td>0.60</td>\n",
       "      <td>0.58</td>\n",
       "      <td>0.33</td>\n",
       "      <td>[693, 693, 693]</td>\n",
       "    </tr>\n",
       "    <tr>\n",
       "      <th>3</th>\n",
       "      <td>raw</td>\n",
       "      <td>Mistake</td>\n",
       "      <td>L</td>\n",
       "      <td>0.297944</td>\n",
       "      <td>0.287455</td>\n",
       "      <td>0.312180</td>\n",
       "      <td>0.85</td>\n",
       "      <td>1.02</td>\n",
       "      <td>1.63</td>\n",
       "      <td>[81, 81, 81]</td>\n",
       "    </tr>\n",
       "    <tr>\n",
       "      <th>4</th>\n",
       "      <td>raw</td>\n",
       "      <td>Mistake</td>\n",
       "      <td>R</td>\n",
       "      <td>0.243551</td>\n",
       "      <td>0.240404</td>\n",
       "      <td>0.254428</td>\n",
       "      <td>0.36</td>\n",
       "      <td>1.33</td>\n",
       "      <td>1.16</td>\n",
       "      <td>[92, 92, 92]</td>\n",
       "    </tr>\n",
       "    <tr>\n",
       "      <th>5</th>\n",
       "      <td>raw</td>\n",
       "      <td>Mistake</td>\n",
       "      <td>All</td>\n",
       "      <td>0.269018</td>\n",
       "      <td>0.262434</td>\n",
       "      <td>0.281468</td>\n",
       "      <td>0.63</td>\n",
       "      <td>1.59</td>\n",
       "      <td>2.10</td>\n",
       "      <td>[173, 173, 173]</td>\n",
       "    </tr>\n",
       "    <tr>\n",
       "      <th>6</th>\n",
       "      <td>raw</td>\n",
       "      <td>All</td>\n",
       "      <td>L</td>\n",
       "      <td>0.257486</td>\n",
       "      <td>0.252661</td>\n",
       "      <td>0.258372</td>\n",
       "      <td>0.75</td>\n",
       "      <td>0.49</td>\n",
       "      <td>0.45</td>\n",
       "      <td>[422, 422, 422]</td>\n",
       "    </tr>\n",
       "    <tr>\n",
       "      <th>7</th>\n",
       "      <td>raw</td>\n",
       "      <td>All</td>\n",
       "      <td>R</td>\n",
       "      <td>0.251877</td>\n",
       "      <td>0.249005</td>\n",
       "      <td>0.254289</td>\n",
       "      <td>0.45</td>\n",
       "      <td>0.76</td>\n",
       "      <td>0.99</td>\n",
       "      <td>[444, 444, 444]</td>\n",
       "    </tr>\n",
       "    <tr>\n",
       "      <th>8</th>\n",
       "      <td>raw</td>\n",
       "      <td>All</td>\n",
       "      <td>All</td>\n",
       "      <td>0.254611</td>\n",
       "      <td>0.250787</td>\n",
       "      <td>0.256279</td>\n",
       "      <td>0.74</td>\n",
       "      <td>0.42</td>\n",
       "      <td>0.92</td>\n",
       "      <td>[866, 866, 866]</td>\n",
       "    </tr>\n",
       "    <tr>\n",
       "      <th>9</th>\n",
       "      <td>high</td>\n",
       "      <td>Correct</td>\n",
       "      <td>L</td>\n",
       "      <td>0.336322</td>\n",
       "      <td>0.283940</td>\n",
       "      <td>0.335109</td>\n",
       "      <td>4.78</td>\n",
       "      <td>0.42</td>\n",
       "      <td>3.97</td>\n",
       "      <td>[341, 341, 341]</td>\n",
       "    </tr>\n",
       "    <tr>\n",
       "      <th>10</th>\n",
       "      <td>high</td>\n",
       "      <td>Correct</td>\n",
       "      <td>R</td>\n",
       "      <td>0.341096</td>\n",
       "      <td>0.289696</td>\n",
       "      <td>0.352185</td>\n",
       "      <td>4.64</td>\n",
       "      <td>0.54</td>\n",
       "      <td>5.48</td>\n",
       "      <td>[352, 352, 352]</td>\n",
       "    </tr>\n",
       "    <tr>\n",
       "      <th>11</th>\n",
       "      <td>high</td>\n",
       "      <td>Correct</td>\n",
       "      <td>All</td>\n",
       "      <td>0.338747</td>\n",
       "      <td>0.286864</td>\n",
       "      <td>0.343782</td>\n",
       "      <td>8.56</td>\n",
       "      <td>0.38</td>\n",
       "      <td>8.55</td>\n",
       "      <td>[693, 693, 693]</td>\n",
       "    </tr>\n",
       "    <tr>\n",
       "      <th>12</th>\n",
       "      <td>high</td>\n",
       "      <td>Mistake</td>\n",
       "      <td>L</td>\n",
       "      <td>0.403498</td>\n",
       "      <td>0.361027</td>\n",
       "      <td>0.473274</td>\n",
       "      <td>1.08</td>\n",
       "      <td>1.98</td>\n",
       "      <td>3.41</td>\n",
       "      <td>[81, 81, 81]</td>\n",
       "    </tr>\n",
       "    <tr>\n",
       "      <th>13</th>\n",
       "      <td>high</td>\n",
       "      <td>Mistake</td>\n",
       "      <td>R</td>\n",
       "      <td>0.312381</td>\n",
       "      <td>0.262403</td>\n",
       "      <td>0.387931</td>\n",
       "      <td>1.69</td>\n",
       "      <td>1.94</td>\n",
       "      <td>5.26</td>\n",
       "      <td>[92, 92, 92]</td>\n",
       "    </tr>\n",
       "    <tr>\n",
       "      <th>14</th>\n",
       "      <td>high</td>\n",
       "      <td>Mistake</td>\n",
       "      <td>All</td>\n",
       "      <td>0.355043</td>\n",
       "      <td>0.308579</td>\n",
       "      <td>0.427889</td>\n",
       "      <td>2.09</td>\n",
       "      <td>2.98</td>\n",
       "      <td>7.07</td>\n",
       "      <td>[173, 173, 173]</td>\n",
       "    </tr>\n",
       "    <tr>\n",
       "      <th>15</th>\n",
       "      <td>high</td>\n",
       "      <td>All</td>\n",
       "      <td>L</td>\n",
       "      <td>0.349216</td>\n",
       "      <td>0.298736</td>\n",
       "      <td>0.361629</td>\n",
       "      <td>5.08</td>\n",
       "      <td>0.54</td>\n",
       "      <td>5.64</td>\n",
       "      <td>[422, 422, 422]</td>\n",
       "    </tr>\n",
       "    <tr>\n",
       "      <th>16</th>\n",
       "      <td>high</td>\n",
       "      <td>All</td>\n",
       "      <td>R</td>\n",
       "      <td>0.335146</td>\n",
       "      <td>0.284041</td>\n",
       "      <td>0.359592</td>\n",
       "      <td>5.62</td>\n",
       "      <td>1.25</td>\n",
       "      <td>8.97</td>\n",
       "      <td>[444, 444, 444]</td>\n",
       "    </tr>\n",
       "    <tr>\n",
       "      <th>17</th>\n",
       "      <td>high</td>\n",
       "      <td>All</td>\n",
       "      <td>All</td>\n",
       "      <td>0.342002</td>\n",
       "      <td>0.291202</td>\n",
       "      <td>0.360584</td>\n",
       "      <td>9.75</td>\n",
       "      <td>1.22</td>\n",
       "      <td>13.42</td>\n",
       "      <td>[866, 866, 866]</td>\n",
       "    </tr>\n",
       "  </tbody>\n",
       "</table>\n",
       "</div>"
      ],
      "text/plain": [
       "   datatype performance direction  Encoding  Maintenance  Retrieval  \\\n",
       "0       raw     Correct         L  0.247876     0.244396   0.245591   \n",
       "1       raw     Correct         R  0.254054     0.251253   0.254253   \n",
       "2       raw     Correct       All  0.251014     0.247879   0.249991   \n",
       "3       raw     Mistake         L  0.297944     0.287455   0.312180   \n",
       "4       raw     Mistake         R  0.243551     0.240404   0.254428   \n",
       "5       raw     Mistake       All  0.269018     0.262434   0.281468   \n",
       "6       raw         All         L  0.257486     0.252661   0.258372   \n",
       "7       raw         All         R  0.251877     0.249005   0.254289   \n",
       "8       raw         All       All  0.254611     0.250787   0.256279   \n",
       "9      high     Correct         L  0.336322     0.283940   0.335109   \n",
       "10     high     Correct         R  0.341096     0.289696   0.352185   \n",
       "11     high     Correct       All  0.338747     0.286864   0.343782   \n",
       "12     high     Mistake         L  0.403498     0.361027   0.473274   \n",
       "13     high     Mistake         R  0.312381     0.262403   0.387931   \n",
       "14     high     Mistake       All  0.355043     0.308579   0.427889   \n",
       "15     high         All         L  0.349216     0.298736   0.361629   \n",
       "16     high         All         R  0.335146     0.284041   0.359592   \n",
       "17     high         All       All  0.342002     0.291202   0.360584   \n",
       "\n",
       "    -logp(0, 1)  -logp(0, 2)  -logp(1, 2)           nTrial  \n",
       "0          0.52         0.94         0.63  [341, 341, 341]  \n",
       "1          0.50         0.38         0.62  [352, 352, 352]  \n",
       "2          0.60         0.58         0.33  [693, 693, 693]  \n",
       "3          0.85         1.02         1.63     [81, 81, 81]  \n",
       "4          0.36         1.33         1.16     [92, 92, 92]  \n",
       "5          0.63         1.59         2.10  [173, 173, 173]  \n",
       "6          0.75         0.49         0.45  [422, 422, 422]  \n",
       "7          0.45         0.76         0.99  [444, 444, 444]  \n",
       "8          0.74         0.42         0.92  [866, 866, 866]  \n",
       "9          4.78         0.42         3.97  [341, 341, 341]  \n",
       "10         4.64         0.54         5.48  [352, 352, 352]  \n",
       "11         8.56         0.38         8.55  [693, 693, 693]  \n",
       "12         1.08         1.98         3.41     [81, 81, 81]  \n",
       "13         1.69         1.94         5.26     [92, 92, 92]  \n",
       "14         2.09         2.98         7.07  [173, 173, 173]  \n",
       "15         5.08         0.54         5.64  [422, 422, 422]  \n",
       "16         5.62         1.25         8.97  [444, 444, 444]  \n",
       "17         9.75         1.22        13.42  [866, 866, 866]  "
      ]
     },
     "metadata": {},
     "output_type": "display_data"
    },
    {
     "name": "stdout",
     "output_type": "stream",
     "text": [
      "CPU times: user 24.5 s, sys: 10.5 s, total: 35 s\n",
      "Wall time: 11.7 s\n"
     ]
    }
   ],
   "source": [
    "%%time\n",
    "dataDB.verbose = False\n",
    "\n",
    "phases = ['Encoding', 'Maintenance', 'Retrieval']\n",
    "settings = {\"serial\" : True, \"metricSettings\" : {\"metric\" : num_non_zero_std}}  # {\"metricSettings\" : None, \"sweepSettings\" : None, \"zscoreChannel\" : None}\n",
    "#settings = {\"serial\" : True, \"zscoreChannel\" : False, \"metricSettings\" :{\"max_lag\" : 1}}\n",
    "sweepDict = {\n",
    "    \"datatype\": [\"raw\", \"high\"],\n",
    "    \"performance\": [\"Correct\", \"Mistake\", \"All\"],\n",
    "    \"direction\": [\"L\", \"R\", \"All\"]\n",
    "}\n",
    "\n",
    "plots_lib.table_discriminate_phases(dataDB, sweepDict,\n",
    "                                         phases,\n",
    "                                         \"avgcorr\",\n",
    "                                         trgDimOrder=\"r\",\n",
    "                                         settings=settings, multiplexKey=\"mousekey\")"
   ]
  },
  {
   "cell_type": "markdown",
   "metadata": {},
   "source": [
    "# 3.2 Violins - Metric by Phase and Interval"
   ]
  },
  {
   "cell_type": "code",
   "execution_count": 27,
   "metadata": {
    "scrolled": false
   },
   "outputs": [
    {
     "name": "stderr",
     "output_type": "stream",
     "text": [
      "/opt/anaconda3/envs/py36nest/lib/python3.6/site-packages/scipy/stats/stats.py:1713: FutureWarning: Using a non-tuple sequence for multidimensional indexing is deprecated; use `arr[tuple(seq)]` instead of `arr[seq]`. In the future this will be interpreted as an array index, `arr[np.array(seq)]`, which will result either in an error or a different result.\n",
      "  return np.add.reduce(sorted[indexer] * weights, axis=axis) / sumval\n"
     ]
    },
    {
     "data": {
      "text/plain": [
       "array([[ 0.  , -1.21, -0.91, -0.37],\n",
       "       [-1.21,  0.  , -0.33, -0.88],\n",
       "       [-0.91, -0.33,  0.  , -0.91],\n",
       "       [-0.37, -0.88, -0.91,  0.  ]])"
      ]
     },
     "metadata": {},
     "output_type": "display_data"
    },
    {
     "data": {
      "image/png": "[encoded data removed]",
      "text/plain": [
       "<Figure size 1080x360 with 3 Axes>"
      ]
     },
     "metadata": {
      "needs_background": "light"
     },
     "output_type": "display_data"
    }
   ],
   "source": [
    "trgDimOrd = ''\n",
    "metricName = \"mean\"\n",
    "multiplexKey = \"mousekey\" # None\n",
    "\n",
    "queryThis = {\"datatype\" : \"raw\", \"performance\" : \"Correct\"}  # \"direction\" : \"R\"\n",
    "intervalOrigIndices = list(dataDB.metaDataFrames['interval_maps'][queryThis[\"performance\"]]['index'])\n",
    "boundingLines = dataDB.get_phase_bounding_lines(queryThis[\"performance\"])\n",
    "phases = dataDB.phases[\"Correct\"]\n",
    "settings = {\"zscoreChannel\" : True, \"serial\" : True, \"metricSettings\" : {\"max_lag\" : 1}}\n",
    "#settings = {\"zscoreChannel\" : True, \"serial\" : True, \"metricSettings\" : {\"metric\" : num_non_zero_std}}  # {\"metricSettings\" : None, \"sweepSettings\" : None, \"zscoreChannel\" : None}\n",
    "\n",
    "fig, ax = plt.subplots(ncols=3, figsize=(15,5))\n",
    "for mousename in sorted(list(dataDB.mice)):\n",
    "    queryMouse = deepcopy(queryThis)\n",
    "    queryMouse[\"mousename\"] = mousename\n",
    "    \n",
    "    rez2D = metric_by_interval(dataDB, queryMouse, metricName, trgDimOrd, settings, multiplexKey=multiplexKey)\n",
    "    \n",
    "    plots_lib.plot_labeled_bars(ax[0], rez2D, intervalOrigIndices, plotLabel=mousename, alpha=0.2)    \n",
    "    plots_lib.plot_bar_bounds(ax[0], boundingLines)\n",
    "\n",
    "    \n",
    "rez2DIntervAll = metric_by_interval(dataDB, queryThis, metricName, trgDimOrd, settings, multiplexKey=multiplexKey)\n",
    "rez2DPhaseAll = metric_by_phase(dataDB, queryThis, metricName, trgDimOrd, settings, multiplexKey=multiplexKey)\n",
    "plots_lib.plot_labeled_bars(ax[1], rez2DIntervAll, intervalOrigIndices)\n",
    "plots_lib.plot_labeled_violins(ax[2], rez2DPhaseAll, phases, metricName, joinMeans=True, printLogP=True)\n",
    "\n",
    "ax[0].legend()\n",
    "plt.show()"
   ]
  },
  {
   "cell_type": "markdown",
   "metadata": {},
   "source": [
    "# 5. PCA trajectories"
   ]
  },
  {
   "cell_type": "code",
   "execution_count": null,
   "metadata": {},
   "outputs": [],
   "source": []
  }
 ],
 "metadata": {
  "kernelspec": {
   "display_name": "Python (nest)",
   "language": "python",
   "name": "py36nest"
  },
  "language_info": {
   "codemirror_mode": {
    "name": "ipython",
    "version": 3
   },
   "file_extension": ".py",
   "mimetype": "text/x-python",
   "name": "python",
   "nbconvert_exporter": "python",
   "pygments_lexer": "ipython3",
   "version": "3.6.6"
  }
 },
 "nbformat": 4,
 "nbformat_minor": 2
}

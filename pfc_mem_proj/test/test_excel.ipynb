{
 "cells": [
  {
   "cell_type": "code",
   "execution_count": null,
   "id": "402a09e5-cac3-4700-bf11-213b5cc8cd2f",
   "metadata": {},
   "outputs": [],
   "source": [
    "import numpy as np\n",
    "import pandas as pd\n",
    "from pfc_mem_proj.lib.excel_export import write_excel_1D, write_excel_2D"
   ]
  },
  {
   "cell_type": "code",
   "execution_count": null,
   "id": "d8f92167-0e64-411e-9071-45a857c6d181",
   "metadata": {},
   "outputs": [],
   "source": [
    "# 1. write 1D array without names\n",
    "data1 = np.random.normal(0, 1, 50)\n",
    "write_excel_1D(data1, 'example1.xlsx', 'data1', colname='cats')"
   ]
  },
  {
   "cell_type": "code",
   "execution_count": null,
   "id": "0b197ea6-cf9e-4aa9-a06e-f130cd38e4de",
   "metadata": {},
   "outputs": [],
   "source": [
    "# 2. write 1D array with names\n",
    "data2 = np.array([10,20,30,40,50])\n",
    "rownames2 = np.array(['Dog', 'Cat', 'Mouse', 'Rat', 'Bat'])\n",
    "write_excel_1D(data2, 'example2.xlsx', 'data2', rownames=rownames2, colname='quack')"
   ]
  },
  {
   "cell_type": "code",
   "execution_count": null,
   "id": "2d88c0dd-a5a5-4ef1-bc09-b43e4ac8de4e",
   "metadata": {
    "scrolled": true
   },
   "outputs": [],
   "source": [
    "# 3. write both of the above to different sheets of same file\n",
    "with pd.ExcelWriter('example3.xlsx') as writer:\n",
    "    write_excel_1D(data1, writer, 'data1', colname='cats')\n",
    "    write_excel_1D(data2, writer, 'data2', rownames=rownames2, colname='quack')"
   ]
  },
  {
   "cell_type": "code",
   "execution_count": null,
   "id": "fd065645-4838-4c09-9252-e58f63bd639c",
   "metadata": {},
   "outputs": [],
   "source": [
    "# 4. write 2D array without names\n",
    "data4 = np.random.normal(0, 1, [10, 10])\n",
    "write_excel_2D(data4, 'example4.xlsx', 'data4')"
   ]
  },
  {
   "cell_type": "code",
   "execution_count": null,
   "id": "704e78e3-31cf-4754-98fe-76fba985bb03",
   "metadata": {},
   "outputs": [],
   "source": [
    "# 5. write 2D array with names\n",
    "# data5 = np.random.normal(0, 1, [3, 3])\n",
    "data5 = np.diag([1,2,3])\n",
    "rownames = ['A', 'B', 'C']\n",
    "colnames = ['D', 'E', 'F']\n",
    "write_excel_2D(data5, 'example5.xlsx', 'data5', rownames=rownames, colnames=colnames)"
   ]
  },
  {
   "cell_type": "code",
   "execution_count": null,
   "id": "1c78b125-bac1-4adb-b69a-eb482e07f69e",
   "metadata": {},
   "outputs": [],
   "source": [
    "# 6. write both of the above to different sheets of same file\n",
    "with pd.ExcelWriter('example6.xlsx') as writer:\n",
    "    write_excel_2D(data4, writer, 'data4')\n",
    "    write_excel_2D(data5, writer, 'data5', rownames=rownames, colnames=colnames)"
   ]
  },
  {
   "cell_type": "code",
   "execution_count": null,
   "id": "7b94ed77-689c-4c3d-9ce8-3fa97acc6df3",
   "metadata": {},
   "outputs": [],
   "source": []
  }
 ],
 "metadata": {
  "kernelspec": {
   "display_name": "Python (py3ml)",
   "language": "python",
   "name": "py3ml"
  },
  "language_info": {
   "codemirror_mode": {
    "name": "ipython",
    "version": 3
   },
   "file_extension": ".py",
   "mimetype": "text/x-python",
   "name": "python",
   "nbconvert_exporter": "python",
   "pygments_lexer": "ipython3",
   "version": "3.8.17"
  }
 },
 "nbformat": 4,
 "nbformat_minor": 5
}

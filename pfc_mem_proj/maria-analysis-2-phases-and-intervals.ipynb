{
 "cells": [
  {
   "cell_type": "code",
   "execution_count": null,
   "metadata": {},
   "outputs": [],
   "source": [
    "# Standard libraries\n",
    "from copy import deepcopy\n",
    "\n",
    "import json\n",
    "import pandas as pd\n",
    "import numpy as np\n",
    "import matplotlib.pyplot as plt\n",
    "from ipywidgets import interactive, IntProgress\n",
    "from IPython.display import display\n",
    "from scipy.stats import mannwhitneyu, wilcoxon, binom_test, combine_pvalues\n",
    "\n",
    "# User libraries\n",
    "from mesostat.utils.qt_helper import gui_fnames, gui_fpath\n",
    "from mesostat.utils.arrays import numpy_merge_dimensions\n",
    "from mesostat.utils.matrix import offdiag_1D\n",
    "from mesostat.visualization.mpl_matrix import imshow\n",
    "from mesostat.visualization.mpl_colors import custom_grad_cmap\n",
    "\n",
    "# Local libraries\n",
    "from pfc_mem_proj.lib.data_db import BehaviouralNeuronalDatabase\n",
    "import pfc_mem_proj.lib.table_lib as table_lib\n",
    "from pfc_mem_proj.lib.metric_wrapper import metric_by_selector_all, metric_by_selector\n",
    "from pfc_mem_proj.lib.extra_metrics import num_non_zero_std, num_sample\n",
    "from pfc_mem_proj.lib.significant_cells_lib import SignificantCells\n",
    "import pfc_mem_proj.lib.analysis.phases_intervals as phases_intervals\n",
    "\n",
    "%load_ext autoreload\n",
    "%autoreload 2"
   ]
  },
  {
   "cell_type": "code",
   "execution_count": null,
   "metadata": {},
   "outputs": [],
   "source": [
    "# tmp_path = root_path_data if 'root_path_data' in locals() else \"./\"\n",
    "params = {}\n",
    "#params['root_path_data']  = gui_fpath(\"Path to data files\", \"./\")\n",
    "params['root_path_dff'] = '/media/alyosha/DataNew/TE_data/mariadata/dff/'\n",
    "params['root_path_deconv'] = '/media/alyosha/DataNew/TE_data/mariadata/deconv/'"
   ]
  },
  {
   "cell_type": "code",
   "execution_count": null,
   "metadata": {},
   "outputs": [],
   "source": [
    "dataDB = BehaviouralNeuronalDatabase(params)"
   ]
  },
  {
   "cell_type": "code",
   "execution_count": null,
   "metadata": {},
   "outputs": [],
   "source": [
    "dataDB.read_neuro_files()"
   ]
  },
  {
   "cell_type": "code",
   "execution_count": null,
   "metadata": {},
   "outputs": [],
   "source": [
    "dataDB.read_behavior_files()"
   ]
  },
  {
   "cell_type": "markdown",
   "metadata": {},
   "source": [
    "# 1. Neuron-Time-Average\n",
    "\n",
    "**Goal**: Explore phase and interval specificity of bulk signal\n",
    "\n",
    "**Note**: Already done by Maria, no need to repeat"
   ]
  },
  {
   "cell_type": "code",
   "execution_count": null,
   "metadata": {},
   "outputs": [],
   "source": [
    "# cmapConfusion = gen_cmap_3color(\n",
    "#     np.array([255, 255, 255]),\n",
    "#     np.array([168, 217, 49]),\n",
    "#     np.array([255, 0, 0])\n",
    "# )\n",
    "\n",
    "cmapConfusion = custom_grad_cmap(\n",
    "    np.array([\n",
    "        [0,0,0],\n",
    "        [255,198,126],\n",
    "        [233,79,25]\n",
    "    ])\n",
    ")\n",
    "\n",
    "cmapSignificance = custom_grad_cmap(\n",
    "    np.array([\n",
    "        [255, 255, 255],\n",
    "        [233, 79, 25]\n",
    "    ])\n",
    ")"
   ]
  },
  {
   "cell_type": "markdown",
   "metadata": {},
   "source": [
    "# 2 Time-Average\n",
    "\n",
    "**Goal**: Explore phase and interval specificity of individual neurons"
   ]
  },
  {
   "cell_type": "markdown",
   "metadata": {},
   "source": [
    "## 2.1. Average activity\n",
    "\n",
    "Compute average signal for a matrix [Channel x Interval], plot"
   ]
  },
  {
   "cell_type": "code",
   "execution_count": null,
   "metadata": {
    "scrolled": true
   },
   "outputs": [],
   "source": [
    "for datatype in ['raw', 'deconv', 'zscore']:\n",
    "    for phasetype in ['semiphase']:#['interval', 'phase', 'semiphase']:\n",
    "        phases_intervals.plot_avg_firing_rate_by_neuron(dataDB, datatype, phasetype, haveWaiting=False, cmap=cmapConfusion)"
   ]
  },
  {
   "cell_type": "markdown",
   "metadata": {},
   "source": [
    "# 2.2 Active cells\n",
    "\n",
    "* For each neuron, determine baseline above which we consider there to be some activity\n",
    "* For each neuron and each interval, count fraction of trials in which cell active\n",
    "\n",
    "**Complications**:\n",
    "* How exactly to define a \"sufficiently active\" cell?\n",
    "* How to compute a firing threshold? Is constant ok, or need be cell-specific?\n",
    "* Need to control for different interval duration across trials?\n",
    "* Need to control for different interval duration across intervals?\n",
    "\n",
    "**NOTE**\n",
    "* Run section 2.3 before this section, as it extracts the labels of significant cells"
   ]
  },
  {
   "cell_type": "code",
   "execution_count": null,
   "metadata": {
    "scrolled": true
   },
   "outputs": [],
   "source": [
    "for datatype in ['deconv']:\n",
    "    for phasetype in ['interval', 'phase', 'semiphase']:\n",
    "        phases_intervals.plot_count_active_trials_by_neuron(dataDB, datatype, phasetype, 0.18, 0.2, haveWaiting=False)"
   ]
  },
  {
   "cell_type": "markdown",
   "metadata": {},
   "source": [
    "Questions of interest:\n",
    "* [+] Is phase-specific activity explained by\n",
    "    - frequency active?\n",
    "    - magnitude when active?\n",
    "    - both?\n",
    "* Why are there more active cells during MT vs ENC/RET?\n",
    "* TODO:\n",
    "    - Plot avg activity only for active trials\n",
    "    - Color neurons by phase-specificity\n",
    "    - Perform some kind of test to numerically explore"
   ]
  },
  {
   "cell_type": "code",
   "execution_count": null,
   "metadata": {},
   "outputs": [],
   "source": [
    "%matplotlib inline\n",
    "phases_intervals.plot_activity_vs_active_frequency(dataDB, 'deconv', 'phase', 'm060', 'Correct', thrAct=0.2, haveWaiting=False)"
   ]
  },
  {
   "cell_type": "markdown",
   "metadata": {},
   "source": [
    "## 2.3 Significant activity\n",
    "* For each cell and each interval, test if activity in that interval significantly higher than on average for that cell\n",
    "* "
   ]
  },
  {
   "cell_type": "code",
   "execution_count": null,
   "metadata": {
    "scrolled": true
   },
   "outputs": [],
   "source": [
    "for datatype in ['deconv']:#['deconv', 'raw']:\n",
    "    for phasetype in ['phase']: #['semiphase', 'phase', 'interval']:\n",
    "        print(datatype, phasetype)\n",
    "        phases_intervals.plot_significant_firing_rate_by_neuron(dataDB, datatype, phasetype,\n",
    "                                                                confThr=0.01, haveWaiting=False,\n",
    "                                                                cmapConfusion = cmapConfusion)"
   ]
  },
  {
   "cell_type": "markdown",
   "metadata": {},
   "source": [
    "## 2.4 Store significant neurons\n",
    "For each interval, store neurons significantly active in that interval"
   ]
  },
  {
   "cell_type": "code",
   "execution_count": null,
   "metadata": {
    "scrolled": true
   },
   "outputs": [],
   "source": [
    "# Testing each phase vs remainder of the trial, storing maintenance vs encoding+retrieval\n",
    "# for datatype in ['raw', 'deconv']:\n",
    "#     plot_save_significantly_firing_neurons(dataDB, datatype,\n",
    "#                                            'phase',\n",
    "#                                            [[1], [0, 2]],\n",
    "#                                            ['mt', 'enc_ret'],\n",
    "#                                            confThr=0.01,\n",
    "#                                            haveAll=True)\n",
    "    \n",
    "# phasePairIdxs = [[[0], [1]], [[0], [2]], [[1], [2]]]\n",
    "# phasePairNames = [['enc', 'mt'], ['enc', 'ret'], ['mt', 'ret']]\n",
    "\n",
    "phasePairIdxs = [[[0], [1]], [[1], [2]]]\n",
    "phasePairNames = [['enc', 'mt'], ['mt', 'ret']]\n",
    "\n",
    "# phasePairIdxs = [[[0], [1]]]\n",
    "# phasePairNames = [['enc', 'mt']]\n",
    "    \n",
    "for datatype in ['deconv']:#['raw', 'deconv']:\n",
    "    for pairName, pairIdxs in zip(phasePairNames, phasePairIdxs):    \n",
    "        phases_intervals.plot_save_significantly_firing_neurons(dataDB, datatype, 'phase', pairIdxs, pairName,\n",
    "                                                                confThr=0.01, haveAll=True)"
   ]
  },
  {
   "cell_type": "code",
   "execution_count": null,
   "metadata": {
    "scrolled": true
   },
   "outputs": [],
   "source": [
    "# Get indices of significant cells\n",
    "from mesostat.utils.pandas_helper import pd_query\n",
    "df = pd.read_hdf('significant_cells_deconv_enc.h5', 'df')\n",
    "# row = pd_query(df, {'mousename' : 'm060', 'performance' : 'All', 'direction' : 'All'})\n",
    "# np.array(row['cells'])\n",
    "df"
   ]
  },
  {
   "cell_type": "code",
   "execution_count": null,
   "metadata": {
    "scrolled": true
   },
   "outputs": [],
   "source": [
    "for datatype in ['raw', 'deconv']:\n",
    "    phases_intervals.plot_save_significantly_firing_neurons(dataDB, datatype, 'interval',  [[0], [1]],\n",
    "                                                            ['enc_base', 'enc_reward'],\n",
    "                                                            confThr=0.01, ranges=[2, 4], haveAll=True)"
   ]
  },
  {
   "cell_type": "markdown",
   "metadata": {},
   "source": [
    "## 2.5 Load and test significant cells"
   ]
  },
  {
   "cell_type": "code",
   "execution_count": null,
   "metadata": {},
   "outputs": [],
   "source": [
    "significantCellsSelectorDatatype = {}\n",
    "\n",
    "for datatype in ['raw', 'deconv']:\n",
    "    signCellsMaintenance = SignificantCells('significant_cells_'+datatype+'_mt.h5').get_cells_by_mouse()\n",
    "    signCellsReward = SignificantCells('significant_cells_'+datatype+'_enc_reward.h5').get_cells_by_mouse()\n",
    "\n",
    "    significantCellsSelectorDatatype[datatype] = {\n",
    "        'None' : None,\n",
    "        'Maintenance' : signCellsMaintenance,\n",
    "        'Reward' : signCellsReward\n",
    "    }"
   ]
  },
  {
   "cell_type": "markdown",
   "metadata": {},
   "source": [
    "## 2.6 Are 'Maintenance Cells' more active than 'Encoding Cells'?\n",
    "\n",
    "1. For each cell, compute phase-avg over time\n",
    "2. For each cell, for each trial, compute ratio of ENC vs MT\n",
    "3. \n",
    "\n",
    "$$R_{i,j,ENC} = \\int_{ENC} R_{i,j}(t)dt$$\n",
    "$$R_{i,j,MT} = \\int_{MT} R_{i,j}(t)dt$$\n",
    "$$\\phi_{i,j} = \\frac{R_{i,j,ENC}}{R_{i,j,MT}}$$\n",
    "$$\\bar \\phi_{i} = \\frac{1}{N_{trial}} \\sum_j \\phi_{i,j}$$\n"
   ]
  },
  {
   "cell_type": "code",
   "execution_count": null,
   "metadata": {},
   "outputs": [],
   "source": [
    "phases_intervals.plot_ratio_enc_mt(dataDB, 'deconv')"
   ]
  },
  {
   "cell_type": "markdown",
   "metadata": {},
   "source": [
    "# 3.1 Table - Discriminate Phases by Metric"
   ]
  },
  {
   "cell_type": "code",
   "execution_count": null,
   "metadata": {},
   "outputs": [],
   "source": [
    "%%time\n",
    "dataDB.verbose = False\n",
    "\n",
    "phases = ['Encoding', 'Maintenance', 'Retrieval']\n",
    "#settings = {\"serial\" : True, \"metricSettings\" : {\"metric\" : num_non_zero_std}}\n",
    "settings = {\"serial\" : True, \"metricSettings\" :{\"max_lag\" : 1}}\n",
    "sweepDict = {\n",
    "    #\"mousename\" : sorted(list(dataDB.mice)),\n",
    "    \"datatype\": [\"deconv\"],#, \"raw\", \"high\", \"deconv\"],\n",
    "    \"performance\": [\"Correct\", \"Mistake\", \"All\"],\n",
    "    \"direction\": [\"L\", \"R\", \"All\"]\n",
    "}\n",
    "\n",
    "table_lib.table_discriminate_time(dataDB, sweepDict,\n",
    "                                         {\"phase\" : phases},\n",
    "                                         \"mean\",\n",
    "                                         trgDimOrder=\"r\",\n",
    "                                         settings=settings, multiplexKey=\"mousename\")"
   ]
  },
  {
   "cell_type": "markdown",
   "metadata": {},
   "source": [
    "# 3.2 Violins - Metric by Phase and Interval"
   ]
  },
  {
   "cell_type": "code",
   "execution_count": null,
   "metadata": {
    "scrolled": true
   },
   "outputs": [],
   "source": [
    "settings = {\"serial\" : True, \"metricSettings\" : {\"max_lag\" : 1}}\n",
    "#settings = {\"serial\" : True, \"metricSettings\" : {\"metric\" : num_non_zero_std}}\n",
    "\n",
    "        \n",
    "for datatype in ['raw', 'deconv']:\n",
    "    for phaseType in ['semiphase']:#['interval', 'semiphase']:\n",
    "        #for signCellsName, signCells in significantCellsSelectorDatatype[datatype].items():\n",
    "#         print(\"datatype\", datatype, \"Significant Cells :\", signCellsName)\n",
    "        print(\"datatype\", datatype)\n",
    "#         phases_intervals.plot_violins_by_phase(dataDB, datatype, phaseType, \"mean\", settings,\n",
    "#                                                haveWaiting=False, signCellsSelector={signCellsName:signCells})\n",
    "        phases_intervals.plot_violins_by_phase(dataDB, datatype, phaseType, \"mean\", settings,\n",
    "                                               haveWaiting=False, signCellsSelector=None)"
   ]
  },
  {
   "cell_type": "code",
   "execution_count": null,
   "metadata": {},
   "outputs": [],
   "source": []
  }
 ],
 "metadata": {
  "kernelspec": {
   "display_name": "Python (py3ml)",
   "language": "python",
   "name": "py3ml"
  },
  "language_info": {
   "codemirror_mode": {
    "name": "ipython",
    "version": 3
   },
   "file_extension": ".py",
   "mimetype": "text/x-python",
   "name": "python",
   "nbconvert_exporter": "python",
   "pygments_lexer": "ipython3",
   "version": "3.8.17"
  }
 },
 "nbformat": 4,
 "nbformat_minor": 4
}
